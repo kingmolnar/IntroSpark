{
 "cells": [
  {
   "cell_type": "markdown",
   "metadata": {},
   "source": [
    "<div style=\"font-size: 200%; font-weight: bold; padding-bottom: 1em;\">Preparation</div>\n",
    "The following instructions are need to create a spark context. If the notebook kernel already provides a spark context these commands should not be included.\n"
   ]
  },
  {
   "cell_type": "code",
   "execution_count": 84,
   "metadata": {
    "ExecuteTime": {
     "end_time": "2017-02-08T00:00:33.888515",
     "start_time": "2017-02-08T05:00:33.506Z"
    },
    "collapsed": false
   },
   "outputs": [
    {
     "data": {
      "text/plain": [
       "Already running\n",
       "          ____              __\n",
       "         / __/__  ___ _____/ /__\n",
       "        _\\ \\/ _ \\/ _ `/ __/  '_/\n",
       "       /__ / .__/\\_,_/_/ /_/\\_\\   version 1.6.1\n",
       "          /_/\n",
       "    \n"
      ]
     },
     "execution_count": 84,
     "metadata": {},
     "output_type": "execute_result"
    }
   ],
   "source": [
    "\"\"\"\n",
    "Load packages and create context objects...\n",
    "\"\"\"\n",
    "import os\n",
    "import platform\n",
    "import sys\n",
    "if not 'sc' in vars():\n",
    "    sys.path.append('/usr/hdp/2.4.2.0-258/spark/python')\n",
    "    os.environ[\"SPARK_HOME\"] = '/usr/hdp/2.4.2.0-258/spark'\n",
    "    os.environ['PYSPARK_SUBMIT_ARGS'] = '--packages com.databricks:spark-csv_2.11:1.2.0 pyspark-shell'\n",
    "    import py4j\n",
    "    import pyspark\n",
    "    from pyspark.context import SparkContext, SparkConf\n",
    "    from pyspark.sql import SQLContext, HiveContext\n",
    "    from pyspark.storagelevel import StorageLevel\n",
    "    sc = SparkContext()\n",
    "    import atexit\n",
    "    atexit.register(lambda: sc.stop())\n",
    "    print(\"\"\"Welcome to\n",
    "          ____              __\n",
    "         / __/__  ___ _____/ /__\n",
    "        _\\ \\/ _ \\/ _ `/ __/  '_/\n",
    "       /__ / .__/\\_,_/_/ /_/\\_\\   version %s\n",
    "          /_/\n",
    "    \"\"\" % sc.version)\n",
    "else:\n",
    "    print(\"\"\"Already running\n",
    "          ____              __\n",
    "         / __/__  ___ _____/ /__\n",
    "        _\\ \\/ _ \\/ _ `/ __/  '_/\n",
    "       /__ / .__/\\_,_/_/ /_/\\_\\   version %s\n",
    "          /_/\n",
    "    \"\"\" % sc.version)"
   ]
  },
  {
   "cell_type": "markdown",
   "metadata": {},
   "source": [
    "# Loading Data into RDD "
   ]
  },
  {
   "cell_type": "markdown",
   "metadata": {},
   "source": [
    "Data files are stored at\n",
    "<pre>\n",
    "    $ hdfs dfs -ls /user/pmolnar/data/AdventureWorks\n",
    "    Found 4 items\n",
    "    -rw-r--r--   3 pmolnar hadoop        466 2017-02-07 22:46 /user/pmolnar/data/AdventureWorks/Customer.csv.gz\n",
    "    -rw-r--r--   3 pmolnar hadoop      18125 2017-02-07 22:46 /user/pmolnar/data/AdventureWorks/Employees.csv.gz\n",
    "    -rw-r--r--   3 pmolnar hadoop        603 2017-02-07 22:46 /user/pmolnar/data/AdventureWorks/ItemsOrdered.csv.gz\n",
    "    -rw-r--r--   3 pmolnar hadoop        404 2017-02-07 22:46 /user/pmolnar/data/AdventureWorks/SalesTerritory.csv.gz\n",
    "</pre>"
   ]
  },
  {
   "cell_type": "code",
   "execution_count": 41,
   "metadata": {
    "ExecuteTime": {
     "end_time": "2017-02-07T22:53:43.815201",
     "start_time": "2017-02-08T03:53:42.794Z"
    },
    "collapsed": false
   },
   "outputs": [],
   "source": [
    "customer_rdd = sc.textFile('/user/pmolnar/data/AdventureWorks/Customer.csv.gz')"
   ]
  },
  {
   "cell_type": "code",
   "execution_count": 42,
   "metadata": {
    "ExecuteTime": {
     "end_time": "2017-02-07T22:53:57.886444",
     "start_time": "2017-02-08T03:53:57.490Z"
    },
    "collapsed": false
   },
   "outputs": [
    {
     "data": {
      "text/plain": [
       "CustomerID,SalesTerritoryID,FirstName,LastName,City,StateName\n",
       "10101,1,John,Gray,Lynden,Washington\n",
       "10298,4,Leroy,Brown,Pinetop,Arizona\n",
       "10299,1,Elroy,Keller,Snoqualmie,Washington\n",
       "10315,3,Lisa,Jones,Oshkosh,Wisconsin\n",
       "10325,1,Ginger,Schultz,Pocatello,Idaho\n",
       "10329,5,Kelly,Mendoza,Kailua,Hawaii\n",
       "10330,1,Shawn,Dalton,Cannon Beach,Oregon\n",
       "10338,1,Michael,Howell,Tillamook,Oregon\n",
       "10339,4,Anthony,Sanchez,Winslow,Arizona\n"
      ]
     },
     "execution_count": 42,
     "metadata": {},
     "output_type": "execute_result"
    }
   ],
   "source": [
    "print '\\n'.join(customer_rdd.take(10))"
   ]
  },
  {
   "cell_type": "code",
   "execution_count": 55,
   "metadata": {
    "ExecuteTime": {
     "end_time": "2017-02-07T22:59:17.948520",
     "start_time": "2017-02-08T03:59:17.521Z"
    },
    "collapsed": true
   },
   "outputs": [],
   "source": [
    "hdr = customer_rdd.first()"
   ]
  },
  {
   "cell_type": "code",
   "execution_count": 56,
   "metadata": {
    "ExecuteTime": {
     "end_time": "2017-02-07T22:59:21.965324",
     "start_time": "2017-02-08T03:59:21.553Z"
    },
    "collapsed": false
   },
   "outputs": [],
   "source": [
    "customer2_rdd = customer_rdd.repartition(4).filter(lambda x: x!=hdr)"
   ]
  },
  {
   "cell_type": "code",
   "execution_count": 57,
   "metadata": {
    "ExecuteTime": {
     "end_time": "2017-02-07T22:59:24.097448",
     "start_time": "2017-02-08T03:59:23.856Z"
    },
    "collapsed": false,
    "scrolled": true
   },
   "outputs": [
    {
     "data": {
      "text/plain": [
       "10101,1,John,Gray,Lynden,Washington\n",
       "10325,1,Ginger,Schultz,Pocatello,Idaho\n",
       "10339,4,Anthony,Sanchez,Winslow,Arizona\n",
       "10419,4,Linda,Sakahara,Nogales,Arizona\n",
       "10449,4,Isabela,Moore,Yuma,Arizona\n",
       "10298,4,Leroy,Brown,Pinetop,Arizona\n",
       "10329,5,Kelly,Mendoza,Kailua,Hawaii\n",
       "10408,4,Elroy,Cleaver,Globe,Arizona\n",
       "10429,5,Sarah,Graham,Greensboro,North Carolina\n",
       "10299,1,Elroy,Keller,Snoqualmie,Washington\n"
      ]
     },
     "execution_count": 57,
     "metadata": {},
     "output_type": "execute_result"
    }
   ],
   "source": [
    "print '\\n'.join(customer2_rdd.take(10))"
   ]
  },
  {
   "cell_type": "code",
   "execution_count": 78,
   "metadata": {
    "ExecuteTime": {
     "end_time": "2017-02-07T23:07:52.765487",
     "start_time": "2017-02-08T04:07:52.724Z"
    },
    "collapsed": true
   },
   "outputs": [],
   "source": [
    "#customer3_rdd = customer2_rdd.map(lambda x: x.split(','))\n",
    "customer3_rdd = customer2_rdd.map(lambda x: x.split(',')).map(lambda x: (int(x[0]), int(x[1]), x[2], x[3], x[4], x[5]))"
   ]
  },
  {
   "cell_type": "code",
   "execution_count": 79,
   "metadata": {
    "ExecuteTime": {
     "end_time": "2017-02-07T23:07:56.902702",
     "start_time": "2017-02-08T04:07:56.163Z"
    },
    "collapsed": false
   },
   "outputs": [
    {
     "data": {
      "text/plain": [
       "(10101, 1, u'John', u'Gray', u'Lynden', u'Washington')\n",
       "(10325, 1, u'Ginger', u'Schultz', u'Pocatello', u'Idaho')\n",
       "(10339, 4, u'Anthony', u'Sanchez', u'Winslow', u'Arizona')\n",
       "(10419, 4, u'Linda', u'Sakahara', u'Nogales', u'Arizona')\n",
       "(10449, 4, u'Isabela', u'Moore', u'Yuma', u'Arizona')\n",
       "(10298, 4, u'Leroy', u'Brown', u'Pinetop', u'Arizona')\n",
       "(10329, 5, u'Kelly', u'Mendoza', u'Kailua', u'Hawaii')\n",
       "(10408, 4, u'Elroy', u'Cleaver', u'Globe', u'Arizona')\n",
       "(10429, 5, u'Sarah', u'Graham', u'Greensboro', u'North Carolina')\n",
       "(10299, 1, u'Elroy', u'Keller', u'Snoqualmie', u'Washington')\n"
      ]
     },
     "execution_count": 79,
     "metadata": {},
     "output_type": "execute_result"
    }
   ],
   "source": [
    "for t in customer3_rdd.take(10):\n",
    "    print t"
   ]
  },
  {
   "cell_type": "markdown",
   "metadata": {},
   "source": [
    "# RDD Transformations"
   ]
  },
  {
   "cell_type": "markdown",
   "metadata": {},
   "source": [
    "## map()"
   ]
  },
  {
   "cell_type": "code",
   "execution_count": 3,
   "metadata": {
    "ExecuteTime": {
     "end_time": "2017-02-07T22:34:38.304681",
     "start_time": "2017-02-08T03:34:35.411Z"
    },
    "collapsed": false
   },
   "outputs": [
    {
     "data": {
      "text/plain": [
       "['b', 'a', 'c']\n",
       "[('b', 1), ('a', 1), ('c', 1)]\n"
      ]
     },
     "execution_count": 3,
     "metadata": {},
     "output_type": "execute_result"
    }
   ],
   "source": [
    "x = sc.parallelize([\"b\", \"a\", \"c\"])\n",
    "y = x.map(lambda z: (z, 1))\n",
    "print x.collect()\n",
    "print y.collect()"
   ]
  },
  {
   "cell_type": "markdown",
   "metadata": {},
   "source": [
    "## filter()"
   ]
  },
  {
   "cell_type": "code",
   "execution_count": 4,
   "metadata": {
    "ExecuteTime": {
     "end_time": "2017-02-07T22:34:45.475546",
     "start_time": "2017-02-08T03:34:45.281Z"
    },
    "collapsed": false
   },
   "outputs": [
    {
     "data": {
      "text/plain": [
       "[1, 3]\n"
      ]
     },
     "execution_count": 4,
     "metadata": {},
     "output_type": "execute_result"
    }
   ],
   "source": [
    "x = sc.parallelize([1,2,3])\n",
    "y = x.filter(lambda x: x%2 == 1) #keep odd values print(x.collect())\n",
    "print y.collect() "
   ]
  },
  {
   "cell_type": "markdown",
   "metadata": {},
   "source": [
    "## flatMap()"
   ]
  },
  {
   "cell_type": "code",
   "execution_count": null,
   "metadata": {
    "collapsed": true
   },
   "outputs": [],
   "source": []
  },
  {
   "cell_type": "code",
   "execution_count": 6,
   "metadata": {
    "ExecuteTime": {
     "end_time": "2017-02-07T22:35:03.723793",
     "start_time": "2017-02-08T03:35:02.825Z"
    },
    "collapsed": false
   },
   "outputs": [
    {
     "data": {
      "text/plain": [
       "[1, 2, 3]\n",
       "[1, 100, 42, 2, 200, 42, 3, 300, 42]\n"
      ]
     },
     "execution_count": 6,
     "metadata": {},
     "output_type": "execute_result"
    }
   ],
   "source": [
    "x = sc.parallelize([1,2,3])\n",
    "y = x.flatMap(lambda x: (x, x*100, 42))\n",
    "print x.collect() \n",
    "print y.collect()"
   ]
  },
  {
   "cell_type": "markdown",
   "metadata": {
    "ExecuteTime": {
     "end_time": "2017-02-07T13:06:42.323410",
     "start_time": "2017-02-07T13:06:42.318286"
    }
   },
   "source": [
    "## groupBy()"
   ]
  },
  {
   "cell_type": "code",
   "execution_count": 8,
   "metadata": {
    "ExecuteTime": {
     "end_time": "2017-02-07T22:35:17.186998",
     "start_time": "2017-02-08T03:35:16.536Z"
    },
    "collapsed": false
   },
   "outputs": [
    {
     "data": {
      "text/plain": [
       "[('A', ['Anna']), ('F', ['Fred']), ('J', ['John', 'James'])]\n"
      ]
     },
     "execution_count": 8,
     "metadata": {},
     "output_type": "execute_result"
    }
   ],
   "source": [
    "x = sc.parallelize(['John', 'Fred', 'Anna', 'James'])\n",
    "y = x.groupBy(lambda w: w[0])\n",
    "print [(k, list(v)) for (k, v) in y.collect()]"
   ]
  },
  {
   "cell_type": "markdown",
   "metadata": {},
   "source": [
    "## groupByKey()"
   ]
  },
  {
   "cell_type": "code",
   "execution_count": 10,
   "metadata": {
    "ExecuteTime": {
     "end_time": "2017-02-07T22:35:34.545646",
     "start_time": "2017-02-08T03:35:33.756Z"
    },
    "collapsed": false
   },
   "outputs": [
    {
     "data": {
      "text/plain": [
       "[('B', 5), ('B', 4), ('A', 3), ('A', 2), ('A', 1)]\n",
       "[('A', [3, 2, 1]), ('B', [5, 4])]\n"
      ]
     },
     "execution_count": 10,
     "metadata": {},
     "output_type": "execute_result"
    }
   ],
   "source": [
    "x = sc.parallelize([('B',5),('B',4),('A',3),('A',2),('A',1)])\n",
    "y = x.groupByKey()\n",
    "print x.collect() \n",
    "print list((j[0], list(j[1])) for j in y.collect())"
   ]
  },
  {
   "cell_type": "markdown",
   "metadata": {},
   "source": [
    "## mapPartitions()"
   ]
  },
  {
   "cell_type": "code",
   "execution_count": 11,
   "metadata": {
    "ExecuteTime": {
     "end_time": "2017-02-07T22:35:54.770068",
     "start_time": "2017-02-08T03:35:54.315Z"
    },
    "collapsed": false
   },
   "outputs": [
    {
     "data": {
      "text/plain": [
       "[[1], [2, 3]]\n",
       "[[1, 42], [5, 42]]\n"
      ]
     },
     "execution_count": 11,
     "metadata": {},
     "output_type": "execute_result"
    }
   ],
   "source": [
    "x = sc.parallelize([1,2,3], 2)\n",
    "def f(iterator): yield sum(iterator); yield 42\n",
    "y = x.mapPartitions(f)\n",
    "# glom() flattens elements on the same partition\n",
    "print(x.glom().collect())\n",
    "print(y.glom().collect())"
   ]
  },
  {
   "cell_type": "markdown",
   "metadata": {},
   "source": [
    "## mapPartitionWithIndex"
   ]
  },
  {
   "cell_type": "code",
   "execution_count": 12,
   "metadata": {
    "ExecuteTime": {
     "end_time": "2017-02-07T22:36:06.943909",
     "start_time": "2017-02-08T03:36:06.426Z"
    },
    "collapsed": false
   },
   "outputs": [
    {
     "data": {
      "text/plain": [
       "[[1], [2, 3]]\n",
       "[[(0, 1)], [(1, 5)]]\n"
      ]
     },
     "execution_count": 12,
     "metadata": {},
     "output_type": "execute_result"
    }
   ],
   "source": [
    "x = sc.parallelize([1,2,3], 2)\n",
    "def f(partitionIndex, iterator):\n",
    "    yield (partitionIndex, sum(iterator))\n",
    "    \n",
    "y = x.mapPartitionsWithIndex(f)\n",
    "# glom() flattens elements on the same partition\n",
    "print(x.glom().collect())\n",
    "print(y.glom().collect())"
   ]
  },
  {
   "cell_type": "markdown",
   "metadata": {},
   "source": [
    "## sample()"
   ]
  },
  {
   "cell_type": "code",
   "execution_count": 13,
   "metadata": {
    "ExecuteTime": {
     "end_time": "2017-02-07T22:36:10.099555",
     "start_time": "2017-02-08T03:36:10.017Z"
    },
    "collapsed": false
   },
   "outputs": [
    {
     "data": {
      "text/plain": [
       "[1, 2, 3, 4, 5]\n",
       "[2, 5]\n"
      ]
     },
     "execution_count": 13,
     "metadata": {},
     "output_type": "execute_result"
    }
   ],
   "source": [
    "x = sc.parallelize([1, 2, 3, 4, 5])\n",
    "y = x.sample(False, 0.4, 42)\n",
    "print(x.collect())\n",
    "print(y.collect())"
   ]
  },
  {
   "cell_type": "markdown",
   "metadata": {},
   "source": [
    "## union()"
   ]
  },
  {
   "cell_type": "code",
   "execution_count": 14,
   "metadata": {
    "ExecuteTime": {
     "end_time": "2017-02-07T22:36:13.260997",
     "start_time": "2017-02-08T03:36:12.600Z"
    },
    "collapsed": false
   },
   "outputs": [
    {
     "data": {
      "text/plain": [
       "[[1], [2, 3], [3, 4]]\n"
      ]
     },
     "execution_count": 14,
     "metadata": {},
     "output_type": "execute_result"
    }
   ],
   "source": [
    "x = sc.parallelize([1,2,3], 2)\n",
    "y = sc.parallelize([3,4], 1)\n",
    "z = x.union(y)\n",
    "print(z.glom().collect())"
   ]
  },
  {
   "cell_type": "markdown",
   "metadata": {},
   "source": [
    "## join()"
   ]
  },
  {
   "cell_type": "code",
   "execution_count": 15,
   "metadata": {
    "ExecuteTime": {
     "end_time": "2017-02-07T22:36:18.838855",
     "start_time": "2017-02-08T03:36:17.896Z"
    },
    "collapsed": false
   },
   "outputs": [
    {
     "data": {
      "text/plain": [
       "[('a', (1, 3)), ('a', (1, 4)), ('b', (2, 5))]\n"
      ]
     },
     "execution_count": 15,
     "metadata": {},
     "output_type": "execute_result"
    }
   ],
   "source": [
    "x = sc.parallelize([(\"a\", 1), (\"b\", 2)])\n",
    "y = sc.parallelize([(\"a\", 3), (\"a\", 4), (\"b\", 5)])\n",
    "z = x.join(y)\n",
    "print(z.collect())"
   ]
  },
  {
   "cell_type": "markdown",
   "metadata": {},
   "source": [
    "## distinct()"
   ]
  },
  {
   "cell_type": "code",
   "execution_count": 16,
   "metadata": {
    "ExecuteTime": {
     "end_time": "2017-02-07T22:36:22.091724",
     "start_time": "2017-02-08T03:36:21.408Z"
    },
    "collapsed": false
   },
   "outputs": [
    {
     "data": {
      "text/plain": [
       "[1, 2, 3, 4]\n"
      ]
     },
     "execution_count": 16,
     "metadata": {},
     "output_type": "execute_result"
    }
   ],
   "source": [
    "x = sc.parallelize([1,2,3,3,4])\n",
    "y = x.distinct()\n",
    "print(y.collect())"
   ]
  },
  {
   "cell_type": "markdown",
   "metadata": {},
   "source": [
    "## coalesce()"
   ]
  },
  {
   "cell_type": "code",
   "execution_count": 17,
   "metadata": {
    "ExecuteTime": {
     "end_time": "2017-02-07T22:36:25.272846",
     "start_time": "2017-02-08T03:36:24.567Z"
    },
    "collapsed": false
   },
   "outputs": [
    {
     "data": {
      "text/plain": [
       "[[1], [2, 3], [4, 5]]\n",
       "[[1], [2, 3, 4, 5]]\n"
      ]
     },
     "execution_count": 17,
     "metadata": {},
     "output_type": "execute_result"
    }
   ],
   "source": [
    "x = sc.parallelize([1, 2, 3, 4, 5], 3)\n",
    "y = x.coalesce(2)\n",
    "print(x.glom().collect())\n",
    "print(y.glom().collect())"
   ]
  },
  {
   "cell_type": "markdown",
   "metadata": {},
   "source": [
    "## keyBy()"
   ]
  },
  {
   "cell_type": "code",
   "execution_count": 18,
   "metadata": {
    "ExecuteTime": {
     "end_time": "2017-02-07T22:36:28.397859",
     "start_time": "2017-02-08T03:36:27.927Z"
    },
    "collapsed": false
   },
   "outputs": [
    {
     "data": {
      "text/plain": [
       "[('J', 'John'), ('F', 'Fred'), ('A', 'Anna'), ('J', 'James')]\n"
      ]
     },
     "execution_count": 18,
     "metadata": {},
     "output_type": "execute_result"
    }
   ],
   "source": [
    "x = sc.parallelize(['John', 'Fred', 'Anna', 'James'])\n",
    "y = x.keyBy(lambda w: w[0])\n",
    "print y.collect()"
   ]
  },
  {
   "cell_type": "markdown",
   "metadata": {},
   "source": [
    "## partitionBy()"
   ]
  },
  {
   "cell_type": "code",
   "execution_count": 19,
   "metadata": {
    "ExecuteTime": {
     "end_time": "2017-02-07T22:36:31.603614",
     "start_time": "2017-02-08T03:36:30.822Z"
    },
    "collapsed": false
   },
   "outputs": [
    {
     "data": {
      "text/plain": [
       "[[('J', 'James')], [('F', 'Fred')], [('A', 'Anna'), ('J', 'John')]]\n",
       "[[('F', 'Fred'), ('A', 'Anna')], [('J', 'James'), ('J', 'John')]]\n"
      ]
     },
     "execution_count": 19,
     "metadata": {},
     "output_type": "execute_result"
    }
   ],
   "source": [
    "x = sc.parallelize([('J','James'),('F','Fred'), ('A','Anna'),('J','John')], 3)\n",
    "y = x.partitionBy(2, lambda w: 0 if w[0] < 'H' else 1)\n",
    "print x.glom().collect()\n",
    "print y.glom().collect()"
   ]
  },
  {
   "cell_type": "markdown",
   "metadata": {},
   "source": [
    "## zip()"
   ]
  },
  {
   "cell_type": "code",
   "execution_count": 20,
   "metadata": {
    "ExecuteTime": {
     "end_time": "2017-02-07T22:36:35.867360",
     "start_time": "2017-02-08T03:36:34.903Z"
    },
    "collapsed": false
   },
   "outputs": [
    {
     "data": {
      "text/plain": [
       "[(1, 1), (2, 4), (3, 9)]\n"
      ]
     },
     "execution_count": 20,
     "metadata": {},
     "output_type": "execute_result"
    }
   ],
   "source": [
    "x = sc.parallelize([1, 2, 3])\n",
    "y = x.map(lambda n:n*n)\n",
    "z = x.zip(y)\n",
    "print(z.collect())"
   ]
  },
  {
   "cell_type": "markdown",
   "metadata": {},
   "source": [
    "# RDD Actions"
   ]
  },
  {
   "cell_type": "markdown",
   "metadata": {},
   "source": [
    "## getNumPartitions()"
   ]
  },
  {
   "cell_type": "code",
   "execution_count": 21,
   "metadata": {
    "ExecuteTime": {
     "end_time": "2017-02-07T22:36:39.947023",
     "start_time": "2017-02-08T03:36:39.694Z"
    },
    "collapsed": false
   },
   "outputs": [
    {
     "data": {
      "text/plain": [
       "[[1], [2, 3]]\n",
       "2\n"
      ]
     },
     "execution_count": 21,
     "metadata": {},
     "output_type": "execute_result"
    }
   ],
   "source": [
    "x = sc.parallelize([1,2,3], 2)\n",
    "y = x.getNumPartitions()\n",
    "print(x.glom().collect())\n",
    "print(y)"
   ]
  },
  {
   "cell_type": "markdown",
   "metadata": {},
   "source": [
    "## collect()"
   ]
  },
  {
   "cell_type": "code",
   "execution_count": 22,
   "metadata": {
    "ExecuteTime": {
     "end_time": "2017-02-07T22:36:43.063740",
     "start_time": "2017-02-08T03:36:42.694Z"
    },
    "collapsed": false
   },
   "outputs": [
    {
     "data": {
      "text/plain": [
       "[[1], [2, 3]]\n",
       "[1, 2, 3]\n"
      ]
     },
     "execution_count": 22,
     "metadata": {},
     "output_type": "execute_result"
    }
   ],
   "source": [
    "x = sc.parallelize([1,2,3], 2)\n",
    "y = x.collect()\n",
    "print(x.glom().collect())\n",
    "print(y)"
   ]
  },
  {
   "cell_type": "markdown",
   "metadata": {},
   "source": [
    "## reduce()"
   ]
  },
  {
   "cell_type": "code",
   "execution_count": 23,
   "metadata": {
    "ExecuteTime": {
     "end_time": "2017-02-07T22:36:45.202837",
     "start_time": "2017-02-08T03:36:45.094Z"
    },
    "collapsed": false
   },
   "outputs": [
    {
     "data": {
      "text/plain": [
       "[1, 2, 3, 4]\n",
       "10\n"
      ]
     },
     "execution_count": 23,
     "metadata": {},
     "output_type": "execute_result"
    }
   ],
   "source": [
    "x = sc.parallelize([1,2,3,4])\n",
    "y = x.reduce(lambda a,b: a+b)\n",
    "print(x.collect())\n",
    "print(y)"
   ]
  },
  {
   "cell_type": "markdown",
   "metadata": {},
   "source": [
    "## aggregate()"
   ]
  },
  {
   "cell_type": "code",
   "execution_count": 24,
   "metadata": {
    "ExecuteTime": {
     "end_time": "2017-02-07T22:36:48.315737",
     "start_time": "2017-02-08T03:36:47.821Z"
    },
    "collapsed": false
   },
   "outputs": [
    {
     "data": {
      "text/plain": [
       "([1, 2, 3, 4], 10)\n"
      ]
     },
     "execution_count": 24,
     "metadata": {},
     "output_type": "execute_result"
    }
   ],
   "source": [
    "seqOp = lambda data, item: (data[0] + [item], data[1] + item)\n",
    "combOp = lambda d1, d2: (d1[0] + d2[0], d1[1] + d2[1])\n",
    "\n",
    "x = sc.parallelize([1,2,3,4])\n",
    "\n",
    "y = x.aggregate(([], 0), seqOp, combOp)\n",
    "\n",
    "print(y)"
   ]
  },
  {
   "cell_type": "markdown",
   "metadata": {},
   "source": [
    "## max()"
   ]
  },
  {
   "cell_type": "code",
   "execution_count": 26,
   "metadata": {
    "ExecuteTime": {
     "end_time": "2017-02-07T22:36:57.479787",
     "start_time": "2017-02-08T03:36:57.316Z"
    },
    "collapsed": false
   },
   "outputs": [
    {
     "data": {
      "text/plain": [
       "[2, 4, 1]\n",
       "4\n"
      ]
     },
     "execution_count": 26,
     "metadata": {},
     "output_type": "execute_result"
    }
   ],
   "source": [
    "x = sc.parallelize([2,4,1])\n",
    "y = x.max()\n",
    "print(x.collect())\n",
    "print(y)"
   ]
  },
  {
   "cell_type": "markdown",
   "metadata": {},
   "source": [
    "## sum()"
   ]
  },
  {
   "cell_type": "code",
   "execution_count": 27,
   "metadata": {
    "ExecuteTime": {
     "end_time": "2017-02-07T22:37:00.624279",
     "start_time": "2017-02-08T03:37:00.420Z"
    },
    "collapsed": false
   },
   "outputs": [
    {
     "data": {
      "text/plain": [
       "[2, 4, 1]\n",
       "7\n"
      ]
     },
     "execution_count": 27,
     "metadata": {},
     "output_type": "execute_result"
    }
   ],
   "source": [
    "x = sc.parallelize([2,4,1])\n",
    "y = x.sum()\n",
    "print(x.collect())\n",
    "print(y)"
   ]
  },
  {
   "cell_type": "markdown",
   "metadata": {},
   "source": [
    "## mean()"
   ]
  },
  {
   "cell_type": "code",
   "execution_count": 28,
   "metadata": {
    "ExecuteTime": {
     "end_time": "2017-02-07T22:37:02.764184",
     "start_time": "2017-02-08T03:37:02.484Z"
    },
    "collapsed": false
   },
   "outputs": [
    {
     "data": {
      "text/plain": [
       "[2, 4, 1]\n",
       "2.33333333333\n"
      ]
     },
     "execution_count": 28,
     "metadata": {},
     "output_type": "execute_result"
    }
   ],
   "source": [
    "x = sc.parallelize([2,4,1])\n",
    "y = x.mean()\n",
    "print(x.collect())\n",
    "print(y)"
   ]
  },
  {
   "cell_type": "markdown",
   "metadata": {},
   "source": [
    "## stdev()"
   ]
  },
  {
   "cell_type": "code",
   "execution_count": 29,
   "metadata": {
    "ExecuteTime": {
     "end_time": "2017-02-07T22:37:06.910867",
     "start_time": "2017-02-08T03:37:05.964Z"
    },
    "collapsed": false
   },
   "outputs": [
    {
     "data": {
      "text/plain": [
       "[2, 4, 1]\n",
       "1.24721912892\n"
      ]
     },
     "execution_count": 29,
     "metadata": {},
     "output_type": "execute_result"
    }
   ],
   "source": [
    "x = sc.parallelize([2,4,1])\n",
    "y = x.stdev()\n",
    "print(x.collect())\n",
    "print(y)"
   ]
  },
  {
   "cell_type": "markdown",
   "metadata": {},
   "source": [
    "## countByKey()"
   ]
  },
  {
   "cell_type": "code",
   "execution_count": 30,
   "metadata": {
    "ExecuteTime": {
     "end_time": "2017-02-07T22:37:10.015525",
     "start_time": "2017-02-08T03:37:09.476Z"
    },
    "collapsed": false
   },
   "outputs": [
    {
     "data": {
      "text/plain": [
       "defaultdict(<type 'int'>, {'A': 1, 'J': 2, 'F': 1})\n"
      ]
     },
     "execution_count": 30,
     "metadata": {},
     "output_type": "execute_result"
    }
   ],
   "source": [
    "x = sc.parallelize([('J', 'James'), ('F','Fred'), ('A','Anna'), ('J','John')])\n",
    "y = x.countByKey()\n",
    "print(y)"
   ]
  },
  {
   "cell_type": "markdown",
   "metadata": {},
   "source": [
    "# Saving RDD"
   ]
  },
  {
   "cell_type": "markdown",
   "metadata": {},
   "source": [
    "## saveAsTextFile()\n",
    "Make sure output file does not exist"
   ]
  },
  {
   "cell_type": "code",
   "execution_count": 33,
   "metadata": {
    "ExecuteTime": {
     "end_time": "2017-02-07T22:37:41.223332",
     "start_time": "2017-02-08T03:37:40.060Z"
    },
    "collapsed": false
   },
   "outputs": [
    {
     "data": {
      "text/plain": [
       "[u'2', u'4', u'1']\n"
      ]
     },
     "execution_count": 33,
     "metadata": {},
     "output_type": "execute_result"
    }
   ],
   "source": [
    "x = sc.parallelize([2,4,1])\n",
    "x.saveAsTextFile(\"/user/pmolnar/demo2\")\n",
    "y = sc.textFile(\"/user/pmolnar/demo2\")\n",
    "print(y.collect())"
   ]
  },
  {
   "cell_type": "code",
   "execution_count": null,
   "metadata": {
    "collapsed": true
   },
   "outputs": [],
   "source": []
  },
  {
   "cell_type": "code",
   "execution_count": null,
   "metadata": {
    "collapsed": true
   },
   "outputs": [],
   "source": []
  }
 ],
 "metadata": {
  "hide_input": false,
  "kernelspec": {
   "display_name": "Apache Toree - PySpark",
   "language": "python",
   "name": "apache_toree_pyspark"
  },
  "language_info": {
   "name": "scala",
   "version": "2.10.4"
  },
  "toc": {
   "nav_menu": {
    "height": "512px",
    "width": "252px"
   },
   "navigate_menu": true,
   "number_sections": true,
   "sideBar": true,
   "threshold": 4,
   "toc_cell": false,
   "toc_section_display": "block",
   "toc_window_display": false
  }
 },
 "nbformat": 4,
 "nbformat_minor": 0
}
