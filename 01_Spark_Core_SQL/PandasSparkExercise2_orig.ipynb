{
 "cells": [
  {
   "cell_type": "markdown",
   "metadata": {},
   "source": [
    "<div style=\"float:right; color:red; font-weight:bold;\">Rename this file before you work on it!</div>\n",
    "# Pandas Spark Exercise 2\n",
    "\n",
    "We use the [Adventure Works dataset](https://msdn.microsoft.com/en-us/library/hh403424.aspxto) to compare queries in\n",
    "1. SQL\n",
    "2. Python Pandas, and \n",
    "3. Spark DataFrames.\n",
    "\n",
    "\n",
    "The data files are available on ARC (our Hadoop Cluster):\n",
    "\n",
    "**Local File System**\n",
    "<pre>\n",
    "$ ls -l /home/data/AdventureWorks/\n",
    "total 180\n",
    "-rw-r--r-- 1 root data   6144 Sep  7 18:51 Customers.xls\n",
    "-rw-r--r-- 1 root data 157184 Sep  7 18:51 Employees.xls\n",
    "-rw-r--r-- 1 root data   7680 Sep  7 18:51 ItemsOrdered.xls\n",
    "-rw-r--r-- 1 root data   5632 Sep  7 18:51 SalesTerritory.xls\n",
    "</pre>\n",
    "\n",
    "**HDFS**\n",
    "<pre>\n",
    "$ hdfs dfs -ls /user/pmolnar/data/AdventureWorks\n",
    "Found 4 items\n",
    "-rw-r--r--   3 pmolnar hadoop        466 2017-02-07 22:46 /user/pmolnar/data/AdventureWorks/Customer.csv.gz\n",
    "-rw-r--r--   3 pmolnar hadoop      18125 2017-02-07 22:46 /user/pmolnar/data/AdventureWorks/Employees.csv.gz\n",
    "-rw-r--r--   3 pmolnar hadoop        603 2017-02-07 22:46 /user/pmolnar/data/AdventureWorks/ItemsOrdered.csv.gz\n",
    "-rw-r--r--   3 pmolnar hadoop        404 2017-02-07 22:46 /user/pmolnar/data/AdventureWorks/SalesTerritory.csv.gz\n",
    "</pre>\n",
    "\n",
    "\n",
    "\n",
    "## Task\n",
    "1. Fill in the Python-Pandas or Python-Spark expressions to produce a table as described in the problem statements.\n",
    "2. The SQL expression may give you a hint. It also allows you to see both systems side-by-side."
   ]
  },
  {
   "cell_type": "markdown",
   "metadata": {},
   "source": [
    "# Setup"
   ]
  },
  {
   "cell_type": "markdown",
   "metadata": {},
   "source": [
    "## Pandas"
   ]
  },
  {
   "cell_type": "code",
   "execution_count": 1,
   "metadata": {
    "ExecuteTime": {
     "end_time": "2017-02-17T10:26:14.779758",
     "start_time": "2017-02-17T10:26:14.666117"
    },
    "collapsed": true
   },
   "outputs": [],
   "source": [
    "# %load adventureworks_pandas.py\n",
    "import pandas as pd\n",
    "import numpy as np\n",
    "Empoyees = pd.read_excel('/home/data/AdventureWorks/Employees.xls')\n",
    "Territory = pd.read_excel('/home/data/AdventureWorks/SalesTerritory.xls')\n",
    "Customers = pd.read_excel('/home/data/AdventureWorks/Customers.xls')\n",
    "Orders = pd.read_excel('/home/data/AdventureWorks/ItemsOrdered.xls')\n",
    "\n"
   ]
  },
  {
   "cell_type": "markdown",
   "metadata": {},
   "source": [
    "## Spark "
   ]
  },
  {
   "cell_type": "code",
   "execution_count": 2,
   "metadata": {
    "ExecuteTime": {
     "end_time": "2017-02-17T10:26:18.281934",
     "start_time": "2017-02-17T10:26:18.251224"
    },
    "collapsed": false
   },
   "outputs": [
    {
     "name": "stdout",
     "output_type": "stream",
     "text": [
      "Already running\n",
      "          ____              __\n",
      "         / __/__  ___ _____/ /__\n",
      "        _\\ \\/ _ \\/ _ `/ __/  '_/\n",
      "       /__ / .__/\\_,_/_/ /_/\\_\\   version 1.6.1\n",
      "          /_/\n",
      "    \n",
      "Spark Context available as `sc`\n",
      "Spark SQL Context (<class 'pyspark.sql.context.HiveContext'>) available as `sqlCtx`\n",
      "Monitor this application at http://arc.insight.gsu.edu:8088/proxy/application_1484597252711_0266\n"
     ]
    }
   ],
   "source": [
    "# %load pyspark_init.py\n",
    "\"\"\"\n",
    "Load packages and create context objects...\n",
    "\"\"\"\n",
    "import os\n",
    "import platform\n",
    "import sys\n",
    "if not 'sc' in vars():\n",
    "    sys.path.append('/usr/hdp/2.4.2.0-258/spark/python')\n",
    "    os.environ[\"SPARK_HOME\"] = '/usr/hdp/2.4.2.0-258/spark'\n",
    "    os.environ['PYSPARK_SUBMIT_ARGS'] = '--packages com.databricks:spark-csv_2.11:1.2.0 pyspark-shell'\n",
    "    import py4j\n",
    "    import pyspark\n",
    "    from pyspark.context import SparkContext, SparkConf\n",
    "    from pyspark.sql import SQLContext, HiveContext\n",
    "    from pyspark.storagelevel import StorageLevel\n",
    "    sc = SparkContext()\n",
    "    import atexit\n",
    "    atexit.register(lambda: sc.stop())\n",
    "    print(\"\"\"Welcome to\n",
    "          ____              __\n",
    "         / __/__  ___ _____/ /__\n",
    "        _\\ \\/ _ \\/ _ `/ __/  '_/\n",
    "       /__ / .__/\\_,_/_/ /_/\\_\\   version %s\n",
    "          /_/\n",
    "    \"\"\" % sc.version)\n",
    "else:\n",
    "    print(\"\"\"Already running\n",
    "          ____              __\n",
    "         / __/__  ___ _____/ /__\n",
    "        _\\ \\/ _ \\/ _ `/ __/  '_/\n",
    "       /__ / .__/\\_,_/_/ /_/\\_\\   version %s\n",
    "          /_/\n",
    "    \"\"\" % sc.version)\n",
    "\n",
    "if not 'sqlCtx' in vars():\n",
    "    sqlCtx = SQLContext(sc)\n",
    "print 'Spark Context available as `sc`'\n",
    "print 'Spark SQL Context (%s) available as `sqlCtx`'%str(type(sqlCtx))\n",
    "print \"Monitor this application at http://arc.insight.gsu.edu:8088/proxy/\"+sc.applicationId\n",
    "\n"
   ]
  },
  {
   "cell_type": "code",
   "execution_count": 3,
   "metadata": {
    "ExecuteTime": {
     "end_time": "2017-02-17T10:28:04.143354",
     "start_time": "2017-02-17T10:27:51.652516"
    },
    "collapsed": true
   },
   "outputs": [],
   "source": [
    "# %load adventureworks_spark.py\n",
    "if not 'sqlCtx' in vars():\n",
    "   sqlCtx = SQLContext(sc)\n",
    "\n",
    "Employees_df = sqlCtx.read.format('com.databricks.spark.csv')\\\n",
    "    .options(header=True, inferschema=True)\\\n",
    "    .load('/user/pmolnar/data/AdventureWorks/Employees.csv.gz')\n",
    "\n",
    "Territory_df = sqlCtx.read.format('com.databricks.spark.csv')\\\n",
    "    .options(header=True, inferschema=True)\\\n",
    "    .load('/user/pmolnar/data/AdventureWorks/SalesTerritory.csv.gz')\n",
    "\n",
    "Orders_df = sqlCtx.read.format('com.databricks.spark.csv')\\\n",
    "    .options(header=True, inferschema=True)\\\n",
    "    .load('/user/pmolnar/data/AdventureWorks/ItemsOrdered.csv.gz')\n",
    "\n",
    "Customers_df = sqlCtx.read.format('com.databricks.spark.csv')\\\n",
    "    .options(header=True, inferschema=True)\\\n",
    "    .load('/user/pmolnar/data/AdventureWorks/Customer.csv.gz')\n",
    "\n"
   ]
  },
  {
   "cell_type": "markdown",
   "metadata": {},
   "source": [
    "# Queries"
   ]
  },
  {
   "cell_type": "markdown",
   "metadata": {},
   "source": [
    "### 1a. Show me all the employees, and if any are salespeople then show me the details about their sales territory"
   ]
  },
  {
   "cell_type": "raw",
   "metadata": {},
   "source": [
    "SELECT e.EmployeeID\n",
    "\t\t,e.FirstName + ' ' + e.LastName AS EmployeeName\n",
    "\t\t,st.*\n",
    "\tFROM dbo.Employees AS e\n",
    "\t\tINNER JOIN dbo.SalesTerritory AS st\n",
    "\t\tON e.TerritoryID = st.TerritoryID\n",
    "\t;"
   ]
  },
  {
   "cell_type": "code",
   "execution_count": null,
   "metadata": {
    "collapsed": true
   },
   "outputs": [],
   "source": []
  },
  {
   "cell_type": "markdown",
   "metadata": {},
   "source": [
    "### 1b. Change the columns above\n",
    "From Employees table use: EmployeeID, FirstName, LastName, TerritoryID\n",
    "From the SalesTerritory table use: show all the columns except for the TerritoryID"
   ]
  },
  {
   "cell_type": "raw",
   "metadata": {},
   "source": [
    "SELECT e.EmployeeID\n",
    "\t\t,e.FirstName + ' ' + e.LastName AS EmployeeName\n",
    "\t\t,e.TerritoryID\n",
    "\t\t,st.Name\n",
    "\t\t,st.CountryCode\n",
    "\t\t,st.Region\n",
    "\t\t,st.SalesYTD\n",
    "\t\t,st.SalesLastYear\n",
    "\tFROM dbo.Employees AS e\n",
    "\t\tLEFT OUTER JOIN dbo.SalesTerritory AS st\n",
    "\t\tON e.TerritoryID = st.TerritoryID\n",
    "\t;"
   ]
  },
  {
   "cell_type": "code",
   "execution_count": null,
   "metadata": {
    "collapsed": true
   },
   "outputs": [],
   "source": []
  },
  {
   "cell_type": "markdown",
   "metadata": {},
   "source": [
    "### 1c. For the list above, limit the results to just salespeople"
   ]
  },
  {
   "cell_type": "raw",
   "metadata": {},
   "source": [
    "SELECT e.EmployeeID\n",
    "\t\t,e.FirstName + ' ' + e.LastName AS EmployeeName\n",
    "\t\t,e.TerritoryID\n",
    "\t\t,st.Name\n",
    "\t\t,st.CountryCode\n",
    "\t\t,st.Region\n",
    "\t\t,st.SalesYTD\n",
    "\t\t,st.SalesLastYear\n",
    "\tFROM dbo.Employees AS e\n",
    "\t\tINNER JOIN dbo.SalesTerritory AS st\n",
    "\t\tON e.TerritoryID = st.TerritoryID\n",
    "\t;"
   ]
  },
  {
   "cell_type": "code",
   "execution_count": null,
   "metadata": {
    "collapsed": true
   },
   "outputs": [],
   "source": []
  },
  {
   "cell_type": "markdown",
   "metadata": {},
   "source": [
    "### 2a. Give me a list of customers"
   ]
  },
  {
   "cell_type": "raw",
   "metadata": {},
   "source": [
    "SELECT * \n",
    "\tFROM dbo.Customers as c\n",
    "\t;"
   ]
  },
  {
   "cell_type": "code",
   "execution_count": null,
   "metadata": {
    "collapsed": true
   },
   "outputs": [],
   "source": []
  },
  {
   "cell_type": "markdown",
   "metadata": {},
   "source": [
    "### 2b. For those customers, also tell me which sales territory they fall in"
   ]
  },
  {
   "cell_type": "raw",
   "metadata": {},
   "source": [
    "SELECT * \n",
    "\tFROM dbo.Customers as c\n",
    "\tINNER JOIN dbo.SalesTerritory as st\n",
    "\tON c.SalesTerritoryID = st.TerritoryID\n",
    "\t;"
   ]
  },
  {
   "cell_type": "code",
   "execution_count": null,
   "metadata": {
    "collapsed": true
   },
   "outputs": [],
   "source": []
  },
  {
   "cell_type": "markdown",
   "metadata": {},
   "source": [
    "### 3a. Give me a list of sales territories"
   ]
  },
  {
   "cell_type": "raw",
   "metadata": {},
   "source": [
    "SELECT * \n",
    "\tFROM dbo.SalesTerritory as st\n",
    "\t;"
   ]
  },
  {
   "cell_type": "code",
   "execution_count": null,
   "metadata": {
    "collapsed": true
   },
   "outputs": [],
   "source": []
  },
  {
   "cell_type": "markdown",
   "metadata": {},
   "source": [
    "### 3b. For those sales territories, also show what customers fall under them"
   ]
  },
  {
   "cell_type": "raw",
   "metadata": {},
   "source": [
    "SELECT * \n",
    "\tFROM dbo.SalesTerritory AS st\n",
    "\tLEFT OUTER JOIN dbo.Customers AS c\n",
    "\t\tON c.SalesTerritoryID = st.TerritoryID\n",
    "\t;"
   ]
  },
  {
   "cell_type": "code",
   "execution_count": null,
   "metadata": {
    "collapsed": true
   },
   "outputs": [],
   "source": []
  },
  {
   "cell_type": "markdown",
   "metadata": {},
   "source": [
    "### 3c. Make sure, if you didn't already, that any sales territories with 0 customers are also shown in the list"
   ]
  },
  {
   "cell_type": "raw",
   "metadata": {},
   "source": [
    "SELECT * \n",
    "\tFROM dbo.SalesTerritory AS st\n",
    "\tLEFT OUTER JOIN dbo.Customers AS c\n",
    "\t\tON c.SalesTerritoryID = st.TerritoryID\n",
    "\t;"
   ]
  },
  {
   "cell_type": "code",
   "execution_count": null,
   "metadata": {
    "collapsed": true
   },
   "outputs": [],
   "source": []
  },
  {
   "cell_type": "markdown",
   "metadata": {},
   "source": [
    "### 4a. Give me a list of the customers we have in North Carolina, and note how many there are."
   ]
  },
  {
   "cell_type": "raw",
   "metadata": {},
   "source": [
    "SELECT c.StateName, COUNT(*)\n",
    "\tFROM dbo.Customers as c\n",
    "\tGROUP BY c.StateName\n",
    "\t;"
   ]
  },
  {
   "cell_type": "raw",
   "metadata": {},
   "source": [
    "SELECT *\n",
    "\tFROM dbo.Customers as c\n",
    "\tWHERE c.StateName = 'North Carolina'\n",
    "\t;"
   ]
  },
  {
   "cell_type": "code",
   "execution_count": null,
   "metadata": {
    "collapsed": true
   },
   "outputs": [],
   "source": []
  },
  {
   "cell_type": "markdown",
   "metadata": {},
   "source": [
    "\t\n",
    "### 4b. For our North Carolina customers, show me the items they have ordered"
   ]
  },
  {
   "cell_type": "raw",
   "metadata": {},
   "source": [
    "SELECT *\n",
    "\tFROM dbo.Customers as c\n",
    "\tLEFT OUTER JOIN dbo.ItemsOrdered as ords\n",
    "\t\tON c.CustomerID = ords.CustomerID\n",
    "\tWHERE c.StateName = 'North Carolina'\n",
    "\t;"
   ]
  },
  {
   "cell_type": "code",
   "execution_count": null,
   "metadata": {
    "collapsed": true
   },
   "outputs": [],
   "source": []
  },
  {
   "cell_type": "markdown",
   "metadata": {},
   "source": [
    "### 4c. Change it so we're only looking at customers who are in Arizona"
   ]
  },
  {
   "cell_type": "raw",
   "metadata": {},
   "source": [
    "SELECT *\n",
    "\tFROM dbo.Customers as c\n",
    "\tLEFT OUTER JOIN dbo.ItemsOrdered as ords\n",
    "\t\tON c.CustomerID = ords.CustomerID\n",
    "\tWHERE c.StateName = 'Arizona'\n",
    "\t;"
   ]
  },
  {
   "cell_type": "code",
   "execution_count": null,
   "metadata": {
    "collapsed": true
   },
   "outputs": [],
   "source": []
  },
  {
   "cell_type": "markdown",
   "metadata": {},
   "source": [
    "### 4d. For each of the items ordered, show the total price of the order (sometimes they ordered more than 1 item)"
   ]
  },
  {
   "cell_type": "raw",
   "metadata": {},
   "source": [
    "SELECT *, ords.Quantity*ords.Price AS Total\n",
    "\tFROM dbo.Customers as c\n",
    "\tLEFT OUTER JOIN dbo.ItemsOrdered as ords\n",
    "\t\tON c.CustomerID = ords.CustomerID\n",
    "\t;"
   ]
  },
  {
   "cell_type": "code",
   "execution_count": null,
   "metadata": {
    "collapsed": true
   },
   "outputs": [],
   "source": []
  },
  {
   "cell_type": "markdown",
   "metadata": {},
   "source": [
    "### 4e. For the Arizona customers above, show the maximum total price per customer. Choose the columns wisely"
   ]
  },
  {
   "cell_type": "raw",
   "metadata": {},
   "source": [
    "SELECT c.CustomerID, c.FirstName+' '+c.LastName AS Name, MAX(ords.Quantity*ords.Price) AS MaxTotalOrder\n",
    "\tFROM dbo.Customers as c\n",
    "\tINNER JOIN dbo.ItemsOrdered as ords\n",
    "\t\tON c.CustomerID = ords.CustomerID\n",
    "\tWHERE c.StateName = 'Arizona'\n",
    "\tGROUP BY c.CustomerID, c.FirstName+' '+c.LastName\n",
    "\t;"
   ]
  },
  {
   "cell_type": "code",
   "execution_count": null,
   "metadata": {
    "collapsed": true
   },
   "outputs": [],
   "source": []
  },
  {
   "cell_type": "markdown",
   "metadata": {},
   "source": [
    "### 4f. For the results above, only show the ones where the MaxTotalPrice is more than $5.00"
   ]
  },
  {
   "cell_type": "raw",
   "metadata": {},
   "source": [
    "SELECT c.CustomerID, c.FirstName+' '+c.LastName AS Name, MAX(ords.Quantity*ords.Price) AS MaxTotalOrder\n",
    "\tFROM dbo.Customers as c\n",
    "\tINNER JOIN dbo.ItemsOrdered as ords\n",
    "\t\tON c.CustomerID = ords.CustomerID\n",
    "\tWHERE c.StateName = 'Arizona'\n",
    "\tGROUP BY c.CustomerID, c.FirstName+' '+c.LastName\n",
    "\tHAVING MAX(ords.Quantity*ords.Price)>5.0\n",
    "\t;"
   ]
  },
  {
   "cell_type": "code",
   "execution_count": null,
   "metadata": {
    "collapsed": true
   },
   "outputs": [],
   "source": []
  },
  {
   "cell_type": "markdown",
   "metadata": {},
   "source": [
    "### BONUS 1: Take the query from #3c and add a column called \"CityRegion\" that combines dbo.Customers.City and "
   ]
  },
  {
   "cell_type": "raw",
   "metadata": {},
   "source": [
    "dbo.SalesTerritory.Region (in the format \"City - Region\")\n",
    "SELECT *\n",
    "\t\t,COALESCE(c.City, 'n/a') -- , CONCAT(c.City, ' - ', st.Region) AS CityRegion\n",
    "\tFROM dbo.SalesTerritory AS st\n",
    "\tLEFT OUTER JOIN dbo.Customers AS c\n",
    "\t\tON c.SalesTerritoryID = st.TerritoryID\n",
    "\t;"
   ]
  },
  {
   "cell_type": "code",
   "execution_count": null,
   "metadata": {
    "collapsed": true
   },
   "outputs": [],
   "source": []
  },
  {
   "cell_type": "markdown",
   "metadata": {},
   "source": [
    "### BONUS 2: Fix the problem above where CityRegion is NULL sometimes; change it to, for example, \"n/a - North America\""
   ]
  },
  {
   "cell_type": "raw",
   "metadata": {},
   "source": [
    "SELECT *, CONCAT(COALESCE(c.City, 'n/a'), ' - ', st.Region) AS CityRegion\n",
    "\tFROM dbo.SalesTerritory AS st\n",
    "\tLEFT OUTER JOIN dbo.Customers AS c\n",
    "\t\tON c.SalesTerritoryID = st.TerritoryID\n",
    "\t;"
   ]
  },
  {
   "cell_type": "code",
   "execution_count": null,
   "metadata": {
    "collapsed": true
   },
   "outputs": [],
   "source": []
  },
  {
   "cell_type": "markdown",
   "metadata": {},
   "source": [
    "### OVERACHIEVER 1: Why do you think a database is designed so the data is split up into different tables?  Why not just put it all in one table?"
   ]
  },
  {
   "cell_type": "raw",
   "metadata": {},
   "source": []
  },
  {
   "cell_type": "code",
   "execution_count": null,
   "metadata": {
    "collapsed": true
   },
   "outputs": [],
   "source": []
  },
  {
   "cell_type": "markdown",
   "metadata": {},
   "source": [
    "### OVERACHIEVER 2a: Take the query from 1b and sort it by the sales region so that all the salespeople are the top of the list"
   ]
  },
  {
   "cell_type": "raw",
   "metadata": {},
   "source": [
    "SELECT e.EmployeeID\n",
    "\t\t,e.FirstName + ' ' + e.LastName AS EmployeeName\n",
    "\t\t,e.TerritoryID\n",
    "\t\t,st.Name\n",
    "\t\t,st.CountryCode\n",
    "\t\t,st.Region\n",
    "\t\t,st.SalesYTD\n",
    "\t\t,st.SalesLastYear\n",
    "\tFROM dbo.Employees AS e\n",
    "\t\tLEFT OUTER JOIN dbo.SalesTerritory AS st\n",
    "\t\tON e.TerritoryID = st.TerritoryID\n",
    "\tORDER BY COALESCE(e.TerritoryID, 99999)\n",
    "\t;"
   ]
  },
  {
   "cell_type": "code",
   "execution_count": null,
   "metadata": {
    "collapsed": true
   },
   "outputs": [],
   "source": []
  },
  {
   "cell_type": "markdown",
   "metadata": {},
   "source": [
    "### OVERACHIEVER 2b: From the query above, if the sales territory is outside Europe, do not display it (but we still want to see all the employees in the company!)"
   ]
  },
  {
   "cell_type": "raw",
   "metadata": {},
   "source": [
    "SELECT e.EmployeeID\n",
    "\t\t,e.FirstName + ' ' + e.LastName AS EmployeeName\n",
    "\t\t,e.TerritoryID\n",
    "\t\t,st.Name\n",
    "\t\t,st.CountryCode\n",
    "\t\t,st.Region\n",
    "\t\t,st.SalesYTD\n",
    "\t\t,st.SalesLastYear\n",
    "\tFROM dbo.Employees AS e\n",
    "\t\tLEFT OUTER JOIN dbo.SalesTerritory AS st\n",
    "\t\tON e.TerritoryID = st.TerritoryID AND st.Region = 'Europe'\n",
    "\tORDER BY COALESCE(e.TerritoryID, 99999)\n",
    "\t;"
   ]
  },
  {
   "cell_type": "code",
   "execution_count": null,
   "metadata": {
    "collapsed": true
   },
   "outputs": [],
   "source": []
  }
 ],
 "metadata": {
  "hide_input": false,
  "kernelspec": {
   "display_name": "PySpark 1.6.1 - Cluster",
   "language": "python",
   "name": "pyspark"
  },
  "language_info": {
   "codemirror_mode": {
    "name": "ipython",
    "version": 2
   },
   "file_extension": ".py",
   "mimetype": "text/x-python",
   "name": "python",
   "nbconvert_exporter": "python",
   "pygments_lexer": "ipython2",
   "version": "2.7.5"
  },
  "toc": {
   "nav_menu": {
    "height": "462px",
    "width": "252px"
   },
   "navigate_menu": true,
   "number_sections": true,
   "sideBar": true,
   "threshold": 4,
   "toc_cell": false,
   "toc_section_display": "block",
   "toc_window_display": true
  }
 },
 "nbformat": 4,
 "nbformat_minor": 0
}
