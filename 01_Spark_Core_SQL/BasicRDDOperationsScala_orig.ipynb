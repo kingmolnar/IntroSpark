{
 "cells": [
  {
   "cell_type": "markdown",
   "metadata": {},
   "source": [
    "# Loading Data into RDD"
   ]
  },
  {
   "cell_type": "markdown",
   "metadata": {},
   "source": [
    "Data files are stored at\n",
    "<pre>\n",
    "    $ hdfs dfs -ls /user/pmolnar/data/AdventureWorks\n",
    "    Found 4 items\n",
    "    -rw-r--r--   3 pmolnar hadoop        466 2017-02-07 22:46 /user/pmolnar/data/AdventureWorks/Customer.csv.gz\n",
    "    -rw-r--r--   3 pmolnar hadoop      18125 2017-02-07 22:46 /user/pmolnar/data/AdventureWorks/Employees.csv.gz\n",
    "    -rw-r--r--   3 pmolnar hadoop        603 2017-02-07 22:46 /user/pmolnar/data/AdventureWorks/ItemsOrdered.csv.gz\n",
    "    -rw-r--r--   3 pmolnar hadoop        404 2017-02-07 22:46 /user/pmolnar/data/AdventureWorks/SalesTerritory.csv.gz\n",
    "</pre>"
   ]
  },
  {
   "cell_type": "code",
   "execution_count": 3,
   "metadata": {
    "ExecuteTime": {
     "end_time": "2017-02-07T23:43:52.566250",
     "start_time": "2017-02-08T04:43:52.159Z"
    },
    "collapsed": false
   },
   "outputs": [],
   "source": [
    "val customer_rdd = sc.textFile(\"/user/pmolnar/data/AdventureWorks/Customer.csv.gz\")"
   ]
  },
  {
   "cell_type": "code",
   "execution_count": 4,
   "metadata": {
    "ExecuteTime": {
     "end_time": "2017-02-07T23:44:03.600545",
     "start_time": "2017-02-08T04:44:02.830Z"
    },
    "collapsed": false,
    "scrolled": true
   },
   "outputs": [
    {
     "name": "stdout",
     "output_type": "stream",
     "text": [
      "CustomerID,SalesTerritoryID,FirstName,LastName,City,StateName\n",
      "10101,1,John,Gray,Lynden,Washington\n",
      "10298,4,Leroy,Brown,Pinetop,Arizona\n",
      "10299,1,Elroy,Keller,Snoqualmie,Washington\n",
      "10315,3,Lisa,Jones,Oshkosh,Wisconsin\n",
      "10325,1,Ginger,Schultz,Pocatello,Idaho\n",
      "10329,5,Kelly,Mendoza,Kailua,Hawaii\n",
      "10330,1,Shawn,Dalton,Cannon Beach,Oregon\n",
      "10338,1,Michael,Howell,Tillamook,Oregon\n",
      "10339,4,Anthony,Sanchez,Winslow,Arizona\n"
     ]
    }
   ],
   "source": [
    "println(customer_rdd.take(10).mkString(\"\\n\"))"
   ]
  },
  {
   "cell_type": "code",
   "execution_count": 5,
   "metadata": {
    "ExecuteTime": {
     "end_time": "2017-02-07T23:44:30.339576",
     "start_time": "2017-02-08T04:44:30.129Z"
    },
    "collapsed": true
   },
   "outputs": [],
   "source": [
    "val hdr = customer_rdd.first()"
   ]
  },
  {
   "cell_type": "code",
   "execution_count": 7,
   "metadata": {
    "ExecuteTime": {
     "end_time": "2017-02-07T23:44:55.376821",
     "start_time": "2017-02-08T04:44:55.015Z"
    },
    "collapsed": false
   },
   "outputs": [],
   "source": [
    "val customer2_rdd = customer_rdd.repartition(4).filter(x => x!=hdr)"
   ]
  },
  {
   "cell_type": "code",
   "execution_count": 8,
   "metadata": {
    "ExecuteTime": {
     "end_time": "2017-02-07T23:45:16.105334",
     "start_time": "2017-02-08T04:45:15.743Z"
    },
    "collapsed": false
   },
   "outputs": [
    {
     "name": "stdout",
     "output_type": "stream",
     "text": [
      "10101,1,John,Gray,Lynden,Washington\n",
      "10325,1,Ginger,Schultz,Pocatello,Idaho\n",
      "10339,4,Anthony,Sanchez,Winslow,Arizona\n",
      "10419,4,Linda,Sakahara,Nogales,Arizona\n",
      "10449,4,Isabela,Moore,Yuma,Arizona\n",
      "10298,4,Leroy,Brown,Pinetop,Arizona\n",
      "10329,5,Kelly,Mendoza,Kailua,Hawaii\n",
      "10408,4,Elroy,Cleaver,Globe,Arizona\n",
      "10429,5,Sarah,Graham,Greensboro,North Carolina\n",
      "10299,1,Elroy,Keller,Snoqualmie,Washington\n"
     ]
    }
   ],
   "source": [
    "println(customer2_rdd.take(10).mkString(\"\\n\"))"
   ]
  },
  {
   "cell_type": "code",
   "execution_count": 24,
   "metadata": {
    "ExecuteTime": {
     "end_time": "2017-02-07T23:52:55.512541",
     "start_time": "2017-02-08T04:52:55.295Z"
    },
    "collapsed": false
   },
   "outputs": [],
   "source": [
    "val customer3_rdd = customer2_rdd.map(x => x.split(',')).map(x => (x(0).toInt, x(1).toInt, x(2), x(3), x(4), x(5)))"
   ]
  },
  {
   "cell_type": "code",
   "execution_count": 25,
   "metadata": {
    "ExecuteTime": {
     "end_time": "2017-02-07T23:52:58.249335",
     "start_time": "2017-02-08T04:52:58.005Z"
    },
    "collapsed": false
   },
   "outputs": [
    {
     "name": "stdout",
     "output_type": "stream",
     "text": [
      "(10101,1,John,Gray,Lynden,Washington)\n",
      "(10325,1,Ginger,Schultz,Pocatello,Idaho)\n",
      "(10339,4,Anthony,Sanchez,Winslow,Arizona)\n",
      "(10419,4,Linda,Sakahara,Nogales,Arizona)\n",
      "(10449,4,Isabela,Moore,Yuma,Arizona)\n",
      "(10298,4,Leroy,Brown,Pinetop,Arizona)\n",
      "(10329,5,Kelly,Mendoza,Kailua,Hawaii)\n",
      "(10408,4,Elroy,Cleaver,Globe,Arizona)\n",
      "(10429,5,Sarah,Graham,Greensboro,North Carolina)\n",
      "(10299,1,Elroy,Keller,Snoqualmie,Washington)\n"
     ]
    }
   ],
   "source": [
    "for (t <- customer3_rdd.take(10)) {\n",
    "    println(t)\n",
    "}"
   ]
  },
  {
   "cell_type": "markdown",
   "metadata": {},
   "source": [
    "# RDD Transformations"
   ]
  },
  {
   "cell_type": "markdown",
   "metadata": {},
   "source": [
    "## map()"
   ]
  },
  {
   "cell_type": "code",
   "execution_count": 2,
   "metadata": {
    "ExecuteTime": {
     "end_time": "2017-02-07T13:00:48.789704",
     "start_time": "2017-02-07T18:00:47.480Z"
    },
    "collapsed": false
   },
   "outputs": [
    {
     "name": "stdout",
     "output_type": "stream",
     "text": [
      "b, a, c\n",
      "(b,1), (a,1), (c,1)\n"
     ]
    }
   ],
   "source": [
    "val x = sc.parallelize(Array(\"b\", \"a\", \"c\"))\n",
    "val y = x.map(z => (z,1))\n",
    "println(x.collect().mkString(\", \"))\n",
    "println(y.collect().mkString(\", \"))"
   ]
  },
  {
   "cell_type": "markdown",
   "metadata": {},
   "source": [
    "## filter()"
   ]
  },
  {
   "cell_type": "code",
   "execution_count": 3,
   "metadata": {
    "ExecuteTime": {
     "end_time": "2017-02-07T13:04:52.650626",
     "start_time": "2017-02-07T18:04:52.082Z"
    },
    "collapsed": false
   },
   "outputs": [
    {
     "name": "stdout",
     "output_type": "stream",
     "text": [
      "1, 2, 3\n",
      "1, 3\n"
     ]
    }
   ],
   "source": [
    "val x = sc.parallelize(Array(1,2,3))\n",
    "val y = x.filter(n => n%2 == 1)\n",
    "println(x.collect().mkString(\", \"))\n",
    "println(y.collect().mkString(\", \"))"
   ]
  },
  {
   "cell_type": "markdown",
   "metadata": {},
   "source": [
    "## flatMap()"
   ]
  },
  {
   "cell_type": "code",
   "execution_count": 4,
   "metadata": {
    "ExecuteTime": {
     "end_time": "2017-02-07T13:10:32.759676",
     "start_time": "2017-02-07T18:10:32.190Z"
    },
    "collapsed": false
   },
   "outputs": [
    {
     "name": "stdout",
     "output_type": "stream",
     "text": [
      "1, 2, 3\n",
      "1, 100, 42, 2, 200, 42, 3, 300, 42\n"
     ]
    }
   ],
   "source": [
    "val x = sc.parallelize(Array(1,2,3))\n",
    "val y = x.flatMap(n => Array(n, n*100, 42))\n",
    "println(x.collect().mkString(\", \"))\n",
    "println(y.collect().mkString(\", \"))"
   ]
  },
  {
   "cell_type": "markdown",
   "metadata": {},
   "source": [
    "## groupBy()"
   ]
  },
  {
   "cell_type": "code",
   "execution_count": 5,
   "metadata": {
    "ExecuteTime": {
     "end_time": "2017-02-07T13:11:43.249659",
     "start_time": "2017-02-07T18:11:42.723Z"
    },
    "collapsed": false
   },
   "outputs": [
    {
     "name": "stdout",
     "output_type": "stream",
     "text": [
      "(A,CompactBuffer(Anna)), (F,CompactBuffer(Fred)), (J,CompactBuffer(John, James))\n"
     ]
    }
   ],
   "source": [
    "val x = sc.parallelize(\n",
    "Array(\"John\", \"Fred\", \"Anna\", \"James\"))\n",
    "val y = x.groupBy(w => w.charAt(0))\n",
    "println(y.collect().mkString(\", \"))"
   ]
  },
  {
   "cell_type": "markdown",
   "metadata": {},
   "source": [
    "## groupByKey()"
   ]
  },
  {
   "cell_type": "code",
   "execution_count": 6,
   "metadata": {
    "ExecuteTime": {
     "end_time": "2017-02-07T13:13:42.530914",
     "start_time": "2017-02-07T18:13:41.941Z"
    },
    "collapsed": false
   },
   "outputs": [
    {
     "name": "stdout",
     "output_type": "stream",
     "text": [
      "(B,5), (B,4), (A,3), (A,2), (A,1)\n",
      "(A,CompactBuffer(3, 2, 1)), (B,CompactBuffer(5, 4))\n"
     ]
    }
   ],
   "source": [
    "val x = sc.parallelize( Array(('B',5),('B',4),('A',3),('A',2),('A',1)))\n",
    "val y = x.groupByKey()\n",
    "println(x.collect().mkString(\", \"))\n",
    "println(y.collect().mkString(\", \"))"
   ]
  },
  {
   "cell_type": "markdown",
   "metadata": {},
   "source": [
    "###  groupByKey() vs reduceByKey()"
   ]
  },
  {
   "cell_type": "code",
   "execution_count": 12,
   "metadata": {
    "ExecuteTime": {
     "end_time": "2017-02-07T13:19:49.080285",
     "start_time": "2017-02-07T18:19:48.616Z"
    },
    "collapsed": false
   },
   "outputs": [],
   "source": [
    "val words = Array(\"one\", \"two\", \"two\", \"three\", \"three\", \"three\")\n",
    "val wordPairsRDD = sc.parallelize(words).map(word => (word, 1))\n",
    "\n",
    "val wordCountsWithReduce = wordPairsRDD.\n",
    "    reduceByKey(_ + _).\n",
    "    collect()\n",
    "\n",
    "val wordCountsWithGroup = wordPairsRDD.\n",
    "    groupByKey().\n",
    "    map(t => (t._1, t._2.sum)).\n",
    "    collect()"
   ]
  },
  {
   "cell_type": "markdown",
   "metadata": {},
   "source": [
    "## mapPartitions()"
   ]
  },
  {
   "cell_type": "code",
   "execution_count": 17,
   "metadata": {
    "ExecuteTime": {
     "end_time": "2017-02-07T13:24:36.482400",
     "start_time": "2017-02-07T18:24:36.101Z"
    },
    "collapsed": false
   },
   "outputs": [],
   "source": [
    "val x = sc.parallelize(Array(1,2,3), 2)\n",
    "\n",
    "def f(i:Iterator[Int])={\n",
    "    (i.sum,42).productIterator\n",
    "}\n",
    "\n",
    "val y = x.mapPartitions(f)\n",
    "// glom() flattens elements on the same partition\n",
    "val xOut = x.glom().collect()\n",
    "val yOut = y.glom().collect()"
   ]
  },
  {
   "cell_type": "markdown",
   "metadata": {
    "ExecuteTime": {
     "end_time": "2017-02-07T13:24:32.560984",
     "start_time": "2017-02-07T18:24:32.477Z"
    }
   },
   "source": [
    "## mapPartitionWithIndex"
   ]
  },
  {
   "cell_type": "code",
   "execution_count": 18,
   "metadata": {
    "ExecuteTime": {
     "end_time": "2017-02-07T13:26:07.032913",
     "start_time": "2017-02-07T18:26:06.574Z"
    },
    "collapsed": true
   },
   "outputs": [],
   "source": [
    "val x = sc.parallelize(Array(1,2,3), 2)\n",
    "\n",
    "def f(partitionIndex:Int, i:Iterator[Int]) = {\n",
    "    (partitionIndex, i.sum).productIterator\n",
    "}\n",
    "\n",
    "val y = x.mapPartitionsWithIndex(f)\n",
    "\n",
    "// glom() flattens elements on the same partition \n",
    "val xOut = x.glom().collect()\n",
    "val yOut = y.glom().collect()"
   ]
  },
  {
   "cell_type": "markdown",
   "metadata": {},
   "source": [
    "## sample()"
   ]
  },
  {
   "cell_type": "code",
   "execution_count": 19,
   "metadata": {
    "ExecuteTime": {
     "end_time": "2017-02-07T13:27:43.058368",
     "start_time": "2017-02-07T18:27:42.731Z"
    },
    "collapsed": false
   },
   "outputs": [
    {
     "name": "stdout",
     "output_type": "stream",
     "text": [
      "1, 3, 4\n"
     ]
    }
   ],
   "source": [
    "val x = sc.parallelize(Array(1, 2, 3, 4, 5))\n",
    "val y = x.sample(false, 0.4)\n",
    "\n",
    "// omitting seed will yield different output\n",
    "println(y.collect().mkString(\", \"))"
   ]
  },
  {
   "cell_type": "markdown",
   "metadata": {},
   "source": [
    "## union()"
   ]
  },
  {
   "cell_type": "code",
   "execution_count": 23,
   "metadata": {
    "ExecuteTime": {
     "end_time": "2017-02-07T13:29:50.176471",
     "start_time": "2017-02-07T18:29:49.792Z"
    },
    "collapsed": false
   },
   "outputs": [
    {
     "data": {
      "text/plain": [
       "Array(Array(1), Array(2, 3), Array(3, 4))"
      ]
     },
     "execution_count": 23,
     "metadata": {},
     "output_type": "execute_result"
    }
   ],
   "source": [
    "val x = sc.parallelize(Array(1,2,3), 2)\n",
    "val y = sc.parallelize(Array(3,4), 1)\n",
    "val z = x.union(y)\n",
    "val zOut = z.glom().collect()\n",
    "zOut"
   ]
  },
  {
   "cell_type": "code",
   "execution_count": 22,
   "metadata": {
    "ExecuteTime": {
     "end_time": "2017-02-07T13:29:39.235696",
     "start_time": "2017-02-07T18:29:39.128Z"
    },
    "collapsed": false
   },
   "outputs": [
    {
     "data": {
      "text/plain": [
       "Array(Array(1), Array(2, 3), Array(3, 4))"
      ]
     },
     "execution_count": 22,
     "metadata": {},
     "output_type": "execute_result"
    }
   ],
   "source": []
  },
  {
   "cell_type": "markdown",
   "metadata": {},
   "source": [
    "## join()"
   ]
  },
  {
   "cell_type": "code",
   "execution_count": 24,
   "metadata": {
    "ExecuteTime": {
     "end_time": "2017-02-07T13:31:21.879602",
     "start_time": "2017-02-07T18:31:21.456Z"
    },
    "collapsed": false
   },
   "outputs": [
    {
     "name": "stdout",
     "output_type": "stream",
     "text": [
      "(a,(1,3)), (a,(1,4)), (b,(2,5))\n"
     ]
    }
   ],
   "source": [
    "val x = sc.parallelize(Array((\"a\", 1), (\"b\", 2)))\n",
    "val y = sc.parallelize(Array((\"a\", 3), (\"a\", 4), (\"b\", 5)))\n",
    "\n",
    "val z = x.join(y)\n",
    "println(z.collect().mkString(\", \"))"
   ]
  },
  {
   "cell_type": "markdown",
   "metadata": {},
   "source": [
    "## distinct()"
   ]
  },
  {
   "cell_type": "code",
   "execution_count": 25,
   "metadata": {
    "ExecuteTime": {
     "end_time": "2017-02-07T13:33:06.174352",
     "start_time": "2017-02-07T18:33:05.893Z"
    },
    "collapsed": false
   },
   "outputs": [
    {
     "name": "stdout",
     "output_type": "stream",
     "text": [
      "1, 2, 3, 4\n"
     ]
    }
   ],
   "source": [
    "val x = sc.parallelize(Array(1,2,3,3,4))\n",
    "val y = x.distinct()\n",
    "println(y.collect().mkString(\", \"))"
   ]
  },
  {
   "cell_type": "markdown",
   "metadata": {},
   "source": [
    "## coalesce()"
   ]
  },
  {
   "cell_type": "code",
   "execution_count": null,
   "metadata": {
    "collapsed": true
   },
   "outputs": [],
   "source": [
    "val x = sc.parallelize(Array(1, 2, 3, 4, 5), 3)\n",
    "val y = x.coalesce(2)\n",
    "val xOut = x.glom().collect()\n",
    "val yOut = y.glom().collect()"
   ]
  },
  {
   "cell_type": "markdown",
   "metadata": {
    "ExecuteTime": {
     "end_time": "2017-02-07T13:36:52.845356",
     "start_time": "2017-02-07T18:36:52.749Z"
    }
   },
   "source": [
    "xOut"
   ]
  },
  {
   "cell_type": "code",
   "execution_count": 30,
   "metadata": {
    "ExecuteTime": {
     "end_time": "2017-02-07T13:36:28.143332",
     "start_time": "2017-02-07T18:36:27.823Z"
    },
    "collapsed": false
   },
   "outputs": [
    {
     "data": {
      "text/plain": [
       "Array(Array(1), Array(2, 3, 4, 5))"
      ]
     },
     "execution_count": 30,
     "metadata": {},
     "output_type": "execute_result"
    }
   ],
   "source": [
    "yOut"
   ]
  },
  {
   "cell_type": "markdown",
   "metadata": {},
   "source": [
    "## keyBy()"
   ]
  },
  {
   "cell_type": "code",
   "execution_count": 32,
   "metadata": {
    "ExecuteTime": {
     "end_time": "2017-02-07T13:38:06.082276",
     "start_time": "2017-02-07T18:38:05.858Z"
    },
    "collapsed": false
   },
   "outputs": [
    {
     "name": "stdout",
     "output_type": "stream",
     "text": [
      "(J,John), (F,Fred), (A,Anna), (J,James)\n"
     ]
    }
   ],
   "source": [
    "val x = sc.parallelize(\n",
    "Array(\"John\", \"Fred\", \"Anna\", \"James\"))\n",
    "val y = x.keyBy(w => w.charAt(0))\n",
    "println(y.collect().mkString(\", \"))"
   ]
  },
  {
   "cell_type": "markdown",
   "metadata": {},
   "source": [
    "## partitionBy()"
   ]
  },
  {
   "cell_type": "code",
   "execution_count": 33,
   "metadata": {
    "ExecuteTime": {
     "end_time": "2017-02-07T13:41:35.648431",
     "start_time": "2017-02-07T18:41:35.268Z"
    },
    "collapsed": false
   },
   "outputs": [
    {
     "data": {
      "text/plain": [
       "Array(Array((F,Fred), (A,Anna)), Array((J,James), (J,John)))"
      ]
     },
     "execution_count": 33,
     "metadata": {},
     "output_type": "execute_result"
    }
   ],
   "source": [
    "import org.apache.spark.Partitioner\n",
    "\n",
    "val x = sc.parallelize(Array(('J',\"James\"),('F',\"Fred\"),\n",
    "                            ('A',\"Anna\"),('J',\"John\")), 3)\n",
    "                            \n",
    "val y = x.partitionBy(new Partitioner() {\n",
    "    val numPartitions = 2\n",
    "    def getPartition(k:Any) = {\n",
    "        if (k.asInstanceOf[Char] < 'H') 0 else 1\n",
    "    }\n",
    "})\n",
    "\n",
    "val yOut = y.glom().collect()\n",
    "yOut"
   ]
  },
  {
   "cell_type": "markdown",
   "metadata": {},
   "source": [
    "## zip()"
   ]
  },
  {
   "cell_type": "code",
   "execution_count": 34,
   "metadata": {
    "ExecuteTime": {
     "end_time": "2017-02-07T13:43:27.895167",
     "start_time": "2017-02-07T18:43:27.526Z"
    },
    "collapsed": false
   },
   "outputs": [
    {
     "name": "stdout",
     "output_type": "stream",
     "text": [
      "(1,1), (2,4), (3,9)\n"
     ]
    }
   ],
   "source": [
    "val x = sc.parallelize(Array(1,2,3)) \n",
    "val y = x.map(n=>n*n)\n",
    "val z = x.zip(y)\n",
    "println(z.collect().mkString(\", \"))"
   ]
  },
  {
   "cell_type": "markdown",
   "metadata": {
    "heading_collapsed": true
   },
   "source": [
    "# RDD Actions"
   ]
  },
  {
   "cell_type": "markdown",
   "metadata": {
    "hidden": true
   },
   "source": [
    "## get number of partitions"
   ]
  },
  {
   "cell_type": "code",
   "execution_count": 36,
   "metadata": {
    "ExecuteTime": {
     "end_time": "2017-02-07T13:45:59.119646",
     "start_time": "2017-02-07T18:45:58.865Z"
    },
    "collapsed": false,
    "hidden": true
   },
   "outputs": [
    {
     "name": "stdout",
     "output_type": "stream",
     "text": [
      "2\n"
     ]
    }
   ],
   "source": [
    "val x = sc.parallelize(Array(1,2,3), 2)\n",
    "val y = x.partitions.size\n",
    "val xOut = x.glom().collect()\n",
    "println(y)"
   ]
  },
  {
   "cell_type": "markdown",
   "metadata": {
    "hidden": true
   },
   "source": [
    "## collect()"
   ]
  },
  {
   "cell_type": "code",
   "execution_count": 37,
   "metadata": {
    "ExecuteTime": {
     "end_time": "2017-02-07T13:48:04.414320",
     "start_time": "2017-02-07T18:48:04.113Z"
    },
    "collapsed": false,
    "hidden": true
   },
   "outputs": [
    {
     "name": "stdout",
     "output_type": "stream",
     "text": [
      "[I@5fa59152\n"
     ]
    }
   ],
   "source": [
    "val x = sc.parallelize(Array(1,2,3), 2)\n",
    "val y = x.collect()\n",
    "val xOut = x.glom().collect()\n",
    "println(y)"
   ]
  },
  {
   "cell_type": "markdown",
   "metadata": {
    "hidden": true
   },
   "source": [
    "## reduce()"
   ]
  },
  {
   "cell_type": "code",
   "execution_count": 40,
   "metadata": {
    "ExecuteTime": {
     "end_time": "2017-02-07T13:49:23.851489",
     "start_time": "2017-02-07T18:49:23.511Z"
    },
    "collapsed": false,
    "hidden": true
   },
   "outputs": [
    {
     "name": "stdout",
     "output_type": "stream",
     "text": [
      "1, 2, 3, 4\n",
      "10\n"
     ]
    }
   ],
   "source": [
    "val x = sc.parallelize(Array(1,2,3,4))\n",
    "val y = x.reduce((a,b) => a+b)\n",
    "println(x.collect.mkString(\", \"))\n",
    "println(y)"
   ]
  },
  {
   "cell_type": "markdown",
   "metadata": {
    "hidden": true
   },
   "source": [
    "## aggregate()"
   ]
  },
  {
   "cell_type": "code",
   "execution_count": 44,
   "metadata": {
    "ExecuteTime": {
     "end_time": "2017-02-07T13:52:42.151018",
     "start_time": "2017-02-07T18:52:41.818Z"
    },
    "collapsed": false,
    "hidden": true
   },
   "outputs": [],
   "source": [
    "def seqOp = (data:(Array[Int], Int), item:Int) =>\n",
    "    (data._1 :+ item, data._2 + item)\n",
    "def combOp = (d1:(Array[Int], Int), d2:(Array[Int], Int)) =>\n",
    "    (d1._1.union(d2._1), d1._2 + d2._2)\n",
    "    \n",
    "val x = sc.parallelize(Array(1,2,3,4))\n",
    "val y = x.aggregate((Array[Int](), 0))(seqOp, combOp)\n"
   ]
  },
  {
   "cell_type": "code",
   "execution_count": 45,
   "metadata": {
    "ExecuteTime": {
     "end_time": "2017-02-07T13:52:45.487775",
     "start_time": "2017-02-07T18:52:45.392Z"
    },
    "collapsed": false,
    "hidden": true
   },
   "outputs": [
    {
     "data": {
      "text/plain": [
       "(Array(3, 4, 1, 2),10)"
      ]
     },
     "execution_count": 45,
     "metadata": {},
     "output_type": "execute_result"
    }
   ],
   "source": [
    "y"
   ]
  },
  {
   "cell_type": "markdown",
   "metadata": {
    "hidden": true
   },
   "source": [
    "## max()"
   ]
  },
  {
   "cell_type": "code",
   "execution_count": 46,
   "metadata": {
    "ExecuteTime": {
     "end_time": "2017-02-07T13:54:12.391069",
     "start_time": "2017-02-07T18:54:12.062Z"
    },
    "collapsed": false,
    "hidden": true
   },
   "outputs": [
    {
     "name": "stdout",
     "output_type": "stream",
     "text": [
      "2, 4, 1\n",
      "4\n"
     ]
    }
   ],
   "source": [
    "val x = sc.parallelize(Array(2,4,1))\n",
    "val y = x.max\n",
    "println(x.collect().mkString(\", \"))\n",
    "println(y)"
   ]
  },
  {
   "cell_type": "markdown",
   "metadata": {
    "hidden": true
   },
   "source": [
    "## sum()"
   ]
  },
  {
   "cell_type": "code",
   "execution_count": 47,
   "metadata": {
    "ExecuteTime": {
     "end_time": "2017-02-07T13:57:04.185885",
     "start_time": "2017-02-07T18:57:03.801Z"
    },
    "collapsed": false,
    "hidden": true
   },
   "outputs": [
    {
     "name": "stdout",
     "output_type": "stream",
     "text": [
      "2, 4, 1\n",
      "7.0\n"
     ]
    }
   ],
   "source": [
    "val x = sc.parallelize(Array(2,4,1))\n",
    "val y = x.sum\n",
    "println(x.collect().mkString(\", \"))\n",
    "println(y)"
   ]
  },
  {
   "cell_type": "markdown",
   "metadata": {
    "hidden": true
   },
   "source": [
    "## mean()"
   ]
  },
  {
   "cell_type": "code",
   "execution_count": 48,
   "metadata": {
    "ExecuteTime": {
     "end_time": "2017-02-07T13:57:05.956567",
     "start_time": "2017-02-07T18:57:05.633Z"
    },
    "collapsed": false,
    "hidden": true
   },
   "outputs": [
    {
     "name": "stdout",
     "output_type": "stream",
     "text": [
      "2, 4, 1\n",
      "2.3333333333333335\n"
     ]
    }
   ],
   "source": [
    "val x = sc.parallelize(Array(2,4,1))\n",
    "val y = x.mean\n",
    "println(x.collect().mkString(\", \"))\n",
    "println(y)"
   ]
  },
  {
   "cell_type": "markdown",
   "metadata": {
    "hidden": true
   },
   "source": [
    "## stdev()"
   ]
  },
  {
   "cell_type": "code",
   "execution_count": 49,
   "metadata": {
    "ExecuteTime": {
     "end_time": "2017-02-07T13:58:25.490562",
     "start_time": "2017-02-07T18:58:25.183Z"
    },
    "collapsed": false,
    "hidden": true
   },
   "outputs": [
    {
     "name": "stdout",
     "output_type": "stream",
     "text": [
      "2, 4, 1\n",
      "1.247219128924647\n"
     ]
    }
   ],
   "source": [
    "val x = sc.parallelize(Array(2,4,1))\n",
    "val y = x.stdev\n",
    "println(x.collect().mkString(\", \"))\n",
    "println(y)"
   ]
  },
  {
   "cell_type": "markdown",
   "metadata": {
    "hidden": true
   },
   "source": [
    "## countByKey()"
   ]
  },
  {
   "cell_type": "code",
   "execution_count": 50,
   "metadata": {
    "ExecuteTime": {
     "end_time": "2017-02-07T13:59:53.603825",
     "start_time": "2017-02-07T18:59:53.268Z"
    },
    "collapsed": false,
    "hidden": true
   },
   "outputs": [
    {
     "name": "stdout",
     "output_type": "stream",
     "text": [
      "Map(A -> 1, F -> 1, J -> 2)\n"
     ]
    }
   ],
   "source": [
    "val x = sc.parallelize(Array(('J',\"James\"),('F',\"Fred\"), ('A',\"Anna\"),('J',\"John\")))\n",
    "val y = x.countByKey()\n",
    "println(y)"
   ]
  },
  {
   "cell_type": "markdown",
   "metadata": {
    "heading_collapsed": true
   },
   "source": [
    "# Saving RDD"
   ]
  },
  {
   "cell_type": "markdown",
   "metadata": {
    "hidden": true
   },
   "source": [
    "## saveAsTextFile()\n",
    "Make sure output file does not exist"
   ]
  },
  {
   "cell_type": "code",
   "execution_count": 53,
   "metadata": {
    "ExecuteTime": {
     "end_time": "2017-02-07T14:08:30.176640",
     "start_time": "2017-02-07T19:08:29.244Z"
    },
    "collapsed": false,
    "hidden": true
   },
   "outputs": [
    {
     "name": "stdout",
     "output_type": "stream",
     "text": [
      "2, 4, 1\n"
     ]
    }
   ],
   "source": [
    "val x = sc.parallelize(Array(2,4,1))\n",
    "x.saveAsTextFile(\"/user/pmolnar/demo\")\n",
    "val y = sc.textFile(\"/user/pmolnar/demo\")\n",
    "println(y.collect().mkString(\", \"))"
   ]
  },
  {
   "cell_type": "markdown",
   "metadata": {
    "hidden": true
   },
   "source": []
  },
  {
   "cell_type": "code",
   "execution_count": null,
   "metadata": {
    "collapsed": true,
    "hidden": true
   },
   "outputs": [],
   "source": []
  }
 ],
 "metadata": {
  "hide_input": false,
  "kernelspec": {
   "display_name": "Apache Toree - Scala",
   "language": "scala",
   "name": "apache_toree_scala"
  },
  "language_info": {
   "name": "scala",
   "version": "2.10.4"
  },
  "toc": {
   "nav_menu": {
    "height": "512px",
    "width": "252px"
   },
   "navigate_menu": true,
   "number_sections": true,
   "sideBar": true,
   "threshold": 4,
   "toc_cell": false,
   "toc_section_display": "block",
   "toc_window_display": false
  }
 },
 "nbformat": 4,
 "nbformat_minor": 0
}
