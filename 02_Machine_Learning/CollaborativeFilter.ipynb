{
 "cells": [
  {
   "cell_type": "markdown",
   "metadata": {},
   "source": [
    "# Collaborative Filtering\n",
    "\n",
    "Use users' review ratings to define similarity between restaurants by creating a factorized utility matrix, using ALS. The resulting item matrix represents each restaurant as $k$-dimensional vector, from which the similariy matrix is defined. "
   ]
  },
  {
   "cell_type": "markdown",
   "metadata": {},
   "source": [
    "Steps\n",
    "1. load data from leads, create pairs of user (Email) and property (ListingID), remove duplicates, and invalid emails\n",
    "2. create indexers for emails, and listing ids ... keep to match back\n",
    "3. run ALS for given $k$\n",
    "4. compute similarity matrix $S_{i,j}$\n",
    "5. find $p$ closest (i.e. most similar) properties, produce list.\n"
   ]
  },
  {
   "cell_type": "markdown",
   "metadata": {},
   "source": [
    "\n",
    "## Code Preperation\n"
   ]
  },
  {
   "cell_type": "code",
   "execution_count": 10,
   "metadata": {
    "ExecuteTime": {
     "end_time": "2017-02-17T11:08:24.375012",
     "start_time": "2017-02-17T11:08:24.371686"
    },
    "collapsed": true,
    "init_cell": true
   },
   "outputs": [],
   "source": [
    "import sys\n",
    "import os\n",
    "import pandas as pd\n",
    "import numpy as np"
   ]
  },
  {
   "cell_type": "code",
   "execution_count": 9,
   "metadata": {
    "ExecuteTime": {
     "end_time": "2017-02-17T11:07:49.814245",
     "start_time": "2017-02-17T11:07:49.787352"
    },
    "collapsed": false,
    "init_cell": false,
    "scrolled": false
   },
   "outputs": [
    {
     "name": "stdout",
     "output_type": "stream",
     "text": [
      "Already running\n",
      "          ____              __\n",
      "         / __/__  ___ _____/ /__\n",
      "        _\\ \\/ _ \\/ _ `/ __/  '_/\n",
      "       /__ / .__/\\_,_/_/ /_/\\_\\   version 1.6.1\n",
      "          /_/\n",
      "    \n",
      "Spark Context available as `sc`\n",
      "Spark SQL Context (<class 'pyspark.sql.context.HiveContext'>) available as `sqlCtx`\n",
      "Monitor this application at http://arc.insight.gsu.edu:8088/proxy/application_1484597252711_0274\n"
     ]
    }
   ],
   "source": [
    "# %load pyspark_init.py\n",
    "\"\"\"\n",
    "Load packages and create context objects...\n",
    "\"\"\"\n",
    "import os\n",
    "import platform\n",
    "import sys\n",
    "if not 'sc' in globals(): ### vars():\n",
    "    sys.path.append('/usr/hdp/2.4.2.0-258/spark/python')\n",
    "    os.environ[\"SPARK_HOME\"] = '/usr/hdp/2.4.2.0-258/spark'\n",
    "    os.environ['PYSPARK_SUBMIT_ARGS'] = '--packages com.databricks:spark-csv_2.11:1.2.0 pyspark-shell'\n",
    "    import py4j\n",
    "    import pyspark\n",
    "    from pyspark.context import SparkContext, SparkConf\n",
    "    from pyspark.sql import SQLContext, HiveContext\n",
    "    from pyspark.storagelevel import StorageLevel\n",
    "    sc = SparkContext()\n",
    "    import atexit\n",
    "    atexit.register(lambda: sc.stop())\n",
    "    print(\"\"\"Welcome to\n",
    "          ____              __\n",
    "         / __/__  ___ _____/ /__\n",
    "        _\\ \\/ _ \\/ _ `/ __/  '_/\n",
    "       /__ / .__/\\_,_/_/ /_/\\_\\   version %s\n",
    "          /_/\n",
    "    \"\"\" % sc.version)\n",
    "else:\n",
    "    print(\"\"\"Already running\n",
    "          ____              __\n",
    "         / __/__  ___ _____/ /__\n",
    "        _\\ \\/ _ \\/ _ `/ __/  '_/\n",
    "       /__ / .__/\\_,_/_/ /_/\\_\\   version %s\n",
    "          /_/\n",
    "    \"\"\" % sc.version)\n",
    "\n",
    "if not 'sqlCtx' in globals(): ## vars():\n",
    "    sqlCtx = SQLContext(sc)\n",
    "print 'Spark Context available as `sc`'\n",
    "print 'Spark SQL Context (%s) available as `sqlCtx`'%str(type(sqlCtx))\n",
    "print \"Monitor this application at http://arc.insight.gsu.edu:8088/proxy/\"+sc.applicationId\n",
    "\n"
   ]
  },
  {
   "cell_type": "markdown",
   "metadata": {},
   "source": [
    "###  Functions"
   ]
  },
  {
   "cell_type": "code",
   "execution_count": null,
   "metadata": {
    "ExecuteTime": {
     "start_time": "2016-11-17T19:55:58.837Z"
    },
    "collapsed": false
   },
   "outputs": [],
   "source": [
    "cbsa_df.to_json(jp(DATADIR, 'cbsa_table.json'))\n"
   ]
  },
  {
   "cell_type": "markdown",
   "metadata": {},
   "source": [
    "Top 10 CBSAs by number of properties."
   ]
  },
  {
   "cell_type": "code",
   "execution_count": 9,
   "metadata": {
    "ExecuteTime": {
     "end_time": "2016-11-17T12:14:09.291996",
     "start_time": "2016-11-17T12:14:09.286187"
    },
    "collapsed": true
   },
   "outputs": [],
   "source": [
    "\n",
    "#from ipywidgets import interactive, interact"
   ]
  },
  {
   "cell_type": "code",
   "execution_count": null,
   "metadata": {
    "ExecuteTime": {
     "end_time": "2017-02-17T11:04:50.812089",
     "start_time": "2017-02-17T16:04:50.605Z"
    },
    "collapsed": false,
    "init_cell": true
   },
   "outputs": [],
   "source": [
    "#@interact\n",
    "#def get_leads(CBSA_loc=cbsa_selection):\n",
    "#    global CBSA, CBSA_title\n",
    "#    CBSA=CBSA_loc\n",
    "#    #CBSA_title = cbsa_df[cbsa_df.CBSAcode==CBSA_loc].NAME[0]\n",
    "#    #print(CBSA_title)"
   ]
  },
  {
   "cell_type": "markdown",
   "metadata": {
    "variables": {
     "CBSA_title": {}
    }
   },
   "source": [
    "## Data \n",
    "Get Yelp Reviews"
   ]
  },
  {
   "cell_type": "code",
   "execution_count": 11,
   "metadata": {
    "ExecuteTime": {
     "end_time": "2017-02-17T11:11:01.046551",
     "start_time": "2017-02-17T11:10:50.481416"
    },
    "collapsed": false,
    "init_cell": false
   },
   "outputs": [],
   "source": [
    "review_df = sqlCtx.read.json('/user/pmolnar/yelp/data/review')"
   ]
  },
  {
   "cell_type": "code",
   "execution_count": 12,
   "metadata": {
    "ExecuteTime": {
     "end_time": "2017-02-17T11:11:53.406289",
     "start_time": "2017-02-17T11:11:53.394384"
    },
    "collapsed": false
   },
   "outputs": [
    {
     "name": "stdout",
     "output_type": "stream",
     "text": [
      "root\n",
      " |-- business_id: string (nullable = true)\n",
      " |-- date: string (nullable = true)\n",
      " |-- review_id: string (nullable = true)\n",
      " |-- stars: long (nullable = true)\n",
      " |-- text: string (nullable = true)\n",
      " |-- type: string (nullable = true)\n",
      " |-- user_id: string (nullable = true)\n",
      " |-- votes: struct (nullable = true)\n",
      " |    |-- cool: long (nullable = true)\n",
      " |    |-- funny: long (nullable = true)\n",
      " |    |-- useful: long (nullable = true)\n",
      "\n"
     ]
    }
   ],
   "source": [
    "review_df.printSchema()"
   ]
  },
  {
   "cell_type": "markdown",
   "metadata": {},
   "source": [
    "We interested in `business_id` as our item, `user_id` as user, and `stars` for the ratings"
   ]
  },
  {
   "cell_type": "code",
   "execution_count": 13,
   "metadata": {
    "ExecuteTime": {
     "end_time": "2017-02-17T11:14:37.477284",
     "start_time": "2017-02-17T11:14:26.305043"
    },
    "collapsed": false,
    "scrolled": true
   },
   "outputs": [
    {
     "data": {
      "text/plain": [
       "[Row(user_id=u'T3OqI85mcQe8cBT0nEffsw', business_id=u'TRLMm_deLvlPNmGNqRxcow', count=1),\n",
       " Row(user_id=u'EeOBT-RohoF3yWAG36dTDw', business_id=u'TRLMm_deLvlPNmGNqRxcow', count=1),\n",
       " Row(user_id=u'Rma9IWA8ZWqxU0OWURBSSA', business_id=u'vvPzcOhbQn5fLQUAIxcP6A', count=1),\n",
       " Row(user_id=u'99GvIpyZocAgXJzYcRyrzQ', business_id=u'cjD2yGRhT5yaSj_KP55Ptw', count=1),\n",
       " Row(user_id=u'gcNwo1fHiVzzN9LfNZAl0g', business_id=u'cjD2yGRhT5yaSj_KP55Ptw', count=1),\n",
       " Row(user_id=u'OfIxjYLy81RjIaFTkBEPjA', business_id=u'd3ni6cKglu4L3JeveOqQDQ', count=1),\n",
       " Row(user_id=u'l3qwLaCRoGlZNwyjG970Aw', business_id=u'd3ni6cKglu4L3JeveOqQDQ', count=1),\n",
       " Row(user_id=u'UzGXrITqog05M-mb_9DnxA', business_id=u'uUj-mziX-qv0e1k0jkpI7g', count=1),\n",
       " Row(user_id=u'heE73sRnRL8vf5_Vz6p8nQ', business_id=u'QnnssZJOLZquRp0hqeK1dA', count=1),\n",
       " Row(user_id=u'2kJIyFyhsvYL3V75hFkF7g', business_id=u'oQOo1rebP4bieLEEoVHbQg', count=1)]"
      ]
     },
     "execution_count": 13,
     "metadata": {},
     "output_type": "execute_result"
    }
   ],
   "source": [
    "res = review_df.groupBy(['user_id', 'business_id']).count()\n",
    "res.take(10)"
   ]
  },
  {
   "cell_type": "code",
   "execution_count": 14,
   "metadata": {
    "ExecuteTime": {
     "end_time": "2017-02-17T11:15:28.713779",
     "start_time": "2017-02-17T11:15:18.025242"
    },
    "collapsed": false,
    "scrolled": true
   },
   "outputs": [
    {
     "data": {
      "text/plain": [
       "2439535"
      ]
     },
     "execution_count": 14,
     "metadata": {},
     "output_type": "execute_result"
    }
   ],
   "source": [
    "number_of_pairs = res.count()\n",
    "number_of_pairs"
   ]
  },
  {
   "cell_type": "code",
   "execution_count": 16,
   "metadata": {
    "ExecuteTime": {
     "end_time": "2017-02-17T11:15:53.419087",
     "start_time": "2017-02-17T11:15:53.411330"
    },
    "collapsed": false
   },
   "outputs": [
    {
     "name": "stdout",
     "output_type": "stream",
     "text": [
      "== Physical Plan ==\n",
      "TungstenAggregate(key=[user_id#6,business_id#0], functions=[(count(1),mode=Final,isDistinct=false)], output=[user_id#6,business_id#0,count#8L])\n",
      "+- TungstenExchange hashpartitioning(user_id#6,business_id#0,200), None\n",
      "   +- TungstenAggregate(key=[user_id#6,business_id#0], functions=[(count(1),mode=Partial,isDistinct=false)], output=[user_id#6,business_id#0,count#11L])\n",
      "      +- Scan JSONRelation[user_id#6,business_id#0] InputPaths: hdfs://backend-0-2.insight.gsu.edu:8020/user/pmolnar/yelp/data/review\n",
      "None\n"
     ]
    }
   ],
   "source": [
    "print res.explain()"
   ]
  },
  {
   "cell_type": "code",
   "execution_count": 17,
   "metadata": {
    "ExecuteTime": {
     "end_time": "2017-02-17T11:16:47.112492",
     "start_time": "2017-02-17T11:16:47.107688"
    },
    "collapsed": false,
    "variables": {
     "number_of_pairs": {}
    }
   },
   "outputs": [
    {
     "name": "stdout",
     "output_type": "stream",
     "text": [
      "We have 2439535 ratings.\n"
     ]
    }
   ],
   "source": [
    "print \"We have %d ratings.\"%(number_of_pairs)"
   ]
  },
  {
   "cell_type": "code",
   "execution_count": 18,
   "metadata": {
    "ExecuteTime": {
     "end_time": "2017-02-17T11:18:50.786669",
     "start_time": "2017-02-17T11:18:21.430390"
    },
    "collapsed": true
   },
   "outputs": [],
   "source": [
    "import pyspark.sql.functions as F\n",
    "import pyspark.ml.feature as MLftr\n",
    "\n",
    "uidIndexer = MLftr.StringIndexer(inputCol='user_id', outputCol='user_idx', handleInvalid='skip').fit(res)\n",
    "bidIndexer = MLftr.StringIndexer(inputCol='business_id', outputCol='business_idx', handleInvalid='skip').fit(res)"
   ]
  },
  {
   "cell_type": "code",
   "execution_count": 26,
   "metadata": {
    "collapsed": false
   },
   "outputs": [],
   "source": [
    "##uidIndexer.save('uidIndexer.dat')\n",
    "##bidIndexer.save('bidndexer.dat')"
   ]
  },
  {
   "cell_type": "markdown",
   "metadata": {
    "collapsed": true
   },
   "source": [
    "Now we need use the indexers to relabel our records"
   ]
  },
  {
   "cell_type": "code",
   "execution_count": 19,
   "metadata": {
    "ExecuteTime": {
     "end_time": "2017-02-17T11:22:13.380861",
     "start_time": "2017-02-17T11:21:43.046394"
    },
    "collapsed": true
   },
   "outputs": [],
   "source": [
    "res2 = uidIndexer.transform(res)\n",
    "res3 = bidIndexer.transform(res2)"
   ]
  },
  {
   "cell_type": "code",
   "execution_count": 20,
   "metadata": {
    "ExecuteTime": {
     "end_time": "2017-02-17T11:22:51.393191",
     "start_time": "2017-02-17T11:22:51.385629"
    },
    "collapsed": false
   },
   "outputs": [
    {
     "name": "stdout",
     "output_type": "stream",
     "text": [
      "root\n",
      " |-- user_id: string (nullable = true)\n",
      " |-- business_id: string (nullable = true)\n",
      " |-- count: long (nullable = false)\n",
      " |-- user_idx: double (nullable = true)\n",
      " |-- business_idx: double (nullable = true)\n",
      "\n"
     ]
    }
   ],
   "source": [
    "res3.printSchemaSchema()"
   ]
  },
  {
   "cell_type": "code",
   "execution_count": 23,
   "metadata": {
    "ExecuteTime": {
     "end_time": "2017-02-17T11:24:57.406595",
     "start_time": "2017-02-17T11:24:54.529762"
    },
    "collapsed": false
   },
   "outputs": [],
   "source": [
    "indexedRatings = res3.withColumn('rating', res3['count'].cast('float')) \\\n",
    "    .withColumn('user', res3.user_idx.cast('integer')) \\\n",
    "    .withColumn('item', res3.business_idx.cast('integer'))"
   ]
  },
  {
   "cell_type": "code",
   "execution_count": 24,
   "metadata": {
    "ExecuteTime": {
     "end_time": "2017-02-17T11:25:21.327073",
     "start_time": "2017-02-17T11:25:21.321876"
    },
    "collapsed": false
   },
   "outputs": [
    {
     "name": "stdout",
     "output_type": "stream",
     "text": [
      "root\n",
      " |-- user_id: string (nullable = true)\n",
      " |-- business_id: string (nullable = true)\n",
      " |-- count: long (nullable = false)\n",
      " |-- user_idx: double (nullable = true)\n",
      " |-- business_idx: double (nullable = true)\n",
      " |-- rating: float (nullable = false)\n",
      " |-- user: integer (nullable = true)\n",
      " |-- item: integer (nullable = true)\n",
      "\n"
     ]
    }
   ],
   "source": [
    "indexedRatings.printSchemaintSchema()"
   ]
  },
  {
   "cell_type": "code",
   "execution_count": 35,
   "metadata": {
    "ExecuteTime": {
     "end_time": "2016-11-17T12:25:58.592396",
     "start_time": "2016-11-17T12:25:54.897101"
    },
    "collapsed": false,
    "scrolled": false
   },
   "outputs": [
    {
     "data": {
      "text/plain": [
       "61450"
      ]
     },
     "execution_count": 35,
     "metadata": {},
     "output_type": "execute_result"
    }
   ],
   "source": [
    "num_leads = indexedleads.count()\n",
    "num_leads"
   ]
  },
  {
   "cell_type": "code",
   "execution_count": 42,
   "metadata": {
    "ExecuteTime": {
     "end_time": "2016-11-17T12:29:26.640843",
     "start_time": "2016-11-17T12:29:26.584909"
    },
    "collapsed": false
   },
   "outputs": [],
   "source": [
    "listings_table = indexedleads.select('ListingId', 'PropertyIndex', 'item').groupBy('ListingId', 'PropertyIndex', 'item').count()"
   ]
  },
  {
   "cell_type": "code",
   "execution_count": 21,
   "metadata": {
    "collapsed": false
   },
   "outputs": [
    {
     "data": {
      "text/plain": [
       "[Row(max(count)=26, min(count)=1)]"
      ]
     },
     "execution_count": 21,
     "metadata": {},
     "output_type": "execute_result"
    }
   ],
   "source": [
    "indexedleads.agg(F.max('count'), F.min('count')).collect()"
   ]
  },
  {
   "cell_type": "code",
   "execution_count": 31,
   "metadata": {
    "collapsed": false
   },
   "outputs": [],
   "source": [
    "freq_user_leads = indexedleads.groupBy('count').count().toPandas()\n",
    "freq_user_leads.columns = ['cnt', 'freq']"
   ]
  },
  {
   "cell_type": "code",
   "execution_count": 92,
   "metadata": {
    "collapsed": false
   },
   "outputs": [
    {
     "data": {
      "text/plain": [
       "<matplotlib.text.Text at 0x6c08c50>"
      ]
     },
     "execution_count": 92,
     "metadata": {},
     "output_type": "execute_result"
    },
    {
     "data": {
      "image/svg+xml": [
       "<?xml version=\"1.0\" encoding=\"utf-8\" standalone=\"no\"?>\n",
       "<!DOCTYPE svg PUBLIC \"-//W3C//DTD SVG 1.1//EN\"\n",
       "  \"http://www.w3.org/Graphics/SVG/1.1/DTD/svg11.dtd\">\n",
       "<!-- Created with matplotlib (http://matplotlib.org/) -->\n",
       "<svg height=\"267pt\" version=\"1.1\" viewBox=\"0 0 377 267\" width=\"377pt\" xmlns=\"http://www.w3.org/2000/svg\" xmlns:xlink=\"http://www.w3.org/1999/xlink\">\n",
       " <defs>\n",
       "  <style type=\"text/css\">\n",
       "*{stroke-linecap:square;stroke-linejoin:round;}\n",
       "  </style>\n",
       " </defs>\n",
       " <g id=\"figure_1\">\n",
       "  <g id=\"patch_1\">\n",
       "   <path d=\"\n",
       "M0 267.455\n",
       "L377.033 267.455\n",
       "L377.033 0\n",
       "L0 0\n",
       "z\n",
       "\" style=\"fill:none;opacity:0;\"/>\n",
       "  </g>\n",
       "  <g id=\"axes_1\">\n",
       "   <g id=\"patch_2\">\n",
       "    <path d=\"\n",
       "M29.5 235.95\n",
       "L364.3 235.95\n",
       "L364.3 12.75\n",
       "L29.5 12.75\n",
       "z\n",
       "\" style=\"fill:#ffffff;\"/>\n",
       "   </g>\n",
       "   <g id=\"patch_3\">\n",
       "    <path clip-path=\"url(#pe223e52da6)\" d=\"\n",
       "M196.9 17031.8\n",
       "L216.031 17031.8\n",
       "L216.031 202.355\n",
       "L196.9 202.355\n",
       "z\n",
       "\" style=\"fill:#0000ff;stroke:#000000;\"/>\n",
       "   </g>\n",
       "   <g id=\"patch_4\">\n",
       "    <path clip-path=\"url(#pe223e52da6)\" d=\"\n",
       "M172.986 17031.8\n",
       "L192.117 17031.8\n",
       "L192.117 209.327\n",
       "L172.986 209.327\n",
       "z\n",
       "\" style=\"fill:#0000ff;stroke:#000000;\"/>\n",
       "   </g>\n",
       "   <g id=\"patch_5\">\n",
       "    <path clip-path=\"url(#pe223e52da6)\" d=\"\n",
       "M244.729 17031.8\n",
       "L263.86 17031.8\n",
       "L263.86 235.95\n",
       "L244.729 235.95\n",
       "z\n",
       "\" style=\"fill:#0000ff;stroke:#000000;\"/>\n",
       "   </g>\n",
       "   <g id=\"patch_6\">\n",
       "    <path clip-path=\"url(#pe223e52da6)\" d=\"\n",
       "M149.071 17031.8\n",
       "L168.203 17031.8\n",
       "L168.203 192.529\n",
       "L149.071 192.529\n",
       "z\n",
       "\" style=\"fill:#0000ff;stroke:#000000;\"/>\n",
       "   </g>\n",
       "   <g id=\"patch_7\">\n",
       "    <path clip-path=\"url(#pe223e52da6)\" d=\"\n",
       "M53.4143 17031.8\n",
       "L72.5457 17031.8\n",
       "L72.5457 14.9451\n",
       "L53.4143 14.9451\n",
       "z\n",
       "\" style=\"fill:#0000ff;stroke:#000000;\"/>\n",
       "   </g>\n",
       "   <g id=\"patch_8\">\n",
       "    <path clip-path=\"url(#pe223e52da6)\" d=\"\n",
       "M101.243 17031.8\n",
       "L120.374 17031.8\n",
       "L120.374 156.08\n",
       "L101.243 156.08\n",
       "z\n",
       "\" style=\"fill:#0000ff;stroke:#000000;\"/>\n",
       "   </g>\n",
       "   <g id=\"patch_9\">\n",
       "    <path clip-path=\"url(#pe223e52da6)\" d=\"\n",
       "M316.471 17031.8\n",
       "L335.603 17031.8\n",
       "L335.603 209.327\n",
       "L316.471 209.327\n",
       "z\n",
       "\" style=\"fill:#0000ff;stroke:#000000;\"/>\n",
       "   </g>\n",
       "   <g id=\"patch_10\">\n",
       "    <path clip-path=\"url(#pe223e52da6)\" d=\"\n",
       "M77.3286 17031.8\n",
       "L96.46 17031.8\n",
       "L96.46 101.57\n",
       "L77.3286 101.57\n",
       "z\n",
       "\" style=\"fill:#0000ff;stroke:#000000;\"/>\n",
       "   </g>\n",
       "   <g id=\"patch_11\">\n",
       "    <path clip-path=\"url(#pe223e52da6)\" d=\"\n",
       "M125.157 17031.8\n",
       "L144.289 17031.8\n",
       "L144.289 192.529\n",
       "L125.157 192.529\n",
       "z\n",
       "\" style=\"fill:#0000ff;stroke:#000000;\"/>\n",
       "   </g>\n",
       "   <g id=\"patch_12\">\n",
       "    <path clip-path=\"url(#pe223e52da6)\" d=\"\n",
       "M340.386 17031.8\n",
       "L359.517 17031.8\n",
       "L359.517 235.95\n",
       "L340.386 235.95\n",
       "z\n",
       "\" style=\"fill:#0000ff;stroke:#000000;\"/>\n",
       "   </g>\n",
       "   <g id=\"matplotlib.axis_1\">\n",
       "    <g id=\"xtick_1\">\n",
       "     <g id=\"line2d_1\">\n",
       "      <defs>\n",
       "       <path d=\"\n",
       "M0 0\n",
       "L0 -4\" id=\"mcb557df647\" style=\"stroke:#000000;stroke-linecap:butt;stroke-width:0.5;\"/>\n",
       "      </defs>\n",
       "      <g>\n",
       "       <use style=\"stroke:#000000;stroke-linecap:butt;stroke-width:0.5;\" x=\"29.5\" xlink:href=\"#mcb557df647\" y=\"235.95\"/>\n",
       "      </g>\n",
       "     </g>\n",
       "     <g id=\"line2d_2\">\n",
       "      <defs>\n",
       "       <path d=\"\n",
       "M0 0\n",
       "L0 4\" id=\"mdad270ee8e\" style=\"stroke:#000000;stroke-linecap:butt;stroke-width:0.5;\"/>\n",
       "      </defs>\n",
       "      <g>\n",
       "       <use style=\"stroke:#000000;stroke-linecap:butt;stroke-width:0.5;\" x=\"29.5\" xlink:href=\"#mdad270ee8e\" y=\"12.75\"/>\n",
       "      </g>\n",
       "     </g>\n",
       "     <g id=\"text_1\">\n",
       "      <!-- 0 -->\n",
       "      <defs>\n",
       "       <path d=\"\n",
       "M31.7812 66.4062\n",
       "Q24.1719 66.4062 20.3281 58.9062\n",
       "Q16.5 51.4219 16.5 36.375\n",
       "Q16.5 21.3906 20.3281 13.8906\n",
       "Q24.1719 6.39062 31.7812 6.39062\n",
       "Q39.4531 6.39062 43.2812 13.8906\n",
       "Q47.125 21.3906 47.125 36.375\n",
       "Q47.125 51.4219 43.2812 58.9062\n",
       "Q39.4531 66.4062 31.7812 66.4062\n",
       "M31.7812 74.2188\n",
       "Q44.0469 74.2188 50.5156 64.5156\n",
       "Q56.9844 54.8281 56.9844 36.375\n",
       "Q56.9844 17.9688 50.5156 8.26562\n",
       "Q44.0469 -1.42188 31.7812 -1.42188\n",
       "Q19.5312 -1.42188 13.0625 8.26562\n",
       "Q6.59375 17.9688 6.59375 36.375\n",
       "Q6.59375 54.8281 13.0625 64.5156\n",
       "Q19.5312 74.2188 31.7812 74.2188\" id=\"DejaVuSans-30\"/>\n",
       "      </defs>\n",
       "      <g transform=\"translate(26.98046875 247.371875)scale(0.1 -0.1)\">\n",
       "       <use xlink:href=\"#DejaVuSans-30\"/>\n",
       "      </g>\n",
       "     </g>\n",
       "    </g>\n",
       "    <g id=\"xtick_2\">\n",
       "     <g id=\"line2d_3\">\n",
       "      <g>\n",
       "       <use style=\"stroke:#000000;stroke-linecap:butt;stroke-width:0.5;\" x=\"77.3285714286\" xlink:href=\"#mcb557df647\" y=\"235.95\"/>\n",
       "      </g>\n",
       "     </g>\n",
       "     <g id=\"line2d_4\">\n",
       "      <g>\n",
       "       <use style=\"stroke:#000000;stroke-linecap:butt;stroke-width:0.5;\" x=\"77.3285714286\" xlink:href=\"#mdad270ee8e\" y=\"12.75\"/>\n",
       "      </g>\n",
       "     </g>\n",
       "     <g id=\"text_2\">\n",
       "      <!-- 2 -->\n",
       "      <defs>\n",
       "       <path d=\"\n",
       "M19.1875 8.29688\n",
       "L53.6094 8.29688\n",
       "L53.6094 0\n",
       "L7.32812 0\n",
       "L7.32812 8.29688\n",
       "Q12.9375 14.1094 22.625 23.8906\n",
       "Q32.3281 33.6875 34.8125 36.5312\n",
       "Q39.5469 41.8438 41.4219 45.5312\n",
       "Q43.3125 49.2188 43.3125 52.7812\n",
       "Q43.3125 58.5938 39.2344 62.25\n",
       "Q35.1562 65.9219 28.6094 65.9219\n",
       "Q23.9688 65.9219 18.8125 64.3125\n",
       "Q13.6719 62.7031 7.8125 59.4219\n",
       "L7.8125 69.3906\n",
       "Q13.7656 71.7812 18.9375 73\n",
       "Q24.125 74.2188 28.4219 74.2188\n",
       "Q39.75 74.2188 46.4844 68.5469\n",
       "Q53.2188 62.8906 53.2188 53.4219\n",
       "Q53.2188 48.9219 51.5312 44.8906\n",
       "Q49.8594 40.875 45.4062 35.4062\n",
       "Q44.1875 33.9844 37.6406 27.2188\n",
       "Q31.1094 20.4531 19.1875 8.29688\" id=\"DejaVuSans-32\"/>\n",
       "      </defs>\n",
       "      <g transform=\"translate(75.0145089286 247.371875)scale(0.1 -0.1)\">\n",
       "       <use xlink:href=\"#DejaVuSans-32\"/>\n",
       "      </g>\n",
       "     </g>\n",
       "    </g>\n",
       "    <g id=\"xtick_3\">\n",
       "     <g id=\"line2d_5\">\n",
       "      <g>\n",
       "       <use style=\"stroke:#000000;stroke-linecap:butt;stroke-width:0.5;\" x=\"125.157142857\" xlink:href=\"#mcb557df647\" y=\"235.95\"/>\n",
       "      </g>\n",
       "     </g>\n",
       "     <g id=\"line2d_6\">\n",
       "      <g>\n",
       "       <use style=\"stroke:#000000;stroke-linecap:butt;stroke-width:0.5;\" x=\"125.157142857\" xlink:href=\"#mdad270ee8e\" y=\"12.75\"/>\n",
       "      </g>\n",
       "     </g>\n",
       "     <g id=\"text_3\">\n",
       "      <!-- 4 -->\n",
       "      <defs>\n",
       "       <path d=\"\n",
       "M37.7969 64.3125\n",
       "L12.8906 25.3906\n",
       "L37.7969 25.3906\n",
       "z\n",
       "\n",
       "M35.2031 72.9062\n",
       "L47.6094 72.9062\n",
       "L47.6094 25.3906\n",
       "L58.0156 25.3906\n",
       "L58.0156 17.1875\n",
       "L47.6094 17.1875\n",
       "L47.6094 0\n",
       "L37.7969 0\n",
       "L37.7969 17.1875\n",
       "L4.89062 17.1875\n",
       "L4.89062 26.7031\n",
       "z\n",
       "\" id=\"DejaVuSans-34\"/>\n",
       "      </defs>\n",
       "      <g transform=\"translate(122.500892857 247.240625)scale(0.1 -0.1)\">\n",
       "       <use xlink:href=\"#DejaVuSans-34\"/>\n",
       "      </g>\n",
       "     </g>\n",
       "    </g>\n",
       "    <g id=\"xtick_4\">\n",
       "     <g id=\"line2d_7\">\n",
       "      <g>\n",
       "       <use style=\"stroke:#000000;stroke-linecap:butt;stroke-width:0.5;\" x=\"172.985714286\" xlink:href=\"#mcb557df647\" y=\"235.95\"/>\n",
       "      </g>\n",
       "     </g>\n",
       "     <g id=\"line2d_8\">\n",
       "      <g>\n",
       "       <use style=\"stroke:#000000;stroke-linecap:butt;stroke-width:0.5;\" x=\"172.985714286\" xlink:href=\"#mdad270ee8e\" y=\"12.75\"/>\n",
       "      </g>\n",
       "     </g>\n",
       "     <g id=\"text_4\">\n",
       "      <!-- 6 -->\n",
       "      <defs>\n",
       "       <path d=\"\n",
       "M33.0156 40.375\n",
       "Q26.375 40.375 22.4844 35.8281\n",
       "Q18.6094 31.2969 18.6094 23.3906\n",
       "Q18.6094 15.5312 22.4844 10.9531\n",
       "Q26.375 6.39062 33.0156 6.39062\n",
       "Q39.6562 6.39062 43.5312 10.9531\n",
       "Q47.4062 15.5312 47.4062 23.3906\n",
       "Q47.4062 31.2969 43.5312 35.8281\n",
       "Q39.6562 40.375 33.0156 40.375\n",
       "M52.5938 71.2969\n",
       "L52.5938 62.3125\n",
       "Q48.875 64.0625 45.0938 64.9844\n",
       "Q41.3125 65.9219 37.5938 65.9219\n",
       "Q27.8281 65.9219 22.6719 59.3281\n",
       "Q17.5312 52.7344 16.7969 39.4062\n",
       "Q19.6719 43.6562 24.0156 45.9219\n",
       "Q28.375 48.1875 33.5938 48.1875\n",
       "Q44.5781 48.1875 50.9531 41.5156\n",
       "Q57.3281 34.8594 57.3281 23.3906\n",
       "Q57.3281 12.1562 50.6875 5.35938\n",
       "Q44.0469 -1.42188 33.0156 -1.42188\n",
       "Q20.3594 -1.42188 13.6719 8.26562\n",
       "Q6.98438 17.9688 6.98438 36.375\n",
       "Q6.98438 53.6562 15.1875 63.9375\n",
       "Q23.3906 74.2188 37.2031 74.2188\n",
       "Q40.9219 74.2188 44.7031 73.4844\n",
       "Q48.4844 72.75 52.5938 71.2969\" id=\"DejaVuSans-36\"/>\n",
       "      </defs>\n",
       "      <g transform=\"translate(170.468526786 247.371875)scale(0.1 -0.1)\">\n",
       "       <use xlink:href=\"#DejaVuSans-36\"/>\n",
       "      </g>\n",
       "     </g>\n",
       "    </g>\n",
       "    <g id=\"xtick_5\">\n",
       "     <g id=\"line2d_9\">\n",
       "      <g>\n",
       "       <use style=\"stroke:#000000;stroke-linecap:butt;stroke-width:0.5;\" x=\"220.814285714\" xlink:href=\"#mcb557df647\" y=\"235.95\"/>\n",
       "      </g>\n",
       "     </g>\n",
       "     <g id=\"line2d_10\">\n",
       "      <g>\n",
       "       <use style=\"stroke:#000000;stroke-linecap:butt;stroke-width:0.5;\" x=\"220.814285714\" xlink:href=\"#mdad270ee8e\" y=\"12.75\"/>\n",
       "      </g>\n",
       "     </g>\n",
       "     <g id=\"text_5\">\n",
       "      <!-- 8 -->\n",
       "      <defs>\n",
       "       <path d=\"\n",
       "M31.7812 34.625\n",
       "Q24.75 34.625 20.7188 30.8594\n",
       "Q16.7031 27.0938 16.7031 20.5156\n",
       "Q16.7031 13.9219 20.7188 10.1562\n",
       "Q24.75 6.39062 31.7812 6.39062\n",
       "Q38.8125 6.39062 42.8594 10.1719\n",
       "Q46.9219 13.9688 46.9219 20.5156\n",
       "Q46.9219 27.0938 42.8906 30.8594\n",
       "Q38.875 34.625 31.7812 34.625\n",
       "M21.9219 38.8125\n",
       "Q15.5781 40.375 12.0312 44.7188\n",
       "Q8.5 49.0781 8.5 55.3281\n",
       "Q8.5 64.0625 14.7188 69.1406\n",
       "Q20.9531 74.2188 31.7812 74.2188\n",
       "Q42.6719 74.2188 48.875 69.1406\n",
       "Q55.0781 64.0625 55.0781 55.3281\n",
       "Q55.0781 49.0781 51.5312 44.7188\n",
       "Q48 40.375 41.7031 38.8125\n",
       "Q48.8281 37.1562 52.7969 32.3125\n",
       "Q56.7812 27.4844 56.7812 20.5156\n",
       "Q56.7812 9.90625 50.3125 4.23438\n",
       "Q43.8438 -1.42188 31.7812 -1.42188\n",
       "Q19.7344 -1.42188 13.25 4.23438\n",
       "Q6.78125 9.90625 6.78125 20.5156\n",
       "Q6.78125 27.4844 10.7812 32.3125\n",
       "Q14.7969 37.1562 21.9219 38.8125\n",
       "M18.3125 54.3906\n",
       "Q18.3125 48.7344 21.8438 45.5625\n",
       "Q25.3906 42.3906 31.7812 42.3906\n",
       "Q38.1406 42.3906 41.7188 45.5625\n",
       "Q45.3125 48.7344 45.3125 54.3906\n",
       "Q45.3125 60.0625 41.7188 63.2344\n",
       "Q38.1406 66.4062 31.7812 66.4062\n",
       "Q25.3906 66.4062 21.8438 63.2344\n",
       "Q18.3125 60.0625 18.3125 54.3906\" id=\"DejaVuSans-38\"/>\n",
       "      </defs>\n",
       "      <g transform=\"translate(218.314285714 247.371875)scale(0.1 -0.1)\">\n",
       "       <use xlink:href=\"#DejaVuSans-38\"/>\n",
       "      </g>\n",
       "     </g>\n",
       "    </g>\n",
       "    <g id=\"xtick_6\">\n",
       "     <g id=\"line2d_11\">\n",
       "      <g>\n",
       "       <use style=\"stroke:#000000;stroke-linecap:butt;stroke-width:0.5;\" x=\"268.642857143\" xlink:href=\"#mcb557df647\" y=\"235.95\"/>\n",
       "      </g>\n",
       "     </g>\n",
       "     <g id=\"line2d_12\">\n",
       "      <g>\n",
       "       <use style=\"stroke:#000000;stroke-linecap:butt;stroke-width:0.5;\" x=\"268.642857143\" xlink:href=\"#mdad270ee8e\" y=\"12.75\"/>\n",
       "      </g>\n",
       "     </g>\n",
       "     <g id=\"text_6\">\n",
       "      <!-- 10 -->\n",
       "      <defs>\n",
       "       <path d=\"\n",
       "M12.4062 8.29688\n",
       "L28.5156 8.29688\n",
       "L28.5156 63.9219\n",
       "L10.9844 60.4062\n",
       "L10.9844 69.3906\n",
       "L28.4219 72.9062\n",
       "L38.2812 72.9062\n",
       "L38.2812 8.29688\n",
       "L54.3906 8.29688\n",
       "L54.3906 0\n",
       "L12.4062 0\n",
       "z\n",
       "\" id=\"DejaVuSans-31\"/>\n",
       "      </defs>\n",
       "      <g transform=\"translate(263.161607143 247.371875)scale(0.1 -0.1)\">\n",
       "       <use xlink:href=\"#DejaVuSans-31\"/>\n",
       "       <use x=\"63.623046875\" xlink:href=\"#DejaVuSans-30\"/>\n",
       "      </g>\n",
       "     </g>\n",
       "    </g>\n",
       "    <g id=\"xtick_7\">\n",
       "     <g id=\"line2d_13\">\n",
       "      <g>\n",
       "       <use style=\"stroke:#000000;stroke-linecap:butt;stroke-width:0.5;\" x=\"316.471428571\" xlink:href=\"#mcb557df647\" y=\"235.95\"/>\n",
       "      </g>\n",
       "     </g>\n",
       "     <g id=\"line2d_14\">\n",
       "      <g>\n",
       "       <use style=\"stroke:#000000;stroke-linecap:butt;stroke-width:0.5;\" x=\"316.471428571\" xlink:href=\"#mdad270ee8e\" y=\"12.75\"/>\n",
       "      </g>\n",
       "     </g>\n",
       "     <g id=\"text_7\">\n",
       "      <!-- 12 -->\n",
       "      <g transform=\"translate(311.158928571 247.371875)scale(0.1 -0.1)\">\n",
       "       <use xlink:href=\"#DejaVuSans-31\"/>\n",
       "       <use x=\"63.623046875\" xlink:href=\"#DejaVuSans-32\"/>\n",
       "      </g>\n",
       "     </g>\n",
       "    </g>\n",
       "    <g id=\"xtick_8\">\n",
       "     <g id=\"line2d_15\">\n",
       "      <g>\n",
       "       <use style=\"stroke:#000000;stroke-linecap:butt;stroke-width:0.5;\" x=\"364.3\" xlink:href=\"#mcb557df647\" y=\"235.95\"/>\n",
       "      </g>\n",
       "     </g>\n",
       "     <g id=\"line2d_16\">\n",
       "      <g>\n",
       "       <use style=\"stroke:#000000;stroke-linecap:butt;stroke-width:0.5;\" x=\"364.3\" xlink:href=\"#mdad270ee8e\" y=\"12.75\"/>\n",
       "      </g>\n",
       "     </g>\n",
       "     <g id=\"text_8\">\n",
       "      <!-- 14 -->\n",
       "      <g transform=\"translate(358.7671875 247.240625)scale(0.1 -0.1)\">\n",
       "       <use xlink:href=\"#DejaVuSans-31\"/>\n",
       "       <use x=\"63.623046875\" xlink:href=\"#DejaVuSans-34\"/>\n",
       "      </g>\n",
       "     </g>\n",
       "    </g>\n",
       "    <g id=\"text_9\">\n",
       "     <!-- Number of times a  -->\n",
       "     <defs>\n",
       "      <path d=\"\n",
       "M9.8125 72.9062\n",
       "L23.0938 72.9062\n",
       "L55.4219 11.9219\n",
       "L55.4219 72.9062\n",
       "L64.9844 72.9062\n",
       "L64.9844 0\n",
       "L51.7031 0\n",
       "L19.3906 60.9844\n",
       "L19.3906 0\n",
       "L9.8125 0\n",
       "z\n",
       "\" id=\"DejaVuSans-4e\"/>\n",
       "      <path d=\"\n",
       "M30.6094 48.3906\n",
       "Q23.3906 48.3906 19.1875 42.75\n",
       "Q14.9844 37.1094 14.9844 27.2969\n",
       "Q14.9844 17.4844 19.1562 11.8438\n",
       "Q23.3438 6.20312 30.6094 6.20312\n",
       "Q37.7969 6.20312 41.9844 11.8594\n",
       "Q46.1875 17.5312 46.1875 27.2969\n",
       "Q46.1875 37.0156 41.9844 42.7031\n",
       "Q37.7969 48.3906 30.6094 48.3906\n",
       "M30.6094 56\n",
       "Q42.3281 56 49.0156 48.375\n",
       "Q55.7188 40.7656 55.7188 27.2969\n",
       "Q55.7188 13.875 49.0156 6.21875\n",
       "Q42.3281 -1.42188 30.6094 -1.42188\n",
       "Q18.8438 -1.42188 12.1719 6.21875\n",
       "Q5.51562 13.875 5.51562 27.2969\n",
       "Q5.51562 40.7656 12.1719 48.375\n",
       "Q18.8438 56 30.6094 56\" id=\"DejaVuSans-6f\"/>\n",
       "      <path d=\"\n",
       "M52 44.1875\n",
       "Q55.375 50.25 60.0625 53.125\n",
       "Q64.75 56 71.0938 56\n",
       "Q79.6406 56 84.2812 50.0156\n",
       "Q88.9219 44.0469 88.9219 33.0156\n",
       "L88.9219 0\n",
       "L79.8906 0\n",
       "L79.8906 32.7188\n",
       "Q79.8906 40.5781 77.0938 44.375\n",
       "Q74.3125 48.1875 68.6094 48.1875\n",
       "Q61.625 48.1875 57.5625 43.5469\n",
       "Q53.5156 38.9219 53.5156 30.9062\n",
       "L53.5156 0\n",
       "L44.4844 0\n",
       "L44.4844 32.7188\n",
       "Q44.4844 40.625 41.7031 44.4062\n",
       "Q38.9219 48.1875 33.1094 48.1875\n",
       "Q26.2188 48.1875 22.1562 43.5312\n",
       "Q18.1094 38.875 18.1094 30.9062\n",
       "L18.1094 0\n",
       "L9.07812 0\n",
       "L9.07812 54.6875\n",
       "L18.1094 54.6875\n",
       "L18.1094 46.1875\n",
       "Q21.1875 51.2188 25.4844 53.6094\n",
       "Q29.7812 56 35.6875 56\n",
       "Q41.6562 56 45.8281 52.9688\n",
       "Q50 49.9531 52 44.1875\" id=\"DejaVuSans-6d\"/>\n",
       "      <path d=\"\n",
       "M34.2812 27.4844\n",
       "Q23.3906 27.4844 19.1875 25\n",
       "Q14.9844 22.5156 14.9844 16.5\n",
       "Q14.9844 11.7188 18.1406 8.90625\n",
       "Q21.2969 6.10938 26.7031 6.10938\n",
       "Q34.1875 6.10938 38.7031 11.4062\n",
       "Q43.2188 16.7031 43.2188 25.4844\n",
       "L43.2188 27.4844\n",
       "z\n",
       "\n",
       "M52.2031 31.2031\n",
       "L52.2031 0\n",
       "L43.2188 0\n",
       "L43.2188 8.29688\n",
       "Q40.1406 3.32812 35.5469 0.953125\n",
       "Q30.9531 -1.42188 24.3125 -1.42188\n",
       "Q15.9219 -1.42188 10.9531 3.29688\n",
       "Q6 8.01562 6 15.9219\n",
       "Q6 25.1406 12.1719 29.8281\n",
       "Q18.3594 34.5156 30.6094 34.5156\n",
       "L43.2188 34.5156\n",
       "L43.2188 35.4062\n",
       "Q43.2188 41.6094 39.1406 45\n",
       "Q35.0625 48.3906 27.6875 48.3906\n",
       "Q23 48.3906 18.5469 47.2656\n",
       "Q14.1094 46.1406 10.0156 43.8906\n",
       "L10.0156 52.2031\n",
       "Q14.9375 54.1094 19.5781 55.0469\n",
       "Q24.2188 56 28.6094 56\n",
       "Q40.4844 56 46.3438 49.8438\n",
       "Q52.2031 43.7031 52.2031 31.2031\" id=\"DejaVuSans-61\"/>\n",
       "      <path d=\"\n",
       "M37.1094 75.9844\n",
       "L37.1094 68.5\n",
       "L28.5156 68.5\n",
       "Q23.6875 68.5 21.7969 66.5469\n",
       "Q19.9219 64.5938 19.9219 59.5156\n",
       "L19.9219 54.6875\n",
       "L34.7188 54.6875\n",
       "L34.7188 47.7031\n",
       "L19.9219 47.7031\n",
       "L19.9219 0\n",
       "L10.8906 0\n",
       "L10.8906 47.7031\n",
       "L2.29688 47.7031\n",
       "L2.29688 54.6875\n",
       "L10.8906 54.6875\n",
       "L10.8906 58.5\n",
       "Q10.8906 67.625 15.1406 71.7969\n",
       "Q19.3906 75.9844 28.6094 75.9844\n",
       "z\n",
       "\" id=\"DejaVuSans-66\"/>\n",
       "      <path id=\"DejaVuSans-20\"/>\n",
       "      <path d=\"\n",
       "M9.42188 54.6875\n",
       "L18.4062 54.6875\n",
       "L18.4062 0\n",
       "L9.42188 0\n",
       "z\n",
       "\n",
       "M9.42188 75.9844\n",
       "L18.4062 75.9844\n",
       "L18.4062 64.5938\n",
       "L9.42188 64.5938\n",
       "z\n",
       "\" id=\"DejaVuSans-69\"/>\n",
       "      <path d=\"\n",
       "M8.5 21.5781\n",
       "L8.5 54.6875\n",
       "L17.4844 54.6875\n",
       "L17.4844 21.9219\n",
       "Q17.4844 14.1562 20.5 10.2656\n",
       "Q23.5312 6.39062 29.5938 6.39062\n",
       "Q36.8594 6.39062 41.0781 11.0312\n",
       "Q45.3125 15.6719 45.3125 23.6875\n",
       "L45.3125 54.6875\n",
       "L54.2969 54.6875\n",
       "L54.2969 0\n",
       "L45.3125 0\n",
       "L45.3125 8.40625\n",
       "Q42.0469 3.42188 37.7188 1\n",
       "Q33.4062 -1.42188 27.6875 -1.42188\n",
       "Q18.2656 -1.42188 13.375 4.4375\n",
       "Q8.5 10.2969 8.5 21.5781\n",
       "M31.1094 56\n",
       "z\n",
       "\" id=\"DejaVuSans-75\"/>\n",
       "      <path d=\"\n",
       "M18.3125 70.2188\n",
       "L18.3125 54.6875\n",
       "L36.8125 54.6875\n",
       "L36.8125 47.7031\n",
       "L18.3125 47.7031\n",
       "L18.3125 18.0156\n",
       "Q18.3125 11.3281 20.1406 9.42188\n",
       "Q21.9688 7.51562 27.5938 7.51562\n",
       "L36.8125 7.51562\n",
       "L36.8125 0\n",
       "L27.5938 0\n",
       "Q17.1875 0 13.2344 3.875\n",
       "Q9.28125 7.76562 9.28125 18.0156\n",
       "L9.28125 47.7031\n",
       "L2.6875 47.7031\n",
       "L2.6875 54.6875\n",
       "L9.28125 54.6875\n",
       "L9.28125 70.2188\n",
       "z\n",
       "\" id=\"DejaVuSans-74\"/>\n",
       "      <path d=\"\n",
       "M56.2031 29.5938\n",
       "L56.2031 25.2031\n",
       "L14.8906 25.2031\n",
       "Q15.4844 15.9219 20.4844 11.0625\n",
       "Q25.4844 6.20312 34.4219 6.20312\n",
       "Q39.5938 6.20312 44.4531 7.46875\n",
       "Q49.3125 8.73438 54.1094 11.2812\n",
       "L54.1094 2.78125\n",
       "Q49.2656 0.734375 44.1875 -0.34375\n",
       "Q39.1094 -1.42188 33.8906 -1.42188\n",
       "Q20.7969 -1.42188 13.1562 6.1875\n",
       "Q5.51562 13.8125 5.51562 26.8125\n",
       "Q5.51562 40.2344 12.7656 48.1094\n",
       "Q20.0156 56 32.3281 56\n",
       "Q43.3594 56 49.7812 48.8906\n",
       "Q56.2031 41.7969 56.2031 29.5938\n",
       "M47.2188 32.2344\n",
       "Q47.125 39.5938 43.0938 43.9844\n",
       "Q39.0625 48.3906 32.4219 48.3906\n",
       "Q24.9062 48.3906 20.3906 44.1406\n",
       "Q15.875 39.8906 15.1875 32.1719\n",
       "z\n",
       "\" id=\"DejaVuSans-65\"/>\n",
       "      <path d=\"\n",
       "M48.6875 27.2969\n",
       "Q48.6875 37.2031 44.6094 42.8438\n",
       "Q40.5312 48.4844 33.4062 48.4844\n",
       "Q26.2656 48.4844 22.1875 42.8438\n",
       "Q18.1094 37.2031 18.1094 27.2969\n",
       "Q18.1094 17.3906 22.1875 11.75\n",
       "Q26.2656 6.10938 33.4062 6.10938\n",
       "Q40.5312 6.10938 44.6094 11.75\n",
       "Q48.6875 17.3906 48.6875 27.2969\n",
       "M18.1094 46.3906\n",
       "Q20.9531 51.2656 25.2656 53.625\n",
       "Q29.5938 56 35.5938 56\n",
       "Q45.5625 56 51.7812 48.0938\n",
       "Q58.0156 40.1875 58.0156 27.2969\n",
       "Q58.0156 14.4062 51.7812 6.48438\n",
       "Q45.5625 -1.42188 35.5938 -1.42188\n",
       "Q29.5938 -1.42188 25.2656 0.953125\n",
       "Q20.9531 3.32812 18.1094 8.20312\n",
       "L18.1094 0\n",
       "L9.07812 0\n",
       "L9.07812 75.9844\n",
       "L18.1094 75.9844\n",
       "z\n",
       "\" id=\"DejaVuSans-62\"/>\n",
       "      <path d=\"\n",
       "M44.2812 53.0781\n",
       "L44.2812 44.5781\n",
       "Q40.4844 46.5312 36.375 47.5\n",
       "Q32.2812 48.4844 27.875 48.4844\n",
       "Q21.1875 48.4844 17.8438 46.4375\n",
       "Q14.5 44.3906 14.5 40.2812\n",
       "Q14.5 37.1562 16.8906 35.375\n",
       "Q19.2812 33.5938 26.5156 31.9844\n",
       "L29.5938 31.2969\n",
       "Q39.1562 29.25 43.1875 25.5156\n",
       "Q47.2188 21.7812 47.2188 15.0938\n",
       "Q47.2188 7.46875 41.1875 3.01562\n",
       "Q35.1562 -1.42188 24.6094 -1.42188\n",
       "Q20.2188 -1.42188 15.4531 -0.5625\n",
       "Q10.6875 0.296875 5.42188 2\n",
       "L5.42188 11.2812\n",
       "Q10.4062 8.6875 15.2344 7.39062\n",
       "Q20.0625 6.10938 24.8125 6.10938\n",
       "Q31.1562 6.10938 34.5625 8.28125\n",
       "Q37.9844 10.4531 37.9844 14.4062\n",
       "Q37.9844 18.0625 35.5156 20.0156\n",
       "Q33.0625 21.9688 24.7031 23.7812\n",
       "L21.5781 24.5156\n",
       "Q13.2344 26.2656 9.51562 29.9062\n",
       "Q5.8125 33.5469 5.8125 39.8906\n",
       "Q5.8125 47.6094 11.2812 51.7969\n",
       "Q16.75 56 26.8125 56\n",
       "Q31.7812 56 36.1719 55.2656\n",
       "Q40.5781 54.5469 44.2812 53.0781\" id=\"DejaVuSans-73\"/>\n",
       "      <path d=\"\n",
       "M41.1094 46.2969\n",
       "Q39.5938 47.1719 37.8125 47.5781\n",
       "Q36.0312 48 33.8906 48\n",
       "Q26.2656 48 22.1875 43.0469\n",
       "Q18.1094 38.0938 18.1094 28.8125\n",
       "L18.1094 0\n",
       "L9.07812 0\n",
       "L9.07812 54.6875\n",
       "L18.1094 54.6875\n",
       "L18.1094 46.1875\n",
       "Q20.9531 51.1719 25.4844 53.5781\n",
       "Q30.0312 56 36.5312 56\n",
       "Q37.4531 56 38.5781 55.875\n",
       "Q39.7031 55.7656 41.0625 55.5156\n",
       "z\n",
       "\" id=\"DejaVuSans-72\"/>\n",
       "     </defs>\n",
       "     <g transform=\"translate(150.71640625 260.1125)scale(0.1 -0.1)\">\n",
       "      <use xlink:href=\"#DejaVuSans-4e\"/>\n",
       "      <use x=\"74.8046875\" xlink:href=\"#DejaVuSans-75\"/>\n",
       "      <use x=\"138.18359375\" xlink:href=\"#DejaVuSans-6d\"/>\n",
       "      <use x=\"235.595703125\" xlink:href=\"#DejaVuSans-62\"/>\n",
       "      <use x=\"299.072265625\" xlink:href=\"#DejaVuSans-65\"/>\n",
       "      <use x=\"360.595703125\" xlink:href=\"#DejaVuSans-72\"/>\n",
       "      <use x=\"401.708984375\" xlink:href=\"#DejaVuSans-20\"/>\n",
       "      <use x=\"433.49609375\" xlink:href=\"#DejaVuSans-6f\"/>\n",
       "      <use x=\"494.677734375\" xlink:href=\"#DejaVuSans-66\"/>\n",
       "      <use x=\"529.8828125\" xlink:href=\"#DejaVuSans-20\"/>\n",
       "      <use x=\"561.669921875\" xlink:href=\"#DejaVuSans-74\"/>\n",
       "      <use x=\"600.87890625\" xlink:href=\"#DejaVuSans-69\"/>\n",
       "      <use x=\"628.662109375\" xlink:href=\"#DejaVuSans-6d\"/>\n",
       "      <use x=\"726.07421875\" xlink:href=\"#DejaVuSans-65\"/>\n",
       "      <use x=\"787.59765625\" xlink:href=\"#DejaVuSans-73\"/>\n",
       "      <use x=\"839.697265625\" xlink:href=\"#DejaVuSans-20\"/>\n",
       "      <use x=\"871.484375\" xlink:href=\"#DejaVuSans-61\"/>\n",
       "      <use x=\"932.763671875\" xlink:href=\"#DejaVuSans-20\"/>\n",
       "     </g>\n",
       "    </g>\n",
       "   </g>\n",
       "   <g id=\"matplotlib.axis_2\">\n",
       "    <g id=\"ytick_1\">\n",
       "     <g id=\"line2d_17\">\n",
       "      <defs>\n",
       "       <path d=\"\n",
       "M0 0\n",
       "L4 0\" id=\"mc8fcea1516\" style=\"stroke:#000000;stroke-linecap:butt;stroke-width:0.5;\"/>\n",
       "      </defs>\n",
       "      <g>\n",
       "       <use style=\"stroke:#000000;stroke-linecap:butt;stroke-width:0.5;\" x=\"29.5\" xlink:href=\"#mc8fcea1516\" y=\"235.95\"/>\n",
       "      </g>\n",
       "     </g>\n",
       "     <g id=\"line2d_18\">\n",
       "      <defs>\n",
       "       <path d=\"\n",
       "M0 0\n",
       "L-4 0\" id=\"m0d5b0a6425\" style=\"stroke:#000000;stroke-linecap:butt;stroke-width:0.5;\"/>\n",
       "      </defs>\n",
       "      <g>\n",
       "       <use style=\"stroke:#000000;stroke-linecap:butt;stroke-width:0.5;\" x=\"364.3\" xlink:href=\"#m0d5b0a6425\" y=\"235.95\"/>\n",
       "      </g>\n",
       "     </g>\n",
       "     <g id=\"text_10\">\n",
       "      <!-- $\\mathdefault{10^{0}}$ -->\n",
       "      <g transform=\"translate(7.2 241.55)scale(0.1 -0.1)\">\n",
       "       <use transform=\"translate(0.0 2.234375)\" xlink:href=\"#DejaVuSans-31\"/>\n",
       "       <use transform=\"translate(63.623046875 2.234375)\" xlink:href=\"#DejaVuSans-30\"/>\n",
       "       <use transform=\"translate(127.24609375 60.046875)scale(0.7)\" xlink:href=\"#DejaVuSans-30\"/>\n",
       "      </g>\n",
       "     </g>\n",
       "    </g>\n",
       "    <g id=\"ytick_2\">\n",
       "     <g id=\"line2d_19\">\n",
       "      <g>\n",
       "       <use style=\"stroke:#000000;stroke-linecap:butt;stroke-width:0.5;\" x=\"29.5\" xlink:href=\"#mc8fcea1516\" y=\"180.15\"/>\n",
       "      </g>\n",
       "     </g>\n",
       "     <g id=\"line2d_20\">\n",
       "      <g>\n",
       "       <use style=\"stroke:#000000;stroke-linecap:butt;stroke-width:0.5;\" x=\"364.3\" xlink:href=\"#m0d5b0a6425\" y=\"180.15\"/>\n",
       "      </g>\n",
       "     </g>\n",
       "     <g id=\"text_11\">\n",
       "      <!-- $\\mathdefault{10^{1}}$ -->\n",
       "      <g transform=\"translate(7.2 185.7)scale(0.1 -0.1)\">\n",
       "       <use transform=\"translate(0.0 2.153125)\" xlink:href=\"#DejaVuSans-31\"/>\n",
       "       <use transform=\"translate(63.623046875 2.153125)\" xlink:href=\"#DejaVuSans-30\"/>\n",
       "       <use transform=\"translate(127.24609375 59.965625)scale(0.7)\" xlink:href=\"#DejaVuSans-31\"/>\n",
       "      </g>\n",
       "     </g>\n",
       "    </g>\n",
       "    <g id=\"ytick_3\">\n",
       "     <g id=\"line2d_21\">\n",
       "      <g>\n",
       "       <use style=\"stroke:#000000;stroke-linecap:butt;stroke-width:0.5;\" x=\"29.5\" xlink:href=\"#mc8fcea1516\" y=\"124.35\"/>\n",
       "      </g>\n",
       "     </g>\n",
       "     <g id=\"line2d_22\">\n",
       "      <g>\n",
       "       <use style=\"stroke:#000000;stroke-linecap:butt;stroke-width:0.5;\" x=\"364.3\" xlink:href=\"#m0d5b0a6425\" y=\"124.35\"/>\n",
       "      </g>\n",
       "     </g>\n",
       "     <g id=\"text_12\">\n",
       "      <!-- $\\mathdefault{10^{2}}$ -->\n",
       "      <g transform=\"translate(7.2 129.95)scale(0.1 -0.1)\">\n",
       "       <use transform=\"translate(0.0 2.234375)\" xlink:href=\"#DejaVuSans-31\"/>\n",
       "       <use transform=\"translate(63.623046875 2.234375)\" xlink:href=\"#DejaVuSans-30\"/>\n",
       "       <use transform=\"translate(127.24609375 60.046875)scale(0.7)\" xlink:href=\"#DejaVuSans-32\"/>\n",
       "      </g>\n",
       "     </g>\n",
       "    </g>\n",
       "    <g id=\"ytick_4\">\n",
       "     <g id=\"line2d_23\">\n",
       "      <g>\n",
       "       <use style=\"stroke:#000000;stroke-linecap:butt;stroke-width:0.5;\" x=\"29.5\" xlink:href=\"#mc8fcea1516\" y=\"68.55\"/>\n",
       "      </g>\n",
       "     </g>\n",
       "     <g id=\"line2d_24\">\n",
       "      <g>\n",
       "       <use style=\"stroke:#000000;stroke-linecap:butt;stroke-width:0.5;\" x=\"364.3\" xlink:href=\"#m0d5b0a6425\" y=\"68.55\"/>\n",
       "      </g>\n",
       "     </g>\n",
       "     <g id=\"text_13\">\n",
       "      <!-- $\\mathdefault{10^{3}}$ -->\n",
       "      <defs>\n",
       "       <path d=\"\n",
       "M40.5781 39.3125\n",
       "Q47.6562 37.7969 51.625 33\n",
       "Q55.6094 28.2188 55.6094 21.1875\n",
       "Q55.6094 10.4062 48.1875 4.48438\n",
       "Q40.7656 -1.42188 27.0938 -1.42188\n",
       "Q22.5156 -1.42188 17.6562 -0.515625\n",
       "Q12.7969 0.390625 7.625 2.20312\n",
       "L7.625 11.7188\n",
       "Q11.7188 9.32812 16.5938 8.10938\n",
       "Q21.4844 6.89062 26.8125 6.89062\n",
       "Q36.0781 6.89062 40.9375 10.5469\n",
       "Q45.7969 14.2031 45.7969 21.1875\n",
       "Q45.7969 27.6406 41.2812 31.2656\n",
       "Q36.7656 34.9062 28.7188 34.9062\n",
       "L20.2188 34.9062\n",
       "L20.2188 43.0156\n",
       "L29.1094 43.0156\n",
       "Q36.375 43.0156 40.2344 45.9219\n",
       "Q44.0938 48.8281 44.0938 54.2969\n",
       "Q44.0938 59.9062 40.1094 62.9062\n",
       "Q36.1406 65.9219 28.7188 65.9219\n",
       "Q24.6562 65.9219 20.0156 65.0312\n",
       "Q15.375 64.1562 9.8125 62.3125\n",
       "L9.8125 71.0938\n",
       "Q15.4375 72.6562 20.3438 73.4375\n",
       "Q25.25 74.2188 29.5938 74.2188\n",
       "Q40.8281 74.2188 47.3594 69.1094\n",
       "Q53.9062 64.0156 53.9062 55.3281\n",
       "Q53.9062 49.2656 50.4375 45.0938\n",
       "Q46.9688 40.9219 40.5781 39.3125\" id=\"DejaVuSans-33\"/>\n",
       "      </defs>\n",
       "      <g transform=\"translate(7.2 74.15)scale(0.1 -0.1)\">\n",
       "       <use transform=\"translate(0.0 2.234375)\" xlink:href=\"#DejaVuSans-31\"/>\n",
       "       <use transform=\"translate(63.623046875 2.234375)\" xlink:href=\"#DejaVuSans-30\"/>\n",
       "       <use transform=\"translate(127.24609375 60.046875)scale(0.7)\" xlink:href=\"#DejaVuSans-33\"/>\n",
       "      </g>\n",
       "     </g>\n",
       "    </g>\n",
       "    <g id=\"ytick_5\">\n",
       "     <g id=\"line2d_25\">\n",
       "      <g>\n",
       "       <use style=\"stroke:#000000;stroke-linecap:butt;stroke-width:0.5;\" x=\"29.5\" xlink:href=\"#mc8fcea1516\" y=\"12.75\"/>\n",
       "      </g>\n",
       "     </g>\n",
       "     <g id=\"line2d_26\">\n",
       "      <g>\n",
       "       <use style=\"stroke:#000000;stroke-linecap:butt;stroke-width:0.5;\" x=\"364.3\" xlink:href=\"#m0d5b0a6425\" y=\"12.75\"/>\n",
       "      </g>\n",
       "     </g>\n",
       "     <g id=\"text_14\">\n",
       "      <!-- $\\mathdefault{10^{4}}$ -->\n",
       "      <g transform=\"translate(7.2 18.3)scale(0.1 -0.1)\">\n",
       "       <use transform=\"translate(0.0 2.153125)\" xlink:href=\"#DejaVuSans-31\"/>\n",
       "       <use transform=\"translate(63.623046875 2.153125)\" xlink:href=\"#DejaVuSans-30\"/>\n",
       "       <use transform=\"translate(127.24609375 59.965625)scale(0.7)\" xlink:href=\"#DejaVuSans-34\"/>\n",
       "      </g>\n",
       "     </g>\n",
       "    </g>\n",
       "    <g id=\"ytick_6\">\n",
       "     <g id=\"line2d_27\">\n",
       "      <defs>\n",
       "       <path d=\"\n",
       "M0 0\n",
       "L2 0\" id=\"m57a2c8792a\" style=\"stroke:#000000;stroke-linecap:butt;stroke-width:0.5;\"/>\n",
       "      </defs>\n",
       "      <g>\n",
       "       <use style=\"stroke:#000000;stroke-linecap:butt;stroke-width:0.5;\" x=\"29.5\" xlink:href=\"#m57a2c8792a\" y=\"219.152526242\"/>\n",
       "      </g>\n",
       "     </g>\n",
       "     <g id=\"line2d_28\">\n",
       "      <defs>\n",
       "       <path d=\"\n",
       "M0 0\n",
       "L-2 0\" id=\"m46a939d668\" style=\"stroke:#000000;stroke-linecap:butt;stroke-width:0.5;\"/>\n",
       "      </defs>\n",
       "      <g>\n",
       "       <use style=\"stroke:#000000;stroke-linecap:butt;stroke-width:0.5;\" x=\"364.3\" xlink:href=\"#m46a939d668\" y=\"219.152526242\"/>\n",
       "      </g>\n",
       "     </g>\n",
       "    </g>\n",
       "    <g id=\"ytick_7\">\n",
       "     <g id=\"line2d_29\">\n",
       "      <g>\n",
       "       <use style=\"stroke:#000000;stroke-linecap:butt;stroke-width:0.5;\" x=\"29.5\" xlink:href=\"#m57a2c8792a\" y=\"209.326633987\"/>\n",
       "      </g>\n",
       "     </g>\n",
       "     <g id=\"line2d_30\">\n",
       "      <g>\n",
       "       <use style=\"stroke:#000000;stroke-linecap:butt;stroke-width:0.5;\" x=\"364.3\" xlink:href=\"#m46a939d668\" y=\"209.326633987\"/>\n",
       "      </g>\n",
       "     </g>\n",
       "    </g>\n",
       "    <g id=\"ytick_8\">\n",
       "     <g id=\"line2d_31\">\n",
       "      <g>\n",
       "       <use style=\"stroke:#000000;stroke-linecap:butt;stroke-width:0.5;\" x=\"29.5\" xlink:href=\"#m57a2c8792a\" y=\"202.355052484\"/>\n",
       "      </g>\n",
       "     </g>\n",
       "     <g id=\"line2d_32\">\n",
       "      <g>\n",
       "       <use style=\"stroke:#000000;stroke-linecap:butt;stroke-width:0.5;\" x=\"364.3\" xlink:href=\"#m46a939d668\" y=\"202.355052484\"/>\n",
       "      </g>\n",
       "     </g>\n",
       "    </g>\n",
       "    <g id=\"ytick_9\">\n",
       "     <g id=\"line2d_33\">\n",
       "      <g>\n",
       "       <use style=\"stroke:#000000;stroke-linecap:butt;stroke-width:0.5;\" x=\"29.5\" xlink:href=\"#m57a2c8792a\" y=\"196.947473758\"/>\n",
       "      </g>\n",
       "     </g>\n",
       "     <g id=\"line2d_34\">\n",
       "      <g>\n",
       "       <use style=\"stroke:#000000;stroke-linecap:butt;stroke-width:0.5;\" x=\"364.3\" xlink:href=\"#m46a939d668\" y=\"196.947473758\"/>\n",
       "      </g>\n",
       "     </g>\n",
       "    </g>\n",
       "    <g id=\"ytick_10\">\n",
       "     <g id=\"line2d_35\">\n",
       "      <g>\n",
       "       <use style=\"stroke:#000000;stroke-linecap:butt;stroke-width:0.5;\" x=\"29.5\" xlink:href=\"#m57a2c8792a\" y=\"192.529160229\"/>\n",
       "      </g>\n",
       "     </g>\n",
       "     <g id=\"line2d_36\">\n",
       "      <g>\n",
       "       <use style=\"stroke:#000000;stroke-linecap:butt;stroke-width:0.5;\" x=\"364.3\" xlink:href=\"#m46a939d668\" y=\"192.529160229\"/>\n",
       "      </g>\n",
       "     </g>\n",
       "    </g>\n",
       "    <g id=\"ytick_11\">\n",
       "     <g id=\"line2d_37\">\n",
       "      <g>\n",
       "       <use style=\"stroke:#000000;stroke-linecap:butt;stroke-width:0.5;\" x=\"29.5\" xlink:href=\"#m57a2c8792a\" y=\"188.793529367\"/>\n",
       "      </g>\n",
       "     </g>\n",
       "     <g id=\"line2d_38\">\n",
       "      <g>\n",
       "       <use style=\"stroke:#000000;stroke-linecap:butt;stroke-width:0.5;\" x=\"364.3\" xlink:href=\"#m46a939d668\" y=\"188.793529367\"/>\n",
       "      </g>\n",
       "     </g>\n",
       "    </g>\n",
       "    <g id=\"ytick_12\">\n",
       "     <g id=\"line2d_39\">\n",
       "      <g>\n",
       "       <use style=\"stroke:#000000;stroke-linecap:butt;stroke-width:0.5;\" x=\"29.5\" xlink:href=\"#m57a2c8792a\" y=\"185.557578726\"/>\n",
       "      </g>\n",
       "     </g>\n",
       "     <g id=\"line2d_40\">\n",
       "      <g>\n",
       "       <use style=\"stroke:#000000;stroke-linecap:butt;stroke-width:0.5;\" x=\"364.3\" xlink:href=\"#m46a939d668\" y=\"185.557578726\"/>\n",
       "      </g>\n",
       "     </g>\n",
       "    </g>\n",
       "    <g id=\"ytick_13\">\n",
       "     <g id=\"line2d_41\">\n",
       "      <g>\n",
       "       <use style=\"stroke:#000000;stroke-linecap:butt;stroke-width:0.5;\" x=\"29.5\" xlink:href=\"#m57a2c8792a\" y=\"182.703267973\"/>\n",
       "      </g>\n",
       "     </g>\n",
       "     <g id=\"line2d_42\">\n",
       "      <g>\n",
       "       <use style=\"stroke:#000000;stroke-linecap:butt;stroke-width:0.5;\" x=\"364.3\" xlink:href=\"#m46a939d668\" y=\"182.703267973\"/>\n",
       "      </g>\n",
       "     </g>\n",
       "    </g>\n",
       "    <g id=\"ytick_14\">\n",
       "     <g id=\"line2d_43\">\n",
       "      <g>\n",
       "       <use style=\"stroke:#000000;stroke-linecap:butt;stroke-width:0.5;\" x=\"29.5\" xlink:href=\"#m57a2c8792a\" y=\"163.352526242\"/>\n",
       "      </g>\n",
       "     </g>\n",
       "     <g id=\"line2d_44\">\n",
       "      <g>\n",
       "       <use style=\"stroke:#000000;stroke-linecap:butt;stroke-width:0.5;\" x=\"364.3\" xlink:href=\"#m46a939d668\" y=\"163.352526242\"/>\n",
       "      </g>\n",
       "     </g>\n",
       "    </g>\n",
       "    <g id=\"ytick_15\">\n",
       "     <g id=\"line2d_45\">\n",
       "      <g>\n",
       "       <use style=\"stroke:#000000;stroke-linecap:butt;stroke-width:0.5;\" x=\"29.5\" xlink:href=\"#m57a2c8792a\" y=\"153.526633987\"/>\n",
       "      </g>\n",
       "     </g>\n",
       "     <g id=\"line2d_46\">\n",
       "      <g>\n",
       "       <use style=\"stroke:#000000;stroke-linecap:butt;stroke-width:0.5;\" x=\"364.3\" xlink:href=\"#m46a939d668\" y=\"153.526633987\"/>\n",
       "      </g>\n",
       "     </g>\n",
       "    </g>\n",
       "    <g id=\"ytick_16\">\n",
       "     <g id=\"line2d_47\">\n",
       "      <g>\n",
       "       <use style=\"stroke:#000000;stroke-linecap:butt;stroke-width:0.5;\" x=\"29.5\" xlink:href=\"#m57a2c8792a\" y=\"146.555052484\"/>\n",
       "      </g>\n",
       "     </g>\n",
       "     <g id=\"line2d_48\">\n",
       "      <g>\n",
       "       <use style=\"stroke:#000000;stroke-linecap:butt;stroke-width:0.5;\" x=\"364.3\" xlink:href=\"#m46a939d668\" y=\"146.555052484\"/>\n",
       "      </g>\n",
       "     </g>\n",
       "    </g>\n",
       "    <g id=\"ytick_17\">\n",
       "     <g id=\"line2d_49\">\n",
       "      <g>\n",
       "       <use style=\"stroke:#000000;stroke-linecap:butt;stroke-width:0.5;\" x=\"29.5\" xlink:href=\"#m57a2c8792a\" y=\"141.147473758\"/>\n",
       "      </g>\n",
       "     </g>\n",
       "     <g id=\"line2d_50\">\n",
       "      <g>\n",
       "       <use style=\"stroke:#000000;stroke-linecap:butt;stroke-width:0.5;\" x=\"364.3\" xlink:href=\"#m46a939d668\" y=\"141.147473758\"/>\n",
       "      </g>\n",
       "     </g>\n",
       "    </g>\n",
       "    <g id=\"ytick_18\">\n",
       "     <g id=\"line2d_51\">\n",
       "      <g>\n",
       "       <use style=\"stroke:#000000;stroke-linecap:butt;stroke-width:0.5;\" x=\"29.5\" xlink:href=\"#m57a2c8792a\" y=\"136.729160229\"/>\n",
       "      </g>\n",
       "     </g>\n",
       "     <g id=\"line2d_52\">\n",
       "      <g>\n",
       "       <use style=\"stroke:#000000;stroke-linecap:butt;stroke-width:0.5;\" x=\"364.3\" xlink:href=\"#m46a939d668\" y=\"136.729160229\"/>\n",
       "      </g>\n",
       "     </g>\n",
       "    </g>\n",
       "    <g id=\"ytick_19\">\n",
       "     <g id=\"line2d_53\">\n",
       "      <g>\n",
       "       <use style=\"stroke:#000000;stroke-linecap:butt;stroke-width:0.5;\" x=\"29.5\" xlink:href=\"#m57a2c8792a\" y=\"132.993529367\"/>\n",
       "      </g>\n",
       "     </g>\n",
       "     <g id=\"line2d_54\">\n",
       "      <g>\n",
       "       <use style=\"stroke:#000000;stroke-linecap:butt;stroke-width:0.5;\" x=\"364.3\" xlink:href=\"#m46a939d668\" y=\"132.993529367\"/>\n",
       "      </g>\n",
       "     </g>\n",
       "    </g>\n",
       "    <g id=\"ytick_20\">\n",
       "     <g id=\"line2d_55\">\n",
       "      <g>\n",
       "       <use style=\"stroke:#000000;stroke-linecap:butt;stroke-width:0.5;\" x=\"29.5\" xlink:href=\"#m57a2c8792a\" y=\"129.757578726\"/>\n",
       "      </g>\n",
       "     </g>\n",
       "     <g id=\"line2d_56\">\n",
       "      <g>\n",
       "       <use style=\"stroke:#000000;stroke-linecap:butt;stroke-width:0.5;\" x=\"364.3\" xlink:href=\"#m46a939d668\" y=\"129.757578726\"/>\n",
       "      </g>\n",
       "     </g>\n",
       "    </g>\n",
       "    <g id=\"ytick_21\">\n",
       "     <g id=\"line2d_57\">\n",
       "      <g>\n",
       "       <use style=\"stroke:#000000;stroke-linecap:butt;stroke-width:0.5;\" x=\"29.5\" xlink:href=\"#m57a2c8792a\" y=\"126.903267973\"/>\n",
       "      </g>\n",
       "     </g>\n",
       "     <g id=\"line2d_58\">\n",
       "      <g>\n",
       "       <use style=\"stroke:#000000;stroke-linecap:butt;stroke-width:0.5;\" x=\"364.3\" xlink:href=\"#m46a939d668\" y=\"126.903267973\"/>\n",
       "      </g>\n",
       "     </g>\n",
       "    </g>\n",
       "    <g id=\"ytick_22\">\n",
       "     <g id=\"line2d_59\">\n",
       "      <g>\n",
       "       <use style=\"stroke:#000000;stroke-linecap:butt;stroke-width:0.5;\" x=\"29.5\" xlink:href=\"#m57a2c8792a\" y=\"107.552526242\"/>\n",
       "      </g>\n",
       "     </g>\n",
       "     <g id=\"line2d_60\">\n",
       "      <g>\n",
       "       <use style=\"stroke:#000000;stroke-linecap:butt;stroke-width:0.5;\" x=\"364.3\" xlink:href=\"#m46a939d668\" y=\"107.552526242\"/>\n",
       "      </g>\n",
       "     </g>\n",
       "    </g>\n",
       "    <g id=\"ytick_23\">\n",
       "     <g id=\"line2d_61\">\n",
       "      <g>\n",
       "       <use style=\"stroke:#000000;stroke-linecap:butt;stroke-width:0.5;\" x=\"29.5\" xlink:href=\"#m57a2c8792a\" y=\"97.7266339866\"/>\n",
       "      </g>\n",
       "     </g>\n",
       "     <g id=\"line2d_62\">\n",
       "      <g>\n",
       "       <use style=\"stroke:#000000;stroke-linecap:butt;stroke-width:0.5;\" x=\"364.3\" xlink:href=\"#m46a939d668\" y=\"97.7266339866\"/>\n",
       "      </g>\n",
       "     </g>\n",
       "    </g>\n",
       "    <g id=\"ytick_24\">\n",
       "     <g id=\"line2d_63\">\n",
       "      <g>\n",
       "       <use style=\"stroke:#000000;stroke-linecap:butt;stroke-width:0.5;\" x=\"29.5\" xlink:href=\"#m57a2c8792a\" y=\"90.7550524839\"/>\n",
       "      </g>\n",
       "     </g>\n",
       "     <g id=\"line2d_64\">\n",
       "      <g>\n",
       "       <use style=\"stroke:#000000;stroke-linecap:butt;stroke-width:0.5;\" x=\"364.3\" xlink:href=\"#m46a939d668\" y=\"90.7550524839\"/>\n",
       "      </g>\n",
       "     </g>\n",
       "    </g>\n",
       "    <g id=\"ytick_25\">\n",
       "     <g id=\"line2d_65\">\n",
       "      <g>\n",
       "       <use style=\"stroke:#000000;stroke-linecap:butt;stroke-width:0.5;\" x=\"29.5\" xlink:href=\"#m57a2c8792a\" y=\"85.3474737581\"/>\n",
       "      </g>\n",
       "     </g>\n",
       "     <g id=\"line2d_66\">\n",
       "      <g>\n",
       "       <use style=\"stroke:#000000;stroke-linecap:butt;stroke-width:0.5;\" x=\"364.3\" xlink:href=\"#m46a939d668\" y=\"85.3474737581\"/>\n",
       "      </g>\n",
       "     </g>\n",
       "    </g>\n",
       "    <g id=\"ytick_26\">\n",
       "     <g id=\"line2d_67\">\n",
       "      <g>\n",
       "       <use style=\"stroke:#000000;stroke-linecap:butt;stroke-width:0.5;\" x=\"29.5\" xlink:href=\"#m57a2c8792a\" y=\"80.9291602286\"/>\n",
       "      </g>\n",
       "     </g>\n",
       "     <g id=\"line2d_68\">\n",
       "      <g>\n",
       "       <use style=\"stroke:#000000;stroke-linecap:butt;stroke-width:0.5;\" x=\"364.3\" xlink:href=\"#m46a939d668\" y=\"80.9291602286\"/>\n",
       "      </g>\n",
       "     </g>\n",
       "    </g>\n",
       "    <g id=\"ytick_27\">\n",
       "     <g id=\"line2d_69\">\n",
       "      <g>\n",
       "       <use style=\"stroke:#000000;stroke-linecap:butt;stroke-width:0.5;\" x=\"29.5\" xlink:href=\"#m57a2c8792a\" y=\"77.1935293672\"/>\n",
       "      </g>\n",
       "     </g>\n",
       "     <g id=\"line2d_70\">\n",
       "      <g>\n",
       "       <use style=\"stroke:#000000;stroke-linecap:butt;stroke-width:0.5;\" x=\"364.3\" xlink:href=\"#m46a939d668\" y=\"77.1935293672\"/>\n",
       "      </g>\n",
       "     </g>\n",
       "    </g>\n",
       "    <g id=\"ytick_28\">\n",
       "     <g id=\"line2d_71\">\n",
       "      <g>\n",
       "       <use style=\"stroke:#000000;stroke-linecap:butt;stroke-width:0.5;\" x=\"29.5\" xlink:href=\"#m57a2c8792a\" y=\"73.9575787258\"/>\n",
       "      </g>\n",
       "     </g>\n",
       "     <g id=\"line2d_72\">\n",
       "      <g>\n",
       "       <use style=\"stroke:#000000;stroke-linecap:butt;stroke-width:0.5;\" x=\"364.3\" xlink:href=\"#m46a939d668\" y=\"73.9575787258\"/>\n",
       "      </g>\n",
       "     </g>\n",
       "    </g>\n",
       "    <g id=\"ytick_29\">\n",
       "     <g id=\"line2d_73\">\n",
       "      <g>\n",
       "       <use style=\"stroke:#000000;stroke-linecap:butt;stroke-width:0.5;\" x=\"29.5\" xlink:href=\"#m57a2c8792a\" y=\"71.1032679733\"/>\n",
       "      </g>\n",
       "     </g>\n",
       "     <g id=\"line2d_74\">\n",
       "      <g>\n",
       "       <use style=\"stroke:#000000;stroke-linecap:butt;stroke-width:0.5;\" x=\"364.3\" xlink:href=\"#m46a939d668\" y=\"71.1032679733\"/>\n",
       "      </g>\n",
       "     </g>\n",
       "    </g>\n",
       "    <g id=\"ytick_30\">\n",
       "     <g id=\"line2d_75\">\n",
       "      <g>\n",
       "       <use style=\"stroke:#000000;stroke-linecap:butt;stroke-width:0.5;\" x=\"29.5\" xlink:href=\"#m57a2c8792a\" y=\"51.7525262419\"/>\n",
       "      </g>\n",
       "     </g>\n",
       "     <g id=\"line2d_76\">\n",
       "      <g>\n",
       "       <use style=\"stroke:#000000;stroke-linecap:butt;stroke-width:0.5;\" x=\"364.3\" xlink:href=\"#m46a939d668\" y=\"51.7525262419\"/>\n",
       "      </g>\n",
       "     </g>\n",
       "    </g>\n",
       "    <g id=\"ytick_31\">\n",
       "     <g id=\"line2d_77\">\n",
       "      <g>\n",
       "       <use style=\"stroke:#000000;stroke-linecap:butt;stroke-width:0.5;\" x=\"29.5\" xlink:href=\"#m57a2c8792a\" y=\"41.9266339866\"/>\n",
       "      </g>\n",
       "     </g>\n",
       "     <g id=\"line2d_78\">\n",
       "      <g>\n",
       "       <use style=\"stroke:#000000;stroke-linecap:butt;stroke-width:0.5;\" x=\"364.3\" xlink:href=\"#m46a939d668\" y=\"41.9266339866\"/>\n",
       "      </g>\n",
       "     </g>\n",
       "    </g>\n",
       "    <g id=\"ytick_32\">\n",
       "     <g id=\"line2d_79\">\n",
       "      <g>\n",
       "       <use style=\"stroke:#000000;stroke-linecap:butt;stroke-width:0.5;\" x=\"29.5\" xlink:href=\"#m57a2c8792a\" y=\"34.9550524839\"/>\n",
       "      </g>\n",
       "     </g>\n",
       "     <g id=\"line2d_80\">\n",
       "      <g>\n",
       "       <use style=\"stroke:#000000;stroke-linecap:butt;stroke-width:0.5;\" x=\"364.3\" xlink:href=\"#m46a939d668\" y=\"34.9550524839\"/>\n",
       "      </g>\n",
       "     </g>\n",
       "    </g>\n",
       "    <g id=\"ytick_33\">\n",
       "     <g id=\"line2d_81\">\n",
       "      <g>\n",
       "       <use style=\"stroke:#000000;stroke-linecap:butt;stroke-width:0.5;\" x=\"29.5\" xlink:href=\"#m57a2c8792a\" y=\"29.5474737581\"/>\n",
       "      </g>\n",
       "     </g>\n",
       "     <g id=\"line2d_82\">\n",
       "      <g>\n",
       "       <use style=\"stroke:#000000;stroke-linecap:butt;stroke-width:0.5;\" x=\"364.3\" xlink:href=\"#m46a939d668\" y=\"29.5474737581\"/>\n",
       "      </g>\n",
       "     </g>\n",
       "    </g>\n",
       "    <g id=\"ytick_34\">\n",
       "     <g id=\"line2d_83\">\n",
       "      <g>\n",
       "       <use style=\"stroke:#000000;stroke-linecap:butt;stroke-width:0.5;\" x=\"29.5\" xlink:href=\"#m57a2c8792a\" y=\"25.1291602286\"/>\n",
       "      </g>\n",
       "     </g>\n",
       "     <g id=\"line2d_84\">\n",
       "      <g>\n",
       "       <use style=\"stroke:#000000;stroke-linecap:butt;stroke-width:0.5;\" x=\"364.3\" xlink:href=\"#m46a939d668\" y=\"25.1291602286\"/>\n",
       "      </g>\n",
       "     </g>\n",
       "    </g>\n",
       "    <g id=\"ytick_35\">\n",
       "     <g id=\"line2d_85\">\n",
       "      <g>\n",
       "       <use style=\"stroke:#000000;stroke-linecap:butt;stroke-width:0.5;\" x=\"29.5\" xlink:href=\"#m57a2c8792a\" y=\"21.3935293672\"/>\n",
       "      </g>\n",
       "     </g>\n",
       "     <g id=\"line2d_86\">\n",
       "      <g>\n",
       "       <use style=\"stroke:#000000;stroke-linecap:butt;stroke-width:0.5;\" x=\"364.3\" xlink:href=\"#m46a939d668\" y=\"21.3935293672\"/>\n",
       "      </g>\n",
       "     </g>\n",
       "    </g>\n",
       "    <g id=\"ytick_36\">\n",
       "     <g id=\"line2d_87\">\n",
       "      <g>\n",
       "       <use style=\"stroke:#000000;stroke-linecap:butt;stroke-width:0.5;\" x=\"29.5\" xlink:href=\"#m57a2c8792a\" y=\"18.1575787258\"/>\n",
       "      </g>\n",
       "     </g>\n",
       "     <g id=\"line2d_88\">\n",
       "      <g>\n",
       "       <use style=\"stroke:#000000;stroke-linecap:butt;stroke-width:0.5;\" x=\"364.3\" xlink:href=\"#m46a939d668\" y=\"18.1575787258\"/>\n",
       "      </g>\n",
       "     </g>\n",
       "    </g>\n",
       "    <g id=\"ytick_37\">\n",
       "     <g id=\"line2d_89\">\n",
       "      <g>\n",
       "       <use style=\"stroke:#000000;stroke-linecap:butt;stroke-width:0.5;\" x=\"29.5\" xlink:href=\"#m57a2c8792a\" y=\"15.3032679733\"/>\n",
       "      </g>\n",
       "     </g>\n",
       "     <g id=\"line2d_90\">\n",
       "      <g>\n",
       "       <use style=\"stroke:#000000;stroke-linecap:butt;stroke-width:0.5;\" x=\"364.3\" xlink:href=\"#m46a939d668\" y=\"15.3032679733\"/>\n",
       "      </g>\n",
       "     </g>\n",
       "    </g>\n",
       "   </g>\n",
       "   <g id=\"patch_13\">\n",
       "    <path d=\"\n",
       "M29.5 12.75\n",
       "L364.3 12.75\" style=\"fill:none;stroke:#000000;\"/>\n",
       "   </g>\n",
       "   <g id=\"patch_14\">\n",
       "    <path d=\"\n",
       "M364.3 235.95\n",
       "L364.3 12.75\" style=\"fill:none;stroke:#000000;\"/>\n",
       "   </g>\n",
       "   <g id=\"patch_15\">\n",
       "    <path d=\"\n",
       "M29.5 235.95\n",
       "L364.3 235.95\" style=\"fill:none;stroke:#000000;\"/>\n",
       "   </g>\n",
       "   <g id=\"patch_16\">\n",
       "    <path d=\"\n",
       "M29.5 235.95\n",
       "L29.5 12.75\" style=\"fill:none;stroke:#000000;\"/>\n",
       "   </g>\n",
       "  </g>\n",
       " </g>\n",
       " <defs>\n",
       "  <clipPath id=\"pe223e52da6\">\n",
       "   <rect height=\"223.2\" width=\"334.8\" x=\"29.5\" y=\"12.75\"/>\n",
       "  </clipPath>\n",
       " </defs>\n",
       "</svg>\n"
      ],
      "text/plain": [
       "<matplotlib.figure.Figure at 0x356ea90>"
      ]
     },
     "metadata": {},
     "output_type": "display_data"
    }
   ],
   "source": [
    "%matplotlib inline\n",
    "fig = plt.figure()\n",
    "plt.bar(freq_user_leads.cnt, freq_user_leads.freq)\n",
    "plt.gca().set_yscale(\"log\", nonposy='clip')\n",
    "plt.xlabel('Number of times a ')"
   ]
  },
  {
   "cell_type": "markdown",
   "metadata": {},
   "source": [
    "The majority of email-listing pairs appear only once. Though, there seem to be duplicates. In the first iteration we may ignore the fact and just cound every pair once."
   ]
  },
  {
   "cell_type": "markdown",
   "metadata": {},
   "source": [
    "## Ratings Matrix"
   ]
  },
  {
   "cell_type": "code",
   "execution_count": 25,
   "metadata": {
    "ExecuteTime": {
     "end_time": "2017-02-17T11:26:49.781606",
     "start_time": "2017-02-17T11:26:48.880222"
    },
    "collapsed": false
   },
   "outputs": [],
   "source": [
    "## just use the user item pairs, set rating to 1.0\n",
    "ratings = indexedRatings.select(['user', 'item']).withColumn('rating', F.lit(1.0))"
   ]
  },
  {
   "cell_type": "code",
   "execution_count": 23,
   "metadata": {
    "collapsed": false,
    "scrolled": true
   },
   "outputs": [
    {
     "name": "stdout",
     "output_type": "stream",
     "text": [
      "+-----+----+------+\n",
      "| user|item|rating|\n",
      "+-----+----+------+\n",
      "| 6452|  64|   1.0|\n",
      "| 1641|  36|   1.0|\n",
      "| 5980|  28|   1.0|\n",
      "| 6580|  26|   1.0|\n",
      "| 1650|   8|   1.0|\n",
      "|  597|  86|   1.0|\n",
      "|13832|   8|   1.0|\n",
      "|20914|   4|   1.0|\n",
      "| 2069|  74|   1.0|\n",
      "|46586|   2|   1.0|\n",
      "|11672|  24|   1.0|\n",
      "| 3175|   4|   1.0|\n",
      "| 6711|  18|   1.0|\n",
      "|33206|   2|   1.0|\n",
      "|  754|  76|   1.0|\n",
      "| 2658|  30|   1.0|\n",
      "|22401|   3|   1.0|\n",
      "|    6|  69|   1.0|\n",
      "| 1829|  89|   1.0|\n",
      "|  671|  29|   1.0|\n",
      "+-----+----+------+\n",
      "only showing top 20 rows\n",
      "\n"
     ]
    }
   ],
   "source": [
    "ratings.show()"
   ]
  },
  {
   "cell_type": "markdown",
   "metadata": {},
   "source": [
    "Building receommender model (ALS) and extract feature matrices for consumers (users) and listings (items)"
   ]
  },
  {
   "cell_type": "code",
   "execution_count": 27,
   "metadata": {
    "ExecuteTime": {
     "end_time": "2017-02-17T11:28:53.994057",
     "start_time": "2017-02-17T11:28:53.989454"
    },
    "collapsed": false,
    "init_cell": true
   },
   "outputs": [],
   "source": [
    "from pyspark.ml.recommendation import ALS\n",
    "from pyspark.ml.clustering import KMeans, KMeansModel\n",
    "## from pyspark.ml.linalg import Vectors     # version 2 has them in 'ml'\n",
    "from pyspark.mllib.linalg import Vectors "
   ]
  },
  {
   "cell_type": "code",
   "execution_count": 28,
   "metadata": {
    "ExecuteTime": {
     "end_time": "2017-02-17T11:28:58.120866",
     "start_time": "2017-02-17T11:28:58.116162"
    },
    "collapsed": false,
    "scrolled": false
   },
   "outputs": [
    {
     "name": "stdout",
     "output_type": "stream",
     "text": [
      "\n",
      "    Alternating Least Squares (ALS) matrix factorization.\n",
      "\n",
      "    ALS attempts to estimate the ratings matrix `R` as the product of\n",
      "    two lower-rank matrices, `X` and `Y`, i.e. `X * Yt = R`. Typically\n",
      "    these approximations are called 'factor' matrices. The general\n",
      "    approach is iterative. During each iteration, one of the factor\n",
      "    matrices is held constant, while the other is solved for using least\n",
      "    squares. The newly-solved factor matrix is then held constant while\n",
      "    solving for the other factor matrix.\n",
      "\n",
      "    This is a blocked implementation of the ALS factorization algorithm\n",
      "    that groups the two sets of factors (referred to as \"users\" and\n",
      "    \"products\") into blocks and reduces communication by only sending\n",
      "    one copy of each user vector to each product block on each\n",
      "    iteration, and only for the product blocks that need that user's\n",
      "    feature vector. This is achieved by pre-computing some information\n",
      "    about the ratings matrix to determine the \"out-links\" of each user\n",
      "    (which blocks of products it will contribute to) and \"in-link\"\n",
      "    information for each product (which of the feature vectors it\n",
      "    receives from each user block it will depend on). This allows us to\n",
      "    send only an array of feature vectors between each user block and\n",
      "    product block, and have the product block find the users' ratings\n",
      "    and update the products based on these messages.\n",
      "\n",
      "    For implicit preference data, the algorithm used is based on\n",
      "    \"Collaborative Filtering for Implicit Feedback Datasets\", available\n",
      "    at `http://dx.doi.org/10.1109/ICDM.2008.22`, adapted for the blocked\n",
      "    approach used here.\n",
      "\n",
      "    Essentially instead of finding the low-rank approximations to the\n",
      "    rating matrix `R`, this finds the approximations for a preference\n",
      "    matrix `P` where the elements of `P` are 1 if r > 0 and 0 if r <= 0.\n",
      "    The ratings then act as 'confidence' values related to strength of\n",
      "    indicated user preferences rather than explicit ratings given to\n",
      "    items.\n",
      "\n",
      "    >>> df = sqlContext.createDataFrame(\n",
      "    ...     [(0, 0, 4.0), (0, 1, 2.0), (1, 1, 3.0), (1, 2, 4.0), (2, 1, 1.0), (2, 2, 5.0)],\n",
      "    ...     [\"user\", \"item\", \"rating\"])\n",
      "    >>> als = ALS(rank=10, maxIter=5)\n",
      "    >>> model = als.fit(df)\n",
      "    >>> model.rank\n",
      "    10\n",
      "    >>> model.userFactors.orderBy(\"id\").collect()\n",
      "    [Row(id=0, features=[...]), Row(id=1, ...), Row(id=2, ...)]\n",
      "    >>> test = sqlContext.createDataFrame([(0, 2), (1, 0), (2, 0)], [\"user\", \"item\"])\n",
      "    >>> predictions = sorted(model.transform(test).collect(), key=lambda r: r[0])\n",
      "    >>> predictions[0]\n",
      "    Row(user=0, item=2, prediction=-0.13807615637779236)\n",
      "    >>> predictions[1]\n",
      "    Row(user=1, item=0, prediction=2.6258413791656494)\n",
      "    >>> predictions[2]\n",
      "    Row(user=2, item=0, prediction=-1.5018409490585327)\n",
      "\n",
      "    .. versionadded:: 1.4.0\n",
      "    \n"
     ]
    }
   ],
   "source": [
    "print(ALS.__doc__)"
   ]
  },
  {
   "cell_type": "code",
   "execution_count": 29,
   "metadata": {
    "ExecuteTime": {
     "end_time": "2017-02-17T11:29:07.528391",
     "start_time": "2017-02-17T11:29:07.499806"
    },
    "collapsed": false
   },
   "outputs": [],
   "source": [
    "RANK = 100\n",
    "maxIter = 15\n",
    "als = ALS(rank=RANK, maxIter=maxIter, seed=0)"
   ]
  },
  {
   "cell_type": "code",
   "execution_count": 30,
   "metadata": {
    "ExecuteTime": {
     "end_time": "2017-02-17T11:45:44.656859",
     "start_time": "2017-02-17T11:29:13.738927"
    },
    "collapsed": false
   },
   "outputs": [],
   "source": [
    "mdl = als.fit(ratings)"
   ]
  },
  {
   "cell_type": "code",
   "execution_count": 31,
   "metadata": {
    "ExecuteTime": {
     "end_time": "2017-02-17T11:48:27.258909",
     "start_time": "2017-02-17T11:48:20.816951"
    },
    "collapsed": false
   },
   "outputs": [
    {
     "data": {
      "text/plain": [
       "84194"
      ]
     },
     "execution_count": 31,
     "metadata": {},
     "output_type": "execute_result"
    }
   ],
   "source": [
    "item_mat = mdl.itemFactors\n",
    "#item_mat.rdd.take(5)\n",
    "item_mat.rdd.count()"
   ]
  },
  {
   "cell_type": "code",
   "execution_count": 32,
   "metadata": {
    "ExecuteTime": {
     "end_time": "2017-02-17T11:48:41.261573",
     "start_time": "2017-02-17T11:48:39.131096"
    },
    "collapsed": false
   },
   "outputs": [],
   "source": [
    "item_mat_df = item_mat.rdd.map(lambda r: [r.id] + r.features).toDF()"
   ]
  },
  {
   "cell_type": "code",
   "execution_count": null,
   "metadata": {
    "collapsed": true
   },
   "outputs": [],
   "source": []
  },
  {
   "cell_type": "markdown",
   "metadata": {},
   "source": [
    "## Find Similar Properties\n",
    "We use the feature matrix on items compute similarity of properties based on users submitted leads."
   ]
  },
  {
   "cell_type": "code",
   "execution_count": 44,
   "metadata": {
    "ExecuteTime": {
     "end_time": "2016-11-17T12:29:55.011506",
     "start_time": "2016-11-17T12:29:54.839365"
    },
    "collapsed": false
   },
   "outputs": [
    {
     "data": {
      "text/plain": [
       "664"
      ]
     },
     "execution_count": 44,
     "metadata": {},
     "output_type": "execute_result"
    }
   ],
   "source": [
    "item_mat.count()"
   ]
  },
  {
   "cell_type": "code",
   "execution_count": 33,
   "metadata": {
    "ExecuteTime": {
     "end_time": "2017-02-17T11:48:57.940590",
     "start_time": "2017-02-17T11:48:57.932678"
    },
    "collapsed": false,
    "scrolled": true
   },
   "outputs": [
    {
     "name": "stdout",
     "output_type": "stream",
     "text": [
      "root\n",
      " |-- id: integer (nullable = false)\n",
      " |-- features: array (nullable = true)\n",
      " |    |-- element: float (containsNull = false)\n",
      "\n"
     ]
    }
   ],
   "source": [
    "item_mat.printSchema()"
   ]
  },
  {
   "cell_type": "markdown",
   "metadata": {},
   "source": [
    "Use `item_mat`, a DataFrame with `id` and `features` to create a **distance matrix** $D$.\n",
    "\n",
    "Steps:\n",
    "1. Convert `features` into dense vectors\n",
    "2. Outer join of item matrix on itself:\n",
    "    1. with renamed columns\n",
    "    2. filter upper triangle ($row$ < $col$)\n",
    "3. Calculate squared distance"
   ]
  },
  {
   "cell_type": "code",
   "execution_count": 34,
   "metadata": {
    "ExecuteTime": {
     "end_time": "2017-02-17T11:49:23.774925",
     "start_time": "2017-02-17T11:49:21.854459"
    },
    "collapsed": false
   },
   "outputs": [],
   "source": [
    "# 1.\n",
    "item_ftr = item_mat.rdd.map(lambda r: (Vectors.dense(r.features), r.id)).toDF(['X', 'id'])\n",
    "#item_ftr.show()\n",
    "\n",
    "\n",
    "# 2. \n",
    "joined_mat = item_ftr.join(item_ftr.withColumnRenamed('id', 'b_id').withColumnRenamed('X', 'b_X'), how='outer')\n",
    "joined_mat_ut = joined_mat.filter(joined_mat.id!=joined_mat.b_id)\n",
    "#joined_mat_ut.show()"
   ]
  },
  {
   "cell_type": "code",
   "execution_count": 35,
   "metadata": {
    "ExecuteTime": {
     "end_time": "2017-02-17T11:49:31.894889",
     "start_time": "2017-02-17T11:49:31.888481"
    },
    "collapsed": false,
    "scrolled": false
   },
   "outputs": [
    {
     "name": "stdout",
     "output_type": "stream",
     "text": [
      "root\n",
      " |-- X: vector (nullable = true)\n",
      " |-- id: long (nullable = true)\n",
      " |-- b_X: vector (nullable = true)\n",
      " |-- b_id: long (nullable = true)\n",
      "\n"
     ]
    }
   ],
   "source": [
    "joined_mat_ut.printSchema()"
   ]
  },
  {
   "cell_type": "code",
   "execution_count": 36,
   "metadata": {
    "ExecuteTime": {
     "end_time": "2017-02-17T11:50:09.988267",
     "start_time": "2017-02-17T11:50:07.867616"
    },
    "collapsed": false
   },
   "outputs": [
    {
     "name": "stdout",
     "output_type": "stream",
     "text": [
      "+--------------------+---+--------------------+----+\n",
      "|                   X| id|                 b_X|b_id|\n",
      "+--------------------+---+--------------------+----+\n",
      "|[0.02424747869372...|  0|[0.02343193814158...|  10|\n",
      "|[0.02424747869372...|  0|[0.02283312380313...|  20|\n",
      "|[0.02424747869372...|  0|[0.02754783444106...|  30|\n",
      "|[0.02424747869372...|  0|[0.02349585853517...|  40|\n",
      "|[0.02424747869372...|  0|[0.02263843640685...|  50|\n",
      "|[0.02424747869372...|  0|[0.00692668883129...|  60|\n",
      "|[0.02424747869372...|  0|[0.02742943167686...|  70|\n",
      "|[0.02424747869372...|  0|[0.02468242868781...|  80|\n",
      "|[0.02424747869372...|  0|[0.02787471376359...|  90|\n",
      "|[0.02424747869372...|  0|[0.02701982297003...| 100|\n",
      "|[0.02424747869372...|  0|[0.02377360872924...| 110|\n",
      "|[0.02424747869372...|  0|[0.02317129075527...| 120|\n",
      "|[0.02424747869372...|  0|[0.02382670901715...| 130|\n",
      "|[0.02424747869372...|  0|[0.00681572128087...| 140|\n",
      "|[0.02424747869372...|  0|[0.00725018279626...| 150|\n",
      "|[0.02424747869372...|  0|[0.02326913364231...| 160|\n",
      "|[0.02424747869372...|  0|[0.02408461645245...| 170|\n",
      "|[0.02424747869372...|  0|[0.00683460757136...| 180|\n",
      "|[0.02424747869372...|  0|[0.00656389025971...| 190|\n",
      "|[0.02424747869372...|  0|[0.02684621512889...| 200|\n",
      "+--------------------+---+--------------------+----+\n",
      "only showing top 20 rows\n",
      "\n"
     ]
    }
   ],
   "source": [
    "joined_mat_ut.show()"
   ]
  },
  {
   "cell_type": "code",
   "execution_count": 37,
   "metadata": {
    "ExecuteTime": {
     "end_time": "2017-02-17T11:52:33.464002",
     "start_time": "2017-02-17T11:52:33.455819"
    },
    "collapsed": false
   },
   "outputs": [
    {
     "name": "stdout",
     "output_type": "stream",
     "text": [
      "root\n",
      " |-- user_id: string (nullable = true)\n",
      " |-- business_id: string (nullable = true)\n",
      " |-- count: long (nullable = false)\n",
      " |-- user_idx: double (nullable = true)\n",
      " |-- business_idx: double (nullable = true)\n",
      " |-- rating: float (nullable = false)\n",
      " |-- user: integer (nullable = true)\n",
      " |-- item: integer (nullable = true)\n",
      "\n"
     ]
    }
   ],
   "source": [
    "indexedRatings.printSchema()"
   ]
  },
  {
   "cell_type": "code",
   "execution_count": 38,
   "metadata": {
    "ExecuteTime": {
     "end_time": "2017-02-17T11:55:41.709168",
     "start_time": "2017-02-17T11:55:30.851986"
    },
    "collapsed": false
   },
   "outputs": [],
   "source": [
    "jjmat = indexedRatings.withColumnRenamed('business_id', 'a_business_id').join(\n",
    "    indexedRatings.withColumnRenamed('business_id', 'b_business_id')\\\n",
    "        .join(joined_mat_ut, indexedRatings.item==joined_mat_ut.b_id), indexedRatings.item==joined_mat_ut.id)"
   ]
  },
  {
   "cell_type": "code",
   "execution_count": 39,
   "metadata": {
    "ExecuteTime": {
     "end_time": "2017-02-17T11:55:44.078602",
     "start_time": "2017-02-17T11:55:44.070620"
    },
    "collapsed": false
   },
   "outputs": [
    {
     "name": "stdout",
     "output_type": "stream",
     "text": [
      "root\n",
      " |-- user_id: string (nullable = true)\n",
      " |-- a_business_id: string (nullable = true)\n",
      " |-- count: long (nullable = false)\n",
      " |-- user_idx: double (nullable = true)\n",
      " |-- business_idx: double (nullable = true)\n",
      " |-- rating: float (nullable = false)\n",
      " |-- user: integer (nullable = true)\n",
      " |-- item: integer (nullable = true)\n",
      " |-- user_id: string (nullable = true)\n",
      " |-- b_business_id: string (nullable = true)\n",
      " |-- count: long (nullable = false)\n",
      " |-- user_idx: double (nullable = true)\n",
      " |-- business_idx: double (nullable = true)\n",
      " |-- rating: float (nullable = false)\n",
      " |-- user: integer (nullable = true)\n",
      " |-- item: integer (nullable = true)\n",
      " |-- X: vector (nullable = true)\n",
      " |-- id: long (nullable = true)\n",
      " |-- b_X: vector (nullable = true)\n",
      " |-- b_id: long (nullable = true)\n",
      "\n"
     ]
    }
   ],
   "source": [
    "jjmat.printSchema()"
   ]
  },
  {
   "cell_type": "markdown",
   "metadata": {},
   "source": [
    "Compute Distance Matrix"
   ]
  },
  {
   "cell_type": "code",
   "execution_count": null,
   "metadata": {
    "ExecuteTime": {
     "start_time": "2017-02-17T16:56:41.668Z"
    },
    "collapsed": false
   },
   "outputs": [],
   "source": [
    "import math\n",
    "\n",
    "# 3.\n",
    "dist_mat = jjmat.rdd.map(lambda r: (r.a_business_id, r.b_business_id, r.id, r.b_id, math.sqrt(r.X.squared_distance(r.b_X)))).toDF(['a_business_id', 'b_business_id', 'a_id', 'b_id', 'distance'])\n",
    "dist_mat.show()"
   ]
  },
  {
   "cell_type": "code",
   "execution_count": null,
   "metadata": {
    "collapsed": true
   },
   "outputs": [],
   "source": []
  },
  {
   "cell_type": "code",
   "execution_count": 57,
   "metadata": {
    "ExecuteTime": {
     "end_time": "2016-11-17T12:59:34.956761",
     "start_time": "2016-11-17T12:59:12.118132"
    },
    "collapsed": false,
    "scrolled": true
   },
   "outputs": [
    {
     "data": {
      "text/plain": [
       "440232"
      ]
     },
     "execution_count": 57,
     "metadata": {},
     "output_type": "execute_result"
    }
   ],
   "source": [
    "dist_mat.count()"
   ]
  },
  {
   "cell_type": "code",
   "execution_count": 39,
   "metadata": {
    "collapsed": false
   },
   "outputs": [
    {
     "name": "stdout",
     "output_type": "stream",
     "text": [
      "+----+----+--------------------+\n",
      "|a_id|b_id|            distance|\n",
      "+----+----+--------------------+\n",
      "|  74|   7|8.870951586288792E-5|\n",
      "|   7|  74|8.870951586288792E-5|\n",
      "|  41|  43|1.116469780882443...|\n",
      "|  43|  41|1.116469780882443...|\n",
      "|  29|  50|1.263022728250230...|\n",
      "|  50|  29|1.263022728250230...|\n",
      "|   4|  49|1.433852329223916...|\n",
      "|  49|   4|1.433852329223916...|\n",
      "|  14|  17|1.496814454634857...|\n",
      "|  17|  14|1.496814454634857...|\n",
      "|  44|   5|1.500953684710987...|\n",
      "|   5|  44|1.500953684710987...|\n",
      "|  69|  90|1.506363371048501E-4|\n",
      "|  90|  69|1.506363371048501E-4|\n",
      "|  60|   0|1.555116364584669...|\n",
      "|   0|  60|1.555116364584669...|\n",
      "|  53|  10|1.572409140812167...|\n",
      "|  10|  53|1.572409140812167...|\n",
      "|   2|   9|1.584770531539547...|\n",
      "|   9|   2|1.584770531539547...|\n",
      "+----+----+--------------------+\n",
      "only showing top 20 rows\n",
      "\n"
     ]
    }
   ],
   "source": [
    "dist_mat.sort('distance').show()"
   ]
  },
  {
   "cell_type": "code",
   "execution_count": null,
   "metadata": {
    "collapsed": true
   },
   "outputs": [],
   "source": []
  },
  {
   "cell_type": "code",
   "execution_count": 40,
   "metadata": {
    "collapsed": false,
    "scrolled": false
   },
   "outputs": [
    {
     "data": {
      "text/plain": [
       "[Row(dmin=8.870951586288792e-05, dmax=1.6572038883890563)]"
      ]
     },
     "execution_count": 40,
     "metadata": {},
     "output_type": "execute_result"
    }
   ],
   "source": [
    "dist_mat.agg(F.min('distance').alias('dmin'), F.max('distance').alias('dmax')).collect()"
   ]
  },
  {
   "cell_type": "code",
   "execution_count": 58,
   "metadata": {
    "ExecuteTime": {
     "end_time": "2016-11-17T13:02:13.580649",
     "start_time": "2016-11-17T13:01:44.177970"
    },
    "collapsed": true
   },
   "outputs": [],
   "source": [
    "dist_df = dist_mat.toPandas()"
   ]
  },
  {
   "cell_type": "code",
   "execution_count": null,
   "metadata": {
    "ExecuteTime": {
     "end_time": "2017-02-17T11:04:50.812903",
     "start_time": "2017-02-17T16:04:50.607Z"
    },
    "collapsed": true,
    "init_cell": true
   },
   "outputs": [],
   "source": [
    "def get_top_ten(gdf):\n",
    "    nrow = min(gdf.shape[0], 10)\n",
    "    topten = gdf.sort_values(by='distance', ascending=True).head(nrow)\n",
    "    topten['var_dist'] = ['nb%d_dist'%i for i in xrange(nrow)]\n",
    "    topten['var_id'] = ['nb%d_id'%i for i in xrange(nrow)]\n",
    "    pv_dist = topten.pivot(index='a_ListingId', columns='var_dist', values='distance')\n",
    "    pv_id = topten.pivot(index='a_ListingId', columns='var_id', values='b_ListingId')\n",
    "    return pd.concat([pv_dist, pv_id], axis=1)"
   ]
  },
  {
   "cell_type": "code",
   "execution_count": 60,
   "metadata": {
    "ExecuteTime": {
     "end_time": "2016-11-17T13:02:53.752607",
     "start_time": "2016-11-17T13:02:44.674880"
    },
    "collapsed": false
   },
   "outputs": [],
   "source": [
    "neighbors_df = dist_df.groupby(by='a_id').apply(get_top_ten)"
   ]
  },
  {
   "cell_type": "code",
   "execution_count": 61,
   "metadata": {
    "ExecuteTime": {
     "end_time": "2016-11-17T13:03:12.071278",
     "start_time": "2016-11-17T13:03:12.004548"
    },
    "collapsed": false
   },
   "outputs": [
    {
     "data": {
      "text/html": [
       "<div>\n",
       "<table border=\"1\" class=\"dataframe\">\n",
       "  <thead>\n",
       "    <tr style=\"text-align: right;\">\n",
       "      <th></th>\n",
       "      <th></th>\n",
       "      <th>nb0_dist</th>\n",
       "      <th>nb1_dist</th>\n",
       "      <th>nb2_dist</th>\n",
       "      <th>nb3_dist</th>\n",
       "      <th>nb4_dist</th>\n",
       "      <th>nb5_dist</th>\n",
       "      <th>nb6_dist</th>\n",
       "      <th>nb7_dist</th>\n",
       "      <th>nb8_dist</th>\n",
       "      <th>nb9_dist</th>\n",
       "      <th>nb0_id</th>\n",
       "      <th>nb1_id</th>\n",
       "      <th>nb2_id</th>\n",
       "      <th>nb3_id</th>\n",
       "      <th>nb4_id</th>\n",
       "      <th>nb5_id</th>\n",
       "      <th>nb6_id</th>\n",
       "      <th>nb7_id</th>\n",
       "      <th>nb8_id</th>\n",
       "      <th>nb9_id</th>\n",
       "    </tr>\n",
       "    <tr>\n",
       "      <th>a_id</th>\n",
       "      <th>a_ListingId</th>\n",
       "      <th></th>\n",
       "      <th></th>\n",
       "      <th></th>\n",
       "      <th></th>\n",
       "      <th></th>\n",
       "      <th></th>\n",
       "      <th></th>\n",
       "      <th></th>\n",
       "      <th></th>\n",
       "      <th></th>\n",
       "      <th></th>\n",
       "      <th></th>\n",
       "      <th></th>\n",
       "      <th></th>\n",
       "      <th></th>\n",
       "      <th></th>\n",
       "      <th></th>\n",
       "      <th></th>\n",
       "      <th></th>\n",
       "      <th></th>\n",
       "    </tr>\n",
       "  </thead>\n",
       "  <tbody>\n",
       "    <tr>\n",
       "      <th>0</th>\n",
       "      <th>184441</th>\n",
       "      <td>0.001064</td>\n",
       "      <td>0.001683</td>\n",
       "      <td>0.001847</td>\n",
       "      <td>0.002791</td>\n",
       "      <td>0.002969</td>\n",
       "      <td>0.003269</td>\n",
       "      <td>0.003762</td>\n",
       "      <td>0.003843</td>\n",
       "      <td>0.004057</td>\n",
       "      <td>0.004244</td>\n",
       "      <td>669</td>\n",
       "      <td>100025633</td>\n",
       "      <td>100025832</td>\n",
       "      <td>188875</td>\n",
       "      <td>87302</td>\n",
       "      <td>274</td>\n",
       "      <td>100028458</td>\n",
       "      <td>738</td>\n",
       "      <td>722</td>\n",
       "      <td>19456</td>\n",
       "    </tr>\n",
       "    <tr>\n",
       "      <th>1</th>\n",
       "      <th>6863</th>\n",
       "      <td>0.001816</td>\n",
       "      <td>0.001818</td>\n",
       "      <td>0.002395</td>\n",
       "      <td>0.002755</td>\n",
       "      <td>0.002836</td>\n",
       "      <td>0.002978</td>\n",
       "      <td>0.003024</td>\n",
       "      <td>0.003070</td>\n",
       "      <td>0.003265</td>\n",
       "      <td>0.003858</td>\n",
       "      <td>722</td>\n",
       "      <td>15071</td>\n",
       "      <td>84266</td>\n",
       "      <td>87302</td>\n",
       "      <td>188875</td>\n",
       "      <td>66</td>\n",
       "      <td>100026922</td>\n",
       "      <td>80240</td>\n",
       "      <td>2400</td>\n",
       "      <td>32</td>\n",
       "    </tr>\n",
       "    <tr>\n",
       "      <th>2</th>\n",
       "      <th>100025832</th>\n",
       "      <td>0.001187</td>\n",
       "      <td>0.001847</td>\n",
       "      <td>0.001973</td>\n",
       "      <td>0.002473</td>\n",
       "      <td>0.002696</td>\n",
       "      <td>0.003258</td>\n",
       "      <td>0.003489</td>\n",
       "      <td>0.003638</td>\n",
       "      <td>0.003648</td>\n",
       "      <td>0.003841</td>\n",
       "      <td>100025633</td>\n",
       "      <td>184441</td>\n",
       "      <td>669</td>\n",
       "      <td>188875</td>\n",
       "      <td>87302</td>\n",
       "      <td>274</td>\n",
       "      <td>19456</td>\n",
       "      <td>100026922</td>\n",
       "      <td>722</td>\n",
       "      <td>80240</td>\n",
       "    </tr>\n",
       "    <tr>\n",
       "      <th>3</th>\n",
       "      <th>66</th>\n",
       "      <td>0.000470</td>\n",
       "      <td>0.000737</td>\n",
       "      <td>0.001419</td>\n",
       "      <td>0.001521</td>\n",
       "      <td>0.001836</td>\n",
       "      <td>0.001989</td>\n",
       "      <td>0.002112</td>\n",
       "      <td>0.002155</td>\n",
       "      <td>0.002171</td>\n",
       "      <td>0.002978</td>\n",
       "      <td>80240</td>\n",
       "      <td>100026922</td>\n",
       "      <td>722</td>\n",
       "      <td>2400</td>\n",
       "      <td>15071</td>\n",
       "      <td>19</td>\n",
       "      <td>19456</td>\n",
       "      <td>87302</td>\n",
       "      <td>50</td>\n",
       "      <td>6863</td>\n",
       "    </tr>\n",
       "    <tr>\n",
       "      <th>4</th>\n",
       "      <th>28</th>\n",
       "      <td>0.003372</td>\n",
       "      <td>0.003782</td>\n",
       "      <td>0.004525</td>\n",
       "      <td>0.005421</td>\n",
       "      <td>0.005682</td>\n",
       "      <td>0.005786</td>\n",
       "      <td>0.005930</td>\n",
       "      <td>0.006398</td>\n",
       "      <td>0.006484</td>\n",
       "      <td>0.006971</td>\n",
       "      <td>14270</td>\n",
       "      <td>291</td>\n",
       "      <td>25084</td>\n",
       "      <td>14427</td>\n",
       "      <td>45</td>\n",
       "      <td>100012078</td>\n",
       "      <td>5</td>\n",
       "      <td>34148</td>\n",
       "      <td>40526</td>\n",
       "      <td>2428</td>\n",
       "    </tr>\n",
       "  </tbody>\n",
       "</table>\n",
       "</div>"
      ],
      "text/plain": [
       "                  nb0_dist  nb1_dist  nb2_dist  nb3_dist  nb4_dist  nb5_dist  \\\n",
       "a_id a_ListingId                                                               \n",
       "0    184441       0.001064  0.001683  0.001847  0.002791  0.002969  0.003269   \n",
       "1    6863         0.001816  0.001818  0.002395  0.002755  0.002836  0.002978   \n",
       "2    100025832    0.001187  0.001847  0.001973  0.002473  0.002696  0.003258   \n",
       "3    66           0.000470  0.000737  0.001419  0.001521  0.001836  0.001989   \n",
       "4    28           0.003372  0.003782  0.004525  0.005421  0.005682  0.005786   \n",
       "\n",
       "                  nb6_dist  nb7_dist  nb8_dist  nb9_dist     nb0_id  \\\n",
       "a_id a_ListingId                                                      \n",
       "0    184441       0.003762  0.003843  0.004057  0.004244        669   \n",
       "1    6863         0.003024  0.003070  0.003265  0.003858        722   \n",
       "2    100025832    0.003489  0.003638  0.003648  0.003841  100025633   \n",
       "3    66           0.002112  0.002155  0.002171  0.002978      80240   \n",
       "4    28           0.005930  0.006398  0.006484  0.006971      14270   \n",
       "\n",
       "                     nb1_id     nb2_id  nb3_id  nb4_id     nb5_id     nb6_id  \\\n",
       "a_id a_ListingId                                                               \n",
       "0    184441       100025633  100025832  188875   87302        274  100028458   \n",
       "1    6863             15071      84266   87302  188875         66  100026922   \n",
       "2    100025832       184441        669  188875   87302        274      19456   \n",
       "3    66           100026922        722    2400   15071         19      19456   \n",
       "4    28                 291      25084   14427      45  100012078          5   \n",
       "\n",
       "                     nb7_id  nb8_id  nb9_id  \n",
       "a_id a_ListingId                             \n",
       "0    184441             738     722   19456  \n",
       "1    6863             80240    2400      32  \n",
       "2    100025832    100026922     722   80240  \n",
       "3    66               87302      50    6863  \n",
       "4    28               34148   40526    2428  "
      ]
     },
     "execution_count": 61,
     "metadata": {},
     "output_type": "execute_result"
    }
   ],
   "source": [
    "neighbors_df.head()"
   ]
  },
  {
   "cell_type": "code",
   "execution_count": null,
   "metadata": {
    "collapsed": true
   },
   "outputs": [],
   "source": []
  },
  {
   "cell_type": "code",
   "execution_count": null,
   "metadata": {
    "collapsed": true
   },
   "outputs": [],
   "source": []
  }
 ],
 "metadata": {
  "anaconda-cloud": {},
  "hide_input": false,
  "kernelspec": {
   "display_name": "PySpark 1.6.1 - Cluster",
   "language": "python",
   "name": "pyspark"
  },
  "language_info": {
   "codemirror_mode": {
    "name": "ipython",
    "version": 2
   },
   "file_extension": ".py",
   "mimetype": "text/x-python",
   "name": "python",
   "nbconvert_exporter": "python",
   "pygments_lexer": "ipython2",
   "version": "2.7.5"
  },
  "toc": {
   "nav_menu": {
    "height": "85px",
    "width": "252px"
   },
   "navigate_menu": true,
   "number_sections": true,
   "sideBar": true,
   "threshold": 4,
   "toc_cell": false,
   "toc_section_display": "block",
   "toc_window_display": true
  }
 },
 "nbformat": 4,
 "nbformat_minor": 0
}
