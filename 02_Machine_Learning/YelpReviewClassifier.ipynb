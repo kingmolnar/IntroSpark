{
 "cells": [
  {
   "cell_type": "code",
   "execution_count": 2,
   "metadata": {
    "ExecuteTime": {
     "end_time": "2017-02-17T10:47:21.587435",
     "start_time": "2017-02-17T10:47:21.551740"
    },
    "collapsed": false
   },
   "outputs": [
    {
     "name": "stdout",
     "output_type": "stream",
     "text": [
      "Already running\n",
      "          ____              __\n",
      "         / __/__  ___ _____/ /__\n",
      "        _\\ \\/ _ \\/ _ `/ __/  '_/\n",
      "       /__ / .__/\\_,_/_/ /_/\\_\\   version 1.6.1\n",
      "          /_/\n",
      "    \n",
      "Spark Context available as `sc`\n",
      "Spark SQL Context (<class 'pyspark.sql.context.HiveContext'>) available as `sqlCtx`\n",
      "Monitor this application at http://arc.insight.gsu.edu:8088/proxy/application_1484597252711_0272\n"
     ]
    }
   ],
   "source": [
    "# %load pyspark_init.py\n",
    "\"\"\"\n",
    "Load packages and create context objects...\n",
    "\"\"\"\n",
    "import os\n",
    "import platform\n",
    "import sys\n",
    "if not 'sc' in vars():\n",
    "    sys.path.append('/usr/hdp/2.4.2.0-258/spark/python')\n",
    "    os.environ[\"SPARK_HOME\"] = '/usr/hdp/2.4.2.0-258/spark'\n",
    "    os.environ['PYSPARK_SUBMIT_ARGS'] = '--packages com.databricks:spark-csv_2.11:1.2.0 pyspark-shell'\n",
    "    import py4j\n",
    "    import pyspark\n",
    "    from pyspark.context import SparkContext, SparkConf\n",
    "    from pyspark.sql import SQLContext, HiveContext\n",
    "    from pyspark.storagelevel import StorageLevel\n",
    "    sc = SparkContext()\n",
    "    import atexit\n",
    "    atexit.register(lambda: sc.stop())\n",
    "    print(\"\"\"Welcome to\n",
    "          ____              __\n",
    "         / __/__  ___ _____/ /__\n",
    "        _\\ \\/ _ \\/ _ `/ __/  '_/\n",
    "       /__ / .__/\\_,_/_/ /_/\\_\\   version %s\n",
    "          /_/\n",
    "    \"\"\" % sc.version)\n",
    "else:\n",
    "    print(\"\"\"Already running\n",
    "          ____              __\n",
    "         / __/__  ___ _____/ /__\n",
    "        _\\ \\/ _ \\/ _ `/ __/  '_/\n",
    "       /__ / .__/\\_,_/_/ /_/\\_\\   version %s\n",
    "          /_/\n",
    "    \"\"\" % sc.version)\n",
    "\n",
    "if not 'sqlCtx' in vars():\n",
    "    sqlCtx = SQLContext(sc)\n",
    "print 'Spark Context available as `sc`'\n",
    "print 'Spark SQL Context (%s) available as `sqlCtx`'%str(type(sqlCtx))\n",
    "print \"Monitor this application at http://arc.insight.gsu.edu:8088/proxy/\"+sc.applicationId\n",
    "\n"
   ]
  },
  {
   "cell_type": "code",
   "execution_count": 25,
   "metadata": {
    "ExecuteTime": {
     "end_time": "2017-02-11T11:27:54.580056",
     "start_time": "2017-02-11T11:27:54.539420"
    },
    "collapsed": false
   },
   "outputs": [],
   "source": [
    "review_rdd = sc.textFile('/Users/Peter/Downloads/yelp_dataset_challenge_academic_dataset/yelp_academic_dataset_review.json').sample(False, 0.01, 42)"
   ]
  },
  {
   "cell_type": "code",
   "execution_count": 5,
   "metadata": {
    "ExecuteTime": {
     "end_time": "2017-02-11T11:18:44.094362",
     "start_time": "2017-02-11T11:18:43.355703"
    },
    "collapsed": false
   },
   "outputs": [
    {
     "data": {
      "text/plain": [
       "u'{\"votes\": {\"funny\": 0, \"useful\": 1, \"cool\": 0}, \"user_id\": \"t6OkrXgpcAZfJa2om9QO4A\", \"review_id\": \"QSu0l7koHMlTIhWbiiKMxg\", \"stars\": 3, \"date\": \"2015-07-02\", \"text\": \"Friendly local bar with great service and good food,  won\\'t be disappointed if you like bar food at a reasonable price.  Good place to go for \\\\\"Friday fish sandwich \\\\\"\", \"type\": \"review\", \"business_id\": \"KayYbHCt-RkbGcPdGOThNg\"}'"
      ]
     },
     "execution_count": 5,
     "metadata": {},
     "output_type": "execute_result"
    }
   ],
   "source": [
    "review_rdd.first()"
   ]
  },
  {
   "cell_type": "code",
   "execution_count": 27,
   "metadata": {
    "ExecuteTime": {
     "end_time": "2017-02-11T11:28:32.709403",
     "start_time": "2017-02-11T11:28:32.706532"
    },
    "collapsed": true
   },
   "outputs": [],
   "source": [
    "rtrain_rdd, rtest_rdd = review_rdd.randomSplit([0.8, 0.2])"
   ]
  },
  {
   "cell_type": "code",
   "execution_count": 7,
   "metadata": {
    "ExecuteTime": {
     "end_time": "2017-02-11T11:20:45.629821",
     "start_time": "2017-02-11T11:20:39.731053"
    },
    "collapsed": false
   },
   "outputs": [
    {
     "data": {
      "text/plain": [
       "21422"
      ]
     },
     "execution_count": 7,
     "metadata": {},
     "output_type": "execute_result"
    }
   ],
   "source": [
    "rtrain_rdd.count()"
   ]
  },
  {
   "cell_type": "code",
   "execution_count": null,
   "metadata": {
    "collapsed": true
   },
   "outputs": [],
   "source": []
  },
  {
   "cell_type": "code",
   "execution_count": null,
   "metadata": {
    "ExecuteTime": {
     "end_time": "2017-02-11T10:44:34.315829",
     "start_time": "2017-02-11T10:44:34.309086"
    },
    "collapsed": false
   },
   "outputs": [],
   "source": [
    "text =  \"Mr Hoagie is an institution. Walking in, it does seem like a throwback to 30 years ago, old fashioned menu board, booths out of the 70s, and a large selection of food. Their speciality is the Italian Hoagie, and it is voted the best in the area year after year. I usually order the burger, while the patties are obviously cooked from frozen, all of the other ingredients are very fresh. Overall, its a good alternative to Subway, which is down the road.\""
   ]
  },
  {
   "cell_type": "code",
   "execution_count": 8,
   "metadata": {
    "ExecuteTime": {
     "end_time": "2017-02-11T11:21:49.837080",
     "start_time": "2017-02-11T11:21:49.833235"
    },
    "collapsed": false
   },
   "outputs": [],
   "source": [
    "def text2words(text):\n",
    "    import re\n",
    "    def clean_text(text):\n",
    "        return re.sub(r'[.;:,!\\'\"]', ' ', unicode(text).lower())\n",
    "    return filter(lambda x: x!='', clean_text(text).split(' '))"
   ]
  },
  {
   "cell_type": "code",
   "execution_count": null,
   "metadata": {
    "ExecuteTime": {
     "end_time": "2017-02-11T10:44:47.905801",
     "start_time": "2017-02-11T10:44:47.889704"
    },
    "collapsed": false
   },
   "outputs": [],
   "source": [
    "text2words(text)"
   ]
  },
  {
   "cell_type": "code",
   "execution_count": 9,
   "metadata": {
    "ExecuteTime": {
     "end_time": "2017-02-11T11:22:37.604742",
     "start_time": "2017-02-11T11:22:37.601151"
    },
    "collapsed": true
   },
   "outputs": [],
   "source": [
    "def json_review(s):\n",
    "    import json\n",
    "    r = json.loads(s.strip())\n",
    "    return (r['stars'], r['text'])"
   ]
  },
  {
   "cell_type": "code",
   "execution_count": 10,
   "metadata": {
    "ExecuteTime": {
     "end_time": "2017-02-11T11:22:42.281306",
     "start_time": "2017-02-11T11:22:42.249731"
    },
    "collapsed": false
   },
   "outputs": [
    {
     "data": {
      "text/plain": [
       "[(3,\n",
       "  u'Friendly local bar with great service and good food,  won\\'t be disappointed if you like bar food at a reasonable price.  Good place to go for \"Friday fish sandwich \"'),\n",
       " (5,\n",
       "  u'This is our favorite breakfast spots.  Fast friendly service. You get more than what you pay for. Awesome!'),\n",
       " (1,\n",
       "  u\"By far the worst most unprofessional dentist I have ever experienced her staff is too busy watching soap operas on all the TVs in each room instead of cleaning and she gave me a filling which was too deep which could have been understandable as her son had his pictures delivered from Hawaii and she had to stop 3 times to pay for them and show her whole staff all of them must be nice to have a 14 year old go to Hawaii on her moms dime and have her patience wait to see all of this happen I had to have oral surgery and have the tooth removed because she put the filling in too deep an abscessed tooth was the result I wouldn't recommend her to an ex girlfriend or someone I hate because of the three months of extreme tooth pain I had to deal with because of her lack of care and follow through even after I called and asked them for advice and follow up they simply could care less and did not even offer to reschedule an appointment other than prescribing me vicodin and antibiotics do not recommend and do not go to her license should be pulled!!\"),\n",
       " (3,\n",
       "  u\"I just realized they remodeled this one recently-ish. Well, in my world recently because it's been a while since I've been here.\\n\\nThey've added more seating which makes it way more conducive to having a meeting here. Which is my concern during the week. I imagine during the weekend it just fills up with tweens getting their sugar rush before hitting the movie theater. \\n\\nThe coffee, or tea for me.. Is still same old same old. I don't imagine one single Starbucks will break the mold and make original drinks...\"),\n",
       " (1,\n",
       "  u\"Server took 15 minutes to even seat me, then 10 more to even take my order. Found out they didn't even have what I wanted, a common accurance lately. Once I had got my drink(COLA with a shot of cherry), it was flat and tasted a little like cough syrup. Their first attempt at my meal, grilled cheese steak burger melt(in essence a steak burger on a grilled cheese), I was served just a plain grilled cheese. Once they had gotten me another sandwich, it seemed right except for the awkward stack of pickles in the middle, not spread out. It may seem a little nitpickey at this point, but this is by far the worst experience I've had at this restaurant, but not the first. I don't think I'll be returning to suffer through that again.\"),\n",
       " (1,\n",
       "  u\"Waitress was very kind at the beginning but her attitude declined rapidly. Food was alright except the French onion soup. Couldn't believe the waitress thought it was okay to serve. A table nearby had a problem with their food. Waitress was rude to them and the manager never came to address the issue. Terrible customer service.\"),\n",
       " (2,\n",
       "  u\"This place has gone significantly down hill.  I've gone to Sing Sing about once a year for the last 6 or 7 years.  When we started going there you couldn't get a seat unless you got there early.  It was always packed.  However, each year the crowd seems to get smaller and smaller.  Crowd is an important component of a piano bar due to the interactive nature of it all.  I was there last Saturday night (8/4/12) and there was about 20-30 people there.  Very slow and boring.  It appears the crowd is no longer allowed up on stage, taking a lot of the interactive fun out of what this place used to be.  This was likely my last time at Sing Sing.  Save your $7 and skip this place.  A real shame because this place was once a lot of fun.\"),\n",
       " (3,\n",
       "  u\"Sing sing is a great place to change up the pace on a Saturday night! We had a large part of 22 people so my sister took care of the reservations, but by the looks of it, it seemed like every table was reserved! My suggestion is that you call ahead and reserve a table for however large your party is. Don't forget it's $7 to get in unless it's your birthday it's free for you! If you eat at rock bottom it's $3.50 for you to get in! \\n\\nThis is a dueling piano bar and its definitely a great time! The musicians are very talented and can play the drums,piano,and harmonica. Well that's what it was this night!  They played all different kinds of genres! No complaints about their musical talents for sure! The only downfall is that they could be very vulgar towards the crowd, but it's all in good fun! That crude humor didn't bother us at all! \\n\\nThe service of was fantastic l! Our server had to deal with 22 of us and didn't miss a beat at all! \\n\\nSo you ask why 3 stars, well 3 stars because of the price of alcohol!! That was a BIT ridiculous, but at that moment when your a little tipsy it doesn't seem to phase you until the next day!  It was over $9 for a vodka tonic!!! AHHHHH what kind of highway robbery is that?!??\\n\\nBut all in all its a great change of pace! We would do it again, but definitely not drink as much the best time!\"),\n",
       " (3,\n",
       "  u\"DAVE & BUSTERS!  It's a nice place to eat, have fun and drink!!  All ages can enjoy this place.  I was so EXCITED to hear them announce that after 10p, all children whether accompanied by a guardian or not had to go!  It made for a nice evening for adults only.  \\n\\nEverytime we go whether we play or not we enjoy ourselves.  I didn't give it FOUR STARS because every time I've went I haven't been able to eat in the restaurant area of there.  I know I still get the same food that everyone else does wherever you sit.  Sometimes, I like the nice relaxing atmosphere of the restaurant.  I haven't as of yet, been seated there.  \\n\\nNot to mention that the servers around the bar, are a little slow at responding to customers as well.  So all in all, D&B's is a good spot to stop at for food and entertainment.  Just don't expect to be seated in the restaurant portion, and expect to wait awhile for food service in the bar area.\"),\n",
       " (1,\n",
       "  u'Visited the Dave and Busters in Homestead, PA last night. Waitress mixed up our credit cards and gave my brothers credit card to someone else and he theirs. Charged them already too - both incorrectly My brother had to walk around and find out who it was. Waitress never apologized. GM was extremely rude and refused to give my brother his original receipt back saying they had thrown it out. DID NOTHING TO REMEDY the situation and ignored us the rest of our visit - not even a refill. After spending over $300 plus games, we will never go back. Whatever happened to the customer is always right? HORRIBLE service')]"
      ]
     },
     "execution_count": 10,
     "metadata": {},
     "output_type": "execute_result"
    }
   ],
   "source": [
    "rtrain_rdd.map(json_review).take(10)"
   ]
  },
  {
   "cell_type": "code",
   "execution_count": 28,
   "metadata": {
    "ExecuteTime": {
     "end_time": "2017-02-11T11:28:41.966002",
     "start_time": "2017-02-11T11:28:41.962971"
    },
    "collapsed": false
   },
   "outputs": [],
   "source": [
    "##word_train_rdd = rtrain_rdd.flatMap(lambda r: [(r[0], w) for w in text2words(r[1])])\n",
    "word_train_rdd = rtrain_rdd.map(json_review).flatMap(lambda r: [(r[0], w) for w in text2words(r[1])])"
   ]
  },
  {
   "cell_type": "code",
   "execution_count": 12,
   "metadata": {
    "ExecuteTime": {
     "end_time": "2017-02-11T11:22:53.182703",
     "start_time": "2017-02-11T11:22:53.152611"
    },
    "collapsed": false
   },
   "outputs": [
    {
     "data": {
      "text/plain": [
       "[(3, u'friendly'),\n",
       " (3, u'local'),\n",
       " (3, u'bar'),\n",
       " (3, u'with'),\n",
       " (3, u'great'),\n",
       " (3, u'service'),\n",
       " (3, u'and'),\n",
       " (3, u'good'),\n",
       " (3, u'food'),\n",
       " (3, u'won')]"
      ]
     },
     "execution_count": 12,
     "metadata": {},
     "output_type": "execute_result"
    }
   ],
   "source": [
    "word_train_rdd.take(10) ## .groupByKey().take(10)"
   ]
  },
  {
   "cell_type": "code",
   "execution_count": null,
   "metadata": {
    "ExecuteTime": {
     "end_time": "2017-02-10T19:52:18.054477",
     "start_time": "2017-02-10T19:52:18.050801"
    },
    "collapsed": true
   },
   "outputs": [],
   "source": [
    "import numpy as np"
   ]
  },
  {
   "cell_type": "code",
   "execution_count": 13,
   "metadata": {
    "ExecuteTime": {
     "end_time": "2017-02-11T11:22:59.876832",
     "start_time": "2017-02-11T11:22:59.872429"
    },
    "collapsed": false
   },
   "outputs": [],
   "source": [
    "def stars_one_hot(r):\n",
    "    import numpy as np\n",
    "    s = np.zeros(5)\n",
    "    s[r[0]-1] = 1\n",
    "    return (r[1], s)"
   ]
  },
  {
   "cell_type": "code",
   "execution_count": 15,
   "metadata": {
    "ExecuteTime": {
     "end_time": "2017-02-11T11:23:16.044721",
     "start_time": "2017-02-11T11:23:16.015846"
    },
    "collapsed": false
   },
   "outputs": [],
   "source": [
    "words_train_oh_rdd = word_train_rdd.map(stars_one_hot).take(10)"
   ]
  },
  {
   "cell_type": "code",
   "execution_count": 19,
   "metadata": {
    "ExecuteTime": {
     "end_time": "2017-02-11T11:24:35.986842",
     "start_time": "2017-02-11T11:24:35.982369"
    },
    "collapsed": true
   },
   "outputs": [],
   "source": [
    "def sum_one_hot_stars(vs):\n",
    "    import numpy as np\n",
    "    n = 0\n",
    "    sum_s = np.zeros(5)\n",
    "    for v in vs:\n",
    "        n += 1\n",
    "        sum_s += v\n",
    "    return (sum_s, n)"
   ]
  },
  {
   "cell_type": "code",
   "execution_count": 29,
   "metadata": {
    "ExecuteTime": {
     "end_time": "2017-02-11T11:28:51.088374",
     "start_time": "2017-02-11T11:28:51.074176"
    },
    "collapsed": false
   },
   "outputs": [],
   "source": [
    "word_count = word_train_rdd\\\n",
    "    .map(stars_one_hot).groupByKey()\\\n",
    "    .map(lambda (k,vs): (k, sum_one_hot_stars(vs)))"
   ]
  },
  {
   "cell_type": "code",
   "execution_count": 30,
   "metadata": {
    "ExecuteTime": {
     "end_time": "2017-02-11T11:29:06.161591",
     "start_time": "2017-02-11T11:28:55.305872"
    },
    "collapsed": false
   },
   "outputs": [
    {
     "data": {
      "text/plain": [
       "[(u'mardi', (array([ 0.,  0.,  0.,  1.,  1.]), 2)),\n",
       " (u')it', (array([ 1.,  0.,  0.,  0.,  0.]), 1)),\n",
       " (u'outlining', (array([ 0.,  0.,  0.,  1.,  0.]), 1)),\n",
       " (u'kid/family', (array([ 0.,  0.,  0.,  0.,  1.]), 1))]"
      ]
     },
     "execution_count": 30,
     "metadata": {},
     "output_type": "execute_result"
    }
   ],
   "source": [
    "word_count.take(4)"
   ]
  },
  {
   "cell_type": "markdown",
   "metadata": {
    "ExecuteTime": {
     "end_time": "2017-02-10T20:06:44.405998",
     "start_time": "2017-02-10T20:06:44.400309"
    },
    "collapsed": false
   },
   "source": [
    "Compute number of documents per star rating"
   ]
  },
  {
   "cell_type": "code",
   "execution_count": 31,
   "metadata": {
    "ExecuteTime": {
     "end_time": "2017-02-11T11:30:06.729382",
     "start_time": "2017-02-11T11:30:00.668890"
    },
    "collapsed": false
   },
   "outputs": [
    {
     "data": {
      "text/plain": [
       "[(1, 2722.0), (2, 1818.0), (3, 2502.0), (4, 5243.0), (5, 9147.0)]"
      ]
     },
     "execution_count": 31,
     "metadata": {},
     "output_type": "execute_result"
    }
   ],
   "source": [
    "rtrain_rdd.map(json_review).map(lambda t: (t[0], 1.0)).reduceByKey(lambda a,b: a+b).take(10)"
   ]
  },
  {
   "cell_type": "code",
   "execution_count": 35,
   "metadata": {
    "ExecuteTime": {
     "end_time": "2017-02-11T11:43:48.980467",
     "start_time": "2017-02-11T11:43:48.976007"
    },
    "collapsed": true
   },
   "outputs": [],
   "source": [
    "def calc_perc_freq(t):\n",
    "    import numpy as np\n",
    "    freq = t[1][0]\n",
    "    tot = t[1][1]\n",
    "    freq/float(tot)\n",
    "    return (t[0], freq/float(tot))"
   ]
  },
  {
   "cell_type": "code",
   "execution_count": null,
   "metadata": {
    "collapsed": true
   },
   "outputs": [],
   "source": []
  },
  {
   "cell_type": "code",
   "execution_count": 34,
   "metadata": {
    "ExecuteTime": {
     "end_time": "2017-02-11T11:32:50.494839",
     "start_time": "2017-02-11T11:32:43.873123"
    },
    "collapsed": false,
    "scrolled": true
   },
   "outputs": [
    {
     "data": {
      "text/plain": [
       "[(u'the', (array([ 17847.,  13450.,  16996.,  30849.,  38942.]), 118084)),\n",
       " (u'and', (array([ 11872.,   7709.,   9748.,  20508.,  32636.]), 82473)),\n",
       " (u'i', (array([ 12618.,   7913.,   9304.,  16307.,  24407.]), 70549)),\n",
       " (u'a', (array([  8606.,   6251.,   8940.,  17368.,  20886.]), 62051)),\n",
       " (u'to', (array([ 11862.,   6562.,   7717.,  12924.,  19455.]), 58520)),\n",
       " (u'was', (array([  6971.,   5409.,   6668.,  10388.,  12798.]), 42234)),\n",
       " (u'it', (array([  5347.,   4102.,   5544.,   9365.,  11333.]), 35691)),\n",
       " (u'of', (array([  5004.,   3788.,   5081.,   9761.,  11955.]), 35589)),\n",
       " (u'is', (array([  3145.,   2575.,   3901.,   8142.,  11930.]), 29693)),\n",
       " (u'for', (array([ 4453.,  2937.,  3874.,  7323.,  9461.]), 28048))]"
      ]
     },
     "execution_count": 34,
     "metadata": {},
     "output_type": "execute_result"
    }
   ],
   "source": [
    "word_count.sortBy(lambda r: r[1][1], ascending=False).take(10)"
   ]
  },
  {
   "cell_type": "code",
   "execution_count": 36,
   "metadata": {
    "ExecuteTime": {
     "end_time": "2017-02-11T11:44:41.620393",
     "start_time": "2017-02-11T11:44:34.982557"
    },
    "collapsed": false
   },
   "outputs": [
    {
     "data": {
      "text/plain": [
       "[(u'the',\n",
       "  array([ 0.15113817,  0.11390197,  0.14393144,  0.26124623,  0.32978219])),\n",
       " (u'and',\n",
       "  array([ 0.14395014,  0.09347302,  0.11819626,  0.2486632 ,  0.39571739])),\n",
       " (u'i',\n",
       "  array([ 0.17885441,  0.11216318,  0.13187997,  0.23114431,  0.34595813])),\n",
       " (u'a',\n",
       "  array([ 0.13869237,  0.10073971,  0.14407504,  0.27989879,  0.33659409])),\n",
       " (u'to',\n",
       "  array([ 0.20269993,  0.1121326 ,  0.13186945,  0.22084757,  0.33245044])),\n",
       " (u'was',\n",
       "  array([ 0.16505659,  0.12807217,  0.15788227,  0.24596297,  0.303026  ])),\n",
       " (u'it',\n",
       "  array([ 0.14981368,  0.11493093,  0.15533328,  0.26239108,  0.31753103])),\n",
       " (u'of',\n",
       "  array([ 0.14060524,  0.10643738,  0.14276883,  0.27427014,  0.3359184 ])),\n",
       " (u'is',\n",
       "  array([ 0.10591722,  0.08672078,  0.13137777,  0.27420604,  0.4017782 ])),\n",
       " (u'for',\n",
       "  array([ 0.15876355,  0.10471335,  0.13812037,  0.26108813,  0.3373146 ]))]"
      ]
     },
     "execution_count": 36,
     "metadata": {},
     "output_type": "execute_result"
    }
   ],
   "source": [
    "word_count.sortBy(lambda r: r[1][1], ascending=False).map(calc_perc_freq).take(10)"
   ]
  },
  {
   "cell_type": "code",
   "execution_count": 46,
   "metadata": {
    "ExecuteTime": {
     "end_time": "2017-02-11T11:51:59.735628",
     "start_time": "2017-02-11T11:51:59.732111"
    },
    "collapsed": true
   },
   "outputs": [],
   "source": [
    "def entropy(t):\n",
    "    import numpy as np\n",
    "    p = t[1]\n",
    "    return (t[0], t[1], -np.sum(np.log(p)*p))"
   ]
  },
  {
   "cell_type": "code",
   "execution_count": 47,
   "metadata": {
    "ExecuteTime": {
     "end_time": "2017-02-11T11:52:08.499144",
     "start_time": "2017-02-11T11:52:01.998804"
    },
    "collapsed": false
   },
   "outputs": [
    {
     "data": {
      "text/plain": [
       "[(u'the',\n",
       "  array([ 0.15113817,  0.11390197,  0.14393144,  0.26124623,  0.32978219]),\n",
       "  1.5285303036793383),\n",
       " (u'and',\n",
       "  array([ 0.14395014,  0.09347302,  0.11819626,  0.2486632 ,  0.39571739]),\n",
       "  1.4658583524387434),\n",
       " (u'i',\n",
       "  array([ 0.17885441,  0.11216318,  0.13187997,  0.23114431,  0.34595813]),\n",
       "  1.526175649047415),\n",
       " (u'a',\n",
       "  array([ 0.13869237,  0.10073971,  0.14407504,  0.27989879,  0.33659409]),\n",
       "  1.5072521715397478),\n",
       " (u'to',\n",
       "  array([ 0.20269993,  0.1121326 ,  0.13186945,  0.22084757,  0.33245044]),\n",
       "  1.5356872811173026),\n",
       " (u'was',\n",
       "  array([ 0.16505659,  0.12807217,  0.15788227,  0.24596297,  0.303026  ]),\n",
       "  1.558763921237214),\n",
       " (u'it',\n",
       "  array([ 0.14981368,  0.11493093,  0.15533328,  0.26239108,  0.31753103]),\n",
       "  1.5376271691888137),\n",
       " (u'of',\n",
       "  array([ 0.14060524,  0.10643738,  0.14276883,  0.27427014,  0.3359184 ]),\n",
       "  1.5134400071539653),\n",
       " (u'is',\n",
       "  array([ 0.10591722,  0.08672078,  0.13137777,  0.27420604,  0.4017782 ]),\n",
       "  1.4376387152249903),\n",
       " (u'for',\n",
       "  array([ 0.15876355,  0.10471335,  0.13812037,  0.26108813,  0.3373146 ]),\n",
       "  1.5190822110568809)]"
      ]
     },
     "execution_count": 47,
     "metadata": {},
     "output_type": "execute_result"
    }
   ],
   "source": [
    "word_count.sortBy(lambda r: r[1][1], ascending=False).map(calc_perc_freq).map(entropy).take(10)"
   ]
  },
  {
   "cell_type": "code",
   "execution_count": 48,
   "metadata": {
    "ExecuteTime": {
     "end_time": "2017-02-11T11:58:08.858515",
     "start_time": "2017-02-11T11:58:08.855561"
    },
    "collapsed": true
   },
   "outputs": [],
   "source": [
    "word_freq = word_count.map(calc_perc_freq).map(entropy)"
   ]
  },
  {
   "cell_type": "code",
   "execution_count": 53,
   "metadata": {
    "ExecuteTime": {
     "end_time": "2017-02-11T12:00:12.715975",
     "start_time": "2017-02-11T12:00:05.466591"
    },
    "collapsed": false
   },
   "outputs": [
    {
     "data": {
      "text/plain": [
       "[(u'thorough',\n",
       "  array([ 0.02020202,  0.01010101,  0.04040404,  0.08080808,  0.84848485]),\n",
       "  0.59758838304492856),\n",
       " (u'talented',\n",
       "  array([ 0.03389831,  0.03389831,  0.03389831,  0.06779661,  0.83050847]),\n",
       "  0.68087210263012732),\n",
       " (u'gem',\n",
       "  array([ 0.01449275,  0.00483092,  0.01449275,  0.23188406,  0.73429952]),\n",
       "  0.71417211971840555),\n",
       " (u'caring',\n",
       "  array([ 0.04054054,  0.04054054,  0.01351351,  0.10810811,  0.7972973 ]),\n",
       "  0.73917434650302383),\n",
       " (u'andrew',\n",
       "  array([ 0.03846154,  0.03846154,  0.03846154,  0.07692308,  0.80769231]),\n",
       "  0.74574017058641384),\n",
       " (u'chris', array([ 0.01,  0.02,  0.05,  0.15,  0.77]), 0.75989764176251928),\n",
       " (u'highly',\n",
       "  array([ 0.0385439 ,  0.01498929,  0.02141328,  0.16381156,  0.76124197]),\n",
       "  0.77477704911400291),\n",
       " (u'carlos',\n",
       "  array([ 0.04166667,  0.04166667,  0.08333333,  0.04166667,  0.79166667]),\n",
       "  0.78927737346118487),\n",
       " (u'cousins',\n",
       "  array([ 0.05263158,  0.05263158,  0.05263158,  0.05263158,  0.78947368]),\n",
       "  0.80650460987522199),\n",
       " (u'mattress',\n",
       "  array([ 0.16666667,  0.04166667,  0.02083333,  0.02083333,  0.75      ]),\n",
       "  0.80810708426250466)]"
      ]
     },
     "execution_count": 53,
     "metadata": {},
     "output_type": "execute_result"
    }
   ],
   "source": [
    "word_freq.filter(lambda x: ~np.isnan(x[2])).sortBy(lambda x: x[2], ascending=True).take(10)"
   ]
  },
  {
   "cell_type": "code",
   "execution_count": 54,
   "metadata": {
    "ExecuteTime": {
     "end_time": "2017-02-11T12:01:13.165071",
     "start_time": "2017-02-11T12:01:05.761550"
    },
    "collapsed": false
   },
   "outputs": [
    {
     "data": {
      "text/plain": [
       "[(u'substitutions', array([ 0.2,  0.2,  0.2,  0.2,  0.2]), 1.6094379124341005),\n",
       " (u'thy', array([ 0.2,  0.2,  0.2,  0.2,  0.2]), 1.6094379124341005),\n",
       " (u'\\nother', array([ 0.2,  0.2,  0.2,  0.2,  0.2]), 1.6094379124341005),\n",
       " (u'cushions', array([ 0.2,  0.2,  0.2,  0.2,  0.2]), 1.6094379124341005),\n",
       " (u'method', array([ 0.2,  0.2,  0.2,  0.2,  0.2]), 1.6094379124341005),\n",
       " (u'stacking', array([ 0.2,  0.2,  0.2,  0.2,  0.2]), 1.6094379124341005),\n",
       " (u'(does', array([ 0.2,  0.2,  0.2,  0.2,  0.2]), 1.6094379124341005),\n",
       " (u'bitches', array([ 0.2,  0.2,  0.2,  0.2,  0.2]), 1.6094379124341005),\n",
       " (u'modest', array([ 0.2,  0.2,  0.2,  0.2,  0.2]), 1.6094379124341005),\n",
       " (u'strapped', array([ 0.2,  0.2,  0.2,  0.2,  0.2]), 1.6094379124341005)]"
      ]
     },
     "execution_count": 54,
     "metadata": {},
     "output_type": "execute_result"
    }
   ],
   "source": [
    "word_freq.filter(lambda x: ~np.isnan(x[2])).sortBy(lambda x: x[2], ascending=False).take(10)"
   ]
  },
  {
   "cell_type": "code",
   "execution_count": 38,
   "metadata": {
    "ExecuteTime": {
     "end_time": "2017-02-11T11:47:31.824802",
     "start_time": "2017-02-11T11:47:31.822105"
    },
    "collapsed": true
   },
   "outputs": [],
   "source": [
    "import numpy as np\n",
    "x = np.array([ 0.10591722,  0.08672078,  0.13137777,  0.27420604,  0.4017782 ])"
   ]
  },
  {
   "cell_type": "code",
   "execution_count": 43,
   "metadata": {
    "ExecuteTime": {
     "end_time": "2017-02-11T11:49:00.568602",
     "start_time": "2017-02-11T11:49:00.564444"
    },
    "collapsed": false
   },
   "outputs": [
    {
     "data": {
      "text/plain": [
       "1.4376387251647471"
      ]
     },
     "execution_count": 43,
     "metadata": {},
     "output_type": "execute_result"
    }
   ],
   "source": [
    "-np.sum(np.log(x)*x)"
   ]
  },
  {
   "cell_type": "code",
   "execution_count": 41,
   "metadata": {
    "ExecuteTime": {
     "end_time": "2017-02-11T11:48:45.515061",
     "start_time": "2017-02-11T11:48:45.508839"
    },
    "collapsed": false
   },
   "outputs": [
    {
     "data": {
      "text/plain": [
       "array([3, 0])"
      ]
     },
     "execution_count": 41,
     "metadata": {},
     "output_type": "execute_result"
    }
   ],
   "source": [
    "np.array([1,0])*np.array([3,7])"
   ]
  },
  {
   "cell_type": "code",
   "execution_count": null,
   "metadata": {
    "collapsed": true
   },
   "outputs": [],
   "source": []
  },
  {
   "cell_type": "code",
   "execution_count": null,
   "metadata": {
    "ExecuteTime": {
     "end_time": "2017-02-10T19:56:28.390729",
     "start_time": "2017-02-10T19:56:28.387552"
    },
    "collapsed": true
   },
   "outputs": [],
   "source": [
    "t = np.zeros(5)\n",
    "t[2] = 1"
   ]
  },
  {
   "cell_type": "code",
   "execution_count": null,
   "metadata": {
    "collapsed": true
   },
   "outputs": [],
   "source": []
  },
  {
   "cell_type": "code",
   "execution_count": null,
   "metadata": {
    "collapsed": true
   },
   "outputs": [],
   "source": []
  },
  {
   "cell_type": "code",
   "execution_count": null,
   "metadata": {
    "collapsed": true
   },
   "outputs": [],
   "source": []
  },
  {
   "cell_type": "code",
   "execution_count": null,
   "metadata": {
    "ExecuteTime": {
     "end_time": "2017-02-10T19:56:33.105890",
     "start_time": "2017-02-10T19:56:33.100471"
    },
    "collapsed": false
   },
   "outputs": [],
   "source": [
    "s+t"
   ]
  },
  {
   "cell_type": "code",
   "execution_count": null,
   "metadata": {
    "ExecuteTime": {
     "end_time": "2017-02-10T20:01:03.037523",
     "start_time": "2017-02-10T20:01:03.028296"
    },
    "collapsed": false
   },
   "outputs": [],
   "source": [
    "np.sum([s, t])"
   ]
  },
  {
   "cell_type": "code",
   "execution_count": null,
   "metadata": {
    "collapsed": true
   },
   "outputs": [],
   "source": []
  },
  {
   "cell_type": "code",
   "execution_count": null,
   "metadata": {
    "collapsed": true
   },
   "outputs": [],
   "source": []
  },
  {
   "cell_type": "code",
   "execution_count": null,
   "metadata": {
    "collapsed": true
   },
   "outputs": [],
   "source": []
  },
  {
   "cell_type": "code",
   "execution_count": null,
   "metadata": {
    "collapsed": true
   },
   "outputs": [],
   "source": [
    "unicode.lower"
   ]
  }
 ],
 "metadata": {
  "hide_input": false,
  "kernelspec": {
   "display_name": "PySpark 1.6.1 - Cluster",
   "language": "python",
   "name": "pyspark"
  },
  "language_info": {
   "codemirror_mode": {
    "name": "ipython",
    "version": 2
   },
   "file_extension": ".py",
   "mimetype": "text/x-python",
   "name": "python",
   "nbconvert_exporter": "python",
   "pygments_lexer": "ipython2",
   "version": "2.7.5"
  },
  "latex_envs": {
   "bibliofile": "biblio.bib",
   "cite_by": "apalike",
   "current_citInitial": 1,
   "eqLabelWithNumbers": true,
   "eqNumInitial": 0
  },
  "toc": {
   "nav_menu": {
    "height": "12px",
    "width": "252px"
   },
   "navigate_menu": true,
   "number_sections": true,
   "sideBar": true,
   "threshold": 4,
   "toc_cell": false,
   "toc_section_display": "block",
   "toc_window_display": false
  }
 },
 "nbformat": 4,
 "nbformat_minor": 0
}
