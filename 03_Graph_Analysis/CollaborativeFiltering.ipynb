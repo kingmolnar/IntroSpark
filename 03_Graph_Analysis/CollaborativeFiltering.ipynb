{
 "cells": [
  {
   "cell_type": "markdown",
   "metadata": {
    "heading_collapsed": true
   },
   "source": [
    "# Loading Yelp Data"
   ]
  },
  {
   "cell_type": "code",
   "execution_count": 1,
   "metadata": {
    "ExecuteTime": {
     "end_time": "2017-02-24T16:51:34.339674",
     "start_time": "2017-02-24T21:51:33.507Z"
    },
    "collapsed": false,
    "hidden": true
   },
   "outputs": [
    {
     "name": "stdout",
     "output_type": "stream",
     "text": [
      "Version 1.6.1\n",
      "Monitor this application at http://arc.insight.gsu.edu:8088/proxy/application_1487525026281_0038\n"
     ]
    }
   ],
   "source": [
    "println(\"Version \"+sc.version)\n",
    "println(\"Monitor this application at http://arc.insight.gsu.edu:8088/proxy/\"+sc.applicationId)"
   ]
  },
  {
   "cell_type": "markdown",
   "metadata": {
    "hidden": true
   },
   "source": [
    "## Parsing JSON\n",
    "There are several packages that provide JSON parsing API. Here, we use the  [Play Framework](https://www.playframework.com/) API https://www.playframework.com/documentation/2.1.1/ScalaJson\n"
   ]
  },
  {
   "cell_type": "markdown",
   "metadata": {
    "hidden": true
   },
   "source": [
    "## DateTime processing\n",
    "Dealing with dates and times can become quite complex. We use the http://www.joda.org/joda-time/ package."
   ]
  },
  {
   "cell_type": "code",
   "execution_count": 2,
   "metadata": {
    "ExecuteTime": {
     "end_time": "2017-02-11T14:44:38.620573",
     "start_time": "2017-02-11T19:44:38.396Z"
    },
    "collapsed": true,
    "hidden": true
   },
   "outputs": [],
   "source": [
    "val DATADIR = \"/user/pmolnar/yelp/data\"\n",
    "import play.api.libs.json._\n",
    "import org.joda.time._\n",
    "import org.apache.spark.sql._\n",
    "import org.apache.spark.sql.types.{StructType,StructField,StringType,IntegerType,FloatType,DateType};\n",
    "import java.sql.Date"
   ]
  },
  {
   "cell_type": "code",
   "execution_count": 3,
   "metadata": {
    "ExecuteTime": {
     "end_time": "2017-02-11T14:44:41.177343",
     "start_time": "2017-02-11T19:44:40.972Z"
    },
    "collapsed": false,
    "hidden": true
   },
   "outputs": [],
   "source": [
    "def parse_review(s:String) = {\n",
    "    val elem = Json.parse(s)\n",
    "    //val dt = DateTime.parse((elem \\ \"date\").as[String])\n",
    "    val dt = Date.valueOf((elem \\ \"date\").as[String])\n",
    "    Row(\n",
    "         (elem \\ \"business_id\").as[String]\n",
    "        ,(elem \\ \"user_id\").as[String]\n",
    "        ,(elem \\ \"review_id\").as[String]\n",
    "        ,dt\n",
    "        ,(elem \\ \"text\").as[String]\n",
    "        ,(elem \\ \"stars\").as[Float]\n",
    "        ,(elem \\ \"votes\" \\ \"funny\").as[Int]\n",
    "        ,(elem \\ \"votes\" \\ \"useful\").as[Int]\n",
    "        ,(elem \\ \"votes\" \\ \"cool\").as[Int]\n",
    "    )\n",
    "}\n",
    "\n",
    "val schema = StructType(Seq(\n",
    "     StructField(\"business_id\", StringType, false)\n",
    "     ,StructField(\"user_id\", StringType, false)\n",
    "     ,StructField(\"review_id\", StringType, false)\n",
    "     ,StructField(\"date\", DateType, false)\n",
    "     ,StructField(\"text\", StringType, false)\n",
    "     ,StructField(\"stars\", FloatType, false)\n",
    "     ,StructField(\"votes_funny\", IntegerType, false)\n",
    "     ,StructField(\"votes_useful\", IntegerType, false)\n",
    "     ,StructField(\"votes_cool\", IntegerType, false)\n",
    "     )\n",
    ")"
   ]
  },
  {
   "cell_type": "code",
   "execution_count": 4,
   "metadata": {
    "ExecuteTime": {
     "end_time": "2017-02-11T12:28:32.636982",
     "start_time": "2017-02-11T17:28:26.992Z"
    },
    "collapsed": false,
    "hidden": true
   },
   "outputs": [],
   "source": [
    "val df = sqlContext.read.json(DATADIR+\"/review/review_aa.json.gz\")"
   ]
  },
  {
   "cell_type": "code",
   "execution_count": 27,
   "metadata": {
    "ExecuteTime": {
     "end_time": "2017-02-04T21:03:25.446297",
     "start_time": "2017-02-05T02:03:25.309Z"
    },
    "collapsed": false,
    "hidden": true
   },
   "outputs": [
    {
     "name": "stdout",
     "output_type": "stream",
     "text": [
      "root\n",
      " |-- business_id: string (nullable = true)\n",
      " |-- date: string (nullable = true)\n",
      " |-- review_id: string (nullable = true)\n",
      " |-- stars: long (nullable = true)\n",
      " |-- text: string (nullable = true)\n",
      " |-- type: string (nullable = true)\n",
      " |-- user_id: string (nullable = true)\n",
      " |-- votes: struct (nullable = true)\n",
      " |    |-- cool: long (nullable = true)\n",
      " |    |-- funny: long (nullable = true)\n",
      " |    |-- useful: long (nullable = true)\n",
      "\n"
     ]
    }
   ],
   "source": [
    "df.printSchema"
   ]
  },
  {
   "cell_type": "code",
   "execution_count": 4,
   "metadata": {
    "ExecuteTime": {
     "end_time": "2017-02-11T14:44:49.136561",
     "start_time": "2017-02-11T19:44:49.444Z"
    },
    "collapsed": false,
    "hidden": true
   },
   "outputs": [],
   "source": [
    "val review_rdd = sc.textFile(DATADIR+\"/review/review_aa.json.gz\")"
   ]
  },
  {
   "cell_type": "code",
   "execution_count": 5,
   "metadata": {
    "ExecuteTime": {
     "end_time": "2017-02-11T14:45:19.705983",
     "start_time": "2017-02-11T19:45:19.771Z"
    },
    "collapsed": false,
    "hidden": true
   },
   "outputs": [],
   "source": [
    "val review_df = sqlContext.createDataFrame(review_rdd.map(parse_review), schema)"
   ]
  },
  {
   "cell_type": "code",
   "execution_count": 25,
   "metadata": {
    "ExecuteTime": {
     "end_time": "2017-02-11T12:43:05.663333",
     "start_time": "2017-02-11T17:43:05.439Z"
    },
    "collapsed": false,
    "hidden": true
   },
   "outputs": [
    {
     "name": "stdout",
     "output_type": "stream",
     "text": [
      "root\n",
      " |-- business_id: string (nullable = false)\n",
      " |-- user_id: string (nullable = false)\n",
      " |-- review_id: string (nullable = false)\n",
      " |-- date: date (nullable = false)\n",
      " |-- text: string (nullable = false)\n",
      " |-- stars: float (nullable = false)\n",
      " |-- votes_funny: integer (nullable = false)\n",
      " |-- votes_useful: integer (nullable = false)\n",
      " |-- votes_cool: integer (nullable = false)\n",
      "\n"
     ]
    }
   ],
   "source": [
    "review_df.printSchema"
   ]
  },
  {
   "cell_type": "code",
   "execution_count": 6,
   "metadata": {
    "ExecuteTime": {
     "end_time": "2017-02-11T14:46:17.916051",
     "start_time": "2017-02-11T19:46:11.082Z"
    },
    "collapsed": false,
    "hidden": true,
    "scrolled": false
   },
   "outputs": [
    {
     "data": {
      "text/plain": [
       "268506"
      ]
     },
     "execution_count": 6,
     "metadata": {},
     "output_type": "execute_result"
    }
   ],
   "source": [
    "review_df.count()"
   ]
  },
  {
   "cell_type": "code",
   "execution_count": null,
   "metadata": {
    "collapsed": true,
    "hidden": true
   },
   "outputs": [],
   "source": []
  },
  {
   "cell_type": "code",
   "execution_count": 15,
   "metadata": {
    "ExecuteTime": {
     "end_time": "2017-02-04T20:04:36.504813",
     "start_time": "2017-02-05T01:04:07.625Z"
    },
    "collapsed": false,
    "hidden": true,
    "scrolled": true
   },
   "outputs": [
    {
     "name": "stdout",
     "output_type": "stream",
     "text": [
      "/review/review_aa.json.gz -> 268506\n",
      "/review/review_ab.json.gz -> 268506\n",
      "/review/review_ac.json.gz -> 101571\n",
      "/review/review_ad.json.gz -> 268506\n",
      "/review/review_ae.json.gz -> 268506\n",
      "/review/review_af.json.gz -> 268506\n",
      "/review/review_ag.json.gz -> 268506\n",
      "/review/review_ah.json.gz -> 268506\n",
      "/review/review_ai.json.gz -> 268506\n",
      "/review/review_aj.json.gz -> 268506\n",
      "/review/review_ak.json.gz -> 6\n"
     ]
    }
   ],
   "source": [
    "for (k <- ('a' to 'k')) {\n",
    "    val fn = \"/review/review_a\"+k+\".json.gz\"\n",
    "    val review_rdd = sc.textFile(DATADIR+fn)\n",
    "    val n = review_rdd.map(parse_review).map(t => (t._6, t._5.length)).count\n",
    "    println(fn+\" -> \"+n)\n",
    "}"
   ]
  },
  {
   "cell_type": "code",
   "execution_count": 5,
   "metadata": {
    "ExecuteTime": {
     "end_time": "2017-02-04T19:59:21.118516",
     "start_time": "2017-02-05T00:59:15.909Z"
    },
    "collapsed": false,
    "hidden": true
   },
   "outputs": [
    {
     "name": "stdout",
     "output_type": "stream",
     "text": [
      "268506\n"
     ]
    }
   ],
   "source": [
    "for (val review_rdd = sc.textFile(DATADIR+\"/review/review_aa.json.gz\")\n",
    "val n = review_rdd.map(parse_review).map(t => (t._6, t._5.length)).count\n",
    "println(n)"
   ]
  },
  {
   "cell_type": "code",
   "execution_count": 10,
   "metadata": {
    "ExecuteTime": {
     "end_time": "2017-02-04T16:04:59.463943",
     "start_time": "2017-02-04T21:04:58.619Z"
    },
    "collapsed": false,
    "hidden": true
   },
   "outputs": [
    {
     "data": {
      "text/plain": [
       "Array({\"votes\": {\"funny\": 0, \"useful\": 0, \"cool\": 0}, \"user_id\": \"PUFPaY9KxDAcGqfsorJp3Q\", \"review_id\": \"Ya85v4eqdd6k9Od8HbQjyA\", \"stars\": 4, \"date\": \"2012-08-01\", \"text\": \"Mr Hoagie is an institution. Walking in, it does seem like a throwback to 30 years ago, old fashioned menu board, booths out of the 70s, and a large selection of food. Their speciality is the Italian Hoagie, and it is voted the best in the area year after year. I usually order the burger, while the patties are obviously cooked from frozen, all of the other ingredients are very fresh. Overall, its a good alternative to Subway, which is down the road.\", \"type\": \"review\", \"business_id\": \"5UmKMjUEUNdYWqANhGckJw\"})"
      ]
     },
     "execution_count": 10,
     "metadata": {},
     "output_type": "execute_result"
    }
   ],
   "source": [
    "review_rdd.take(1)"
   ]
  },
  {
   "cell_type": "code",
   "execution_count": 20,
   "metadata": {
    "ExecuteTime": {
     "end_time": "2017-02-04T16:06:58.185684",
     "start_time": "2017-02-04T21:06:57.927Z"
    },
    "collapsed": false,
    "hidden": true
   },
   "outputs": [
    {
     "data": {
      "text/plain": [
       "{\"votes\": {\"funny\": 0, \"useful\": 0, \"cool\": 0}, \"user_id\": \"PUFPaY9KxDAcGqfsorJp3Q\", \"review_id\": \"Ya85v4eqdd6k9Od8HbQjyA\", \"stars\": 4, \"date\": \"2012-08-01\", \"text\": \"Mr Hoagie is an institution. Walking in, it does seem like a throwback to 30 years ago, old fashioned menu board, booths out of the 70s, and a large selection of food. Their speciality is the Italian Hoagie, and it is voted the best in the area year after year. I usually order the burger, while the patties are obviously cooked from frozen, all of the other ingredients are very fresh. Overall, its a good alternative to Subway, which is down the road.\", \"type\": \"review\", \"business_id\": \"5UmKMjUEUNdYWqANhGckJw\"}"
      ]
     },
     "execution_count": 20,
     "metadata": {},
     "output_type": "execute_result"
    }
   ],
   "source": [
    "review_rdd.take(1)(0)"
   ]
  },
  {
   "cell_type": "code",
   "execution_count": 7,
   "metadata": {
    "ExecuteTime": {
     "end_time": "2017-02-11T14:47:04.754747",
     "start_time": "2017-02-11T19:47:05.227Z"
    },
    "collapsed": false,
    "hidden": true
   },
   "outputs": [],
   "source": [
    "import play.api.libs.json._\n"
   ]
  },
  {
   "cell_type": "code",
   "execution_count": null,
   "metadata": {
    "collapsed": true,
    "hidden": true
   },
   "outputs": [],
   "source": []
  },
  {
   "cell_type": "code",
   "execution_count": 76,
   "metadata": {
    "ExecuteTime": {
     "end_time": "2017-02-04T20:47:52.755488",
     "start_time": "2017-02-05T01:47:52.580Z"
    },
    "collapsed": false,
    "hidden": true
   },
   "outputs": [],
   "source": []
  },
  {
   "cell_type": "code",
   "execution_count": 8,
   "metadata": {
    "ExecuteTime": {
     "end_time": "2017-02-11T14:47:06.975945",
     "start_time": "2017-02-11T19:47:07.378Z"
    },
    "collapsed": false,
    "hidden": true
   },
   "outputs": [],
   "source": [
    "import org.apache.spark.sql.types.{StructType,StructField,StringType,IntegerType,FloatType,DateType};"
   ]
  },
  {
   "cell_type": "code",
   "execution_count": 9,
   "metadata": {
    "ExecuteTime": {
     "end_time": "2017-02-11T14:47:08.681086",
     "start_time": "2017-02-11T19:47:09.098Z"
    },
    "collapsed": false,
    "hidden": true
   },
   "outputs": [],
   "source": [
    "val schema = StructType(List(\n",
    "     StructField(\"business_id\", StringType, false)\n",
    "    ,StructField(\"user_id\", StringType, false)\n",
    "    ,StructField(\"review_id\", StringType, false)\n",
    "    ,StructField(\"date\", DateType, false)\n",
    "    ,StructField(\"text\", StringType, false)\n",
    "    ,StructField(\"stars\", FloatType, false)\n",
    "    ,StructField(\"votes_funny\", IntegerType, false)\n",
    "    ,StructField(\"votes_useful\", IntegerType, false)\n",
    "    ,StructField(\"votes_cool\", IntegerType, false)\n",
    "    ))"
   ]
  },
  {
   "cell_type": "code",
   "execution_count": 10,
   "metadata": {
    "ExecuteTime": {
     "end_time": "2017-02-11T14:47:11.732330",
     "start_time": "2017-02-11T19:47:12.166Z"
    },
    "collapsed": false,
    "hidden": true
   },
   "outputs": [],
   "source": [
    "val review_tup_rdd = review_rdd.map(parse_review)"
   ]
  },
  {
   "cell_type": "code",
   "execution_count": 11,
   "metadata": {
    "ExecuteTime": {
     "end_time": "2017-02-11T14:47:14.370063",
     "start_time": "2017-02-11T19:47:14.874Z"
    },
    "collapsed": true,
    "hidden": true
   },
   "outputs": [],
   "source": [
    "val sqlContext = new org.apache.spark.sql.SQLContext(sc)"
   ]
  },
  {
   "cell_type": "code",
   "execution_count": 12,
   "metadata": {
    "ExecuteTime": {
     "end_time": "2017-02-11T14:47:17.520447",
     "start_time": "2017-02-11T19:47:17.938Z"
    },
    "collapsed": false,
    "hidden": true
   },
   "outputs": [],
   "source": [
    "val review_df = sqlContext.createDataFrame(review_rdd.map(parse_review), schema)"
   ]
  },
  {
   "cell_type": "code",
   "execution_count": 13,
   "metadata": {
    "ExecuteTime": {
     "end_time": "2017-02-11T14:47:38.503859",
     "start_time": "2017-02-11T19:47:39.002Z"
    },
    "collapsed": false,
    "hidden": true
   },
   "outputs": [
    {
     "name": "stdout",
     "output_type": "stream",
     "text": [
      "root\n",
      " |-- business_id: string (nullable = false)\n",
      " |-- user_id: string (nullable = false)\n",
      " |-- review_id: string (nullable = false)\n",
      " |-- date: date (nullable = false)\n",
      " |-- text: string (nullable = false)\n",
      " |-- stars: float (nullable = false)\n",
      " |-- votes_funny: integer (nullable = false)\n",
      " |-- votes_useful: integer (nullable = false)\n",
      " |-- votes_cool: integer (nullable = false)\n",
      "\n"
     ]
    }
   ],
   "source": [
    "review_df.printSchema"
   ]
  },
  {
   "cell_type": "code",
   "execution_count": 14,
   "metadata": {
    "ExecuteTime": {
     "end_time": "2017-02-11T14:47:53.353802",
     "start_time": "2017-02-11T19:47:53.569Z"
    },
    "collapsed": false,
    "hidden": true
   },
   "outputs": [
    {
     "name": "stdout",
     "output_type": "stream",
     "text": [
      "+--------------------+--------------------+--------------------+----------+--------------------+-----+-----------+------------+----------+\n",
      "|         business_id|             user_id|           review_id|      date|                text|stars|votes_funny|votes_useful|votes_cool|\n",
      "+--------------------+--------------------+--------------------+----------+--------------------+-----+-----------+------------+----------+\n",
      "|5UmKMjUEUNdYWqANh...|PUFPaY9KxDAcGqfso...|Ya85v4eqdd6k9Od8H...|2012-08-01|Mr Hoagie is an i...|  4.0|          0|           0|         0|\n",
      "|5UmKMjUEUNdYWqANh...|Iu6AxdBYGR4A0wspR...|KPvLNJ21_4wbYNctr...|2014-02-13|Excellent food. S...|  5.0|          0|           0|         0|\n",
      "|5UmKMjUEUNdYWqANh...|auESFwWvW42h6alXg...|fFSoGV46Yxuwbr3fH...|2015-10-31|Yes this place is...|  5.0|          1|           1|         0|\n",
      "|5UmKMjUEUNdYWqANh...|qiczib2fO_1VBG8Io...|pVMIt0a_QsKtuDfWV...|2015-12-26|PROS: Italian hoa...|  3.0|          0|           0|         0|\n",
      "|5UmKMjUEUNdYWqANh...|qEE5EvV-f-s7yHC0Z...|AEyiQ_Y44isJmNbMT...|2016-04-08|First the only re...|  2.0|          0|           1|         0|\n",
      "|5UmKMjUEUNdYWqANh...|jBoH6qKGO7wdYyg_Y...|V-bqYx62zpxfH2oFk...|2016-04-10|Normally, I do no...|  1.0|          0|           0|         0|\n",
      "|5UmKMjUEUNdYWqANh...|bWrodc7hN_T4q2r-r...|3saY_LVFUpkAfd9t8...|2016-05-11|I like this place...|  4.0|          0|           0|         0|\n",
      "|UsFtqoBl7naz8AVUB...|uK8tzraOp4M5u3uYr...|Di3exaUCFNw1V4kSN...|2013-11-08|All the food is g...|  5.0|          0|           0|         0|\n",
      "|UsFtqoBl7naz8AVUB...|I_47G-R2_egp7ME5u...|0Lua2-PbqEQMjD9r8...|2014-03-29|We checked this p...|  3.0|          0|           0|         0|\n",
      "|UsFtqoBl7naz8AVUB...|PP_xoMSYlGr2pb67B...|7N9j5YbBHBW6qguE5...|2014-10-29|Wing sauce is lik...|  1.0|          0|           0|         0|\n",
      "|UsFtqoBl7naz8AVUB...|JPPhyFE-UE453zA6K...|mjCJR33jvUNt41iJC...|2014-11-28|Cold cheap beer. ...|  4.0|          0|           0|         0|\n",
      "|UsFtqoBl7naz8AVUB...|pl78RcFgklDns8atQ...|kG7wxkBu62X6yxUuZ...|2016-02-24|Possibly the most...|  2.0|          0|           0|         0|\n",
      "|cE27W9VPgO88Qxe4o...|fhNxoMwwTipzjO8A9...|XsA6AojkWjOHA4Fmu...|2012-08-19|Decent range some...|  3.0|          0|           1|         0|\n",
      "|cE27W9VPgO88Qxe4o...|-6rEfobYjMxpUWLNx...|rkD7UDbQ9VM3Va6bI...|2013-04-18|Owning a driving ...|  1.0|          0|           1|         0|\n",
      "|cE27W9VPgO88Qxe4o...|KZuaJtFindQM9x2Zo...|WExNE-f93SL4D1q8s...|2013-07-14|This place is abs...|  1.0|          0|           0|         0|\n",
      "|cE27W9VPgO88Qxe4o...|H9E5VejGEsRhwcbOM...|iS34GJhMkkt9kCoTJ...|2013-08-16|Before I finally ...|  4.0|          0|           0|         0|\n",
      "|cE27W9VPgO88Qxe4o...|ljwgUJowB69klaR8A...|S-G0D8Cy7PnqShoBZ...|2014-07-11|I drove by yester...|  4.0|          0|           0|         0|\n",
      "|mVHrayjG3uZ_RLHkL...|LWbYpcangjBMm4KPx...|6w6gMZ3iBLGcUM4RB...|2012-12-01|This place was DE...|  5.0|          0|           5|         0|\n",
      "|mVHrayjG3uZ_RLHkL...|m1FpV3EAeggaAdfPx...|jVVv_DA5mCDB6medi...|2013-03-15|Can't miss stop f...|  5.0|          0|           0|         0|\n",
      "|mVHrayjG3uZ_RLHkL...|8fApIAMHn2MZJFUiC...|3Es8GsjkssusYgeU6...|2013-03-30|This place should...|  5.0|          0|           3|         1|\n",
      "+--------------------+--------------------+--------------------+----------+--------------------+-----+-----------+------------+----------+\n",
      "only showing top 20 rows\n",
      "\n"
     ]
    }
   ],
   "source": [
    "review_df.show"
   ]
  },
  {
   "cell_type": "code",
   "execution_count": 15,
   "metadata": {
    "ExecuteTime": {
     "end_time": "2017-02-11T14:48:35.774134",
     "start_time": "2017-02-11T19:48:36.055Z"
    },
    "collapsed": false,
    "hidden": true
   },
   "outputs": [],
   "source": [
    "val t = review_rdd.map(parse_review).sample(false, 0.01).first()"
   ]
  },
  {
   "cell_type": "code",
   "execution_count": 17,
   "metadata": {
    "ExecuteTime": {
     "end_time": "2017-02-11T14:48:54.964026",
     "start_time": "2017-02-11T19:48:55.463Z"
    },
    "collapsed": false,
    "hidden": true
   },
   "outputs": [
    {
     "data": {
      "text/plain": [
       "[mVHrayjG3uZ_RLHkLj-AMg,5OumCBQ_MyQsltSdbMyunA,vtqE5Sy9qk74qiS6ybleoQ,2016-02-22,This is my fourth time but my first review. It never disappoints! Always home cooking, old school like grandma's house. Don't expect ambiance, but if you're hungry and want nice wait staff, (usually family) squeaky clean, great value and generous portions-way more than I can ever finish, Emil's is your place.\n",
       "\n",
       "Tonight I had a cup of the chicken dumpling soup that was sooooo good! Very obviously home made. I had a side of onion rings that were perfectly cooked, which doesn't sound fancy, but I still couldn't finish. My husband had the chicken parm. Thursday is Italian night. It came with a huge salad, very fresh, an entire loaf of Italian bread, and a generous portion of nic..."
      ]
     },
     "execution_count": 17,
     "metadata": {},
     "output_type": "execute_result"
    }
   ],
   "source": [
    "t"
   ]
  },
  {
   "cell_type": "code",
   "execution_count": null,
   "metadata": {
    "collapsed": true,
    "hidden": true
   },
   "outputs": [],
   "source": []
  },
  {
   "cell_type": "code",
   "execution_count": null,
   "metadata": {
    "collapsed": true,
    "hidden": true
   },
   "outputs": [],
   "source": []
  },
  {
   "cell_type": "code",
   "execution_count": null,
   "metadata": {
    "collapsed": true,
    "hidden": true
   },
   "outputs": [],
   "source": []
  },
  {
   "cell_type": "code",
   "execution_count": 54,
   "metadata": {
    "ExecuteTime": {
     "end_time": "2017-02-04T20:31:54.735650",
     "start_time": "2017-02-05T01:31:54.611Z"
    },
    "collapsed": false,
    "hidden": true
   },
   "outputs": [],
   "source": [
    "val r = Json.parse(review_rdd.take(1)(0))"
   ]
  },
  {
   "cell_type": "code",
   "execution_count": 55,
   "metadata": {
    "ExecuteTime": {
     "end_time": "2017-02-04T20:31:56.415718",
     "start_time": "2017-02-05T01:31:56.298Z"
    },
    "collapsed": false,
    "hidden": true
   },
   "outputs": [
    {
     "data": {
      "text/plain": [
       "{\"funny\":0,\"useful\":0,\"cool\":0}"
      ]
     },
     "execution_count": 55,
     "metadata": {},
     "output_type": "execute_result"
    }
   ],
   "source": [
    "(r \\ \"votes\")"
   ]
  },
  {
   "cell_type": "code",
   "execution_count": null,
   "metadata": {
    "collapsed": true,
    "hidden": true
   },
   "outputs": [],
   "source": []
  },
  {
   "cell_type": "code",
   "execution_count": null,
   "metadata": {
    "collapsed": true,
    "hidden": true
   },
   "outputs": [],
   "source": []
  },
  {
   "cell_type": "code",
   "execution_count": null,
   "metadata": {
    "collapsed": true,
    "hidden": true
   },
   "outputs": [],
   "source": []
  },
  {
   "cell_type": "code",
   "execution_count": null,
   "metadata": {
    "collapsed": true,
    "hidden": true
   },
   "outputs": [],
   "source": []
  },
  {
   "cell_type": "code",
   "execution_count": 42,
   "metadata": {
    "ExecuteTime": {
     "end_time": "2017-02-04T20:27:21.330879",
     "start_time": "2017-02-05T01:27:21.204Z"
    },
    "collapsed": false,
    "hidden": true
   },
   "outputs": [
    {
     "data": {
      "text/plain": [
       "1"
      ]
     },
     "execution_count": 42,
     "metadata": {},
     "output_type": "execute_result"
    }
   ],
   "source": [
    "review_rdd.map(parse_review).map(t => (t._6, t._5.length)).dependencies.length"
   ]
  },
  {
   "cell_type": "code",
   "execution_count": 40,
   "metadata": {
    "ExecuteTime": {
     "end_time": "2017-02-04T20:27:00.510195",
     "start_time": "2017-02-05T01:27:00.379Z"
    },
    "collapsed": false,
    "hidden": true
   },
   "outputs": [
    {
     "name": "stdout",
     "output_type": "stream",
     "text": [
      "org.apache.spark.OneToOneDependency@38fc3be1\n"
     ]
    }
   ],
   "source": [
    "for (s <- dep1) println(s)"
   ]
  },
  {
   "cell_type": "code",
   "execution_count": null,
   "metadata": {
    "collapsed": true,
    "hidden": true
   },
   "outputs": [],
   "source": []
  },
  {
   "cell_type": "code",
   "execution_count": 25,
   "metadata": {
    "ExecuteTime": {
     "end_time": "2017-02-04T16:41:07.752186",
     "start_time": "2017-02-04T21:41:07.338Z"
    },
    "collapsed": false,
    "hidden": true
   },
   "outputs": [
    {
     "data": {
      "text/plain": [
       "Array(mr, hoagie, is, an, institution., walking, in,, it, does, seem, like, a, throwback, to, 30, years, ago,, old, fashioned, menu, board,, booths, out, of, the, 70s,, and, a, large, selection, of, food., their, speciality, is, the, italian, hoagie,, and, it, is, voted, the, best, in, the, area, year, after, year., i, usually, order, the, burger,, while, the, patties, are, obviously, cooked, from, frozen,, all, of, the, other, ingredients, are, very, fresh., overall,, its, a, good, alternative, to, subway,, which, is, down, the, road.)"
      ]
     },
     "execution_count": 25,
     "metadata": {},
     "output_type": "execute_result"
    }
   ],
   "source": [
    "(elem \\ \"text\").as[String].split(' ').map(x => x.toLowerCase())"
   ]
  },
  {
   "cell_type": "code",
   "execution_count": 32,
   "metadata": {
    "ExecuteTime": {
     "end_time": "2017-02-04T16:42:56.205699",
     "start_time": "2017-02-04T21:42:56.038Z"
    },
    "collapsed": false,
    "hidden": true
   },
   "outputs": [
    {
     "data": {
      "text/plain": [
       "abs23432"
      ]
     },
     "execution_count": 32,
     "metadata": {},
     "output_type": "execute_result"
    }
   ],
   "source": [
    "\"  abs23432  \".toString."
   ]
  },
  {
   "cell_type": "code",
   "execution_count": 34,
   "metadata": {
    "ExecuteTime": {
     "end_time": "2017-02-04T16:44:59.145715",
     "start_time": "2017-02-04T21:44:58.959Z"
    },
    "collapsed": false,
    "hidden": true
   },
   "outputs": [
    {
     "data": {
      "text/plain": [
       "4.0"
      ]
     },
     "execution_count": 34,
     "metadata": {},
     "output_type": "execute_result"
    }
   ],
   "source": [
    "(elem \\ \"stars\").as[Double]"
   ]
  },
  {
   "cell_type": "code",
   "execution_count": 54,
   "metadata": {
    "ExecuteTime": {
     "end_time": "2017-02-04T19:36:26.974790",
     "start_time": "2017-02-05T00:36:26.859Z"
    },
    "collapsed": false,
    "hidden": true
   },
   "outputs": [],
   "source": [
    "def foo(x: Int): Int = {\n",
    "    return x*x\n",
    "}"
   ]
  },
  {
   "cell_type": "code",
   "execution_count": 56,
   "metadata": {
    "ExecuteTime": {
     "end_time": "2017-02-04T19:36:39.008362",
     "start_time": "2017-02-05T00:36:38.907Z"
    },
    "collapsed": false,
    "hidden": true
   },
   "outputs": [
    {
     "data": {
      "text/plain": [
       "54756"
      ]
     },
     "execution_count": 56,
     "metadata": {},
     "output_type": "execute_result"
    }
   ],
   "source": [
    "foo(234)"
   ]
  },
  {
   "cell_type": "code",
   "execution_count": 52,
   "metadata": {
    "ExecuteTime": {
     "end_time": "2017-02-04T19:35:51.903782",
     "start_time": "2017-02-05T00:35:51.831Z"
    },
    "collapsed": true,
    "hidden": true
   },
   "outputs": [],
   "source": [
    "import scala.Int"
   ]
  },
  {
   "cell_type": "code",
   "execution_count": 61,
   "metadata": {
    "ExecuteTime": {
     "end_time": "2017-02-04T19:39:15.479870",
     "start_time": "2017-02-05T00:39:15.314Z"
    },
    "collapsed": false,
    "hidden": true
   },
   "outputs": [],
   "source": [
    "def boo(x: List[Any]) {\n",
    "    for(a <- x) {\n",
    "        println(a)\n",
    "    }\n",
    "}"
   ]
  },
  {
   "cell_type": "code",
   "execution_count": 65,
   "metadata": {
    "ExecuteTime": {
     "end_time": "2017-02-04T19:39:54.187489",
     "start_time": "2017-02-05T00:39:54.009Z"
    },
    "collapsed": false,
    "hidden": true
   },
   "outputs": [
    {
     "name": "stdout",
     "output_type": "stream",
     "text": [
      "234\n",
      "dsf\n",
      "234.0\n"
     ]
    }
   ],
   "source": [
    "boo(List(234, \"dsf\", 234.0))"
   ]
  },
  {
   "cell_type": "code",
   "execution_count": 48,
   "metadata": {
    "ExecuteTime": {
     "end_time": "2017-02-04T16:20:32.740905",
     "start_time": "2017-02-04T21:20:32.563Z"
    },
    "collapsed": false,
    "hidden": true
   },
   "outputs": [],
   "source": [
    "val row = review_rdd.take(1)(0)\n"
   ]
  },
  {
   "cell_type": "code",
   "execution_count": 73,
   "metadata": {
    "ExecuteTime": {
     "end_time": "2017-02-04T16:32:53.910676",
     "start_time": "2017-02-04T21:32:53.629Z"
    },
    "collapsed": false,
    "hidden": true
   },
   "outputs": [
    {
     "data": {
      "text/plain": [
       "Name: java.lang.ClassCastException\n",
       "Message: scala.Some cannot be cast to scala.collection.immutable.Map\n",
       "StackTrace: $line386.$read$$iwC$$iwC$$iwC$$iwC$$iwC$$iwC.<init>(<console>:35)\n",
       "$line386.$read$$iwC$$iwC$$iwC$$iwC$$iwC.<init>(<console>:40)\n",
       "$line386.$read$$iwC$$iwC$$iwC$$iwC.<init>(<console>:42)\n",
       "$line386.$read$$iwC$$iwC$$iwC.<init>(<console>:44)\n",
       "$line386.$read$$iwC$$iwC.<init>(<console>:46)\n",
       "$line386.$read$$iwC.<init>(<console>:48)\n",
       "$line386.$read.<init>(<console>:50)\n",
       "$line386.$read$.<init>(<console>:54)\n",
       "$line386.$read$.<clinit>(<console>)\n",
       "$line386.$eval$.<init>(<console>:7)\n",
       "$line386.$eval$.<clinit>(<console>)\n",
       "$line386.$eval.$print(<console>)\n",
       "sun.reflect.NativeMethodAccessorImpl.invoke0(Native Method)\n",
       "sun.reflect.NativeMethodAccessorImpl.invoke(NativeMethodAccessorImpl.java:62)\n",
       "sun.reflect.DelegatingMethodAccessorImpl.invoke(DelegatingMethodAccessorImpl.java:43)\n",
       "java.lang.reflect.Method.invoke(Method.java:497)\n",
       "org.apache.spark.repl.SparkIMain$ReadEvalPrint.call(SparkIMain.scala:1065)\n",
       "org.apache.spark.repl.SparkIMain$Request.loadAndRun(SparkIMain.scala:1346)\n",
       "org.apache.spark.repl.SparkIMain.loadAndRunReq$1(SparkIMain.scala:840)\n",
       "org.apache.spark.repl.SparkIMain.interpret(SparkIMain.scala:871)\n",
       "org.apache.spark.repl.SparkIMain.interpret(SparkIMain.scala:819)\n",
       "org.apache.toree.kernel.interpreter.scala.ScalaInterpreter$$anonfun$interpretAddTask$1$$anonfun$apply$3.apply(ScalaInterpreter.scala:361)\n",
       "org.apache.toree.kernel.interpreter.scala.ScalaInterpreter$$anonfun$interpretAddTask$1$$anonfun$apply$3.apply(ScalaInterpreter.scala:356)\n",
       "org.apache.toree.global.StreamState$.withStreams(StreamState.scala:81)\n",
       "org.apache.toree.kernel.interpreter.scala.ScalaInterpreter$$anonfun$interpretAddTask$1.apply(ScalaInterpreter.scala:355)\n",
       "org.apache.toree.kernel.interpreter.scala.ScalaInterpreter$$anonfun$interpretAddTask$1.apply(ScalaInterpreter.scala:355)\n",
       "org.apache.toree.utils.TaskManager$$anonfun$add$2$$anon$1.run(TaskManager.scala:140)\n",
       "java.util.concurrent.ThreadPoolExecutor.runWorker(ThreadPoolExecutor.java:1142)\n",
       "java.util.concurrent.ThreadPoolExecutor$Worker.run(ThreadPoolExecutor.java:617)\n",
       "java.lang.Thread.run(Thread.java:745)"
      ]
     },
     "execution_count": 73,
     "metadata": {},
     "output_type": "execute_result"
    }
   ],
   "source": [
    "elem.asInstanceOf[Map[String, Any]](\"votes\").asInstanceOf[Any]"
   ]
  },
  {
   "cell_type": "code",
   "execution_count": 62,
   "metadata": {
    "ExecuteTime": {
     "end_time": "2017-02-04T16:24:18.810029",
     "start_time": "2017-02-04T21:24:18.695Z"
    },
    "collapsed": false,
    "hidden": true
   },
   "outputs": [
    {
     "data": {
      "text/plain": [
       "Name: Compile Error\n",
       "Message: <console>:1: error: illegal start of simple expression\n",
       "       (val k in elem)\n",
       "        ^\n",
       "StackTrace: "
      ]
     },
     "execution_count": 62,
     "metadata": {},
     "output_type": "execute_result"
    }
   ],
   "source": [
    "(val k in elem)"
   ]
  },
  {
   "cell_type": "code",
   "execution_count": null,
   "metadata": {
    "collapsed": true,
    "hidden": true
   },
   "outputs": [],
   "source": []
  },
  {
   "cell_type": "code",
   "execution_count": 39,
   "metadata": {
    "ExecuteTime": {
     "end_time": "2017-02-04T16:16:35.244336",
     "start_time": "2017-02-04T21:16:35.091Z"
    },
    "collapsed": false,
    "hidden": true
   },
   "outputs": [
    {
     "data": {
      "text/plain": [
       "{\"votes\":{\"funny\":0,\"useful\":0,\"cool\":0},\"user_id\":\"PUFPaY9KxDAcGqfsorJp3Q\",\"review_id\":\"Ya85v4eqdd6k9Od8HbQjyA\",\"stars\":4,\"date\":\"2012-08-01\",\"text\":\"Mr Hoagie is an institution. Walking in, it does seem like a throwback to 30 years ago, old fashioned menu board, booths out of the 70s, and a large selection of food. Their speciality is the Italian Hoagie, and it is voted the best in the area year after year. I usually order the burger, while the patties are obviously cooked from frozen, all of the other ingredients are very fresh. Overall, its a good alternative to Subway, which is down the road.\",\"type\":\"review\",\"business_id\":\"5UmKMjUEUNdYWqANhGckJw\"}"
      ]
     },
     "execution_count": 39,
     "metadata": {},
     "output_type": "execute_result"
    }
   ],
   "source": [
    "elem.toString"
   ]
  },
  {
   "cell_type": "code",
   "execution_count": 41,
   "metadata": {
    "ExecuteTime": {
     "end_time": "2017-02-04T16:19:08.668932",
     "start_time": "2017-02-04T21:19:08.500Z"
    },
    "collapsed": false,
    "hidden": true
   },
   "outputs": [
    {
     "data": {
      "text/plain": [
       "{\"votes\":{\"funny\":0,\"useful\":0,\"cool\":0},\"user_id\":\"PUFPaY9KxDAcGqfsorJp3Q\",\"review_id\":\"Ya85v4eqdd6k9Od8HbQjyA\",\"stars\":4,\"date\":\"2012-08-01\",\"text\":\"Mr Hoagie is an institution. Walking in, it does seem like a throwback to 30 years ago, old fashioned menu board, booths out of the 70s, and a large selection of food. Their speciality is the Italian Hoagie, and it is voted the best in the area year after year. I usually order the burger, while the patties are obviously cooked from frozen, all of the other ingredients are very fresh. Overall, its a good alternative to Subway, which is down the road.\",\"type\":\"review\",\"business_id\":\"5UmKMjUEUNdYWqANhGckJw\"}"
      ]
     },
     "execution_count": 41,
     "metadata": {},
     "output_type": "execute_result"
    }
   ],
   "source": [
    "elem"
   ]
  },
  {
   "cell_type": "code",
   "execution_count": 33,
   "metadata": {
    "ExecuteTime": {
     "end_time": "2017-02-04T20:19:08.998718",
     "start_time": "2017-02-05T01:19:08.855Z"
    },
    "collapsed": false,
    "hidden": true
   },
   "outputs": [],
   "source": [
    "import org.joda.time._"
   ]
  },
  {
   "cell_type": "code",
   "execution_count": 31,
   "metadata": {
    "ExecuteTime": {
     "end_time": "2017-02-04T20:15:16.355491",
     "start_time": "2017-02-05T01:15:16.234Z"
    },
    "collapsed": false,
    "hidden": true
   },
   "outputs": [
    {
     "data": {
      "text/plain": [
       "2012-08-01T00:00:00.000-04:00"
      ]
     },
     "execution_count": 31,
     "metadata": {},
     "output_type": "execute_result"
    }
   ],
   "source": [
    "org.joda.time.DateTime.parse(\"2012-08-01\") //.withZone(org.joda.time.DateTimeZone.forOffsetHours(-5))"
   ]
  },
  {
   "cell_type": "code",
   "execution_count": 27,
   "metadata": {
    "ExecuteTime": {
     "end_time": "2017-02-04T20:12:11.688550",
     "start_time": "2017-02-05T01:12:11.604Z"
    },
    "collapsed": false,
    "hidden": true
   },
   "outputs": [],
   "source": [
    "import org.joda.time.DateTimeZone._"
   ]
  },
  {
   "cell_type": "code",
   "execution_count": 29,
   "metadata": {
    "ExecuteTime": {
     "end_time": "2017-02-04T20:14:14.479123",
     "start_time": "2017-02-05T01:14:14.384Z"
    },
    "collapsed": false,
    "hidden": true
   },
   "outputs": [
    {
     "data": {
      "text/plain": [
       "-05:00"
      ]
     },
     "execution_count": 29,
     "metadata": {},
     "output_type": "execute_result"
    }
   ],
   "source": [
    "org.joda.time.DateTimeZone.forOffsetHours(-5)"
   ]
  },
  {
   "cell_type": "code",
   "execution_count": 32,
   "metadata": {
    "ExecuteTime": {
     "end_time": "2017-02-04T20:18:34.904576",
     "start_time": "2017-02-05T01:18:34.721Z"
    },
    "collapsed": false,
    "hidden": true
   },
   "outputs": [
    {
     "data": {
      "text/plain": [
       "2012-08-01T00:00:00.000-04:00"
      ]
     },
     "execution_count": 32,
     "metadata": {},
     "output_type": "execute_result"
    }
   ],
   "source": [
    "parse(\"2012-08-01\")"
   ]
  },
  {
   "cell_type": "code",
   "execution_count": null,
   "metadata": {
    "collapsed": true,
    "hidden": true
   },
   "outputs": [],
   "source": []
  },
  {
   "cell_type": "code",
   "execution_count": 3,
   "metadata": {
    "ExecuteTime": {
     "end_time": "2017-02-05T16:39:24.115822",
     "start_time": "2017-02-05T21:39:21.167Z"
    },
    "collapsed": false,
    "hidden": true
   },
   "outputs": [],
   "source": [
    "val user_df = sqlContext.read.json(\"/user/pmolnar/yelp/data/user\")"
   ]
  },
  {
   "cell_type": "code",
   "execution_count": 4,
   "metadata": {
    "ExecuteTime": {
     "end_time": "2017-02-05T16:39:31.197635",
     "start_time": "2017-02-05T21:39:30.984Z"
    },
    "collapsed": false,
    "hidden": true
   },
   "outputs": [
    {
     "name": "stdout",
     "output_type": "stream",
     "text": [
      "root\n",
      " |-- average_stars: double (nullable = true)\n",
      " |-- compliments: struct (nullable = true)\n",
      " |    |-- cool: long (nullable = true)\n",
      " |    |-- cute: long (nullable = true)\n",
      " |    |-- funny: long (nullable = true)\n",
      " |    |-- hot: long (nullable = true)\n",
      " |    |-- list: long (nullable = true)\n",
      " |    |-- more: long (nullable = true)\n",
      " |    |-- note: long (nullable = true)\n",
      " |    |-- photos: long (nullable = true)\n",
      " |    |-- plain: long (nullable = true)\n",
      " |    |-- profile: long (nullable = true)\n",
      " |    |-- writer: long (nullable = true)\n",
      " |-- elite: array (nullable = true)\n",
      " |    |-- element: long (containsNull = true)\n",
      " |-- fans: long (nullable = true)\n",
      " |-- friends: array (nullable = true)\n",
      " |    |-- element: string (containsNull = true)\n",
      " |-- name: string (nullable = true)\n",
      " |-- review_count: long (nullable = true)\n",
      " |-- type: string (nullable = true)\n",
      " |-- user_id: string (nullable = true)\n",
      " |-- votes: struct (nullable = true)\n",
      " |    |-- cool: long (nullable = true)\n",
      " |    |-- funny: long (nullable = true)\n",
      " |    |-- useful: long (nullable = true)\n",
      " |-- yelping_since: string (nullable = true)\n",
      "\n"
     ]
    }
   ],
   "source": [
    "user_df.printSchema()"
   ]
  },
  {
   "cell_type": "code",
   "execution_count": 15,
   "metadata": {
    "ExecuteTime": {
     "end_time": "2017-02-05T16:43:40.439854",
     "start_time": "2017-02-05T21:43:40.174Z"
    },
    "collapsed": true,
    "hidden": true
   },
   "outputs": [],
   "source": [
    "val u = user_df.take(1)(0)"
   ]
  },
  {
   "cell_type": "markdown",
   "metadata": {
    "collapsed": true
   },
   "source": [
    "# Create Ratings Graph"
   ]
  },
  {
   "cell_type": "code",
   "execution_count": 7,
   "metadata": {
    "ExecuteTime": {
     "end_time": "2017-02-24T17:23:59.791795",
     "start_time": "2017-02-24T22:23:59.217Z"
    },
    "collapsed": true
   },
   "outputs": [],
   "source": [
    "import org.apache.spark.graphx._"
   ]
  },
  {
   "cell_type": "code",
   "execution_count": 6,
   "metadata": {
    "ExecuteTime": {
     "end_time": "2017-02-24T17:23:44.946662",
     "start_time": "2017-02-24T22:23:31.769Z"
    },
    "collapsed": false
   },
   "outputs": [
    {
     "name": "stdout",
     "output_type": "stream",
     "text": [
      "root\n",
      " |-- business_id: string (nullable = true)\n",
      " |-- date: string (nullable = true)\n",
      " |-- review_id: string (nullable = true)\n",
      " |-- stars: long (nullable = true)\n",
      " |-- text: string (nullable = true)\n",
      " |-- type: string (nullable = true)\n",
      " |-- user_id: string (nullable = true)\n",
      " |-- votes: struct (nullable = true)\n",
      " |    |-- cool: long (nullable = true)\n",
      " |    |-- funny: long (nullable = true)\n",
      " |    |-- useful: long (nullable = true)\n",
      "\n"
     ]
    }
   ],
   "source": [
    "val review_df = sqlContext.read.json(\"/user/pmolnar/yelp/data/review\")\n",
    "review_df.printSchema"
   ]
  },
  {
   "cell_type": "code",
   "execution_count": 19,
   "metadata": {
    "ExecuteTime": {
     "end_time": "2017-02-24T17:51:03.045593",
     "start_time": "2017-02-24T22:50:46.412Z"
    },
    "collapsed": false
   },
   "outputs": [
    {
     "name": "stdout",
     "output_type": "stream",
     "text": [
      "+--------------------+--------------------+----------+\n",
      "|             user_id|         business_id|max(stars)|\n",
      "+--------------------+--------------------+----------+\n",
      "|CFh9jAl5_DUSgNBA5...|QoDa50dc7g62xciFy...|         1|\n",
      "|PRTVZdLWYmhozxkpl...|6o3RK6rTcN3nw-j-r...|         3|\n",
      "|IbvOxKSps_K5wa3a2...|1u2NauOy8xDj7aFQE...|         4|\n",
      "|LwEfyIPU8woMqZsKq...|sbW8qHJgzEIH42B0S...|         2|\n",
      "|bEIXIfk1Zys1r_nmG...|McikHxxEqZ2X0joaR...|         3|\n",
      "|f3z4VItrhUYgvIIEX...|tv8cS4aaA1VDaInYg...|         3|\n",
      "|gtJJBaQwTwE45NnNF...|EoAY1JSVeJriBzId8...|         4|\n",
      "|RFBIkR3W31JgZVZPg...|EoAY1JSVeJriBzId8...|         2|\n",
      "|rONxiM8Hafy5kba3Z...|GlYPVYSOVT7zn00Kk...|         5|\n",
      "|UeYvqmyUICiVnUbN4...|4ykgzzzGEWjMD5lwk...|         5|\n",
      "|cn4YL6a5F-AJA9WTq...|imM-x_nAxVtYGVFJJ...|         5|\n",
      "|xWrZoK4WCF5F9So2U...|T49ZvBa6mD4xHSmjH...|         4|\n",
      "|Sjb5e5-gKoLXueFDM...|kKmvSJ6Z8UVPdrnL7...|         3|\n",
      "|HmckzZAXriuGNeSOf...|VkFDer80GOrelWALd...|         1|\n",
      "|5gi8yR20fvnim2dg3...|Ts4xsKPU7FNPPZRj-...|         2|\n",
      "|eUIlLKXcPijf4fOp1...|UtWJ8NGMg-3z28s0R...|         4|\n",
      "|JD3nrrtPBseCiodFo...|ZDKi3qsO8lSSogrId...|         5|\n",
      "|_vS9qNQvx8wVUOIkj...|qA1PXTv0snTO1gpNP...|         1|\n",
      "|iTmWHtltCtk0Gm55A...|wfCLz9-aeShbPB7Ca...|         2|\n",
      "|qMc1pjSutJeLINZT-...|wfCLz9-aeShbPB7Ca...|         2|\n",
      "+--------------------+--------------------+----------+\n",
      "only showing top 20 rows\n",
      "\n"
     ]
    }
   ],
   "source": [
    "val rating_df = review_df.groupBy(\"user_id\", \"business_id\").max(\"stars\")\n",
    "rating_df.show()\n"
   ]
  },
  {
   "cell_type": "code",
   "execution_count": null,
   "metadata": {
    "ExecuteTime": {
     "start_time": "2017-02-25T04:16:59.851Z"
    },
    "collapsed": true
   },
   "outputs": [],
   "source": [
    "\n",
    "val business_df = sqlContext.read.json(\"/user/pmolnar/yelp/data/business\")"
   ]
  },
  {
   "cell_type": "code",
   "execution_count": null,
   "metadata": {
    "collapsed": true
   },
   "outputs": [],
   "source": [
    "val business_NV_df = businness_df.filter(\"state='NV'\")\n",
    "val rating_df = review_df.join(business_NV_df, \"business_id\", \"inner\").groupBy(\"user_id\", \"business_id\").max(\"stars\")\n",
    "//val rating_df = review_df.join(business_NV_df,  business_NV_df(\"business_id\")==review_df(\"business_id\"), "
   ]
  },
  {
   "cell_type": "code",
   "execution_count": null,
   "metadata": {
    "collapsed": true
   },
   "outputs": [],
   "source": []
  },
  {
   "cell_type": "code",
   "execution_count": 20,
   "metadata": {
    "ExecuteTime": {
     "end_time": "2017-02-24T17:51:40.917543",
     "start_time": "2017-02-24T22:51:40.372Z"
    },
    "collapsed": true
   },
   "outputs": [],
   "source": [
    "import org.apache.spark.ml.feature.StringIndexer"
   ]
  },
  {
   "cell_type": "code",
   "execution_count": 24,
   "metadata": {
    "ExecuteTime": {
     "end_time": "2017-02-24T17:54:42.799318",
     "start_time": "2017-02-24T22:54:17.192Z"
    },
    "collapsed": false
   },
   "outputs": [],
   "source": [
    "val uidIndexer = new StringIndexer\n",
    "val uidIndexerMdl = uidIndexer.setInputCol(\"user_id\").setOutputCol(\"user_idx\").setHandleInvalid(\"skip\").fit(rating_df)"
   ]
  },
  {
   "cell_type": "code",
   "execution_count": 25,
   "metadata": {
    "ExecuteTime": {
     "end_time": "2017-02-24T17:55:07.220850",
     "start_time": "2017-02-24T22:54:44.506Z"
    },
    "collapsed": false
   },
   "outputs": [],
   "source": [
    "val bidIndexer = new StringIndexer\n",
    "val bidIndexerMdl = bidIndexer.setInputCol(\"business_id\").setOutputCol(\"business_idx\").setHandleInvalid(\"skip\").fit(rating_df)"
   ]
  },
  {
   "cell_type": "code",
   "execution_count": 26,
   "metadata": {
    "ExecuteTime": {
     "end_time": "2017-02-24T17:55:14.195638",
     "start_time": "2017-02-24T22:55:13.356Z"
    },
    "collapsed": false
   },
   "outputs": [],
   "source": [
    "val rating_idx_df = bidIndexerMdl.transform(uidIndexerMdl.transform(rating_df))"
   ]
  },
  {
   "cell_type": "code",
   "execution_count": 27,
   "metadata": {
    "ExecuteTime": {
     "end_time": "2017-02-24T17:55:24.240586",
     "start_time": "2017-02-24T22:55:23.662Z"
    },
    "collapsed": false
   },
   "outputs": [
    {
     "name": "stdout",
     "output_type": "stream",
     "text": [
      "root\n",
      " |-- user_id: string (nullable = true)\n",
      " |-- business_id: string (nullable = true)\n",
      " |-- max(stars): long (nullable = true)\n",
      " |-- user_idx: double (nullable = true)\n",
      " |-- business_idx: double (nullable = true)\n",
      "\n"
     ]
    }
   ],
   "source": [
    "rating_idx_df.printSchema"
   ]
  },
  {
   "cell_type": "code",
   "execution_count": null,
   "metadata": {
    "collapsed": true
   },
   "outputs": [],
   "source": [
    "import org.apache.spark.sql.functions"
   ]
  },
  {
   "cell_type": "code",
   "execution_count": 31,
   "metadata": {
    "ExecuteTime": {
     "end_time": "2017-02-24T18:01:08.265778",
     "start_time": "2017-02-24T23:00:41.733Z"
    },
    "collapsed": true
   },
   "outputs": [],
   "source": [
    "val r = rating_idx_df.first()"
   ]
  },
  {
   "cell_type": "code",
   "execution_count": 41,
   "metadata": {
    "ExecuteTime": {
     "end_time": "2017-02-24T18:05:38.820618",
     "start_time": "2017-02-24T23:05:38.667Z"
    },
    "collapsed": false
   },
   "outputs": [
    {
     "data": {
      "text/plain": [
       "Edge(197766,38809,5.0)"
      ]
     },
     "execution_count": 41,
     "metadata": {},
     "output_type": "execute_result"
    }
   ],
   "source": [
    "Edge(\n",
    "    r(3).asInstanceOf[Number].longValue,   //user_idx\n",
    "    r(4).asInstanceOf[Number].longValue,   //business_idx\n",
    "    r(2).asInstanceOf[Number].doubleValue  //max(stars)\n",
    ")"
   ]
  },
  {
   "cell_type": "code",
   "execution_count": 42,
   "metadata": {
    "ExecuteTime": {
     "end_time": "2017-02-24T18:06:28.759433",
     "start_time": "2017-02-24T23:06:26.639Z"
    },
    "collapsed": true
   },
   "outputs": [],
   "source": [
    "val edges = rating_idx_df.rdd.map(r => Edge(\n",
    "    r(3).asInstanceOf[Number].longValue,   //user_idx\n",
    "    r(4).asInstanceOf[Number].longValue,   //business_idx\n",
    "    r(2).asInstanceOf[Number].doubleValue  //max(stars)\n",
    "))"
   ]
  },
  {
   "cell_type": "code",
   "execution_count": 44,
   "metadata": {
    "ExecuteTime": {
     "end_time": "2017-02-24T18:07:13.464352",
     "start_time": "2017-02-24T23:06:49.816Z"
    },
    "collapsed": false
   },
   "outputs": [
    {
     "data": {
      "text/plain": [
       "Array(Edge(31491,57201,1.0), Edge(81718,63477,3.0), Edge(2895,47065,4.0), Edge(8306,5112,2.0), Edge(217485,3247,3.0))"
      ]
     },
     "execution_count": 44,
     "metadata": {},
     "output_type": "execute_result"
    }
   ],
   "source": [
    "edges.take(5)"
   ]
  },
  {
   "cell_type": "code",
   "execution_count": 1,
   "metadata": {
    "ExecuteTime": {
     "end_time": "2017-02-24T18:11:48.400802",
     "start_time": "2017-02-24T23:10:37.447Z"
    },
    "collapsed": true
   },
   "outputs": [],
   "source": [
    "val conf = new lib.SVDPlusPlus.Conf(2,10,0,5,0.007,0.007,0.005,0.015)"
   ]
  },
  {
   "cell_type": "markdown",
   "metadata": {},
   "source": [
    "Parameter | Example |Description\n",
    "----------|---------|-----------\n",
    "Rank     |  2 | Number of latent variables.\n",
    "maxIters | 10 |Number of iterations to execute; the more iterations, the closer the machine learning model is able to converge to its ideal solution, and the more accurate its predictions will be.\n",
    "minVal   | 0 | Minimum rating (zero stars). \n",
    "maxVal   | 5 | Maximum rating (five stars).\n",
    "gamma1   | 0.007 | How quickly biases can change from one iteration to the next. γ1 from the Koren paper, which recommends 0.007.\n",
    "gamma2   | 0.007 | How quickly latent variable vectors can change. γ2 from the Koren paper, which recommends 0.007.\n",
    "gamma6   | 0.005 | Dampener on the biases, to keep them small. λ6 from the Koren paper, meaning lambda6 would have been a more appropriate variable name. Koren recommends 0.005.\n",
    "gamma7   | 0.015 | The degree to which the different latent variable vectors are permitted to interact. λ7 from the Koren paper, meaning lambda7 would have been a more appropriate variable name. Koren recommends 0.015.\n",
    "\n",
    "\n",
    "\n",
    "\n",
    "\n",
    "[`Conf(rank: Int, maxIters: Int, minVal: Double, maxVal: Double, gamma1: Double, gamma2: Double, gamma6: Double, gamma7: Double)`](https://spark.apache.org/docs/1.6.1/api/scala/index.html#org.apache.spark.graphx.lib.SVDPlusPlus$$Conf)"
   ]
  },
  {
   "cell_type": "code",
   "execution_count": null,
   "metadata": {
    "ExecuteTime": {
     "start_time": "2017-02-24T23:12:05.483Z"
    },
    "collapsed": true
   },
   "outputs": [],
   "source": [
    "val (g,mean) = lib.SVDPlusPlus.run(edges, conf)"
   ]
  },
  {
   "cell_type": "markdown",
   "metadata": {},
   "source": [
    "## Prediction\n",
    "<img src=\"files/svdplusplus-equation.png\">\n"
   ]
  },
  {
   "cell_type": "code",
   "execution_count": null,
   "metadata": {
    "collapsed": true
   },
   "outputs": [],
   "source": []
  },
  {
   "cell_type": "code",
   "execution_count": null,
   "metadata": {
    "collapsed": true
   },
   "outputs": [],
   "source": []
  },
  {
   "cell_type": "code",
   "execution_count": null,
   "metadata": {
    "collapsed": true
   },
   "outputs": [],
   "source": []
  },
  {
   "cell_type": "code",
   "execution_count": null,
   "metadata": {
    "collapsed": true
   },
   "outputs": [],
   "source": []
  },
  {
   "cell_type": "code",
   "execution_count": null,
   "metadata": {
    "collapsed": true
   },
   "outputs": [],
   "source": []
  },
  {
   "cell_type": "code",
   "execution_count": null,
   "metadata": {
    "collapsed": true
   },
   "outputs": [],
   "source": []
  }
 ],
 "metadata": {
  "hide_input": false,
  "kernelspec": {
   "display_name": "Apache Toree - Scala",
   "language": "scala",
   "name": "apache_toree_scala"
  },
  "language_info": {
   "name": "scala",
   "version": "2.10.4"
  },
  "toc": {
   "nav_menu": {
    "height": "12px",
    "width": "252px"
   },
   "navigate_menu": true,
   "number_sections": true,
   "sideBar": true,
   "threshold": 4,
   "toc_cell": false,
   "toc_section_display": "block",
   "toc_window_display": false
  }
 },
 "nbformat": 4,
 "nbformat_minor": 0
}
