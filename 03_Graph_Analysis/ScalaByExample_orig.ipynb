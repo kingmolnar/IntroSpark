{
 "cells": [
  {
   "cell_type": "markdown",
   "metadata": {},
   "source": [
    "<p style=\"font-size: 200%; font-weight: bold; color: teal; padding-bottom: 20px\">Scala By Example</p>\n",
    "Notebook adaptation of a draft by Martin Odersky, Programming Methods Laboratory,  EPFL,  Switzerland\n",
    "\n",
    "https://www.scala-lang.org/old/sites/default/files/linuxsoft_archives/docu/files/ScalaByExample.pdf\n",
    "\n",
    "\n",
    "***Use this notebook to familiarize yourself with Scala***\n",
    "\n",
    "At the same time, Scala is compatible with Java. Java libraries and frameworks can be used without glue code or additional declarations.\n",
    "This document introduces Scala in an informal way, through a sequence of examples.\n",
    "Chapters 2 and 3 highlight some of the features that make Scala interesting. The following chapters introduce the language constructs of Scala in a more thorough way, starting with simple expressions and functions, and working up through objects and classes, lists and streams, mutable state, pattern matching to more complete examples that show interesting programming techniques. The present informal exposition is meant to be complemented by the Scala Language Reference Manual which specifies Scala in a more detailed and precise way.\n",
    "\n"
   ]
  },
  {
   "cell_type": "markdown",
   "metadata": {},
   "source": [
    "# A First Example\n",
    "As a first example, here is an implementation of Quicksort in Scala."
   ]
  },
  {
   "cell_type": "code",
   "execution_count": 1,
   "metadata": {
    "ExecuteTime": {
     "end_time": "2017-02-24T14:15:23.160816",
     "start_time": "2017-02-24T19:15:22.669Z"
    },
    "collapsed": false
   },
   "outputs": [],
   "source": [
    "def sort(xs: Array[Int]) {\n",
    "    def swap(i: Int, j: Int) {\n",
    "        val t = xs(i); xs(i) = xs(j); xs(j) = t\n",
    "    }\n",
    "\n",
    "    def sort1(l: Int, r: Int) {\n",
    "        val pivot = xs((l + r) / 2)\n",
    "        var i = l; var j = r\n",
    "        while (i <= j) {\n",
    "            while (xs(i) < pivot) i += 1\n",
    "            while (xs(j) > pivot) j -= 1\n",
    "            if (i <= j) {\n",
    "                swap(i, j)\n",
    "                i += 1\n",
    "                j -= 1\n",
    "            }\n",
    "        }\n",
    "        if (l < j) sort1(l, j)\n",
    "        if (j < r) sort1(i, r)\n",
    "    }\n",
    "    sort1(0, xs.length - 1)\n",
    "}"
   ]
  },
  {
   "cell_type": "code",
   "execution_count": 2,
   "metadata": {
    "ExecuteTime": {
     "end_time": "2017-02-24T14:16:04.662451",
     "start_time": "2017-02-24T19:16:03.710Z"
    },
    "collapsed": false,
    "scrolled": false
   },
   "outputs": [
    {
     "name": "stdout",
     "output_type": "stream",
     "text": [
      "2\n",
      "5\n",
      "8\n",
      "5\n",
      "0\n",
      "9\n"
     ]
    }
   ],
   "source": [
    "// create a mutable(!) array\n",
    "var x = Array(2, 5, 8, 5, 0, 9)\n",
    "\n",
    "// print results\n",
    "for (k <- x) println(k)"
   ]
  },
  {
   "cell_type": "code",
   "execution_count": 5,
   "metadata": {
    "ExecuteTime": {
     "end_time": "2017-02-24T14:19:17.926486",
     "start_time": "2017-02-24T19:19:17.612Z"
    },
    "collapsed": false
   },
   "outputs": [
    {
     "data": {
      "text/plain": [
       "2"
      ]
     },
     "execution_count": 5,
     "metadata": {},
     "output_type": "execute_result"
    }
   ],
   "source": [
    "var y = Array(2, 5, 8, 5, 0, 9, 7, 4, 3)\n",
    "y(0)"
   ]
  },
  {
   "cell_type": "code",
   "execution_count": 3,
   "metadata": {
    "ExecuteTime": {
     "end_time": "2017-02-24T14:16:51.732812",
     "start_time": "2017-02-24T19:16:51.328Z"
    },
    "collapsed": false
   },
   "outputs": [
    {
     "name": "stdout",
     "output_type": "stream",
     "text": [
      "0\n",
      "2\n",
      "5\n",
      "5\n",
      "8\n",
      "9\n"
     ]
    }
   ],
   "source": [
    "// now sort and print array again\n",
    "sort(x)\n",
    "for (k <- x) println(k)"
   ]
  },
  {
   "cell_type": "markdown",
   "metadata": {},
   "source": [
    "The implementation looks quite similar to what one would write in Java or C. We use the same operators and similar control structures. There are also some minor syntactical differences. In particular:\n",
    "- Definitions start with a reserved word. Function definitions start with def, variable definitions start with var and definitions of values (i.e. read only variables) start with val.\n",
    "- The declared type of a symbol is given after the symbol and a colon. The declared type can often be omitted, because the compiler can infer it from the context.\n",
    "- Array types are written `Array[T]` rather than `T[]`,and array selections are written `a(i)` rather than `a[i]`.\n",
    "- Functions can be nested inside other functions. Nested functions can access parameters and local variables of enclosing functions. For instance, the name of the array `xs` is visible in functions `swap` and `sort1`, and therefore need not be passed as a parameter to them.\n",
    "\n",
    "So far, Scala looks like a fairly conventional language with some syntactic peculiarities. In fact it is possible to write programs in a conventional imperative or object-oriented style. This is important because it is one of the things that makes it easy to combine Scala components with components written in mainstream languages such as Java, C# or Visual Basic.\n"
   ]
  },
  {
   "cell_type": "markdown",
   "metadata": {},
   "source": [
    "However, it is also possible to write programs in a style which looks completely different. Here is Quicksort again, this time written in functional style."
   ]
  },
  {
   "cell_type": "code",
   "execution_count": 26,
   "metadata": {
    "ExecuteTime": {
     "end_time": "2017-02-24T10:35:38.732884",
     "start_time": "2017-02-24T15:35:37.331Z"
    },
    "collapsed": false
   },
   "outputs": [],
   "source": [
    "def sort(xs: Array[Int]): Array[Int] = {\n",
    "    if (xs.length <= 1) xs\n",
    "    else {\n",
    "        val pivot = xs(xs.length / 2)\n",
    "        Array.concat(\n",
    "            sort(xs filter (pivot >)),\n",
    "                 xs filter (pivot ==),\n",
    "            sort(xs filter (pivot <)))\n",
    "    }\n",
    "}\n"
   ]
  },
  {
   "cell_type": "code",
   "execution_count": 27,
   "metadata": {
    "ExecuteTime": {
     "end_time": "2017-02-24T10:36:01.627785",
     "start_time": "2017-02-24T15:36:00.202Z"
    },
    "collapsed": false
   },
   "outputs": [
    {
     "name": "stdout",
     "output_type": "stream",
     "text": [
      "2\n",
      "5\n",
      "8\n",
      "5\n",
      "0\n",
      "9\n"
     ]
    }
   ],
   "source": [
    "var x = Array(2, 5, 8, 5, 0, 9)\n",
    "sort(x)\n",
    "for (k <- x) println(k)"
   ]
  },
  {
   "cell_type": "markdown",
   "metadata": {},
   "source": [
    "The functional program captures the essence of the quicksort algorithm in a concise way:\n",
    "- If the array is empty or consists of a single element, it is already sorted, so return it immediately.\n",
    "- If the array is not empty, pick an element in the middle of it as a pivot.\n",
    "- Partition the array into two sub-arrays containing elements that are less than, respectively greater than the pivot element, and a third array which contains elements equal to pivot.\n",
    "- Sort the first two sub-arrays by a recursive invocation of the sort function. (This is not quite what the imperative algorithm does; the latter partitions the array into two sub-arrays containing elements less than or greater or equal to pivot)\n",
    "- The result is obtained by appending the three sub-arrays together.\n",
    "\n",
    "\n",
    "Both the imperative and the functional implementation have the same asymptotic complexity – $O(N log(N))$ in the average case and $O(N^2)$ in the worst case. But where the imperative implementation operates in place by modifying the argument array, the functional implementation returns a new sorted array and leaves the argument array unchanged. The functional implementation thus requires more transient memory than the imperative one.\n",
    "\n",
    "The functional implementation makes it look like Scala is a language that’s specialized for functional operations on arrays. In fact, it is not; all of the operations used in the example are simple library methods of a sequence `class Seq[T]` which is part of the standard Scala library, and which itself is implemented in Scala. Because arrays are instances of Seq all sequence methods are available for them.\n",
    "\n",
    "In particular, there is the method filter which takes as argument a **predicate function**. This predicate function must map array elements to boolean values. The result of `filter` is an array consisting of all the elements of the original array for which the given predicate function is true. The filter method of an object of type `Array[T]` thus has the signature\n",
    "`def filter(p: T => Boolean): Array[T]`\n",
    "\n",
    "Here, `T => Boolean` is the type of functions that take an element of type `T` and return a Boolean.\n",
    "Functions like filter that take another function as argument or return one as result are called higher-order functions.\n",
    "\n",
    "Scala does not distinguish between identifiers and operator names. An identifier can be either a sequence of letters and digits which begins with a letter, or it can be a sequence of special characters, such as “+”, “*”, or “:”.\n",
    "\n",
    "Any identifier can be used as an infix operator in Scala. The binary operation $E\\;op\\;E'$ is always interpreted as the method call $E.op(E′)$.\n",
    "This holds also for binary infix operators which start with a letter. Hence, the expression `xs filter (pivot >)` is equivalent to the method call `xs.filter(pivot >)`.\n",
    "\n",
    "In the quicksort program, filter is applied three times to an anonymous function argument. The first argument, `pivot >`, represents a function that takes an argument `x` and returns the value `pivot > x`. This is an example of a partially applied function. Another, equivalent way to write this function which makes the missing argument explicit is `x => pivot > x`. The function is anonymous, i.e. it is not defined with a name. The type of the x parameter is omitted because a Scala compiler can infer it automatically from the context where the function is used. To summarize, `xs.filter(pivot >)` returns a list consisting of all elements of the list `xs` that are smaller than pivot.\n",
    "Looking again in detail at the first, imperative implementation of Quicksort, we find that many of the language constructs used in the second solution are also present, albeit in a disguised form."
   ]
  },
  {
   "cell_type": "markdown",
   "metadata": {},
   "source": [
    "# Expressions and Simple Functions"
   ]
  },
  {
   "cell_type": "markdown",
   "metadata": {},
   "source": [
    "## Expressions And Simple Functions"
   ]
  },
  {
   "cell_type": "markdown",
   "metadata": {
    "ExecuteTime": {
     "end_time": "2017-02-24T10:39:06.961166",
     "start_time": "2017-02-24T15:39:05.774Z"
    }
   },
   "source": [
    "A Scala system comes with an interpreter which can be seen as a fancy calculator. A user interacts with the calculator by typing in expressions. The calculator returns the evaluation results and their types. For example:\n",
    "\n",
    "    scala> 87 + 145\n",
    "    unnamed0: Int = 232\n",
    "    \n",
    "    scala> 5 + 2 * 3\n",
    "    unnamed1: Int = 11\n",
    "    \n",
    "    scala> \"hello\" + \" world!\"\n",
    "    unnamed2: java.lang.String = hello world!\n",
    "\n",
    "\n",
    "It is also possible to name a sub-expression and use the name instead of the expression afterwards:\n",
    "\n",
    "    scala> def scale = 5\n",
    "    scale: Int\n",
    "    \n",
    "    scala> 7 * scale\n",
    "    unnamed3: Int = 35\n",
    "    \n",
    "    scala> def pi = 3.141592653589793\n",
    "    pi: Double\n",
    "    \n",
    "    scala> def radius = 10\n",
    "    radius: Int\n",
    "    \n",
    "    scala> 2 * pi * radius\n",
    "    unnamed4: Double = 62.83185307179586\n"
   ]
  },
  {
   "cell_type": "markdown",
   "metadata": {},
   "source": [
    "Definitions start with the reserved word def; they introduce a name which stands for the expression following the = sign. The interpreter will answer with the introduced name and its type.\n",
    "\n",
    "Executing a definition such as `def x = e` will not evaluate the expression `e`. Instead e is evaluated whenever `x` is used. Alternatively, Scala offers a value definition `val x = e`, which does evaluate the right-hand-side as part of the evaluation of the definition. If `x` is then used subsequently, it is immediately replaced by the precomputed value of `e`, so that the expression need not be evaluated again.\n",
    "\n",
    "How are expressions evaluated? An expression consisting of operators and operands is evaluated by repeatedly applying the following simplification steps.\n",
    "- pick the left-most operation\n",
    "- evaluate its operands\n",
    "- apply the operator to the operand values.\n",
    "\n",
    "A name defined by `def` is evaluated by replacing the name by the (unevaluated) definition's right hand side. A name defined by `val` is evaluated by replacing the name by the value of the definition's right-hand side. The evaluation process stops once we have reached a value. A value is some data item such as a string, a number, an array, or a list."
   ]
  },
  {
   "cell_type": "markdown",
   "metadata": {},
   "source": [
    "## Parameters\n",
    "Using def, one can also define functions with parameters. For example:\n",
    "\n",
    "    scala> def square(x: Double) = x * x\n",
    "    \n",
    "    square: (Double)Double\n",
    "    scala> square(2)\n",
    "    unnamed0: Double = 4.0\n",
    "    \n",
    "    scala> square(5 + 3)\n",
    "    unnamed1: Double = 64.0\n",
    "    \n",
    "    scala> square(square(4))\n",
    "    unnamed2: Double = 256.0\n",
    "    \n",
    "    scala> def sumOfSquares(x: Double, y: Double) = square(x) + square(y)\n",
    "    sumOfSquares: (Double,Double)Double\n",
    "    \n",
    "    scala> sumOfSquares(3, 2 + 2)\n",
    "    unnamed3: Double = 25.0\n",
    "\n",
    "Function parameters follow the function name and are always enclosed in parentheses. Every parameter comes with a type, which is indicated following the parameter name and a colon. At the present time, we only need basic numeric types such as the type `scala.Double` of double precision numbers. Scala defines type aliases for some standard types, so we can write numeric types as in Java. For instance `double` is a type alias of `scala.Double` and `int` is a type alias for `scala.Int`.\n",
    "Functions with parameters are evaluated analogously to operators in expressions. First, the arguments of the function are evaluated (in left-to-right order). Then, the function application is replaced by the function's right hand side, and at the same time all formal parameters of the function are replaced by their corresponding actual arguments."
   ]
  },
  {
   "cell_type": "markdown",
   "metadata": {},
   "source": [
    "**Example**\n",
    "\n",
    "      sumOfSquares(3, 2+2) → sumOfSquares(3, 4)\n",
    "    → square(3) + square(4) → 3 * 3 + square(4)\n",
    "    → 9 + square(4) →9+4*4\n",
    "    → 9 + 16\n",
    "    → 25\n",
    "\n",
    "The example shows that the interpreter reduces function arguments to values before rewriting the function application. One could instead have chosen to apply the function to unreduced arguments. This would have yielded the following reduction sequence:\n",
    "\n",
    "      sumOfSquares(3, 2+2)\n",
    "    → square(3) + square(2+2) → 3 * 3 + square(2+2)\n",
    "    → 9 + square(2+2)\n",
    "    → 9 + (2+2) * (2+2)\n",
    "    → 9+4*(2+2) →9+4*4\n",
    "    → 9 + 16\n",
    "    → 25\n",
    "    \n",
    "The second evaluation order is known as call-by-name, whereas the first one is known as call-by-value. For expressions that use only pure functions and that there- fore can be reduced with the substitution model, both schemes yield the same final values.\n",
    "Call-by-value has the advantage that it avoids repeated evaluation of arguments. Call-by-name has the advantage that it avoids evaluation of arguments when the parameter is not used at all by the function. Call-by-value is usually more efficient than call-by-name, but a call-by-value evaluation might loop where a call-by-name evaluation would terminate. Consider:\n",
    "\n",
    "    scala> def loop: Int = loop\n",
    "    loop: Int\n",
    "\n",
    "    scala> def first(x: Int, y: Int) = x\n",
    "    first: (Int,Int)Int\n",
    "\n",
    "Scala uses call-by-value by default, but it switches to call-by-name evaluation if the parameter type is preceded by `=>`.\n",
    "\n",
    "**Example**\n",
    "\n",
    "    scala> def constOne(x: Int, y: => Int) = 1\n",
    "    constOne: (Int,=> Int)Int\n",
    "\n",
    "    scala> constOne(1, loop)\n",
    "    unnamed0: Int = 1\n",
    "\n",
    "    scala> constOne(loop, 2) // gives an infinite loop.\n",
    "    "
   ]
  },
  {
   "cell_type": "markdown",
   "metadata": {},
   "source": [
    "## Conditional Expressions\n",
    "Scala’s `if-else` lets one choose between two alternatives. Its syntax is like Java's `if-else`. But where Java's if-else can be used only as an alternative of statements, Scala allows the same syntax to choose between two expressions. That's why Scala's `if-else` serves also as a substitute for Java's conditional expression `... ? ... : ....`\n",
    "\n",
    "***Example***\n",
    "    \n",
    "    scala> def abs(x: Double) = if (x >= 0) x else -x\n",
    "    abs: (Double)Double\n",
    "\n",
    "Scala's boolean expressions are similar to Java's; they are formed from the constants `true` and `false`, comparison operators, boolean negation `!` and the boolean operators `&&` and `||`.\n"
   ]
  },
  {
   "cell_type": "markdown",
   "metadata": {},
   "source": [
    "# Scala Cheat Sheet\n"
   ]
  },
  {
   "cell_type": "markdown",
   "metadata": {},
   "source": [
    "Contributed by Brendan O’Connor\n",
    "\n",
    "http://docs.scala-lang.org/cheatsheets/\n",
    "\n",
    "<html>\n",
    "\n",
    "<table>\n",
    "  <thead>\n",
    "    <tr style=\"background-color: rgb(255, 255, 255);\">\n",
    "      <th>&nbsp;</th>\n",
    "      <th>&nbsp;</th>\n",
    "    </tr>\n",
    "  </thead>\n",
    "  <tbody>\n",
    "    <tr style=\"background-color: rgb(255, 255, 255);\">\n",
    "      <td><span id=\"variables\" class=\"h2\">variables</span></td>\n",
    "      <td>&nbsp;</td>\n",
    "    </tr>\n",
    "    <tr style=\"background-color: rgb(255, 255, 255);\">\n",
    "      <td><code class=\"highlighter-rouge\">var x = 5</code></td>\n",
    "      <td>variable</td>\n",
    "    </tr>\n",
    "    <tr style=\"background-color: rgb(255, 255, 255);\">\n",
    "      <td><span style=\"background-color: green; color: white\">GOOD</span> <code class=\"highlighter-rouge\">val x = 5</code><br> <span style=\"background-color: red; color: white;\">Bad</span> <code class=\"highlighter-rouge\">x=6</code></td>\n",
    "      <td>constant</td>\n",
    "    </tr>\n",
    "    <tr style=\"background-color: rgb(255, 255, 255);\">\n",
    "      <td><code class=\"highlighter-rouge\">var x: Double = 5</code></td>\n",
    "      <td>explicit type</td>\n",
    "    </tr>\n",
    "    <tr style=\"background-color: rgb(255, 255, 255);\">\n",
    "      <td><span id=\"functions\" class=\"h2\">functions</span></td>\n",
    "      <td>&nbsp;</td>\n",
    "    </tr>\n",
    "    <tr style=\"background-color: rgb(255, 255, 255);\">\n",
    "      <td><span style=\"background-color: green; color: white\">GOOD</span> <code class=\"highlighter-rouge\">def f(x: Int) = { x*x }</code><br> <span style=\"background-color: red; color: white\">BAD</span> <code class=\"highlighter-rouge\">def f(x: Int)   { x*x }</code></td>\n",
    "      <td>define function <br> hidden error: without = it’s a Unit-returning procedure; causes havoc</td>\n",
    "    </tr>\n",
    "    <tr style=\"background-color: rgb(255, 255, 255);\">\n",
    "      <td><span style=\"background-color: green; color: white\">GOOD</span> <code class=\"highlighter-rouge\">def f(x: Any) = println(x)</code><br> <span style=\"background-color: red; color: white\">BAD</span> <code class=\"highlighter-rouge\">def f(x) = println(x)</code></td>\n",
    "      <td>define function <br> syntax error: need types for every arg.</td>\n",
    "    </tr>\n",
    "    <tr style=\"background-color: rgb(255, 255, 255);\">\n",
    "      <td><code class=\"highlighter-rouge\">type R = Double</code></td>\n",
    "      <td>type alias</td>\n",
    "    </tr>\n",
    "    <tr style=\"background-color: rgb(255, 255, 255);\">\n",
    "      <td><code class=\"highlighter-rouge\">def f(x: R)</code> vs.<br> <code class=\"highlighter-rouge\">def f(x: =&gt; R)</code></td>\n",
    "      <td>call-by-value <br> call-by-name (lazy parameters)</td>\n",
    "    </tr>\n",
    "    <tr style=\"background-color: rgb(255, 255, 255);\">\n",
    "      <td><code class=\"highlighter-rouge\">(x:R) =&gt; x*x</code></td>\n",
    "      <td>anonymous function</td>\n",
    "    </tr>\n",
    "    <tr style=\"background-color: rgb(255, 255, 255);\">\n",
    "      <td><code class=\"highlighter-rouge\">(1 to 5).map(_*2)</code> vs.<br> <code class=\"highlighter-rouge\">(1 to 5).reduceLeft( _+_ )</code></td>\n",
    "      <td>anonymous function: underscore is positionally matched arg.</td>\n",
    "    </tr>\n",
    "    <tr>\n",
    "      <td><code class=\"highlighter-rouge\">(1 to 5).map( x =&gt; x*x )</code></td>\n",
    "      <td>anonymous function: to use an arg twice, have to name it.</td>\n",
    "    </tr>\n",
    "    <tr>\n",
    "      <td><span style=\"background-color: green; color: white\">GOOD</span> <code class=\"highlighter-rouge\">(1 to 5).map(2*)</code><br> <span style=\"background-color: red; color: white\">BAD</span> <code class=\"highlighter-rouge\">(1 to 5).map(*2)</code></td>\n",
    "      <td>anonymous function: bound infix method. Use <code class=\"highlighter-rouge\">2*_</code> for sanity’s sake instead.</td>\n",
    "    </tr>\n",
    "    <tr>\n",
    "      <td><code class=\"highlighter-rouge\">(1 to 5).map { x =&gt; val y=x*2; println(y); y }</code></td>\n",
    "      <td>anonymous function: block style returns last expression.</td>\n",
    "    </tr>\n",
    "    <tr>\n",
    "      <td><code class=\"highlighter-rouge\">(1 to 5) filter {_%2 == 0} map {_*2}</code></td>\n",
    "      <td>anonymous functions: pipeline style. (or parens too).</td>\n",
    "    </tr>\n",
    "    <tr>\n",
    "      <td><code class=\"highlighter-rouge\">def compose(g:R=&gt;R, h:R=&gt;R) = (x:R) =&gt; g(h(x))</code> <br> <code class=\"highlighter-rouge\">val f = compose({_*2}, {_-1})</code></td>\n",
    "      <td>anonymous functions: to pass in multiple blocks, need outer parens.</td>\n",
    "    </tr>\n",
    "    <tr>\n",
    "      <td><code class=\"highlighter-rouge\">val zscore = (mean:R, sd:R) =&gt; (x:R) =&gt; (x-mean)/sd</code></td>\n",
    "      <td>currying, obvious syntax.</td>\n",
    "    </tr>\n",
    "    <tr>\n",
    "      <td><code class=\"highlighter-rouge\">def zscore(mean:R, sd:R) = (x:R) =&gt; (x-mean)/sd</code></td>\n",
    "      <td>currying, obvious syntax</td>\n",
    "    </tr>\n",
    "    <tr>\n",
    "      <td><code class=\"highlighter-rouge\">def zscore(mean:R, sd:R)(x:R) = (x-mean)/sd</code></td>\n",
    "      <td>currying, sugar syntax. but then:</td>\n",
    "    </tr>\n",
    "    <tr>\n",
    "      <td><code class=\"highlighter-rouge\">val normer = zscore(7, 0.4) _</code></td>\n",
    "      <td>need trailing underscore to get the partial, only for the sugar version.</td>\n",
    "    </tr>\n",
    "    <tr>\n",
    "      <td><code class=\"highlighter-rouge\">def mapmake[T](g:T=&gt;T)(seq: List[T]) = seq.map(g)</code></td>\n",
    "      <td>generic type.</td>\n",
    "    </tr>\n",
    "    <tr>\n",
    "      <td><code class=\"highlighter-rouge\">5.+(3); 5 + 3</code> <br> <code class=\"highlighter-rouge\">(1 to 5) map (_*2)</code></td>\n",
    "      <td>infix sugar.</td>\n",
    "    </tr>\n",
    "    <tr>\n",
    "      <td><code class=\"highlighter-rouge\">def sum(args: Int*) = args.reduceLeft(_+_)</code></td>\n",
    "      <td>varargs.</td>\n",
    "    </tr>\n",
    "    <tr>\n",
    "      <td><span id=\"packages\" class=\"h2\">packages</span></td>\n",
    "      <td>&nbsp;</td>\n",
    "    </tr>\n",
    "    <tr>\n",
    "      <td><code class=\"highlighter-rouge\">import scala.collection._</code></td>\n",
    "      <td>wildcard import.</td>\n",
    "    </tr>\n",
    "    <tr>\n",
    "      <td><code class=\"highlighter-rouge\">import scala.collection.Vector</code> <br> <code class=\"highlighter-rouge\">import scala.collection.{Vector, Sequence}</code></td>\n",
    "      <td>selective import.</td>\n",
    "    </tr>\n",
    "    <tr>\n",
    "      <td><code class=\"highlighter-rouge\">import scala.collection.{Vector =&gt; Vec28}</code></td>\n",
    "      <td>renaming import.</td>\n",
    "    </tr>\n",
    "    <tr>\n",
    "      <td><code class=\"highlighter-rouge\">import java.util.{Date =&gt; _, _}</code></td>\n",
    "      <td>import all from java.util except Date.</td>\n",
    "    </tr>\n",
    "    <tr>\n",
    "      <td><code class=\"highlighter-rouge\">package pkg</code> <em>at start of file</em> <br> <code class=\"highlighter-rouge\">package pkg { ... }</code></td>\n",
    "      <td>declare a package.</td>\n",
    "    </tr>\n",
    "    <tr>\n",
    "      <td><span id=\"data_structures\" class=\"h2\">data structures</span></td>\n",
    "      <td>&nbsp;</td>\n",
    "    </tr>\n",
    "    <tr>\n",
    "      <td><code class=\"highlighter-rouge\">(1,2,3)</code></td>\n",
    "      <td>tuple literal. (<code class=\"highlighter-rouge\">Tuple3</code>)</td>\n",
    "    </tr>\n",
    "    <tr>\n",
    "      <td><code class=\"highlighter-rouge\">var (x,y,z) = (1,2,3)</code></td>\n",
    "      <td>destructuring bind: tuple unpacking via pattern matching.</td>\n",
    "    </tr>\n",
    "    <tr>\n",
    "      <td><span style=\"background-color: red; color: white\">BAD</span><code class=\"highlighter-rouge\">var x,y,z = (1,2,3)</code></td>\n",
    "      <td>hidden error: each assigned to the entire tuple.</td>\n",
    "    </tr>\n",
    "    <tr>\n",
    "      <td><code class=\"highlighter-rouge\">var xs = List(1,2,3)</code></td>\n",
    "      <td>list (immutable).</td>\n",
    "    </tr>\n",
    "    <tr>\n",
    "      <td><code class=\"highlighter-rouge\">xs(2)</code></td>\n",
    "      <td>paren indexing. (<a href=\"http://www.slideshare.net/Odersky/fosdem-2009-1013261/27\">slides</a>)</td>\n",
    "    </tr>\n",
    "    <tr>\n",
    "      <td><code class=\"highlighter-rouge\">1 :: List(2,3)</code></td>\n",
    "      <td>cons.</td>\n",
    "    </tr>\n",
    "    <tr>\n",
    "      <td><code class=\"highlighter-rouge\">1 to 5</code> <em>same as</em> <code class=\"highlighter-rouge\">1 until 6</code> <br> <code class=\"highlighter-rouge\">1 to 10 by 2</code></td>\n",
    "      <td>range sugar.</td>\n",
    "    </tr>\n",
    "    <tr>\n",
    "      <td><code class=\"highlighter-rouge\">()</code> <em>(empty parens)</em></td>\n",
    "      <td>sole member of the Unit type (like C/Java void).</td>\n",
    "    </tr>\n",
    "    <tr>\n",
    "      <td><span id=\"control_constructs\" class=\"h2\">control constructs</span></td>\n",
    "      <td>&nbsp;</td>\n",
    "    </tr>\n",
    "    <tr>\n",
    "      <td><code class=\"highlighter-rouge\">if (check) happy else sad</code></td>\n",
    "      <td>conditional.</td>\n",
    "    </tr>\n",
    "    <tr>\n",
    "      <td><code class=\"highlighter-rouge\">if (check) happy</code> <em>same as</em> <br> <code class=\"highlighter-rouge\">if (check) happy else ()</code></td>\n",
    "      <td>conditional sugar.</td>\n",
    "    </tr>\n",
    "    <tr>\n",
    "      <td><code class=\"highlighter-rouge\">while (x &lt; 5) { println(x); x += 1}</code></td>\n",
    "      <td>while loop.</td>\n",
    "    </tr>\n",
    "    <tr>\n",
    "      <td><code class=\"highlighter-rouge\">do { println(x); x += 1} while (x &lt; 5)</code></td>\n",
    "      <td>do while loop.</td>\n",
    "    </tr>\n",
    "    <tr>\n",
    "      <td><code class=\"highlighter-rouge\">import scala.util.control.Breaks._</code><br><code class=\"highlighter-rouge\">breakable {</code><br><code class=\"highlighter-rouge\">    for (x &lt;- xs) {</code><br><code class=\"highlighter-rouge\">        if (Math.random &lt; 0.1) break</code><br><code class=\"highlighter-rouge\">    }</code><br><code class=\"highlighter-rouge\">}</code></td>\n",
    "      <td>break. (<a href=\"http://www.slideshare.net/Odersky/fosdem-2009-1013261/21\">slides</a>)</td>\n",
    "    </tr>\n",
    "    <tr>\n",
    "      <td><code class=\"highlighter-rouge\">for (x &lt;- xs if x%2 == 0) yield x*10</code> <em>same as</em> <br><code class=\"highlighter-rouge\">xs.filter(_%2 == 0).map(_*10)</code></td>\n",
    "      <td>for comprehension: filter/map</td>\n",
    "    </tr>\n",
    "    <tr>\n",
    "      <td><code class=\"highlighter-rouge\">for ((x,y) &lt;- xs zip ys) yield x*y</code> <em>same as</em> <br><code class=\"highlighter-rouge\">(xs zip ys) map { case (x,y) =&gt; x*y }</code></td>\n",
    "      <td>for comprehension: destructuring bind</td>\n",
    "    </tr>\n",
    "    <tr>\n",
    "      <td><code class=\"highlighter-rouge\">for (x &lt;- xs; y &lt;- ys) yield x*y</code> <em>same as</em> <br><code class=\"highlighter-rouge\">xs flatMap {x =&gt; ys map {y =&gt; x*y}}</code></td>\n",
    "      <td>for comprehension: cross product</td>\n",
    "    </tr>\n",
    "    <tr>\n",
    "      <td><code class=\"highlighter-rouge\">for (x &lt;- xs; y &lt;- ys) {</code><br>    <code class=\"highlighter-rouge\">println(\"%d/%d = %.1f\".format(x,y, x*y))</code><br><code class=\"highlighter-rouge\">}</code></td>\n",
    "      <td>for comprehension: imperative-ish<br><a href=\"http://java.sun.com/javase/6/docs/api/java/util/Formatter.html#syntax\">sprintf-style</a></td>\n",
    "    </tr>\n",
    "    <tr>\n",
    "      <td><code class=\"highlighter-rouge\">for (i &lt;- 1 to 5) {</code><br>    <code class=\"highlighter-rouge\">println(i)</code><br><code class=\"highlighter-rouge\">}</code></td>\n",
    "      <td>for comprehension: iterate including the upper bound</td>\n",
    "    </tr>\n",
    "    <tr>\n",
    "      <td><code class=\"highlighter-rouge\">for (i &lt;- 1 until 5) {</code><br>    <code class=\"highlighter-rouge\">println(i)</code><br><code class=\"highlighter-rouge\">}</code></td>\n",
    "      <td>for comprehension: iterate omitting the upper bound</td>\n",
    "    </tr>\n",
    "    <tr>\n",
    "      <td><span id=\"pattern_matching\" class=\"h2\">pattern matching</span></td>\n",
    "      <td>&nbsp;</td>\n",
    "    </tr>\n",
    "    <tr>\n",
    "      <td><span style=\"background-color: green; color: white\">GOOD</span> <code class=\"highlighter-rouge\">(xs zip ys) map { case (x,y) =&gt; x*y }</code><br> <span style=\"background-color: red; color: white\">BAD</span> <code class=\"highlighter-rouge\">(xs zip ys) map( (x,y) =&gt; x*y )</code></td>\n",
    "      <td>use case in function args for pattern matching.</td>\n",
    "    </tr>\n",
    "    <tr>\n",
    "      <td><span style=\"background-color: red; color: white\">BAD</span><br><code class=\"highlighter-rouge\">val v42 = 42</code><br><code class=\"highlighter-rouge\">Some(3) match {</code><br><code class=\"highlighter-rouge\">  case Some(v42) =&gt; println(\"42\")</code><br><code class=\"highlighter-rouge\">    case _ =&gt; println(\"Not 42\")</code><br><code class=\"highlighter-rouge\">}</code></td>\n",
    "      <td>“v42” is interpreted as a name matching any Int value, and “42” is printed.</td>\n",
    "    </tr>\n",
    "    <tr>\n",
    "      <td><span style=\"background-color: green; color: white\">GOOD</span><br><code class=\"highlighter-rouge\">val v42 = 42</code><br><code class=\"highlighter-rouge\">Some(3) match {</code><br><code class=\"highlighter-rouge\">   case Some(`v42`) =&gt; println(\"42\")</code><br><code class=\"highlighter-rouge\">case _ =&gt; println(\"Not 42\")</code><br><code class=\"highlighter-rouge\">}</code></td>\n",
    "      <td>”`v42`” with backticks is interpreted as the existing val <code class=\"highlighter-rouge\">v42</code>, and “Not 42” is printed.</td>\n",
    "    </tr>\n",
    "    <tr>\n",
    "      <td><span style=\"background-color: green; color: white\">GOOD</span><br><code class=\"highlighter-rouge\">val UppercaseVal = 42</code><br><code class=\"highlighter-rouge\">Some(3) match {</code><br><code class=\"highlighter-rouge\">  case Some(UppercaseVal) =&gt; println(\"42\")</code><br><code class=\"highlighter-rouge\">    case _ =&gt; println(\"Not 42\")</code><br><code class=\"highlighter-rouge\">}</code></td>\n",
    "      <td><code class=\"highlighter-rouge\">UppercaseVal</code> is treated as an existing val, rather than a new pattern variable, because it starts with an uppercase letter. Thus, the value contained within <code class=\"highlighter-rouge\">UppercaseVal</code> is checked against <code class=\"highlighter-rouge\">3</code>, and “Not 42” is printed.</td>\n",
    "    </tr>\n",
    "    <tr>\n",
    "      <td><span id=\"object_orientation\" class=\"h2\">object orientation</span></td>\n",
    "      <td>&nbsp;</td>\n",
    "    </tr>\n",
    "    <tr>\n",
    "      <td><code class=\"highlighter-rouge\">class C(x: R)</code> <em>same as</em> <br><code class=\"highlighter-rouge\">class C(private val x: R)</code><br><code class=\"highlighter-rouge\">var c = new C(4)</code></td>\n",
    "      <td>constructor params - private</td>\n",
    "    </tr>\n",
    "    <tr>\n",
    "      <td><code class=\"highlighter-rouge\">class C(val x: R)</code><br><code class=\"highlighter-rouge\">var c = new C(4)</code><br><code class=\"highlighter-rouge\">c.x</code></td>\n",
    "      <td>constructor params - public</td>\n",
    "    </tr>\n",
    "    <tr>\n",
    "      <td><code class=\"highlighter-rouge\">class C(var x: R) {</code><br><code class=\"highlighter-rouge\">assert(x &gt; 0, \"positive please\")</code><br><code class=\"highlighter-rouge\">var y = x</code><br><code class=\"highlighter-rouge\">val readonly = 5</code><br><code class=\"highlighter-rouge\">private var secret = 1</code><br><code class=\"highlighter-rouge\">def this = this(42)</code><br><code class=\"highlighter-rouge\">}</code></td>\n",
    "      <td><br>constructor is class body<br>declare a public member<br>declare a gettable but not settable member<br>declare a private member<br>alternative constructor</td>\n",
    "    </tr>\n",
    "    <tr>\n",
    "      <td><code class=\"highlighter-rouge\">new{ ... }</code></td>\n",
    "      <td>anonymous class</td>\n",
    "    </tr>\n",
    "    <tr>\n",
    "      <td><code class=\"highlighter-rouge\">abstract class D { ... }</code></td>\n",
    "      <td>define an abstract class. (non-createable)</td>\n",
    "    </tr>\n",
    "    <tr>\n",
    "      <td><code class=\"highlighter-rouge\">class C extends D { ... }</code></td>\n",
    "      <td>define an inherited class.</td>\n",
    "    </tr>\n",
    "    <tr>\n",
    "      <td><code class=\"highlighter-rouge\">class D(var x: R)</code><br><code class=\"highlighter-rouge\">class C(x: R) extends D(x)</code></td>\n",
    "      <td>inheritance and constructor params. (wishlist: automatically pass-up params by default)</td>\n",
    "    </tr>\n",
    "    <tr>\n",
    "      <td><code class=\"highlighter-rouge\">object O extends D { ... }</code></td>\n",
    "      <td>define a singleton. (module-like)</td>\n",
    "    </tr>\n",
    "    <tr style=\"background-color: rgb(255, 255, 255);\">\n",
    "      <td><code class=\"highlighter-rouge\">trait T { ... }</code><br><code class=\"highlighter-rouge\">class C extends T { ... }</code><br><code class=\"highlighter-rouge\">class C extends D with T { ... }</code></td>\n",
    "      <td>traits.<br>interfaces-with-implementation. no constructor params. <a href=\"/tutorials/tour/mixin-class-composition.html\">mixin-able</a>.</td>\n",
    "    </tr>\n",
    "    <tr>\n",
    "      <td><code class=\"highlighter-rouge\">trait T1; trait T2</code><br><code class=\"highlighter-rouge\">class C extends T1 with T2</code><br><code class=\"highlighter-rouge\">class C extends D with T1 with T2</code></td>\n",
    "      <td>multiple traits.</td>\n",
    "    </tr>\n",
    "    <tr>\n",
    "      <td><code class=\"highlighter-rouge\">class C extends D { override def f = ...}</code></td>\n",
    "      <td>must declare method overrides.</td>\n",
    "    </tr>\n",
    "    <tr>\n",
    "      <td><code class=\"highlighter-rouge\">new java.io.File(\"f\")</code></td>\n",
    "      <td>create object.</td>\n",
    "    </tr>\n",
    "    <tr>\n",
    "      <td><span style=\"background-color: red; color: white\">BAD</span> <code class=\"highlighter-rouge\">new List[Int]</code><br> <span style=\"background-color: green; color: white\">GOOD</span> <code class=\"highlighter-rouge\">List(1,2,3)</code></td>\n",
    "      <td>type error: abstract type<br>instead, convention: callable factory shadowing the type</td>\n",
    "    </tr>\n",
    "    <tr>\n",
    "      <td><code class=\"highlighter-rouge\">classOf[String]</code></td>\n",
    "      <td>class literal.</td>\n",
    "    </tr>\n",
    "    <tr>\n",
    "      <td><code class=\"highlighter-rouge\">x.isInstanceOf[String]</code></td>\n",
    "      <td>type check (runtime)</td>\n",
    "    </tr>\n",
    "    <tr>\n",
    "      <td><code class=\"highlighter-rouge\">x.asInstanceOf[String]</code></td>\n",
    "      <td>type cast (runtime)</td>\n",
    "    </tr>\n",
    "    <tr>\n",
    "      <td><code class=\"highlighter-rouge\">x: String</code></td>\n",
    "      <td>ascription (compile time)</td>\n",
    "    </tr>\n",
    "  </tbody>\n",
    "</table>\n",
    "\n",
    "        </div>\n",
    "        </html>"
   ]
  },
  {
   "cell_type": "code",
   "execution_count": null,
   "metadata": {
    "collapsed": true
   },
   "outputs": [],
   "source": []
  },
  {
   "cell_type": "code",
   "execution_count": null,
   "metadata": {
    "collapsed": true
   },
   "outputs": [],
   "source": []
  },
  {
   "cell_type": "code",
   "execution_count": null,
   "metadata": {
    "collapsed": true
   },
   "outputs": [],
   "source": []
  },
  {
   "cell_type": "code",
   "execution_count": null,
   "metadata": {
    "collapsed": true
   },
   "outputs": [],
   "source": []
  },
  {
   "cell_type": "code",
   "execution_count": null,
   "metadata": {
    "collapsed": true
   },
   "outputs": [],
   "source": []
  },
  {
   "cell_type": "code",
   "execution_count": null,
   "metadata": {
    "collapsed": true
   },
   "outputs": [],
   "source": []
  }
 ],
 "metadata": {
  "hide_input": false,
  "kernelspec": {
   "display_name": "Apache Toree - Scala",
   "language": "scala",
   "name": "apache_toree_scala"
  },
  "language_info": {
   "name": "scala",
   "version": "2.10.4"
  },
  "toc": {
   "nav_menu": {
    "height": "121px",
    "width": "252px"
   },
   "navigate_menu": true,
   "number_sections": true,
   "sideBar": true,
   "threshold": 4,
   "toc_cell": false,
   "toc_section_display": "block",
   "toc_window_display": true
  }
 },
 "nbformat": 4,
 "nbformat_minor": 0
}
