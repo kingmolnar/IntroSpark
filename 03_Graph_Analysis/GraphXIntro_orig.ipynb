{
 "cells": [
  {
   "cell_type": "markdown",
   "metadata": {},
   "source": [
    "# References \n",
    "\n",
    "- Scala Cheat Sheet http://docs.scala-lang.org/cheatsheets/\n",
    "- Scala by Example https://www.scala-lang.org/old/sites/default/files/linuxsoft_archives/docu/files/ScalaByExample.pdf\n",
    "- GraphX Programming Guide http://spark.apache.org/docs/1.6.1/graphx-programming-guide.html\n",
    "- Spark GraphX in Action https://www.manning.com/books/spark-graphx-in-action ([source code](https://manning-content.s3.amazonaws.com/download/3/6311f4a-a8af-45e2-80d1-f4689c23d802/SparkGraphXInActionSourceCode.zip))"
   ]
  },
  {
   "cell_type": "code",
   "execution_count": 1,
   "metadata": {
    "ExecuteTime": {
     "end_time": "2017-02-24T14:55:47.398495",
     "start_time": "2017-02-24T19:55:42.150Z"
    },
    "collapsed": false
   },
   "outputs": [
    {
     "name": "stdout",
     "output_type": "stream",
     "text": [
      "Monitor this application at http://arc.insight.gsu.edu:8088/proxy/application_1487525026281_0025\n"
     ]
    }
   ],
   "source": [
    "println(\"Monitor this application at http://arc.insight.gsu.edu:8088/proxy/\"+sc.applicationId)"
   ]
  },
  {
   "cell_type": "markdown",
   "metadata": {},
   "source": [
    "# Quick Start"
   ]
  },
  {
   "cell_type": "code",
   "execution_count": 2,
   "metadata": {
    "ExecuteTime": {
     "end_time": "2017-02-24T15:01:40.936552",
     "start_time": "2017-02-24T20:01:37.928Z"
    },
    "collapsed": true
   },
   "outputs": [],
   "source": [
    "import org.apache.spark.graphx._\n",
    "val graph = GraphLoader.edgeListFile(sc, \"/user/pmolnar/graphx/cit-HepTh.txt.gz\")"
   ]
  },
  {
   "cell_type": "code",
   "execution_count": 3,
   "metadata": {
    "ExecuteTime": {
     "end_time": "2017-02-24T15:01:44.383826",
     "start_time": "2017-02-24T20:01:43.018Z"
    },
    "collapsed": false
   },
   "outputs": [
    {
     "data": {
      "text/plain": [
       "(9711200,2414)"
      ]
     },
     "execution_count": 3,
     "metadata": {},
     "output_type": "execute_result"
    }
   ],
   "source": [
    "graph.inDegrees.reduce((a,b) => if (a._2 > b._2) a else b)"
   ]
  },
  {
   "cell_type": "code",
   "execution_count": 3,
   "metadata": {
    "ExecuteTime": {
     "end_time": "2017-02-24T12:34:11.158584",
     "start_time": "2017-02-24T17:34:10.769Z"
    },
    "collapsed": false
   },
   "outputs": [
    {
     "data": {
      "text/plain": [
       "Array((9405166,1), (108150,1), (110163,1), (204100,1), (9407099,1))"
      ]
     },
     "execution_count": 3,
     "metadata": {},
     "output_type": "execute_result"
    }
   ],
   "source": [
    "graph.vertices.take(5)"
   ]
  },
  {
   "cell_type": "code",
   "execution_count": null,
   "metadata": {
    "collapsed": true
   },
   "outputs": [],
   "source": []
  },
  {
   "cell_type": "code",
   "execution_count": 4,
   "metadata": {
    "ExecuteTime": {
     "end_time": "2017-02-24T15:01:59.015510",
     "start_time": "2017-02-24T20:01:50.266Z"
    },
    "collapsed": false
   },
   "outputs": [
    {
     "data": {
      "text/plain": [
       "(9407087,59.944152504241345)"
      ]
     },
     "execution_count": 4,
     "metadata": {},
     "output_type": "execute_result"
    }
   ],
   "source": [
    "val v = graph.pageRank(0.1).vertices\n",
    "v.reduce((a,b) => if (a._2 > b._2) a else b)"
   ]
  },
  {
   "cell_type": "code",
   "execution_count": 11,
   "metadata": {
    "ExecuteTime": {
     "end_time": "2017-02-24T15:07:19.991977",
     "start_time": "2017-02-24T20:07:19.297Z"
    },
    "collapsed": false
   },
   "outputs": [
    {
     "data": {
      "text/plain": [
       "Array((9407087,59.944152504241345), (9207016,56.90334834279614), (9201015,51.219656229794666), (9503124,42.21518078852293), (9510017,40.49805385667279), (9402044,37.12668405233696), (9711200,34.07045324583681), (9410167,30.926955590644393), (9408099,30.70471839877616), (9402002,27.740789915655956))"
      ]
     },
     "execution_count": 11,
     "metadata": {},
     "output_type": "execute_result"
    }
   ],
   "source": [
    "v.sortBy(_._2, false).take(10)"
   ]
  }
 ],
 "metadata": {
  "hide_input": false,
  "kernelspec": {
   "display_name": "Apache Toree - Scala",
   "language": "scala",
   "name": "apache_toree_scala"
  },
  "language_info": {
   "name": "scala",
   "version": "2.10.4"
  },
  "toc": {
   "nav_menu": {
    "height": "48px",
    "width": "252px"
   },
   "navigate_menu": true,
   "number_sections": true,
   "sideBar": true,
   "threshold": 4,
   "toc_cell": false,
   "toc_section_display": "block",
   "toc_window_display": false
  }
 },
 "nbformat": 4,
 "nbformat_minor": 0
}
