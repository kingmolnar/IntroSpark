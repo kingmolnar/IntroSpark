{
 "cells": [
  {
   "cell_type": "markdown",
   "metadata": {},
   "source": [
    "<div style=\"float:right; color:red; font-weight:bold;\">Rename this file before you work on it!</div>\n",
    "# Pandas Spark Exercise 3\n",
    "\n",
    "We use the [Adventure Works dataset](https://msdn.microsoft.com/en-us/library/hh403424.aspxto) to compare queries\n",
    "in SQL and Spark.\n",
    "\n",
    "## Task\n",
    "1. Fill in the Python-Spark expressions to produce a table as described in the problem statements.\n",
    "2. The SQL expression may give you a hint. It also allows you to see both systems side-by-side.\n",
    "3. Documentation at http://spark.apache.org/docs/latest/sql-programming-guide.html"
   ]
  },
  {
   "cell_type": "markdown",
   "metadata": {},
   "source": [
    "# Setup"
   ]
  },
  {
   "cell_type": "markdown",
   "metadata": {},
   "source": [
    "## Spark"
   ]
  },
  {
   "cell_type": "code",
   "execution_count": null,
   "metadata": {
    "ExecuteTime": {
     "end_time": "2017-05-07T21:44:09.379952",
     "start_time": "2017-05-07T21:44:09.054610"
    },
    "collapsed": false
   },
   "outputs": [],
   "source": [
    "#\"\"\"\n",
    "#Load packages and create context objects...\n",
    "#\"\"\"\n",
    "import os\n",
    "import platform\n",
    "import sys\n",
    "import pandas\n",
    "\n",
    "if not 'sc' in vars():\n",
    "    print \"\"\"\n",
    "***********************************************\n",
    "*** Warning: Spark needs to be initialized ****\n",
    "***********************************************\n",
    "    \"\"\"\n",
    "else:\n",
    "    print(\"\"\"Already running\n",
    "          ____              __\n",
    "         / __/__  ___ _____/ /__\n",
    "        _\\ \\/ _ \\/ _ `/ __/  '_/\n",
    "       /__ / .__/\\_,_/_/ /_/\\_\\   version %s\n",
    "          /_/\n",
    "    \"\"\" % sc.version)\n",
    "\n",
    "if not 'sqlCtx' in vars():\n",
    "    sqlCtx = SQLContext(sc)\n",
    "print 'Spark Context available as `sc`'\n",
    "print 'Spark SQL Context (%s) available as `sqlCtx`'%str(type(sqlCtx))\n",
    "### The spark context doesn't really know the URL to the job manager... this would be different on every system\n",
    "print \"Monitor this application at http://data-science-02.atl.primedia.com:8088/proxy/\"+sc.applicationId"
   ]
  },
  {
   "cell_type": "markdown",
   "metadata": {},
   "source": [
    "## Additional Spark Packages for Python"
   ]
  },
  {
   "cell_type": "code",
   "execution_count": null,
   "metadata": {
    "ExecuteTime": {
     "end_time": "2017-05-07T21:45:00.075035",
     "start_time": "2017-05-07T21:45:00.062902"
    },
    "collapsed": true
   },
   "outputs": [],
   "source": [
    "import pyspark.sql.functions as F"
   ]
  },
  {
   "cell_type": "markdown",
   "metadata": {},
   "source": [
    "## Load Tables"
   ]
  },
  {
   "cell_type": "code",
   "execution_count": null,
   "metadata": {
    "ExecuteTime": {
     "end_time": "2017-05-07T21:45:20.109704",
     "start_time": "2017-05-07T21:45:11.639140"
    },
    "collapsed": true
   },
   "outputs": [],
   "source": [
    "# %load adventureworks_spark.py\n",
    "if not 'sqlCtx' in vars():\n",
    "   sqlCtx = SQLContext(sc)\n",
    "\n",
    "Employees_df = sqlCtx.read.format('com.databricks.spark.csv')\\\n",
    "    .options(header=True, inferschema=True)\\\n",
    "    .load('/user/pmolnar/data/AdventureWorks/Employees.csv.gz')\n",
    "\n",
    "Territory_df = sqlCtx.read.format('com.databricks.spark.csv')\\\n",
    "    .options(header=True, inferschema=True)\\\n",
    "    .load('/user/pmolnar/data/AdventureWorks/SalesTerritory.csv.gz')\n",
    "\n",
    "Orders_df = sqlCtx.read.format('com.databricks.spark.csv')\\\n",
    "    .options(header=True, inferschema=True)\\\n",
    "    .load('/user/pmolnar/data/AdventureWorks/ItemsOrdered.csv.gz')\n",
    "\n",
    "Customers_df = sqlCtx.read.format('com.databricks.spark.csv')\\\n",
    "    .options(header=True, inferschema=True)\\\n",
    "    .load('/user/pmolnar/data/AdventureWorks/Customer.csv.gz')\n",
    "\n"
   ]
  },
  {
   "cell_type": "markdown",
   "metadata": {},
   "source": [
    "# Queries"
   ]
  },
  {
   "cell_type": "markdown",
   "metadata": {},
   "source": [
    "### 1a. Provide a count of the number of salespeople in the company"
   ]
  },
  {
   "cell_type": "raw",
   "metadata": {},
   "source": [
    "SELECT COUNT(*)\n",
    "\tFROM dbo.Employees AS e\n",
    "\tINNER JOIN dbo.SalesTerritory AS st\n",
    "\t\tON e.TerritoryID = st.TerritoryID\n",
    "\t;"
   ]
  },
  {
   "cell_type": "code",
   "execution_count": null,
   "metadata": {
    "collapsed": true
   },
   "outputs": [],
   "source": []
  },
  {
   "cell_type": "markdown",
   "metadata": {},
   "source": [
    "### 1b. Instead of a count, list the salespeople along with their territories\n",
    "Show columns: EmployeeID, FirstName, LastName, TerritoryName, CountryCode, Region"
   ]
  },
  {
   "cell_type": "raw",
   "metadata": {},
   "source": [
    "SELECT e.EmployeeID, e.FirstName, e.LastName, st.Name, st.CountryCode, st.Region\n",
    "\tFROM dbo.Employees AS e\n",
    "\tINNER JOIN dbo.SalesTerritory AS st\n",
    "\t\tON e.TerritoryID = st.TerritoryID\n",
    "\t;"
   ]
  },
  {
   "cell_type": "code",
   "execution_count": null,
   "metadata": {
    "collapsed": true
   },
   "outputs": [],
   "source": []
  },
  {
   "cell_type": "markdown",
   "metadata": {},
   "source": [
    "### 1c. Now include in the result set all other non-sales employees"
   ]
  },
  {
   "cell_type": "raw",
   "metadata": {},
   "source": [
    "SELECT e.EmployeeID, e.FirstName, e.LastName, st.Name, st.CountryCode, st.Region\n",
    "\tFROM dbo.Employees AS e\n",
    "\tLEFT OUTER JOIN dbo.SalesTerritory AS st\n",
    "\t\tON e.TerritoryID = st.TerritoryID\n",
    "\t;"
   ]
  },
  {
   "cell_type": "code",
   "execution_count": null,
   "metadata": {
    "collapsed": true
   },
   "outputs": [],
   "source": []
  },
  {
   "cell_type": "markdown",
   "metadata": {},
   "source": [
    "### 1d. Sort the results with the salespeople at the top"
   ]
  },
  {
   "cell_type": "raw",
   "metadata": {},
   "source": [
    "SELECT e.EmployeeID, e.FirstName, e.LastName, st.Name, st.CountryCode, st.Region\n",
    "\tFROM dbo.Employees AS e\n",
    "\tLEFT OUTER JOIN dbo.SalesTerritory AS st\n",
    "\t\tON e.TerritoryID = st.TerritoryID\n",
    "\tORDER BY COALESCE(st.Region, 'ZZZZZZZZZZZZZZ') \n",
    "\t;"
   ]
  },
  {
   "cell_type": "code",
   "execution_count": null,
   "metadata": {
    "collapsed": true
   },
   "outputs": [],
   "source": []
  },
  {
   "cell_type": "markdown",
   "metadata": {},
   "source": [
    "### 1e. It turns out we don't need territory information for our American salespeople\n",
    "Only show information for territories outside the U.S."
   ]
  },
  {
   "cell_type": "raw",
   "metadata": {},
   "source": [
    "SELECT e.EmployeeID, e.FirstName, e.LastName, st.Name, st.CountryCode, st.Region\n",
    "\tFROM dbo.Employees AS e\n",
    "\tLEFT OUTER JOIN dbo.SalesTerritory AS st\n",
    "\t\tON e.TerritoryID = st.TerritoryID AND st.CountryCode != 'US'\n",
    "\tORDER BY COALESCE(st.Region, 'ZZZZZZZZZZZZZZ') \n",
    "\t;"
   ]
  },
  {
   "cell_type": "code",
   "execution_count": null,
   "metadata": {
    "collapsed": true
   },
   "outputs": [],
   "source": []
  },
  {
   "cell_type": "markdown",
   "metadata": {},
   "source": [
    "### 2a. Take the query from #1b above, but add information for each employee's manager\n",
    "Show additional columns: ManagerFirstName, ManagerLastName, ManagerJobTitle"
   ]
  },
  {
   "cell_type": "raw",
   "metadata": {},
   "source": [
    "SELECT e.EmployeeID, e.FirstName, e.LastName, st.Name, st.CountryCode, st.Region, mgr.FirstName, mgr.LastName, mgr.JobTitle\n",
    "\tFROM dbo.Employees AS e\n",
    "\tINNER JOIN dbo.SalesTerritory AS st\n",
    "\t\tON e.TerritoryID = st.TerritoryID\n",
    "\tLEFT OUTER JOIN dbo.Employees as mgr\n",
    "\t\ton e.ManagerID = mgr.EmployeeID\n",
    "\t;"
   ]
  },
  {
   "cell_type": "code",
   "execution_count": null,
   "metadata": {
    "collapsed": true
   },
   "outputs": [],
   "source": []
  },
  {
   "cell_type": "markdown",
   "metadata": {},
   "source": [
    "### 2b. Only show salespeople who report to Amy Alberts"
   ]
  },
  {
   "cell_type": "raw",
   "metadata": {},
   "source": [
    "SELECT e.EmployeeID, e.FirstName, e.LastName, st.Name, st.CountryCode, st.Region, mgr.FirstName, mgr.LastName, mgr.JobTitle\n",
    "\tFROM dbo.Employees AS e\n",
    "\tINNER JOIN dbo.SalesTerritory AS st\n",
    "\t\tON e.TerritoryID = st.TerritoryID\n",
    "\tLEFT OUTER JOIN dbo.Employees as mgr\n",
    "\t\tON e.ManagerID = mgr.EmployeeID\n",
    "\tWHERE CONCAT(mgr.FirstName, mgr.LastName) = 'AmyAlberts'\n",
    "\t;"
   ]
  },
  {
   "cell_type": "code",
   "execution_count": null,
   "metadata": {
    "collapsed": true
   },
   "outputs": [],
   "source": []
  },
  {
   "cell_type": "markdown",
   "metadata": {},
   "source": [
    "### 3a. Give a list of all customers, and the average price of items ordered for each one\n",
    "Show columns: CustomerID, FirstName, LastName, City, StateName, AvgPrice"
   ]
  },
  {
   "cell_type": "raw",
   "metadata": {},
   "source": [
    "SELECT c.CustomerID\n",
    "\t,c.FirstName\n",
    "\t,c.LastName\n",
    "\t,c.City\n",
    "\t,c.StateName\n",
    "\t,AVG(io.Price) AS AvgPrice\n",
    "FROM dbo.Customers AS c\n",
    "LEFT OUTER JOIN dbo.ItemsOrdered AS io\n",
    "\tON c.CustomerID = io.CustomerID\n",
    "GROUP BY c.CustomerID\n",
    "\t,c.FirstName\n",
    "\t,c.LastName\n",
    "\t,c.City\n",
    "\t,c.StateName\n",
    ";"
   ]
  },
  {
   "cell_type": "code",
   "execution_count": null,
   "metadata": {
    "collapsed": true
   },
   "outputs": [],
   "source": []
  },
  {
   "cell_type": "markdown",
   "metadata": {},
   "source": [
    "### 3b. For those customers who have never ordered anything, put 0 as the average price"
   ]
  },
  {
   "cell_type": "raw",
   "metadata": {},
   "source": [
    "SELECT c.CustomerID\n",
    "\t,c.FirstName\n",
    "\t,c.LastName\n",
    "\t,c.City\n",
    "\t,c.StateName\n",
    "\t,ISNULL(AVG(io.Price),0) AS AvgPrice\n",
    "FROM dbo.Customers AS c\n",
    "LEFT OUTER JOIN dbo.ItemsOrdered AS io\n",
    "\tON c.CustomerID = io.CustomerID\n",
    "GROUP BY c.CustomerID\n",
    "\t,c.FirstName\n",
    "\t,c.LastName\n",
    "\t,c.City\n",
    "\t,c.StateName\n",
    ";"
   ]
  },
  {
   "cell_type": "code",
   "execution_count": null,
   "metadata": {
    "collapsed": true
   },
   "outputs": [],
   "source": []
  },
  {
   "cell_type": "markdown",
   "metadata": {},
   "source": [
    "### 3c. Show the same results, but instead of average price per customer, tell me the average \"Total Price\" per customer\n",
    "Make sure you change the alias of the AvgPrice column accordingly"
   ]
  },
  {
   "cell_type": "raw",
   "metadata": {},
   "source": [
    "SELECT c.CustomerID\n",
    "\t,c.FirstName\n",
    "\t,c.LastName\n",
    "\t,c.City\n",
    "\t,c.StateName\n",
    "\t,ISNULL(AVG(io.Price*io.Quantity),0) AS AvgTotalPrice\n",
    "FROM dbo.Customers AS c\n",
    "LEFT OUTER JOIN dbo.ItemsOrdered AS io\n",
    "\tON c.CustomerID = io.CustomerID\n",
    "GROUP BY c.CustomerID\n",
    "\t,c.FirstName\n",
    "\t,c.LastName\n",
    "\t,c.City\n",
    "\t,c.StateName\n",
    "    ;"
   ]
  },
  {
   "cell_type": "code",
   "execution_count": null,
   "metadata": {
    "collapsed": true
   },
   "outputs": [],
   "source": []
  },
  {
   "cell_type": "markdown",
   "metadata": {},
   "source": [
    "### 4a. Someone has requested a report of all employees and their managers (if they don't have a manager, still display them)\n",
    "Show columns: EmployeeID, EmployeeFullName, EmployeeTitle, BossFullName, BossTitle"
   ]
  },
  {
   "cell_type": "raw",
   "metadata": {},
   "source": [
    "SELECT emp.EmployeeID\n",
    "\t,emp.Firstname + ' ' + emp.LastName AS EmployeeFullNameAlt\n",
    "\t,CONCAT(emp.FirstName,' ',emp.LastName) AS EmployeeFullName\n",
    "\t,emp.JobTitle AS EmployeeJobTitle\n",
    "\t,CONCAT(mgr.FirstName,' ',mgr.LastName) AS BossFullName\n",
    "\t,mgr.JobTitle AS BossJobTitle\n",
    "FROM dbo.Employees AS emp\n",
    "LEFT OUTER JOIN dbo.Employees AS mgr\n",
    "\tON emp.ManagerID = mgr.EmployeeID\n",
    ";"
   ]
  },
  {
   "cell_type": "code",
   "execution_count": null,
   "metadata": {
    "collapsed": true
   },
   "outputs": [],
   "source": []
  },
  {
   "cell_type": "markdown",
   "metadata": {},
   "source": [
    "### 4b. Another request from someone else has just come in, asking for a list of managers and their employees\n",
    "Columns: BossFullName, BossTitle, EmployeeFullName, EmployeeTitle\n",
    "Sort by BossTitle then EmployeeTitle"
   ]
  },
  {
   "cell_type": "raw",
   "metadata": {},
   "source": [
    "SELECT CONCAT(mgr.FirstName,' ',mgr.LastName) AS BossFullName\n",
    "\t,mgr.JobTitle AS BossJobTitle\n",
    "\t,CONCAT(emp.FirstName,' ',emp.LastName) AS EmployeeFullName\n",
    "\t,emp.JobTitle AS EmployeeJobTitle\n",
    "FROM dbo.Employees AS mgr\n",
    "INNER JOIN dbo.Employees AS emp\n",
    "\tON emp.ManagerID = mgr.EmployeeID\n",
    "ORDER BY BossFullName\n",
    ";"
   ]
  },
  {
   "cell_type": "code",
   "execution_count": null,
   "metadata": {
    "collapsed": true
   },
   "outputs": [],
   "source": []
  },
  {
   "cell_type": "markdown",
   "metadata": {},
   "source": [
    "### 4c. Provide a list of managers in the company"
   ]
  },
  {
   "cell_type": "raw",
   "metadata": {},
   "source": [
    "SELECT DISTINCT CONCAT(mgr.FirstName,' ',mgr.LastName) AS BossFullName \n",
    "\t,mgr.JobTitle AS BossJobTitle\n",
    "FROM dbo.Employees AS mgr\n",
    "INNER JOIN dbo.Employees AS emp\t\n",
    "\tON mgr.EmployeeID = emp.ManagerID\n",
    "ORDER BY BossFullName\n",
    ";"
   ]
  },
  {
   "cell_type": "code",
   "execution_count": null,
   "metadata": {
    "collapsed": true
   },
   "outputs": [],
   "source": []
  },
  {
   "cell_type": "markdown",
   "metadata": {},
   "source": [
    "### 5a. Show me only the salespeople who live in the U.S. and their hire dates\n",
    "Columns: FullName, HireDate"
   ]
  },
  {
   "cell_type": "raw",
   "metadata": {},
   "source": [
    "SELECT e.FirstName + ' ' + e.LastName AS FullName\n",
    "\t,e.HireDate\n",
    "FROM dbo.Employees e\n",
    "INNER JOIN dbo.SalesTerritory s\n",
    "\tON e.TerritoryID = s.TerritoryID\n",
    "WHERE e.CountryName = 'United States'"
   ]
  },
  {
   "cell_type": "code",
   "execution_count": null,
   "metadata": {
    "collapsed": true
   },
   "outputs": [],
   "source": []
  },
  {
   "cell_type": "markdown",
   "metadata": {},
   "source": [
    "### 5b. Show me only the salespeople who sell to U.S. customers and their hire dates, plus how much revenue their territory has generated this year\n",
    "Columns: FullName, HireDate, TerritoryName, Revenue"
   ]
  },
  {
   "cell_type": "raw",
   "metadata": {},
   "source": [
    "SELECT e.FirstName + ' ' + e.LastName AS FullName\n",
    "\t,e.HireDate\n",
    "\t,s.Name AS TerritoryName\n",
    "\t,s.SalesYTD AS Revenue\n",
    "FROM dbo.Employees e\n",
    "INNER JOIN dbo.SalesTerritory s\n",
    "\tON e.TerritoryID = s.TerritoryID\n",
    "WHERE s.CountryCode = 'US'"
   ]
  },
  {
   "cell_type": "code",
   "execution_count": null,
   "metadata": {
    "collapsed": true
   },
   "outputs": [],
   "source": []
  },
  {
   "cell_type": "markdown",
   "metadata": {},
   "source": [
    "### 6. I need a list of all the salespeople and their territories, but also show the territories that don't have any salespeople assigned.\n",
    "Columns: EmployeeID, FirstName, LastName, TerritoryName, TerritoryCountry, TerritoryRegion"
   ]
  },
  {
   "cell_type": "raw",
   "metadata": {},
   "source": [
    "SELECT e.EmployeeID\n",
    "\t,e.FirstName\n",
    "\t,e.LastName\n",
    "\t,s.Name AS TerritoryName\n",
    "\t,s.CountryCode AS TerritoryCountry\n",
    "\t,s.Region AS TerritoryRegion\n",
    "FROM dbo.SalesTerritory AS s\n",
    "LEFT OUTER JOIN dbo.Employees AS e\n",
    "\tON s.TerritoryID = e.TerritoryID\n",
    ";"
   ]
  },
  {
   "cell_type": "code",
   "execution_count": null,
   "metadata": {
    "collapsed": true
   },
   "outputs": [],
   "source": []
  },
  {
   "cell_type": "markdown",
   "metadata": {},
   "source": [
    "### 7. Give me a list of all the customers, and if they ordered anything less than $30 show me those orders too"
   ]
  },
  {
   "cell_type": "raw",
   "metadata": {},
   "source": [
    "SELECT c.CustomerID\n",
    "\t,c.FirstName\n",
    "\t,c.LastName\n",
    "\t,io.Item\n",
    "\t,io.Price\n",
    "FROM dbo.Customers AS c\n",
    "LEFT OUTER JOIN dbo.ItemsOrdered AS io\n",
    "\tON c.CustomerID = io.CustomerID\n",
    "\tAND io.Price < 30\n",
    "    ;"
   ]
  },
  {
   "cell_type": "code",
   "execution_count": null,
   "metadata": {
    "collapsed": true
   },
   "outputs": [],
   "source": []
  },
  {
   "cell_type": "markdown",
   "metadata": {},
   "source": [
    "### 9a. We need a list of each employee's boss's boss (i.e., 2 levels up)\n",
    "Columns: EmployeeID, EmployeeFullName, EmployeeTitle, BossBossFullName, BossBossTitle<br/>\n",
    "Sort by BossBossTitle and then EmployeeTitle"
   ]
  },
  {
   "cell_type": "raw",
   "metadata": {},
   "source": [
    "SELECT emp.EmployeeID\n",
    "\t\t,emp.FirstName + ' ' + emp.LastName AS EmployeeFullName\n",
    "\t\t,emp.JobTitle AS EmployeeTitle\n",
    "\t\t,mgr2.FirstName + ' ' + mgr2.LastName AS BossBossFullName\n",
    "\t\t,mgr2.JobTitle AS BossBossTitle\n",
    "FROM dbo.Employees emp\n",
    "INNER JOIN dbo.Employees mgr\n",
    "\tON emp.ManagerID = mgr.EmployeeID\n",
    "INNER JOIN dbo.Employees mgr2\n",
    "\tON mgr.ManagerID = mgr2.EmployeeID\n",
    "ORDER BY BossBossTitle, EmployeeTitle\n",
    ";"
   ]
  },
  {
   "cell_type": "code",
   "execution_count": null,
   "metadata": {
    "collapsed": true
   },
   "outputs": [],
   "source": []
  },
  {
   "cell_type": "markdown",
   "metadata": {},
   "source": [
    "### 9b. Same as above, except show all employees in the company"
   ]
  },
  {
   "cell_type": "raw",
   "metadata": {},
   "source": [
    "SELECT emp.EmployeeID\n",
    "\t,emp.FirstName + ' ' + emp.LastName AS EmployeeFullName\n",
    "\t,emp.JobTitle AS EmployeeTitle\n",
    "\t,mgr2.FirstName + ' ' + mgr2.LastName AS BossBossFullName\n",
    "\t,mgr2.JobTitle AS BossBossTitle\n",
    "FROM dbo.Employees emp\n",
    "LEFT OUTER JOIN dbo.Employees mgr\n",
    "\tON emp.ManagerID = mgr.EmployeeID\n",
    "LEFT OUTER JOIN dbo.Employees mgr2\n",
    "\tON mgr.ManagerID = mgr2.EmployeeID\n",
    "ORDER BY BossBossTitle, EmployeeTitle\n",
    ";"
   ]
  },
  {
   "cell_type": "code",
   "execution_count": null,
   "metadata": {
    "collapsed": true
   },
   "outputs": [],
   "source": []
  },
  {
   "cell_type": "markdown",
   "metadata": {},
   "source": [
    "### 9c. For those employees who don't have a boss's boss, display \"n/a\" for BossBossFullName and BossBossTitle"
   ]
  },
  {
   "cell_type": "raw",
   "metadata": {},
   "source": [
    "SELECT emp.EmployeeID\n",
    "\t\t,emp.FirstName + ' ' + emp.LastName AS EmployeeFullName\n",
    "\t\t,emp.JobTitle AS EmployeeTitle\n",
    "\t\t,COALESCE(mgr2.FirstName + ' ' + mgr2.LastName, 'n/a') AS BossBossFullName\n",
    "\t\t,COALESCE(mgr2.JobTitle, 'n/a') AS BossBossTitle\n",
    "\tFROM dbo.Employees emp\n",
    "\tLEFT OUTER JOIN dbo.Employees mgr\n",
    "\t\tON emp.ManagerID = mgr.EmployeeID\n",
    "\tLEFT OUTER JOIN dbo.Employees mgr2\n",
    "\t\tON mgr.ManagerID = mgr2.EmployeeID\n",
    "\tORDER BY BossBossTitle, EmployeeTitle\n",
    ";"
   ]
  },
  {
   "cell_type": "code",
   "execution_count": null,
   "metadata": {
    "collapsed": true
   },
   "outputs": [],
   "source": []
  },
  {
   "cell_type": "markdown",
   "metadata": {},
   "source": [
    "### 9d. Change the sort so that the ones with \"n/a\" are at the top of the list"
   ]
  },
  {
   "cell_type": "raw",
   "metadata": {},
   "source": [
    "SELECT emp.EmployeeID\n",
    "\t\t,emp.FirstName + ' ' + emp.LastName AS EmployeeFullName\n",
    "\t\t,emp.JobTitle AS EmployeeTitle\n",
    "\t\t,COALESCE(mgr2.FirstName + ' ' + mgr2.LastName, 'n/a') AS BossBossFullName\n",
    "\t\t,COALESCE(mgr2.JobTitle, 'n/a') AS BossBossTitle\n",
    "\tFROM dbo.Employees emp\n",
    "\tLEFT OUTER JOIN dbo.Employees mgr\n",
    "\t\tON emp.ManagerID = mgr.EmployeeID\n",
    "\tLEFT OUTER JOIN dbo.Employees mgr2\n",
    "\t\tON mgr.ManagerID = mgr2.EmployeeID\n",
    "\tORDER BY mgr2.JobTitle, EmployeeTitle\n",
    "    ;"
   ]
  },
  {
   "cell_type": "code",
   "execution_count": null,
   "metadata": {
    "collapsed": true
   },
   "outputs": [],
   "source": []
  },
  {
   "cell_type": "markdown",
   "metadata": {},
   "source": [
    "### 10a. We need a list of each manager's indirect reports (i.e., 2 levels down)\n",
    "Columns: ManagerFullName, ManagerTitle, IndirectReportFullName, IndirectReportTitle<br />\n",
    "Sort by ManagerTitle and IndirectReportTitle"
   ]
  },
  {
   "cell_type": "raw",
   "metadata": {},
   "source": [
    "SELECT mgr.FirstName + ' ' + mgr.LastName AS ManagerFullName\n",
    "\t\t,mgr.JobTitle AS ManagerTitle\n",
    "\t\t,COUNT(*) AS NumIndirectReports\n",
    "\tFROM dbo.Employees mgr\n",
    "\tINNER JOIN dbo.Employees emp\n",
    "\t\tON mgr.EmployeeID = emp.ManagerID\n",
    "\tINNER JOIN dbo.Employees emp2\n",
    "\t\tON emp.EmployeeID = emp2.ManagerID\n",
    "\tGROUP BY mgr.EmployeeID\n",
    "\t\t,mgr.FirstName\n",
    "\t\t,mgr.LastName\n",
    "\t\t,mgr.JobTitle\n",
    "\tORDER BY ManagerTitle\n",
    "    ;"
   ]
  },
  {
   "cell_type": "code",
   "execution_count": null,
   "metadata": {
    "collapsed": true
   },
   "outputs": [],
   "source": []
  },
  {
   "cell_type": "markdown",
   "metadata": {},
   "source": [
    "### 10b. Please tell us how many indirect reports each manager has\n",
    "Columns: ManagerFullName, ManagerTitle, NumIndirectReports"
   ]
  },
  {
   "cell_type": "raw",
   "metadata": {},
   "source": [
    "SELECT mgr.FirstName + ' ' + mgr.LastName AS ManagerFullName\n",
    "\t\t,mgr.JobTitle AS ManagerTitle\n",
    "\t\t,COUNT(*) AS NumIndirectReports\n",
    "\tFROM dbo.Employees mgr\n",
    "\tINNER JOIN dbo.Employees emp\n",
    "\t\tON mgr.EmployeeID = emp.ManagerID\n",
    "\tINNER JOIN dbo.Employees emp2\n",
    "\t\tON emp.EmployeeID = emp2.ManagerID\n",
    "\tGROUP BY mgr.EmployeeID\n",
    "\t\t,mgr.FirstName\n",
    "\t\t,mgr.LastName\n",
    "\t\t,mgr.JobTitle\n",
    "\tORDER BY ManagerTitle\n",
    "    ;"
   ]
  },
  {
   "cell_type": "code",
   "execution_count": null,
   "metadata": {
    "collapsed": true
   },
   "outputs": [],
   "source": []
  },
  {
   "cell_type": "markdown",
   "metadata": {},
   "source": [
    "### 11. Start with the query from #4c and change it so it returns just one number in the result: the count of managers in the company"
   ]
  },
  {
   "cell_type": "raw",
   "metadata": {},
   "source": [
    "SELECT COUNT(DISTINCT mgr.EmployeeID) AS NumManagers\n",
    "\tFROM dbo.Employees emp\n",
    "\tINNER JOIN dbo.Employees mgr\n",
    "\t\tON emp.ManagerID = mgr.EmployeeID"
   ]
  },
  {
   "cell_type": "code",
   "execution_count": null,
   "metadata": {
    "collapsed": true
   },
   "outputs": [],
   "source": []
  },
  {
   "cell_type": "markdown",
   "metadata": {},
   "source": [
    "### BONUS 1a. The HR people have come to you with a problem, they realized that some of the employee names were entered into the system with 2 spaces instead of 1\n",
    "Find anyone with a FirstName, MiddleName, or LastName that has 2 spaces<br />\n",
    "Columns: EmployeeID, FirstName, MiddleName, LastName"
   ]
  },
  {
   "cell_type": "raw",
   "metadata": {},
   "source": [
    "SELECT e.EmployeeID\n",
    "\t\t,e.FirstName\n",
    "\t\t,e.MiddleName\n",
    "\t\t,e.LastName\n",
    "\tFROM dbo.Employees e\n",
    "\tWHERE e.FirstName LIKE '%  %'\n",
    "\t\tOR e.MiddleName LIKE '%  %'\n",
    "\t\tOR e.LastName LIKE '%  %'\n"
   ]
  },
  {
   "cell_type": "code",
   "execution_count": null,
   "metadata": {
    "collapsed": true
   },
   "outputs": [],
   "source": []
  },
  {
   "cell_type": "markdown",
   "metadata": {},
   "source": [
    "### BONUS 1b. Display the same list but correct the names to display what they should look like"
   ]
  },
  {
   "cell_type": "raw",
   "metadata": {},
   "source": [
    "SELECT e.EmailAddress\n",
    "\t\t,SUBSTRING(e.EmailAddress, CHARINDEX('@', e.EmailAddress)+1, 1000)\n",
    "\tFROM dbo.Employees as e\n",
    "\t;"
   ]
  },
  {
   "cell_type": "code",
   "execution_count": null,
   "metadata": {
    "collapsed": true
   },
   "outputs": [],
   "source": []
  }
 ],
 "metadata": {
  "hide_input": false,
  "kernelspec": {
   "display_name": "PySpark - Cluster",
   "language": "python",
   "name": "pyspark"
  },
  "language_info": {
   "codemirror_mode": {
    "name": "ipython",
    "version": 2
   },
   "file_extension": ".py",
   "mimetype": "text/x-python",
   "name": "python",
   "nbconvert_exporter": "python",
   "pygments_lexer": "ipython2",
   "version": "2.7.5"
  },
  "latex_envs": {
   "bibliofile": "biblio.bib",
   "cite_by": "apalike",
   "current_citInitial": 1,
   "eqLabelWithNumbers": true,
   "eqNumInitial": 0
  },
  "toc": {
   "nav_menu": {
    "height": "512px",
    "width": "252px"
   },
   "navigate_menu": true,
   "number_sections": true,
   "sideBar": true,
   "threshold": 4,
   "toc_cell": false,
   "toc_section_display": "block",
   "toc_window_display": true
  }
 },
 "nbformat": 4,
 "nbformat_minor": 0
}
