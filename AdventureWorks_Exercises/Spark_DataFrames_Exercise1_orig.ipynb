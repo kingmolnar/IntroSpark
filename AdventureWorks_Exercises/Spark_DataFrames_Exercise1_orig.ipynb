{
 "cells": [
  {
   "cell_type": "markdown",
   "metadata": {},
   "source": [
    "<div style=\"float:right; color:red; font-weight:bold;\">Rename this file before you work on it!</div>\n",
    "# Spark DataFrames Exercise 1\n",
    "\n",
    "We use the [Adventure Works dataset](https://msdn.microsoft.com/en-us/library/hh403424.aspxto) to compare queries\n",
    "in SQL and Spark.\n",
    "\n",
    "## Task\n",
    "1. Fill in the Python-Spark expressions to produce a table as described in the problem statements.\n",
    "2. The SQL expression may give you a hint. It also allows you to see both systems side-by-side.\n",
    "3. Documentation at http://spark.apache.org/docs/latest/sql-programming-guide.html"
   ]
  },
  {
   "cell_type": "markdown",
   "metadata": {
    "ExecuteTime": {
     "end_time": "2017-02-10T09:36:12.850456",
     "start_time": "2017-02-10T09:36:12.841975"
    }
   },
   "source": [
    "## Setup"
   ]
  },
  {
   "cell_type": "markdown",
   "metadata": {},
   "source": [
    "### Spark Environment\n",
    "This example runs with a Jupyter kernel that launches a Spark Context by default. If this is not the case on your system you have to initialize the Spark environment first."
   ]
  },
  {
   "cell_type": "code",
   "execution_count": null,
   "metadata": {
    "ExecuteTime": {
     "end_time": "2017-05-07T21:20:57.784035",
     "start_time": "2017-05-07T21:20:57.399891"
    },
    "collapsed": false
   },
   "outputs": [],
   "source": [
    "#\"\"\"\n",
    "#Load packages and create context objects...\n",
    "#\"\"\"\n",
    "import os\n",
    "import platform\n",
    "import sys\n",
    "import pandas\n",
    "\n",
    "if not 'sc' in vars():\n",
    "    print \"\"\"\n",
    "***********************************************\n",
    "*** Warning: Spark needs to be initialized ****\n",
    "***********************************************\n",
    "    \"\"\"\n",
    "else:\n",
    "    print(\"\"\"Already running\n",
    "          ____              __\n",
    "         / __/__  ___ _____/ /__\n",
    "        _\\ \\/ _ \\/ _ `/ __/  '_/\n",
    "       /__ / .__/\\_,_/_/ /_/\\_\\   version %s\n",
    "          /_/\n",
    "    \"\"\" % sc.version)\n",
    "\n",
    "if not 'sqlCtx' in vars():\n",
    "    sqlCtx = SQLContext(sc)\n",
    "print 'Spark Context available as `sc`'\n",
    "print 'Spark SQL Context (%s) available as `sqlCtx`'%str(type(sqlCtx))\n",
    "### The spark context doesn't really know the URL to the job manager... this would be different on every system\n",
    "print \"Monitor this application at http://data-science-02.atl.primedia.com:8088/proxy/\"+sc.applicationId\n",
    "\n"
   ]
  },
  {
   "cell_type": "markdown",
   "metadata": {},
   "source": [
    "## Additional Spark Packages for Python"
   ]
  },
  {
   "cell_type": "code",
   "execution_count": null,
   "metadata": {
    "ExecuteTime": {
     "end_time": "2017-05-07T21:22:03.702601",
     "start_time": "2017-05-07T21:22:03.695290"
    },
    "collapsed": true
   },
   "outputs": [],
   "source": [
    "import pyspark.sql.functions as F"
   ]
  },
  {
   "cell_type": "markdown",
   "metadata": {},
   "source": [
    "## Load Tables\n",
    "\n",
    "Spark can load from a wide variety of data sources and format. CSV is the worst choice. Though, sometimes that's what we get.\n",
    "You may have noticed that we had to ship a special 'jar' file when creating the SparkContext. Here's why:"
   ]
  },
  {
   "cell_type": "code",
   "execution_count": null,
   "metadata": {
    "ExecuteTime": {
     "end_time": "2017-02-17T10:11:44.811352",
     "start_time": "2017-02-17T10:11:37.617440"
    },
    "collapsed": false
   },
   "outputs": [],
   "source": [
    "%%time\n",
    "Employees_df = sqlCtx.read.format('com.databricks.spark.csv')\\\n",
    "    .options(header=True, inferschema=False)\\\n",
    "    .load('/user/pmolnar/data/AdventureWorks/Employees.csv.gz')"
   ]
  },
  {
   "cell_type": "code",
   "execution_count": null,
   "metadata": {
    "ExecuteTime": {
     "end_time": "2017-02-10T09:53:24.860282",
     "start_time": "2017-02-10T09:53:24.839021"
    },
    "collapsed": false
   },
   "outputs": [],
   "source": [
    "Employees_df.printSchema()"
   ]
  },
  {
   "cell_type": "markdown",
   "metadata": {},
   "source": [
    "Notice, they're all strings.\n",
    "\n",
    "**Don't do the following on a very large data file!**"
   ]
  },
  {
   "cell_type": "code",
   "execution_count": null,
   "metadata": {
    "ExecuteTime": {
     "end_time": "2017-05-07T21:25:13.472224",
     "start_time": "2017-05-07T21:25:06.328999"
    },
    "collapsed": false
   },
   "outputs": [],
   "source": [
    "%%time\n",
    "Employees_df = sqlCtx.read.format('com.databricks.spark.csv')\\\n",
    "    .options(header=True, inferschema=True)\\\n",
    "    .load('/user/pmolnar/data/AdventureWorks/Employees.csv.gz')"
   ]
  },
  {
   "cell_type": "code",
   "execution_count": null,
   "metadata": {
    "ExecuteTime": {
     "end_time": "2017-05-07T21:25:34.757845",
     "start_time": "2017-05-07T21:25:34.747087"
    },
    "collapsed": false,
    "scrolled": false
   },
   "outputs": [],
   "source": [
    "Employees_df.printSchema()"
   ]
  },
  {
   "cell_type": "markdown",
   "metadata": {
    "ExecuteTime": {
     "end_time": "2017-02-10T10:33:39.959471",
     "start_time": "2017-02-10T10:33:39.948767"
    }
   },
   "source": [
    "<pre>-rw-r--r--   3 pmolnar hadoop        466 2017-02-07 22:46 /user/pmolnar/data/AdventureWorks/Customer.csv.gz\n",
    "-rw-r--r--   3 pmolnar hadoop      18125 2017-02-07 22:46 /user/pmolnar/data/AdventureWorks/Employees.csv.gz\n",
    "-rw-r--r--   3 pmolnar hadoop        603 2017-02-07 22:46 /user/pmolnar/data/AdventureWorks/ItemsOrdered.csv.gz\n",
    "-rw-r--r--   3 pmolnar hadoop        404 2017-02-07 22:46 /user/pmolnar/data/AdventureWorks/SalesTerritory.csv.gz\n",
    "</pre>"
   ]
  },
  {
   "cell_type": "code",
   "execution_count": null,
   "metadata": {
    "ExecuteTime": {
     "end_time": "2017-05-07T21:25:41.454018",
     "start_time": "2017-05-07T21:25:40.418513"
    },
    "collapsed": true
   },
   "outputs": [],
   "source": [
    "Territory_df = sqlCtx.read.format('com.databricks.spark.csv')\\\n",
    "    .options(header=True, inferschema=True)\\\n",
    "    .load('/user/pmolnar/data/AdventureWorks/SalesTerritory.csv.gz')\n",
    "\n",
    "Orders_df = sqlCtx.read.format('com.databricks.spark.csv')\\\n",
    "    .options(header=True, inferschema=True)\\\n",
    "    .load('/user/pmolnar/data/AdventureWorks/ItemsOrdered.csv.gz')\n",
    "Customers_df = sqlCtx.read.format('com.databricks.spark.csv')\\\n",
    "    .options(header=True, inferschema=True)\\\n",
    "    .load('/user/pmolnar/data/AdventureWorks/Customer.csv.gz')"
   ]
  },
  {
   "cell_type": "code",
   "execution_count": null,
   "metadata": {
    "ExecuteTime": {
     "end_time": "2017-05-07T21:25:47.191693",
     "start_time": "2017-05-07T21:25:44.769276"
    },
    "collapsed": false
   },
   "outputs": [],
   "source": [
    "print Territory_df.count(), Orders_df.count(), Customers_df.count()"
   ]
  },
  {
   "cell_type": "markdown",
   "metadata": {},
   "source": [
    "# Filtering (with)"
   ]
  },
  {
   "cell_type": "markdown",
   "metadata": {},
   "source": [
    "### 1. Provide a list of employees that are married."
   ]
  },
  {
   "cell_type": "raw",
   "metadata": {},
   "source": [
    "SELECT e.EmployeeID, e.FirstName, e.LastName FROM dbo.Employees AS e\n",
    "    WHERE e.MaritalStatus = 'M';"
   ]
  },
  {
   "cell_type": "code",
   "execution_count": null,
   "metadata": {
    "ExecuteTime": {
     "end_time": "2017-05-07T21:27:04.042819",
     "start_time": "2017-05-07T21:27:03.593097"
    },
    "collapsed": false
   },
   "outputs": [],
   "source": [
    "Employees_df.where(\"MaritalStatus = 'M'\").select(['EmployeeID', 'FirstName', 'LastName', 'MaritalStatus']).show()"
   ]
  },
  {
   "cell_type": "code",
   "execution_count": null,
   "metadata": {
    "collapsed": true
   },
   "outputs": [],
   "source": []
  },
  {
   "cell_type": "markdown",
   "metadata": {},
   "source": [
    "### 2a. Show me a list of employees that have a lastname that begins with \"R\"."
   ]
  },
  {
   "cell_type": "raw",
   "metadata": {},
   "source": [
    "SELECT e.EmployeeID, e.FirstName, e.LastName FROM dbo.Employees AS e\n",
    "\tWHERE e.LastName LIKE 'R%';"
   ]
  },
  {
   "cell_type": "code",
   "execution_count": null,
   "metadata": {
    "ExecuteTime": {
     "end_time": "2017-05-07T21:30:05.946140",
     "start_time": "2017-05-07T21:30:04.704202"
    },
    "collapsed": false
   },
   "outputs": [],
   "source": [
    "Employees_df.select(['EmployeeID', 'FirstName', 'LastName']).where(\"LastName LIKE 'R%'\").show()"
   ]
  },
  {
   "cell_type": "code",
   "execution_count": null,
   "metadata": {
    "collapsed": true
   },
   "outputs": [],
   "source": [
    "df = Employees[Employees.LastName.map(lambda x: x[0] == 'R')]\n",
    "df[['EmployeeID', 'FirstName', 'LastName']]"
   ]
  },
  {
   "cell_type": "markdown",
   "metadata": {},
   "source": [
    "### 2b. Show me a list of employees that have a lastname that ends with \"r\""
   ]
  },
  {
   "cell_type": "raw",
   "metadata": {},
   "source": [
    "SELECT e.EmployeeID, e.FirstName, e.LastName FROM dbo.Employees AS e\n",
    "\tWHERE e.LastName LIKE '%r';"
   ]
  },
  {
   "cell_type": "code",
   "execution_count": null,
   "metadata": {
    "collapsed": true
   },
   "outputs": [],
   "source": []
  },
  {
   "cell_type": "markdown",
   "metadata": {},
   "source": [
    "### 2c. Provide a list of employees that have a hyphenated lastname."
   ]
  },
  {
   "cell_type": "raw",
   "metadata": {},
   "source": [
    "SELECT e.EmployeeID, e.FirstName, e.LastName FROM dbo.Employees AS e\n",
    "\tWHERE e.LastName LIKE '%-%';"
   ]
  },
  {
   "cell_type": "code",
   "execution_count": null,
   "metadata": {
    "collapsed": true
   },
   "outputs": [],
   "source": []
  },
  {
   "cell_type": "markdown",
   "metadata": {},
   "source": [
    "### 3a. Provide a list of employees that are on salary and have more than 35 vacation hours left."
   ]
  },
  {
   "cell_type": "raw",
   "metadata": {},
   "source": [
    "SELECT \te.EmployeeID\n",
    "\t\t,e.FirstName\n",
    "\t\t,e.LastName\n",
    "\t\t,e.VacationHours\n",
    "\t\t,e.SalariedFlag\n",
    "\tFROM dbo.Employees AS e\n",
    "\tWHERE (e.SalariedFlag = 1) AND (e.VacationHours > 35);"
   ]
  },
  {
   "cell_type": "code",
   "execution_count": null,
   "metadata": {
    "collapsed": true
   },
   "outputs": [],
   "source": []
  },
  {
   "cell_type": "markdown",
   "metadata": {},
   "source": [
    "### 3b. Show the same as above but limit it to American employees."
   ]
  },
  {
   "cell_type": "raw",
   "metadata": {},
   "source": [
    "SELECT DISTINCT CountryName FROM dbo.Employees;\n",
    "\n",
    "SELECT \te.EmployeeID\n",
    "\t\t,e.FirstName\n",
    "\t\t,e.LastName\n",
    "\t\t,e.VacationHours\n",
    "\t\t,e.SalariedFlag\n",
    "\t\t,e.CountryName\n",
    "\tFROM dbo.Employees AS e\n",
    "\tWHERE (e.SalariedFlag = 1) AND (e.VacationHours > 35) AND e.CountryName = 'United States';"
   ]
  },
  {
   "cell_type": "code",
   "execution_count": null,
   "metadata": {
    "collapsed": true
   },
   "outputs": [],
   "source": []
  },
  {
   "cell_type": "markdown",
   "metadata": {},
   "source": [
    "### 3c. Show the same as above but limit it to non-American employees."
   ]
  },
  {
   "cell_type": "raw",
   "metadata": {},
   "source": [
    "SELECT \te.EmployeeID\n",
    "\t\t,e.FirstName\n",
    "\t\t,e.LastName\n",
    "\t\t,e.VacationHours\n",
    "\t\t,e.SalariedFlag\n",
    "\t\t,e.CountryName\n",
    "\tFROM dbo.Employees AS e\n",
    "\tWHERE (e.SalariedFlag = 1) AND (e.VacationHours > 5) AND e.CountryName != 'United States';"
   ]
  },
  {
   "cell_type": "code",
   "execution_count": null,
   "metadata": {
    "collapsed": true
   },
   "outputs": [],
   "source": []
  },
  {
   "cell_type": "markdown",
   "metadata": {},
   "source": [
    "### 4a. List the married employees with more than 35 vacation hours, only ones living in Washington state."
   ]
  },
  {
   "cell_type": "raw",
   "metadata": {},
   "source": [
    "SELECT \te.EmployeeID\n",
    "\t\t,e.FirstName\n",
    "\t\t,e.LastName\n",
    "\t\t,e.VacationHours\n",
    "\t\t,e.SalariedFlag\n",
    "\t\t,e.StateProvinceName\n",
    "\t\t,e.CountryName\n",
    "\tFROM dbo.Employees AS e\n",
    "\tWHERE e.MaritalStatus = 'M' AND e.VacationHours > 35 AND e.StateProvinceName = 'Washington'\n",
    "\t;"
   ]
  },
  {
   "cell_type": "code",
   "execution_count": null,
   "metadata": {
    "collapsed": true
   },
   "outputs": [],
   "source": []
  },
  {
   "cell_type": "markdown",
   "metadata": {},
   "source": [
    "### 4b. Change the logic to include anyone who meets any of the 3 conditions (i.e., people who are either married, live in Washington state, or have more than 35 vacation hours left)"
   ]
  },
  {
   "cell_type": "raw",
   "metadata": {},
   "source": [
    "SELECT \te.EmployeeID\n",
    "\t\t,e.FirstName\n",
    "\t\t,e.LastName\n",
    "\t\t,e.MaritalStatus\n",
    "\t\t,e.VacationHours\n",
    "\t\t,e.SalariedFlag\n",
    "\t\t,e.StateProvinceName\n",
    "\t\t,e.CountryName\n",
    "\tFROM dbo.Employees AS e\n",
    "\tWHERE e.MaritalStatus = 'M' OR e.VacationHours > 35 OR e.StateProvinceName = 'Washington'\n",
    "\t;"
   ]
  },
  {
   "cell_type": "code",
   "execution_count": null,
   "metadata": {
    "collapsed": true
   },
   "outputs": [],
   "source": []
  },
  {
   "cell_type": "markdown",
   "metadata": {},
   "source": [
    "### 4c. Show the same as above, but only for Production Technicians"
   ]
  },
  {
   "cell_type": "raw",
   "metadata": {},
   "source": [
    "SELECT DISTINCT JobTitle FROM dbo.Employees; --- look at job titles\n",
    "\n",
    "SELECT \te.EmployeeID\n",
    "\t\t,e.FirstName\n",
    "\t\t,e.LastName\n",
    "\t\t,e.MaritalStatus\n",
    "\t\t,e.JobTitle\n",
    "\t\t,e.VacationHours\n",
    "\t\t,e.SalariedFlag\n",
    "\t\t,e.StateProvinceName\n",
    "\t\t,e.CountryName\n",
    "\tFROM dbo.Employees AS e\n",
    "\tWHERE e.JobTitle LIKE 'Production Technician%'\n",
    "\t\t AND (e.MaritalStatus = 'M' OR e.VacationHours > 35 OR e.StateProvinceName = 'Washington')\n",
    "\t;"
   ]
  },
  {
   "cell_type": "code",
   "execution_count": null,
   "metadata": {
    "collapsed": true
   },
   "outputs": [],
   "source": []
  },
  {
   "cell_type": "markdown",
   "metadata": {},
   "source": [
    "### 5a. List all employees living in Redmond, Seattle, and Bellevue, showing EmployeeID, FirstName, LastName, and City. Sort the list alphabetically by city."
   ]
  },
  {
   "cell_type": "raw",
   "metadata": {},
   "source": [
    "SELECT e.EmployeeID, e.FirstName, e.LastName, e.City\n",
    "\tFROM dbo.Employees AS e\n",
    "\tWHERE e.City in ('Redmond', 'Seattle', 'Bellevue')\n",
    "\tORDER BY e.City\n",
    "\t;"
   ]
  },
  {
   "cell_type": "code",
   "execution_count": null,
   "metadata": {
    "collapsed": true
   },
   "outputs": [],
   "source": []
  },
  {
   "cell_type": "markdown",
   "metadata": {},
   "source": [
    "### 5b. For the list above, make sure these are only in the state of Washington, just to be careful."
   ]
  },
  {
   "cell_type": "raw",
   "metadata": {},
   "source": [
    "SELECT e.EmployeeID, e.FirstName, e.LastName, e.City,  e.StateProvinceName\n",
    "\tFROM dbo.Employees AS e\n",
    "\tWHERE e.City in ('Redmond', 'Seattle', 'Bellevue') AND e.StateProvinceName = 'Washington'\n",
    "\tORDER BY e.City\n",
    "\t;"
   ]
  },
  {
   "cell_type": "code",
   "execution_count": null,
   "metadata": {
    "collapsed": true
   },
   "outputs": [],
   "source": []
  },
  {
   "cell_type": "markdown",
   "metadata": {},
   "source": [
    "### 6. Provide a list of employees who have no title, whether it's a NULL or empty string."
   ]
  },
  {
   "cell_type": "raw",
   "metadata": {},
   "source": [
    "SELECT e.EmployeeID, e.Title, e.FirstName, e.LastName\n",
    "\tFROM dbo.Employees AS e\n",
    "\tWHERE e.Title IS NULL OR e.Title = ''\n",
    "\t;"
   ]
  },
  {
   "cell_type": "code",
   "execution_count": null,
   "metadata": {
    "collapsed": true
   },
   "outputs": [],
   "source": []
  },
  {
   "cell_type": "markdown",
   "metadata": {},
   "source": [
    "### 7a. Provide a list of employees who have at least 60 vacation hours left."
   ]
  },
  {
   "cell_type": "raw",
   "metadata": {},
   "source": [
    "SELECT e.EmployeeID, e.Title, e.FirstName, e.LastName, e.VacationHours, e.SickLeaveHours\n",
    "\tFROM dbo.Employees AS e\n",
    "\tWHERE e.VacationHours >= 60\n",
    "\t;"
   ]
  },
  {
   "cell_type": "code",
   "execution_count": null,
   "metadata": {
    "collapsed": true
   },
   "outputs": [],
   "source": []
  },
  {
   "cell_type": "markdown",
   "metadata": {},
   "source": [
    "### 7b. Provide a list of employees who have less than 60 vacation hours left."
   ]
  },
  {
   "cell_type": "raw",
   "metadata": {
    "collapsed": true
   },
   "source": [
    "SELECT e.EmployeeID, e.Title, e.FirstName, e.LastName, e.VacationHours, e.SickLeaveHours\n",
    "\tFROM dbo.Employees AS e\n",
    "\tWHERE e.VacationHours < 60\n",
    "\t;"
   ]
  },
  {
   "cell_type": "code",
   "execution_count": null,
   "metadata": {
    "collapsed": true
   },
   "outputs": [],
   "source": []
  },
  {
   "cell_type": "markdown",
   "metadata": {},
   "source": [
    "### 7c. Show me employees who have more than 20 and less than 60 vacation hours left."
   ]
  },
  {
   "cell_type": "raw",
   "metadata": {},
   "source": [
    "SELECT e.EmployeeID, e.Title, e.FirstName, e.LastName, e.VacationHours, e.SickLeaveHours\n",
    "\tFROM dbo.Employees AS e\n",
    "\tWHERE e.VacationHours BETWEEN 21 AND 59\n",
    "\t;"
   ]
  },
  {
   "cell_type": "code",
   "execution_count": null,
   "metadata": {
    "collapsed": true
   },
   "outputs": [],
   "source": []
  },
  {
   "cell_type": "markdown",
   "metadata": {},
   "source": [
    "### 7d. If you did not use BETWEEN for 7c, do the same but use BETWEEN. If you did use BETWEEN for 7c, do it another way."
   ]
  },
  {
   "cell_type": "raw",
   "metadata": {},
   "source": [
    "SELECT e.EmployeeID, e.Title, e.FirstName, e.LastName, e.VacationHours, e.SickLeaveHours\n",
    "\tFROM dbo.Employees AS e\n",
    "\tWHERE e.VacationHours > 20 AND  e.VacationHours < 60\n",
    "\t;"
   ]
  },
  {
   "cell_type": "code",
   "execution_count": null,
   "metadata": {
    "collapsed": true
   },
   "outputs": [],
   "source": []
  },
  {
   "cell_type": "markdown",
   "metadata": {},
   "source": [
    "# Grouping"
   ]
  },
  {
   "cell_type": "markdown",
   "metadata": {},
   "source": [
    "### 1a. What is the earliest birthdate for all employees?"
   ]
  },
  {
   "cell_type": "raw",
   "metadata": {},
   "source": [
    "SELECT MIN(e.BirthDate) FROM dbo.Employees AS e;"
   ]
  },
  {
   "cell_type": "code",
   "execution_count": null,
   "metadata": {
    "ExecuteTime": {
     "end_time": "2017-05-07T21:34:59.157760",
     "start_time": "2017-05-07T21:34:58.899308"
    },
    "collapsed": false
   },
   "outputs": [],
   "source": [
    "Employees_df.agg(F.min('BirthDate')).collect()"
   ]
  },
  {
   "cell_type": "markdown",
   "metadata": {},
   "source": [
    "### 1b. Add to the above, the most recent birthdate for all employees"
   ]
  },
  {
   "cell_type": "raw",
   "metadata": {},
   "source": [
    "SELECT MIN(e.BirthDate) AS 'Earliest Birthday', MAX(e.BirthDate) AS 'Most Reecent Birthday'\n",
    "\tFROM dbo.Employees AS e;"
   ]
  },
  {
   "cell_type": "code",
   "execution_count": null,
   "metadata": {
    "collapsed": true
   },
   "outputs": [],
   "source": []
  },
  {
   "cell_type": "markdown",
   "metadata": {},
   "source": [
    "### 1c. Show the above results broken down by gender"
   ]
  },
  {
   "cell_type": "raw",
   "metadata": {},
   "source": [
    "SELECT e.Gender, MIN(e.BirthDate) AS 'Earliest Birthday', MAX(e.BirthDate) AS 'Most Reecent Birthday'\n",
    "\tFROM dbo.Employees AS e\n",
    "\tGROUP BY e.Gender\n",
    "\t;"
   ]
  },
  {
   "cell_type": "code",
   "execution_count": null,
   "metadata": {
    "collapsed": true
   },
   "outputs": [],
   "source": []
  },
  {
   "cell_type": "markdown",
   "metadata": {},
   "source": [
    "### 1d. Show the above results broken down by gender, and salaried/hourly"
   ]
  },
  {
   "cell_type": "raw",
   "metadata": {},
   "source": [
    "SELECT e.Gender, e.SalariedFlag, MIN(e.BirthDate) AS 'Earliest Birthday', MAX(e.BirthDate) AS 'Most Reecent Birthday'\n",
    "\tFROM dbo.Employees AS e\n",
    "\tGROUP BY e.Gender, e.SalariedFlag\n",
    "\t;"
   ]
  },
  {
   "cell_type": "code",
   "execution_count": null,
   "metadata": {
    "collapsed": true
   },
   "outputs": [],
   "source": []
  },
  {
   "cell_type": "markdown",
   "metadata": {},
   "source": [
    "### 2a. What are the average vacation hours for all employees?"
   ]
  },
  {
   "cell_type": "raw",
   "metadata": {},
   "source": [
    "SELECT AVG(e.VacationHours)\n",
    "\tFROM dbo.Employees AS e\t\n",
    "\t;"
   ]
  },
  {
   "cell_type": "code",
   "execution_count": null,
   "metadata": {
    "collapsed": true
   },
   "outputs": [],
   "source": []
  },
  {
   "cell_type": "markdown",
   "metadata": {},
   "source": [
    "### 2b. Add to the above, the minimum vacation hours for all employees"
   ]
  },
  {
   "cell_type": "raw",
   "metadata": {},
   "source": [
    "SELECT AVG(e.VacationHours) AS 'Average Vacation', MIN(e.VacationHours) AS 'Minumum Vacation'\n",
    "\tFROM dbo.Employees AS e\t\n",
    "\t;"
   ]
  },
  {
   "cell_type": "code",
   "execution_count": null,
   "metadata": {
    "collapsed": true
   },
   "outputs": [],
   "source": []
  },
  {
   "cell_type": "markdown",
   "metadata": {},
   "source": [
    "### 2c. Show the above results broken down and ordered by job title"
   ]
  },
  {
   "cell_type": "raw",
   "metadata": {},
   "source": [
    "SELECT e.JobTitle, AVG(e.VacationHours) AS 'Average Vacation', MIN(e.VacationHours) AS 'Minimum Vacation'\n",
    "\tFROM dbo.Employees AS e\n",
    "\tGROUP BY e.JobTitle\n",
    "\t;"
   ]
  },
  {
   "cell_type": "code",
   "execution_count": null,
   "metadata": {
    "ExecuteTime": {
     "end_time": "2017-05-07T21:38:25.122457",
     "start_time": "2017-05-07T21:38:24.097621"
    },
    "collapsed": false
   },
   "outputs": [],
   "source": [
    "Employees_df.groupBy(['JobTitle']).agg(F.mean('VacationHours').alias('Average Vacation'), F.min('VacationHours').alias('Minimum Vacation')).show()"
   ]
  },
  {
   "cell_type": "markdown",
   "metadata": {},
   "source": [
    "### 2d. Show the above results broken down by job title, and married/single employees"
   ]
  },
  {
   "cell_type": "raw",
   "metadata": {},
   "source": [
    "SELECT e.JobTitle, e.MaritalStatus, AVG(e.VacationHours) AS 'Average Vacation', MIN(e.VacationHours) AS 'Minimum Vacation'\n",
    "\tFROM dbo.Employees AS e\n",
    "\tGROUP BY e.JobTitle, e.MaritalStatus\n",
    "\t;"
   ]
  },
  {
   "cell_type": "code",
   "execution_count": null,
   "metadata": {
    "collapsed": true
   },
   "outputs": [],
   "source": []
  },
  {
   "cell_type": "markdown",
   "metadata": {},
   "source": [
    "### 2e. Add to the above, the maximum vacation hours per group"
   ]
  },
  {
   "cell_type": "raw",
   "metadata": {},
   "source": [
    "SELECT e.JobTitle, e.MaritalStatus\n",
    "\t\t, AVG(e.VacationHours) AS 'Average Vacation'\n",
    "\t\t, MIN(e.VacationHours) AS 'Minimum Vacation'\n",
    "\t\t, MAX(e.VacationHours) AS 'Maximum Vacation'\n",
    "\tFROM dbo.Employees AS e\n",
    "\tGROUP BY e.JobTitle, e.MaritalStatus\n",
    "\t;"
   ]
  },
  {
   "cell_type": "code",
   "execution_count": null,
   "metadata": {
    "collapsed": true
   },
   "outputs": [],
   "source": []
  },
  {
   "cell_type": "markdown",
   "metadata": {},
   "source": [
    "### 2f. Show the above results broken down by job title, married/single employees, and State"
   ]
  },
  {
   "cell_type": "raw",
   "metadata": {},
   "source": [
    "SELECT e.JobTitle, e.MaritalStatus, e.StateProvinceName\n",
    "\t\t, AVG(e.VacationHours) AS 'Average Vacation'\n",
    "\t\t, MIN(e.VacationHours) AS 'Minimum Vacation'\n",
    "\t\t, MAX(e.VacationHours) AS 'Maximum Vacation'\n",
    "\tFROM dbo.Employees AS e\n",
    "\tGROUP BY e.JobTitle, e.MaritalStatus, e.StateProvinceName\n",
    "\t;"
   ]
  },
  {
   "cell_type": "code",
   "execution_count": null,
   "metadata": {
    "collapsed": true
   },
   "outputs": [],
   "source": []
  },
  {
   "cell_type": "markdown",
   "metadata": {},
   "source": [
    "### 2g. Show the above results but only for American employees"
   ]
  },
  {
   "cell_type": "raw",
   "metadata": {},
   "source": [
    "SELECT e.JobTitle, e.MaritalStatus, e.StateProvinceName\n",
    "\t\t, AVG(e.VacationHours) AS 'Average Vacation'\n",
    "\t\t, MIN(e.VacationHours) AS 'Minimum Vacation'\n",
    "\t\t, MAX(e.VacationHours) AS 'Maximum Vacation'\n",
    "\tFROM dbo.Employees AS e\n",
    "\tWHERE e.CountryName = 'United States'\n",
    "\tGROUP BY e.JobTitle, e.MaritalStatus, e.StateProvinceName\n",
    "\t;"
   ]
  },
  {
   "cell_type": "code",
   "execution_count": null,
   "metadata": {
    "collapsed": true
   },
   "outputs": [],
   "source": []
  },
  {
   "cell_type": "markdown",
   "metadata": {},
   "source": [
    "### 2h. Change the grouping above so it's broken down by married/single and State, no more job title"
   ]
  },
  {
   "cell_type": "raw",
   "metadata": {},
   "source": [
    "SELECT e.MaritalStatus, e.StateProvinceName\n",
    "\t\t, AVG(e.VacationHours) AS 'Average Vacation'\n",
    "\t\t, MIN(e.VacationHours) AS 'Minimum Vacation'\n",
    "\t\t, MAX(e.VacationHours) AS 'Maximum Vacation'\n",
    "\tFROM dbo.Employees AS e\n",
    "\tWHERE e.CountryName = 'United States'\n",
    "\tGROUP BY e.MaritalStatus, e.StateProvinceName\n",
    "\t;"
   ]
  },
  {
   "cell_type": "code",
   "execution_count": null,
   "metadata": {
    "collapsed": true
   },
   "outputs": [],
   "source": []
  },
  {
   "cell_type": "markdown",
   "metadata": {},
   "source": [
    "### 2i. Limit the results above to States where the average vacation hours is greater than 30"
   ]
  },
  {
   "cell_type": "raw",
   "metadata": {},
   "source": [
    "SELECT e.MaritalStatus, e.StateProvinceName\n",
    "\t\t, AVG(e.VacationHours) AS 'Average Vacation'\n",
    "\t\t, MIN(e.VacationHours) AS 'Minimum Vacation'\n",
    "\t\t, MAX(e.VacationHours) AS 'Maximum Vacation'\n",
    "\tFROM dbo.Employees AS e\n",
    "\tWHERE e.CountryName = 'United States'\n",
    "\tGROUP BY e.MaritalStatus, e.StateProvinceName\n",
    "\tHAVING AVG(e.VacationHours) > 30\n",
    "\t;"
   ]
  },
  {
   "cell_type": "raw",
   "metadata": {},
   "source": [
    "SELECT e.StateProvinceName\n",
    "\t\t, AVG(e.VacationHours) AS 'Average Vacation'\n",
    "\t\t, MIN(e.VacationHours) AS 'Minimum Vacation'\n",
    "\t\t, MAX(e.VacationHours) AS 'Maximum Vacation'\n",
    "\tFROM dbo.Employees AS e\n",
    "\tWHERE e.CountryName = 'United States'\n",
    "\tGROUP BY e.StateProvinceName\n",
    "\tHAVING AVG(e.VacationHours) > 30\n",
    "\t;"
   ]
  },
  {
   "cell_type": "code",
   "execution_count": null,
   "metadata": {
    "collapsed": true
   },
   "outputs": [],
   "source": []
  },
  {
   "cell_type": "markdown",
   "metadata": {},
   "source": [
    "### 2j. Limit the results above to States where the average vacation hours is greater than 30 and the maximum vacation hours is less than 50"
   ]
  },
  {
   "cell_type": "raw",
   "metadata": {},
   "source": [
    "SELECT e.StateProvinceName\n",
    "\t\t, AVG(e.VacationHours) AS 'Average Vacation'\n",
    "\t\t, MIN(e.VacationHours) AS 'Minimum Vacation'\n",
    "\t\t, MAX(e.VacationHours) AS 'Maximum Vacation'\n",
    "\tFROM dbo.Employees AS e\n",
    "\tWHERE e.CountryName = 'United States'\n",
    "\tGROUP BY e.StateProvinceName\n",
    "\tHAVING AVG(e.VacationHours) >30 AND 49 MAX((e.VacationHours) < 50)\n",
    "\t;"
   ]
  },
  {
   "cell_type": "code",
   "execution_count": null,
   "metadata": {
    "collapsed": true
   },
   "outputs": [],
   "source": []
  },
  {
   "cell_type": "markdown",
   "metadata": {},
   "source": [
    "### 2k. Show the same results but only for non-American employees"
   ]
  },
  {
   "cell_type": "raw",
   "metadata": {},
   "source": [
    "SELECT e.StateProvinceName\n",
    "\t\t, AVG(e.VacationHours) AS 'Average Vacation'\n",
    "\t\t, MIN(e.VacationHours) AS 'Minimum Vacation'\n",
    "\t\t, MAX(e.VacationHours) AS 'Maximum Vacation'\n",
    "\tFROM dbo.Employees AS e\n",
    "\tWHERE e.CountryName != 'United States'\n",
    "\tGROUP BY e.StateProvinceName\n",
    "\tHAVING AVG(e.VacationHours) BETWEEN 31 AND 49\n",
    "\t;"
   ]
  },
  {
   "cell_type": "code",
   "execution_count": null,
   "metadata": {
    "collapsed": true
   },
   "outputs": [],
   "source": []
  },
  {
   "cell_type": "markdown",
   "metadata": {},
   "source": [
    "### 3a. Report how many employees are in the company"
   ]
  },
  {
   "cell_type": "raw",
   "metadata": {},
   "source": [
    "SELECT COUNT(1) FROM dbo.Employees;"
   ]
  },
  {
   "cell_type": "code",
   "execution_count": null,
   "metadata": {
    "ExecuteTime": {
     "end_time": "2017-05-07T21:39:23.038345",
     "start_time": "2017-05-07T21:39:22.747254"
    },
    "collapsed": false
   },
   "outputs": [],
   "source": [
    "Employees_df.count()"
   ]
  },
  {
   "cell_type": "markdown",
   "metadata": {},
   "source": [
    "### 3b. For the above report, show the number of employees per manager (hint: use ManagerID)"
   ]
  },
  {
   "cell_type": "raw",
   "metadata": {},
   "source": [
    "SELECT e.ManagerID, COUNT(1) AS 'NumEmployees'\n",
    "\tFROM dbo.Employees AS e\n",
    "\tGROUP BY e.ManagerID\n",
    "\t;"
   ]
  },
  {
   "cell_type": "code",
   "execution_count": null,
   "metadata": {
    "collapsed": true
   },
   "outputs": [],
   "source": []
  },
  {
   "cell_type": "markdown",
   "metadata": {},
   "source": [
    "### 3c. Remove any manager ID's that are NULL from the results above"
   ]
  },
  {
   "cell_type": "raw",
   "metadata": {},
   "source": [
    "SELECT e.ManagerID, COUNT(1) AS 'NumEmployees'\n",
    "\tFROM dbo.Employees AS e\n",
    "\tWHERE e.ManagerID IS NOT NULL\n",
    "\tGROUP BY e.ManagerID\n",
    "\t;"
   ]
  },
  {
   "cell_type": "code",
   "execution_count": null,
   "metadata": {
    "collapsed": true
   },
   "outputs": [],
   "source": []
  },
  {
   "cell_type": "markdown",
   "metadata": {},
   "source": [
    "### 3d. Show the same results as above, but only for managers who have at least 5 employees"
   ]
  },
  {
   "cell_type": "raw",
   "metadata": {},
   "source": [
    "SELECT e.ManagerID, COUNT(1) AS 'NumEmployees'\n",
    "\tFROM dbo.Employees AS e\n",
    "\tWHERE e.ManagerID IS NOT NULL\n",
    "\tGROUP BY e.ManagerID\n",
    "\tHAVING COUNT(1) >= 5\n",
    "\t;"
   ]
  },
  {
   "cell_type": "code",
   "execution_count": null,
   "metadata": {
    "collapsed": true
   },
   "outputs": [],
   "source": []
  },
  {
   "cell_type": "markdown",
   "metadata": {},
   "source": [
    "### 4a. List the average vacation hours of all employees"
   ]
  },
  {
   "cell_type": "raw",
   "metadata": {},
   "source": [
    "SELECT AVG(e.VacationHours)\n",
    "\tFROM dbo.Employees AS e\n",
    "\t;"
   ]
  },
  {
   "cell_type": "code",
   "execution_count": null,
   "metadata": {
    "collapsed": true
   },
   "outputs": [],
   "source": []
  },
  {
   "cell_type": "markdown",
   "metadata": {},
   "source": [
    "### 4b. Break down the results by State"
   ]
  },
  {
   "cell_type": "raw",
   "metadata": {},
   "source": [
    "SELECT e.StateProvinceName, AVG(e.VacationHours) AS 'Average Vacation Hours'\n",
    "\tFROM dbo.Employees AS e\n",
    "\tGROUP BY e.StateProvinceName\n",
    "\t;"
   ]
  },
  {
   "cell_type": "code",
   "execution_count": null,
   "metadata": {
    "collapsed": true
   },
   "outputs": [],
   "source": []
  },
  {
   "cell_type": "markdown",
   "metadata": {},
   "source": [
    "### 4c. Break down the results by city and State"
   ]
  },
  {
   "cell_type": "raw",
   "metadata": {},
   "source": [
    "SELECT e.StateProvinceName, e.City, AVG(e.VacationHours) AS 'Average Vacation Hours'\n",
    "\tFROM dbo.Employees AS e\n",
    "\tGROUP BY e.StateProvinceName, e.City\n",
    "\t;"
   ]
  },
  {
   "cell_type": "code",
   "execution_count": null,
   "metadata": {
    "collapsed": true
   },
   "outputs": [],
   "source": []
  },
  {
   "cell_type": "markdown",
   "metadata": {},
   "source": [
    "### 4d. Add something that shows the number of employees per city"
   ]
  },
  {
   "cell_type": "raw",
   "metadata": {},
   "source": [
    "SELECT e.StateProvinceName, e.City\n",
    "\t, AVG(e.VacationHours) AS 'Average Vacation Hours'\n",
    "\t, COUNT(1) AS 'NumEmployees'\n",
    "\tFROM dbo.Employees AS e\n",
    "\tGROUP BY e.StateProvinceName, e.City\n",
    "\t;"
   ]
  },
  {
   "cell_type": "code",
   "execution_count": null,
   "metadata": {
    "collapsed": true
   },
   "outputs": [],
   "source": []
  },
  {
   "cell_type": "markdown",
   "metadata": {},
   "source": [
    "### 4e. Sort the results by the city and state"
   ]
  },
  {
   "cell_type": "raw",
   "metadata": {},
   "source": [
    "SELECT e.StateProvinceName, e.City\n",
    "\t, AVG(e.VacationHours) AS 'Average Vacation Hours'\n",
    "\t, COUNT(1) AS 'NumEmployees'\n",
    "\tFROM dbo.Employees AS e\n",
    "\tGROUP BY e.StateProvinceName, e.City\n",
    "\tORDER BY e.StateProvinceName, e.City\n",
    "\t;"
   ]
  },
  {
   "cell_type": "code",
   "execution_count": null,
   "metadata": {
    "collapsed": true
   },
   "outputs": [],
   "source": []
  },
  {
   "cell_type": "markdown",
   "metadata": {},
   "source": [
    "### 4f. Make city and State a single column in the format of \"City, State\""
   ]
  },
  {
   "cell_type": "raw",
   "metadata": {},
   "source": [
    "SELECT CONCAT(e.StateProvinceName, ', ', e.City) AS 'Location'\n",
    "\t, AVG(e.VacationHours) AS 'Average Vacation Hours'\n",
    "\t, COUNT(1) AS 'NumEmployees'\n",
    "\tFROM dbo.Employees AS e\n",
    "\tGROUP BY e.StateProvinceName, e.City\n",
    "\tORDER BY e.StateProvinceName, e.City\n",
    "\t;"
   ]
  },
  {
   "cell_type": "code",
   "execution_count": null,
   "metadata": {
    "collapsed": true
   },
   "outputs": [],
   "source": []
  },
  {
   "cell_type": "markdown",
   "metadata": {},
   "source": [
    "### 4g. Add a column that shows the difference between the maximum vacation hours and minimum vacation hours for each city"
   ]
  },
  {
   "cell_type": "raw",
   "metadata": {},
   "source": [
    "SELECT CONCAT(e.StateProvinceName, ', ', e.City) AS 'Location'\n",
    "\t, AVG(e.VacationHours) AS 'Average Vacation Hours'\n",
    "\t, COUNT(1) AS 'NumEmployees'\n",
    "\t, MAX(e.VacationHours)-MIN(e.VacationHours) AS 'Difference Vacation Hours'\n",
    "\tFROM dbo.Employees AS e\n",
    "\tGROUP BY e.StateProvinceName, e.City\n",
    "\tORDER BY e.StateProvinceName, e.City\n",
    "\t;"
   ]
  },
  {
   "cell_type": "code",
   "execution_count": null,
   "metadata": {
    "collapsed": true
   },
   "outputs": [],
   "source": []
  },
  {
   "cell_type": "markdown",
   "metadata": {},
   "source": [
    "### 4h. Now sort the results by the new column created above"
   ]
  },
  {
   "cell_type": "raw",
   "metadata": {},
   "source": [
    "SELECT CONCAT(e.StateProvinceName, ', ', e.City) AS 'Location'\n",
    "\t, AVG(e.VacationHours) AS 'Average Vacation Hours'\n",
    "\t, COUNT(1) AS 'NumEmployees'\n",
    "\t, MAX(e.VacationHours)-MIN(e.VacationHours) AS 'Difference Vacation Hours'\n",
    "\tFROM dbo.Employees AS e\n",
    "\tGROUP BY e.StateProvinceName, e.City\n",
    "\tORDER BY 'Difference Vacation Hours' DESC\n",
    "\t;"
   ]
  },
  {
   "cell_type": "code",
   "execution_count": null,
   "metadata": {
    "collapsed": true
   },
   "outputs": [],
   "source": []
  },
  {
   "cell_type": "markdown",
   "metadata": {},
   "source": [
    "### 4i. Limit the results to cities that have more than 1 employee"
   ]
  },
  {
   "cell_type": "raw",
   "metadata": {},
   "source": [
    "SELECT CONCAT(e.StateProvinceName, ', ', e.City) AS 'Location'\n",
    "\t, AVG(e.VacationHours) AS 'Average Vacation Hours'\n",
    "\t, COUNT(1) AS 'NumEmployees'\n",
    "\t, MAX(e.VacationHours)-MIN(e.VacationHours) AS 'Difference Vacation Hours'\n",
    "\tFROM dbo.Employees AS e\n",
    "\tGROUP BY e.StateProvinceName, e.City\n",
    "\tHAVING COUNT(1) > 1\n",
    "\tORDER BY 'Difference Vacation Hours' DESC\n",
    "\t;"
   ]
  },
  {
   "cell_type": "code",
   "execution_count": null,
   "metadata": {
    "collapsed": true
   },
   "outputs": [],
   "source": []
  },
  {
   "cell_type": "markdown",
   "metadata": {},
   "source": [
    "### 4j. Limit the results to non-U.S. cities"
   ]
  },
  {
   "cell_type": "raw",
   "metadata": {},
   "source": [
    "SELECT CONCAT(e.StateProvinceName, ', ', e.City) AS 'Location'\n",
    "\t, AVG(e.VacationHours) AS 'Average Vacation Hours'\n",
    "\t, COUNT(1) AS 'NumEmployees'\n",
    "\t, MAX(e.VacationHours)-MIN(e.VacationHours) AS 'Difference Vacation Hours'\n",
    "\tFROM dbo.Employees AS e\n",
    "\tWHERE e.CountryName != 'United States'\n",
    "\tGROUP BY e.StateProvinceName, e.City\n",
    "\tHAVING COUNT(1) > 1\n",
    "\tORDER BY 'Difference Vacation Hours' DESC\n",
    "\t;"
   ]
  },
  {
   "cell_type": "code",
   "execution_count": null,
   "metadata": {
    "collapsed": true
   },
   "outputs": [],
   "source": []
  },
  {
   "cell_type": "code",
   "execution_count": null,
   "metadata": {
    "collapsed": true
   },
   "outputs": [],
   "source": []
  }
 ],
 "metadata": {
  "hide_input": false,
  "kernelspec": {
   "display_name": "PySpark - Cluster",
   "language": "python",
   "name": "pyspark"
  },
  "language_info": {
   "codemirror_mode": {
    "name": "ipython",
    "version": 2
   },
   "file_extension": ".py",
   "mimetype": "text/x-python",
   "name": "python",
   "nbconvert_exporter": "python",
   "pygments_lexer": "ipython2",
   "version": "2.7.5"
  },
  "latex_envs": {
   "bibliofile": "biblio.bib",
   "cite_by": "apalike",
   "current_citInitial": 1,
   "eqLabelWithNumbers": true,
   "eqNumInitial": 0
  },
  "toc": {
   "nav_menu": {
    "height": "512px",
    "width": "252px"
   },
   "navigate_menu": true,
   "number_sections": true,
   "sideBar": true,
   "threshold": 4,
   "toc_cell": false,
   "toc_section_display": "block",
   "toc_window_display": true
  }
 },
 "nbformat": 4,
 "nbformat_minor": 0
}
